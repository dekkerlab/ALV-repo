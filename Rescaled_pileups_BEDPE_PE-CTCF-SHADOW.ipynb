{
 "cells": [
  {
   "cell_type": "code",
   "execution_count": null,
   "id": "computational-prison",
   "metadata": {},
   "outputs": [],
   "source": [
    "%%javascript\n",
    "require([\"codemirror/keymap/sublime\", \"notebook/js/cell\", \"base/js/namespace\"],\n",
    "    function(sublime_keymap, cell, IPython) {\n",
    "        cell.Cell.options_default.cm_config.keyMap = 'sublime';\n",
    "    \n",
    "        var cells = IPython.notebook.get_cells();\n",
    "        for(var cl=0; cl< cells.length ; cl++){\n",
    "            cells[cl].code_mirror.setOption('keyMap', 'sublime');\n",
    "        }\n",
    "    }\n",
    ");"
   ]
  },
  {
   "cell_type": "code",
   "execution_count": 2,
   "id": "norman-notice",
   "metadata": {},
   "outputs": [
    {
     "data": {
      "text/html": [
       "<style>.container { width: 90% !important; }</style>"
      ],
      "text/plain": [
       "<IPython.core.display.HTML object>"
      ]
     },
     "metadata": {},
     "output_type": "display_data"
    }
   ],
   "source": [
    "# change the cell width\n",
    "from IPython.core.display import display, HTML\n",
    "display(HTML(\"<style>.container { width: 90% !important; }</style>\"))"
   ]
  },
  {
   "cell_type": "code",
   "execution_count": 3,
   "id": "composite-summer",
   "metadata": {},
   "outputs": [],
   "source": [
    "%load_ext autoreload\n",
    "%autoreload 2\n",
    "import os\n",
    "import cooler\n",
    "import cooltools\n",
    "import numpy as np\n",
    "import bioframe\n",
    "from pathlib import Path\n",
    "import multiprocess as mp\n",
    "import pandas as pd\n",
    "\n",
    "from copy import copy\n",
    "\n",
    "%matplotlib inline\n",
    "%config InlineBackend.print_figure_kwargs={'facecolor' : \"w\"}\n",
    "import matplotlib.pyplot as plt\n",
    "from matplotlib.colors import LogNorm\n"
   ]
  },
  {
   "cell_type": "code",
   "execution_count": 4,
   "id": "scheduled-thumb",
   "metadata": {},
   "outputs": [],
   "source": [
    "# ins_samples = {\n",
    "#     \"Hap1-WT-combined.hg19\" : \"Hap1-WT-combined.mcool\",\n",
    "# }\n",
    "\n",
    "ins_samples = {\n",
    "    #cooler locations, some expected at these locations\n",
    "    # CTCF degron\n",
    "    \"CkoCT442_NT_pool.hg19\" : \"/data/alv/CTCF_degron/data/CkoCT442-NT-pool.mcool\",\n",
    "    \"CkoCT442_IAA_pool.hg19\" : \"/data/alv/CTCF_degron/data/CkoCT442-IAA-pool.mcool\",\n",
    "\n",
    "#     #polII degron\n",
    "#     \"PolII-NT.hg19\" : \"/data/alv/polII_degron/data/20200417_remap_polIIdegron/coolers_library_group/PTB2539-NT.hg19.mapq_30.1000.mcool\",\n",
    "#     \"PolII-IAA.hg19\" : \"/data/alv/polII_degron/data/20200417_remap_polIIdegron/coolers_library_group/PTB2539-IAA.hg19.mapq_30.1000.mcool\",\n",
    "\n",
    "#     #AAVS1 clone\n",
    "#     \"mutControl-NT.hg19\" : \"/data/alv/CTCF_degron/data/DDX55-TAF5L-ctrl-pool/CkoCT442-AAVS1-NT-pool.mcool\",\n",
    "#     \"mutControl-IAA.hg19\" : \"/data/alv/CTCF_degron/data/DDX55-TAF5L-ctrl-pool/CkoCT442-AAVS1-IAA-pool.mcool\",\n",
    "\n",
    "#     #DDX55 clones\n",
    "#     \"mutDDX55-NT.hg19\" : \"/data/alv/CTCF_degron/data/DDX55-TAF5L-ctrl-pool/DDX55-clones-NT.hg19.mapq_30.1000.mcool\",\n",
    "#     \"mutDDX55-IAA.hg19\" : \"/data/alv/CTCF_degron/data/DDX55-TAF5L-ctrl-pool/DDX55-clones-IAA.hg19.mapq_30.1000.mcool\",\n",
    "\n",
    "#     #TAF5L clones\n",
    "#     \"mutTAF5L-NT.hg19\" : \"/data/alv/CTCF_degron/data/DDX55-TAF5L-ctrl-pool/TAF5L-clones-NT.hg19.mapq_30.1000.mcool\",\n",
    "#     \"mutTAF5L-IAA.hg19\" : \"/data/alv/CTCF_degron/data/DDX55-TAF5L-ctrl-pool/TAF5L-clones-IAA.hg19.mapq_30.1000.mcool\",\n",
    "\n",
    "#     #siCONTROL\n",
    "#     \"siControl-NT.hg19\" : \"/data/alv/CTCF_degron/data/siCTRL-NT.hg19.mapq_30.1000.mcool\",\n",
    "#     \"siControl-IAA.hg19\" : \"/data/alv/CTCF_degron/data/siCTRL-IAA.hg19.mapq_30.1000.mcool\",\n",
    "\n",
    "#     #siDDX55\n",
    "#     \"siDDX55-NT.hg19\" : \"/data/alv/CTCF_degron/data/siDDX55-NT.hg19.mapq_30.1000.mcool\",\n",
    "#     \"siDDX55-IAA.hg19\" : \"/data/alv/CTCF_degron/data/siDDX55-IAA.hg19.mapq_30.1000.mcool\",\n",
    "\n",
    "#     #siTAF5L\n",
    "#     \"siTAF5L-NT.hg19\" : \"/data/alv/CTCF_degron/data/siTAF5L-NT.hg19.mapq_30.1000.mcool\",\n",
    "#     \"siTAF5L-IAA.hg19\" : \"/data/alv/CTCF_degron/data/siTAF5L-IAA.hg19.mapq_30.1000.mcool\",\n",
    "\n",
    "#     #RAD21 degron\n",
    "#     \"RAD21-NT.hg19\" : \"/data/alv/CTCF_degron/data/RAD21-AID-NT.hg19.mapq_30.1000.mcool\",\n",
    "#     \"RAD21-IAA.hg19\" : \"/data/alv/CTCF_degron/data/RAD21-AID-IAA-6H.hg19.mapq_30.1000.mcool\",\n",
    "\n",
    "#     #PlaB splicing inhibition\n",
    "#     \"CtrlPlaB-NT.hg19\" : \"/data/alv/CTCF_degron/data/NT-hg19-combined-90000000.mcool\",\n",
    "#     \"CtrlPlaB-IAA.hg19\" : \"/data/alv/CTCF_degron/data/IAA-hg19-combined-90000000.mcool\",\n",
    "#     \"PlaB-NT.hg19\" : \"/data/alv/CTCF_degron/data/NT-PlaB-hg19-combined-90000000.mcool\",\n",
    "#     \"PlaB-IAA.hg19\" : \"/data/alv/CTCF_degron/data/IAA-PlaB-hg19-combined-90000000.mcool\",\n",
    "\n",
    "#     #compare with WT\n",
    "#     \"Ctrl500M-noTIR1.hg19\" : \"/data/alv/CTCF_degron/data/WT-44-442-pool/Hap1-WT-combined-500000000.mcool\",\n",
    "#     \"Ctrl500M-wtHAP1.hg19\" : \"/data/alv/CTCF_degron/data/WT-44-442-pool/CkoC44-NO-TIR1-pool.mcool\",\n",
    "#     \"Ctrl500M-CT442-NT.hg19\" : \"/data/alv/CTCF_degron/data/WT-44-442-pool/CkoCT442-NT-pool-500000000.mcool\",\n",
    "#     \"Ctrl500M-CT442-IAA.hg19\" : \"/data/alv/CTCF_degron/data/WT-44-442-pool/CkoCT442-IAA-pool-500000000.mcool\",\n",
    "}"
   ]
  },
  {
   "cell_type": "markdown",
   "id": "determined-chambers",
   "metadata": {},
   "source": [
    "### Read some list of BEDPE interactions here"
   ]
  },
  {
   "cell_type": "code",
   "execution_count": 5,
   "id": "smooth-judge",
   "metadata": {},
   "outputs": [
    {
     "data": {
      "text/html": [
       "<div>\n",
       "<style scoped>\n",
       "    .dataframe tbody tr th:only-of-type {\n",
       "        vertical-align: middle;\n",
       "    }\n",
       "\n",
       "    .dataframe tbody tr th {\n",
       "        vertical-align: top;\n",
       "    }\n",
       "\n",
       "    .dataframe thead th {\n",
       "        text-align: right;\n",
       "    }\n",
       "</style>\n",
       "<table border=\"1\" class=\"dataframe\">\n",
       "  <thead>\n",
       "    <tr style=\"text-align: right;\">\n",
       "      <th></th>\n",
       "      <th>chrom1</th>\n",
       "      <th>start1</th>\n",
       "      <th>end1</th>\n",
       "      <th>type1</th>\n",
       "      <th>strand1</th>\n",
       "      <th>chrom2</th>\n",
       "      <th>start2</th>\n",
       "      <th>end2</th>\n",
       "      <th>type2</th>\n",
       "      <th>strand2</th>\n",
       "      <th>status</th>\n",
       "    </tr>\n",
       "  </thead>\n",
       "  <tbody>\n",
       "    <tr>\n",
       "      <th>0</th>\n",
       "      <td>chr1</td>\n",
       "      <td>762901</td>\n",
       "      <td>762902</td>\n",
       "      <td>tss</td>\n",
       "      <td>-</td>\n",
       "      <td>chr1</td>\n",
       "      <td>816241</td>\n",
       "      <td>817150</td>\n",
       "      <td>enhancer</td>\n",
       "      <td>.</td>\n",
       "      <td>+</td>\n",
       "    </tr>\n",
       "    <tr>\n",
       "      <th>1</th>\n",
       "      <td>chr1</td>\n",
       "      <td>762901</td>\n",
       "      <td>762902</td>\n",
       "      <td>tss</td>\n",
       "      <td>-</td>\n",
       "      <td>chr1</td>\n",
       "      <td>969279</td>\n",
       "      <td>969493</td>\n",
       "      <td>enhancer</td>\n",
       "      <td>.</td>\n",
       "      <td>all</td>\n",
       "    </tr>\n",
       "    <tr>\n",
       "      <th>2</th>\n",
       "      <td>chr1</td>\n",
       "      <td>762901</td>\n",
       "      <td>762902</td>\n",
       "      <td>tss</td>\n",
       "      <td>-</td>\n",
       "      <td>chr1</td>\n",
       "      <td>1014914</td>\n",
       "      <td>1015649</td>\n",
       "      <td>enhancer</td>\n",
       "      <td>.</td>\n",
       "      <td>all</td>\n",
       "    </tr>\n",
       "    <tr>\n",
       "      <th>3</th>\n",
       "      <td>chr1</td>\n",
       "      <td>762970</td>\n",
       "      <td>762971</td>\n",
       "      <td>tss</td>\n",
       "      <td>+</td>\n",
       "      <td>chr1</td>\n",
       "      <td>816241</td>\n",
       "      <td>817150</td>\n",
       "      <td>enhancer</td>\n",
       "      <td>.</td>\n",
       "      <td>+</td>\n",
       "    </tr>\n",
       "  </tbody>\n",
       "</table>\n",
       "</div>"
      ],
      "text/plain": [
       "  chrom1  start1    end1 type1 strand1 chrom2   start2     end2     type2  \\\n",
       "0   chr1  762901  762902   tss       -   chr1   816241   817150  enhancer   \n",
       "1   chr1  762901  762902   tss       -   chr1   969279   969493  enhancer   \n",
       "2   chr1  762901  762902   tss       -   chr1  1014914  1015649  enhancer   \n",
       "3   chr1  762970  762971   tss       +   chr1   816241   817150  enhancer   \n",
       "\n",
       "  strand2 status  \n",
       "0       .      +  \n",
       "1       .    all  \n",
       "2       .    all  \n",
       "3       .      +  "
      ]
     },
     "metadata": {},
     "output_type": "display_data"
    },
    {
     "data": {
      "text/plain": [
       "type1     strand1  type2     strand2  status    \n",
       "enhancer  .        tss       +        +             1016\n",
       "                                      -             1528\n",
       "                                      all           1389\n",
       "                                      almost+        235\n",
       "                                      almost-        417\n",
       "                                      empty         1880\n",
       "                                      mix+-         2937\n",
       "                                      undef-ctcf     202\n",
       "                             -        +              951\n",
       "                                      -             1606\n",
       "                                      all           1191\n",
       "                                      almost+        194\n",
       "                                      almost-        356\n",
       "                                      empty         2165\n",
       "                                      mix+-         2679\n",
       "                                      undef-ctcf     312\n",
       "tss       +        enhancer  .        +             1635\n",
       "                                      -             1100\n",
       "                                      all           1120\n",
       "                                      almost+        382\n",
       "                                      almost-        204\n",
       "                                      empty         2220\n",
       "                                      mix+-         2629\n",
       "                                      undef-ctcf     199\n",
       "          -        enhancer  .        +             1619\n",
       "                                      -             1049\n",
       "                                      all           1237\n",
       "                                      almost+        375\n",
       "                                      almost-        239\n",
       "                                      empty         2031\n",
       "                                      mix+-         2675\n",
       "                                      undef-ctcf     236\n",
       "dtype: int64"
      ]
     },
     "metadata": {},
     "output_type": "display_data"
    }
   ],
   "source": [
    "bedpe = pd.read_csv(\"EP_50-500kb_with_detailed_CTCF_status_stricter.bedpe\",sep=\"\\t\")\n",
    "# fill in some missing bits (without it groupby does not work well):\n",
    "bedpe.loc[bedpe[\"strand1\"].isnull(),\"strand1\"] = \".\"\n",
    "bedpe.loc[bedpe[\"strand2\"].isnull(),\"strand2\"] = \".\"\n",
    "bedpe.loc[bedpe[\"status\"].isnull(),\"status\"] = \"undef-ctcf\"\n",
    "bedpe = bedpe.astype({\"start1\":int,\"end2\":int})\n",
    "# print a piece ofit:\n",
    "display(bedpe.head(4))\n",
    "#\n",
    "PE_groups = bedpe.groupby(by=[\"type1\",\"strand1\",\"type2\",\"strand2\",\"status\"])\n",
    "display(PE_groups.size())"
   ]
  },
  {
   "cell_type": "markdown",
   "id": "numerical-inspiration",
   "metadata": {},
   "source": [
    "### Let's use coolpup as Python API ..."
   ]
  },
  {
   "cell_type": "code",
   "execution_count": 6,
   "id": "musical-cutting",
   "metadata": {},
   "outputs": [],
   "source": [
    "from matplotlib.colors import LogNorm\n",
    "# https://stackoverflow.com/questions/48625475/python-shifted-logarithmic-colorbar-white-color-offset-to-center\n",
    "class MidPointLogNorm(LogNorm):\n",
    "    def __init__(self, vmin=None, vmax=None, midpoint=None, clip=False):\n",
    "        LogNorm.__init__(self, vmin=vmin, vmax=vmax, clip=clip)\n",
    "        self.midpoint=midpoint\n",
    "    def __call__(self, value, clip=None):\n",
    "        result, is_scalar = self.process_value(value)\n",
    "        x, y = [np.log(self.vmin), np.log(self.midpoint), np.log(self.vmax)], [0, 0.5, 1]\n",
    "        return np.ma.array(np.interp(np.log(value), x, y), mask=result.mask, copy=False)"
   ]
  },
  {
   "cell_type": "code",
   "execution_count": 7,
   "id": "nearby-midnight",
   "metadata": {},
   "outputs": [],
   "source": [
    "# import standard python libraries\n",
    "import seaborn as sns\n",
    "# import libraries for biological data analysis\n",
    "from coolpuppy import coolpup as cp\n",
    "import cooler\n",
    "import bioframe\n",
    "# import cooltools\n",
    "# import cooltools.expected\n",
    "# from cooltools.lib import plotting"
   ]
  },
  {
   "cell_type": "code",
   "execution_count": 8,
   "id": "accessory-vessel",
   "metadata": {},
   "outputs": [],
   "source": [
    "def get_pup(sites, clr, resolution, _cols=[\"chrom\",\"start\",\"end\"] ):\n",
    "    \"\"\"\n",
    "    generate scaled local pile-up for a collection of sites for a given\n",
    "    cooler (clr) at a given resolution - keeping the padding size equal\n",
    "    to the interval itself.\n",
    "    \"\"\"\n",
    "    _sites = sites[_cols].reset_index(drop=True).rename( dict(zip(_cols,[\"chrom\",\"start\",\"end\"])), axis=1 )\n",
    "    cc = cp.CoordCreator(\n",
    "        _sites,\n",
    "        resolution=resolution,\n",
    "        features_format='bed',\n",
    "        local=True,\n",
    "        fraction_flank=1.\n",
    "    )\n",
    "    pu = cp.PileUpper(\n",
    "        clr,\n",
    "        cc,\n",
    "        control = True,\n",
    "        rescale = True,\n",
    "        rescale_size = 199,\n",
    "    )\n",
    "    print(f\"working on a group of {len(_sites)} size ...\")\n",
    "    # pileupsWithControl\n",
    "    # pileupsByStrandWithControl\n",
    "    pup = pu.pileupsWithControl(nproc=18)\n",
    "    return pup\n"
   ]
  },
  {
   "cell_type": "code",
   "execution_count": 9,
   "id": "aquatic-particular",
   "metadata": {
    "scrolled": true
   },
   "outputs": [
    {
     "name": "stdout",
     "output_type": "stream",
     "text": [
      "working on CkoCT442_NT_pool.hg19 ...\n",
      "working on a group ('enhancer', '.', 'tss', '+', '+') ...\n",
      "working on a group of 1016 size ...\n"
     ]
    },
    {
     "name": "stderr",
     "output_type": "stream",
     "text": [
      "INFO:root:('chr13', 'chr13'): 28\n",
      "INFO:root:('chr9', 'chr9'): 49\n",
      "INFO:root:('chr11', 'chr11'): 32\n",
      "INFO:root:('chr10', 'chr10'): 34\n",
      "INFO:root:('chr7', 'chr7'): 34\n",
      "INFO:root:('chr22', 'chr22'): 21\n",
      "INFO:root:('chr20', 'chr20'): 23\n",
      "INFO:root:('chr14', 'chr14'): 51\n",
      "INFO:root:('chr4', 'chr4'): 49\n",
      "INFO:root:('chr6', 'chr6'): 67\n",
      "INFO:root:('chr12', 'chr12'): 77\n",
      "INFO:root:('chr19', 'chr19'): 35\n",
      "INFO:root:('chr18', 'chr18'): 12\n",
      "INFO:root:('chr2', 'chr2'): 54\n",
      "INFO:root:('chr8', 'chr8'): 19\n",
      "INFO:root:('chr16', 'chr16'): 86\n",
      "INFO:root:('chr1', 'chr1'): 114\n",
      "INFO:root:('chr5', 'chr5'): 31\n",
      "INFO:root:('chr17', 'chr17'): 63\n",
      "INFO:root:('chr15', 'chr15'): 60\n",
      "INFO:root:('chr3', 'chr3'): 63\n",
      "INFO:root:Total number of piled up windows: 1002\n"
     ]
    },
    {
     "name": "stdout",
     "output_type": "stream",
     "text": [
      "working on a group ('enhancer', '.', 'tss', '+', '-') ...\n",
      "working on a group of 1528 size ...\n"
     ]
    },
    {
     "name": "stderr",
     "output_type": "stream",
     "text": [
      "INFO:root:('chr16', 'chr16'): 52\n",
      "INFO:root:('chr8', 'chr8'): 40\n",
      "INFO:root:('chr9', 'chr9'): 65\n",
      "INFO:root:('chr10', 'chr10'): 59\n",
      "INFO:root:('chr4', 'chr4'): 57\n",
      "INFO:root:('chr5', 'chr5'): 60\n",
      "INFO:root:('chr21', 'chr21'): 13\n",
      "INFO:root:('chr19', 'chr19'): 67\n",
      "INFO:root:('chr3', 'chr3'): 74\n",
      "INFO:root:('chr20', 'chr20'): 33\n",
      "INFO:root:('chr22', 'chr22'): 46\n",
      "INFO:root:('chr18', 'chr18'): 26\n",
      "INFO:root:('chr2', 'chr2'): 116\n",
      "INFO:root:('chr12', 'chr12'): 78\n",
      "INFO:root:('chr1', 'chr1'): 155\n",
      "INFO:root:('chr7', 'chr7'): 91\n",
      "INFO:root:('chr15', 'chr15'): 64\n",
      "INFO:root:('chr13', 'chr13'): 61\n",
      "INFO:root:('chr14', 'chr14'): 51\n",
      "INFO:root:('chr6', 'chr6'): 119\n",
      "INFO:root:('chr11', 'chr11'): 84\n",
      "INFO:root:('chr17', 'chr17'): 110\n",
      "INFO:root:Total number of piled up windows: 1521\n"
     ]
    },
    {
     "name": "stdout",
     "output_type": "stream",
     "text": [
      "working on a group ('enhancer', '.', 'tss', '+', 'all') ...\n",
      "working on a group ('enhancer', '.', 'tss', '+', 'almost+') ...\n",
      "working on a group ('enhancer', '.', 'tss', '+', 'almost-') ...\n",
      "working on a group ('enhancer', '.', 'tss', '+', 'empty') ...\n",
      "working on a group of 1880 size ...\n"
     ]
    },
    {
     "name": "stderr",
     "output_type": "stream",
     "text": [
      "INFO:root:('chr18', 'chr18'): 44\n",
      "INFO:root:('chr16', 'chr16'): 54\n",
      "INFO:root:('chr14', 'chr14'): 52\n",
      "INFO:root:('chr13', 'chr13'): 76\n",
      "INFO:root:('chr21', 'chr21'): 10\n",
      "INFO:root:('chr19', 'chr19'): 42\n",
      "INFO:root:('chr20', 'chr20'): 23\n",
      "INFO:root:('chr17', 'chr17'): 127\n",
      "INFO:root:('chr15', 'chr15'): 101\n",
      "INFO:root:('chr22', 'chr22'): 15\n",
      "INFO:root:('chr12', 'chr12'): 141\n",
      "INFO:root:('chr3', 'chr3'): 124\n",
      "INFO:root:('chr4', 'chr4'): 140\n",
      "INFO:root:('chr7', 'chr7'): 123\n",
      "INFO:root:('chr5', 'chr5'): 142\n",
      "INFO:root:('chr1', 'chr1'): 167\n",
      "INFO:root:('chr2', 'chr2'): 139\n",
      "INFO:root:('chr8', 'chr8'): 60\n",
      "INFO:root:('chr6', 'chr6'): 88\n",
      "INFO:root:('chr9', 'chr9'): 69\n",
      "INFO:root:('chr11', 'chr11'): 73\n",
      "INFO:root:('chr10', 'chr10'): 67\n",
      "INFO:root:Total number of piled up windows: 1877\n"
     ]
    },
    {
     "name": "stdout",
     "output_type": "stream",
     "text": [
      "working on a group ('enhancer', '.', 'tss', '+', 'mix+-') ...\n",
      "working on a group ('enhancer', '.', 'tss', '+', 'undef-ctcf') ...\n",
      "working on a group ('enhancer', '.', 'tss', '-', '+') ...\n",
      "working on a group of 951 size ...\n"
     ]
    },
    {
     "name": "stderr",
     "output_type": "stream",
     "text": [
      "INFO:root:('chr13', 'chr13'): 27\n",
      "INFO:root:('chr9', 'chr9'): 47\n",
      "INFO:root:('chr10', 'chr10'): 30\n",
      "INFO:root:('chr8', 'chr8'): 30\n",
      "INFO:root:('chr12', 'chr12'): 39\n",
      "INFO:root:('chr11', 'chr11'): 48\n",
      "INFO:root:('chr21', 'chr21'): 3\n",
      "INFO:root:('chr14', 'chr14'): 53\n",
      "INFO:root:('chr20', 'chr20'): 13\n",
      "INFO:root:('chr7', 'chr7'): 43\n",
      "INFO:root:('chr19', 'chr19'): 52\n",
      "INFO:root:('chr22', 'chr22'): 32\n",
      "INFO:root:('chr18', 'chr18'): 14\n",
      "INFO:root:('chr6', 'chr6'): 39\n",
      "INFO:root:('chr5', 'chr5'): 30\n",
      "INFO:root:('chr4', 'chr4'): 39\n",
      "INFO:root:('chr1', 'chr1'): 117\n",
      "INFO:root:('chr17', 'chr17'): 67\n",
      "INFO:root:('chr15', 'chr15'): 52\n",
      "INFO:root:('chr16', 'chr16'): 45\n",
      "INFO:root:('chr3', 'chr3'): 72\n",
      "INFO:root:('chr2', 'chr2'): 45\n",
      "INFO:root:Total number of piled up windows: 937\n"
     ]
    },
    {
     "name": "stdout",
     "output_type": "stream",
     "text": [
      "working on a group ('enhancer', '.', 'tss', '-', '-') ...\n",
      "working on a group of 1606 size ...\n"
     ]
    },
    {
     "name": "stderr",
     "output_type": "stream",
     "text": [
      "INFO:root:('chr9', 'chr9'): 52\n",
      "INFO:root:('chr8', 'chr8'): 70\n",
      "INFO:root:('chr17', 'chr17'): 114\n",
      "INFO:root:('chr19', 'chr19'): 40\n",
      "INFO:root:('chr11', 'chr11'): 86\n",
      "INFO:root:('chr10', 'chr10'): 65\n",
      "INFO:root:('chr4', 'chr4'): 63\n",
      "INFO:root:('chr7', 'chr7'): 97\n",
      "INFO:root:('chr5', 'chr5'): 49\n",
      "INFO:root:('chr21', 'chr21'): 22\n",
      "INFO:root:('chr6', 'chr6'): 90\n",
      "INFO:root:('chr20', 'chr20'): 29\n",
      "INFO:root:('chr22', 'chr22'): 70\n",
      "INFO:root:('chr13', 'chr13'): 44\n",
      "INFO:root:('chr16', 'chr16'): 68\n",
      "INFO:root:('chr3', 'chr3'): 83\n",
      "INFO:root:('chr12', 'chr12'): 94\n",
      "INFO:root:('chr2', 'chr2'): 96\n",
      "INFO:root:('chr18', 'chr18'): 54\n",
      "INFO:root:('chr14', 'chr14'): 43\n",
      "INFO:root:('chr15', 'chr15'): 61\n",
      "INFO:root:('chr1', 'chr1'): 211\n",
      "INFO:root:Total number of piled up windows: 1601\n"
     ]
    },
    {
     "name": "stdout",
     "output_type": "stream",
     "text": [
      "working on a group ('enhancer', '.', 'tss', '-', 'all') ...\n",
      "working on a group ('enhancer', '.', 'tss', '-', 'almost+') ...\n",
      "working on a group ('enhancer', '.', 'tss', '-', 'almost-') ...\n",
      "working on a group ('enhancer', '.', 'tss', '-', 'empty') ...\n",
      "working on a group of 2165 size ...\n"
     ]
    },
    {
     "name": "stderr",
     "output_type": "stream",
     "text": [
      "INFO:root:('chr16', 'chr16'): 63\n",
      "INFO:root:('chr14', 'chr14'): 89\n",
      "INFO:root:('chr13', 'chr13'): 94\n",
      "INFO:root:('chr15', 'chr15'): 95\n",
      "INFO:root:('chr21', 'chr21'): 15\n",
      "INFO:root:('chr11', 'chr11'): 96\n",
      "INFO:root:('chr9', 'chr9'): 115\n",
      "INFO:root:('chr10', 'chr10'): 83\n",
      "INFO:root:('chr20', 'chr20'): 31\n",
      "INFO:root:('chr22', 'chr22'): 36\n",
      "INFO:root:('chr7', 'chr7'): 123\n",
      "INFO:root:('chr12', 'chr12'): 124\n",
      "INFO:root:('chr8', 'chr8'): 97\n",
      "INFO:root:('chr2', 'chr2'): 182\n",
      "INFO:root:('chr19', 'chr19'): 23\n",
      "INFO:root:('chr1', 'chr1'): 203\n",
      "INFO:root:('chr5', 'chr5'): 142\n",
      "INFO:root:('chr17', 'chr17'): 100\n",
      "INFO:root:('chr18', 'chr18'): 50\n",
      "INFO:root:('chr4', 'chr4'): 157\n",
      "INFO:root:('chr3', 'chr3'): 143\n",
      "INFO:root:('chr6', 'chr6'): 101\n",
      "INFO:root:Total number of piled up windows: 2162\n"
     ]
    },
    {
     "name": "stdout",
     "output_type": "stream",
     "text": [
      "working on a group ('enhancer', '.', 'tss', '-', 'mix+-') ...\n",
      "working on a group ('enhancer', '.', 'tss', '-', 'undef-ctcf') ...\n",
      "working on a group ('tss', '+', 'enhancer', '.', '+') ...\n",
      "working on a group of 1635 size ...\n"
     ]
    },
    {
     "name": "stderr",
     "output_type": "stream",
     "text": [
      "INFO:root:('chr13', 'chr13'): 35\n",
      "INFO:root:('chr14', 'chr14'): 58\n",
      "INFO:root:('chr9', 'chr9'): 104\n",
      "INFO:root:('chr8', 'chr8'): 51\n",
      "INFO:root:('chr21', 'chr21'): 12\n",
      "INFO:root:('chr19', 'chr19'): 66\n",
      "INFO:root:('chr11', 'chr11'): 89\n",
      "INFO:root:('chr12', 'chr12'): 101\n",
      "INFO:root:('chr15', 'chr15'): 103\n",
      "INFO:root:('chr20', 'chr20'): 19\n",
      "INFO:root:('chr10', 'chr10'): 93\n",
      "INFO:root:('chr5', 'chr5'): 51\n",
      "INFO:root:('chr22', 'chr22'): 53\n",
      "INFO:root:('chr7', 'chr7'): 61\n",
      "INFO:root:('chr18', 'chr18'): 28\n",
      "INFO:root:('chr4', 'chr4'): 66\n",
      "INFO:root:('chr3', 'chr3'): 55\n",
      "INFO:root:('chr16', 'chr16'): 60\n",
      "INFO:root:('chr2', 'chr2'): 146\n",
      "INFO:root:('chr17', 'chr17'): 113\n",
      "INFO:root:('chr6', 'chr6'): 92\n",
      "INFO:root:('chr1', 'chr1'): 169\n",
      "INFO:root:Total number of piled up windows: 1625\n"
     ]
    },
    {
     "name": "stdout",
     "output_type": "stream",
     "text": [
      "working on a group ('tss', '+', 'enhancer', '.', '-') ...\n",
      "working on a group of 1100 size ...\n"
     ]
    },
    {
     "name": "stderr",
     "output_type": "stream",
     "text": [
      "INFO:root:('chr18', 'chr18'): 15\n",
      "INFO:root:('chr16', 'chr16'): 39\n",
      "INFO:root:('chr15', 'chr15'): 43\n",
      "INFO:root:('chr8', 'chr8'): 20\n",
      "INFO:root:('chr17', 'chr17'): 81\n",
      "INFO:root:('chr19', 'chr19'): 48\n",
      "INFO:root:('chr11', 'chr11'): 33\n",
      "INFO:root:('chr9', 'chr9'): 36\n",
      "INFO:root:('chr22', 'chr22'): 12\n",
      "INFO:root:('chr20', 'chr20'): 29\n",
      "INFO:root:('chr7', 'chr7'): 66\n",
      "INFO:root:('chr21', 'chr21'): 37\n",
      "INFO:root:('chr4', 'chr4'): 61\n",
      "INFO:root:('chr6', 'chr6'): 108\n",
      "INFO:root:('chr5', 'chr5'): 68\n",
      "INFO:root:('chr13', 'chr13'): 23\n",
      "INFO:root:('chr12', 'chr12'): 55\n",
      "INFO:root:('chr2', 'chr2'): 49\n",
      "INFO:root:('chr14', 'chr14'): 56\n",
      "INFO:root:('chr1', 'chr1'): 129\n",
      "INFO:root:('chr10', 'chr10'): 32\n",
      "INFO:root:('chr3', 'chr3'): 58\n",
      "INFO:root:Total number of piled up windows: 1098\n"
     ]
    },
    {
     "name": "stdout",
     "output_type": "stream",
     "text": [
      "working on a group ('tss', '+', 'enhancer', '.', 'all') ...\n",
      "working on a group ('tss', '+', 'enhancer', '.', 'almost+') ...\n",
      "working on a group ('tss', '+', 'enhancer', '.', 'almost-') ...\n",
      "working on a group ('tss', '+', 'enhancer', '.', 'empty') ...\n",
      "working on a group of 2220 size ...\n"
     ]
    },
    {
     "name": "stderr",
     "output_type": "stream",
     "text": [
      "INFO:root:('chr16', 'chr16'): 70\n",
      "INFO:root:('chr18', 'chr18'): 48\n",
      "INFO:root:('chr14', 'chr14'): 94\n",
      "INFO:root:('chr17', 'chr17'): 118\n",
      "INFO:root:('chr19', 'chr19'): 57\n",
      "INFO:root:('chr21', 'chr21'): 30\n",
      "INFO:root:('chr13', 'chr13'): 125\n",
      "INFO:root:('chr20', 'chr20'): 55\n",
      "INFO:root:('chr10', 'chr10'): 68\n",
      "INFO:root:('chr22', 'chr22'): 34\n",
      "INFO:root:('chr11', 'chr11'): 102\n",
      "INFO:root:('chr5', 'chr5'): 133\n",
      "INFO:root:('chr4', 'chr4'): 105\n",
      "INFO:root:('chr3', 'chr3'): 165\n",
      "INFO:root:('chr12', 'chr12'): 92\n",
      "INFO:root:('chr2', 'chr2'): 184\n",
      "INFO:root:('chr1', 'chr1'): 182\n",
      "INFO:root:('chr7', 'chr7'): 102\n",
      "INFO:root:('chr15', 'chr15'): 88\n",
      "INFO:root:('chr9', 'chr9'): 91\n",
      "INFO:root:('chr8', 'chr8'): 114\n",
      "INFO:root:('chr6', 'chr6'): 147\n",
      "INFO:root:Total number of piled up windows: 2204\n"
     ]
    },
    {
     "name": "stdout",
     "output_type": "stream",
     "text": [
      "working on a group ('tss', '+', 'enhancer', '.', 'mix+-') ...\n",
      "working on a group ('tss', '+', 'enhancer', '.', 'undef-ctcf') ...\n",
      "working on a group ('tss', '-', 'enhancer', '.', '+') ...\n",
      "working on a group of 1619 size ...\n"
     ]
    },
    {
     "name": "stderr",
     "output_type": "stream",
     "text": [
      "INFO:root:('chr13', 'chr13'): 44\n",
      "INFO:root:('chr18', 'chr18'): 22\n",
      "INFO:root:('chr17', 'chr17'): 89\n",
      "INFO:root:('chr15', 'chr15'): 70\n",
      "INFO:root:('chr21', 'chr21'): 7\n",
      "INFO:root:('chr19', 'chr19'): 56\n",
      "INFO:root:('chr14', 'chr14'): 77\n",
      "INFO:root:('chr9', 'chr9'): 63\n",
      "INFO:root:('chr16', 'chr16'): 75\n",
      "INFO:root:('chr22', 'chr22'): 42\n",
      "INFO:root:('chr7', 'chr7'): 67\n",
      "INFO:root:('chr20', 'chr20'): 20\n",
      "INFO:root:('chr12', 'chr12'): 117\n",
      "INFO:root:('chr3', 'chr3'): 87\n",
      "INFO:root:('chr6', 'chr6'): 126\n",
      "INFO:root:('chr5', 'chr5'): 69\n",
      "INFO:root:('chr2', 'chr2'): 183\n",
      "INFO:root:('chr1', 'chr1'): 128\n",
      "INFO:root:('chr11', 'chr11'): 60\n",
      "INFO:root:('chr10', 'chr10'): 67\n",
      "INFO:root:('chr4', 'chr4'): 68\n",
      "INFO:root:('chr8', 'chr8'): 80\n",
      "INFO:root:Total number of piled up windows: 1617\n"
     ]
    },
    {
     "name": "stdout",
     "output_type": "stream",
     "text": [
      "working on a group ('tss', '-', 'enhancer', '.', '-') ...\n",
      "working on a group of 1049 size ...\n"
     ]
    },
    {
     "name": "stderr",
     "output_type": "stream",
     "text": [
      "INFO:root:('chr15', 'chr15'): 35\n",
      "INFO:root:('chr17', 'chr17'): 77\n",
      "INFO:root:('chr8', 'chr8'): 34\n",
      "INFO:root:('chr5', 'chr5'): 46\n",
      "INFO:root:('chr19', 'chr19'): 31\n",
      "INFO:root:('chr9', 'chr9'): 56\n",
      "INFO:root:('chr20', 'chr20'): 20\n",
      "INFO:root:('chr22', 'chr22'): 17\n",
      "INFO:root:('chr21', 'chr21'): 30\n",
      "INFO:root:('chr2', 'chr2'): 37\n",
      "INFO:root:('chr4', 'chr4'): 71\n",
      "INFO:root:('chr3', 'chr3'): 79\n",
      "INFO:root:('chr6', 'chr6'): 70\n",
      "INFO:root:('chr11', 'chr11'): 40\n",
      "INFO:root:('chr13', 'chr13'): 46\n",
      "INFO:root:('chr10', 'chr10'): 9\n",
      "INFO:root:('chr18', 'chr18'): 8\n",
      "INFO:root:('chr1', 'chr1'): 118\n",
      "INFO:root:('chr16', 'chr16'): 30\n",
      "INFO:root:('chr12', 'chr12'): 65\n",
      "INFO:root:('chr7', 'chr7'): 52\n",
      "INFO:root:('chr14', 'chr14'): 74\n",
      "INFO:root:Total number of piled up windows: 1045\n"
     ]
    },
    {
     "name": "stdout",
     "output_type": "stream",
     "text": [
      "working on a group ('tss', '-', 'enhancer', '.', 'all') ...\n",
      "working on a group ('tss', '-', 'enhancer', '.', 'almost+') ...\n",
      "working on a group ('tss', '-', 'enhancer', '.', 'almost-') ...\n",
      "working on a group ('tss', '-', 'enhancer', '.', 'empty') ...\n",
      "working on a group of 2031 size ...\n"
     ]
    },
    {
     "name": "stderr",
     "output_type": "stream",
     "text": [
      "INFO:root:('chr18', 'chr18'): 32\n",
      "INFO:root:('chr16', 'chr16'): 53\n",
      "INFO:root:('chr17', 'chr17'): 69\n",
      "INFO:root:('chr19', 'chr19'): 30\n",
      "INFO:root:('chr21', 'chr21'): 24\n",
      "INFO:root:('chr22', 'chr22'): 24\n",
      "INFO:root:('chr9', 'chr9'): 126\n",
      "INFO:root:('chr10', 'chr10'): 68\n",
      "INFO:root:('chr8', 'chr8'): 98\n",
      "INFO:root:('chr7', 'chr7'): 102\n",
      "INFO:root:('chr20', 'chr20'): 66\n",
      "INFO:root:('chr11', 'chr11'): 132\n",
      "INFO:root:('chr6', 'chr6'): 100\n",
      "INFO:root:('chr14', 'chr14'): 115\n",
      "INFO:root:('chr12', 'chr12'): 112\n",
      "INFO:root:('chr15', 'chr15'): 76\n",
      "INFO:root:('chr13', 'chr13'): 120\n",
      "INFO:root:('chr3', 'chr3'): 134\n",
      "INFO:root:('chr5', 'chr5'): 90\n",
      "INFO:root:('chr2', 'chr2'): 166\n",
      "INFO:root:('chr4', 'chr4'): 111\n",
      "INFO:root:('chr1', 'chr1'): 177\n",
      "INFO:root:Total number of piled up windows: 2025\n"
     ]
    },
    {
     "name": "stdout",
     "output_type": "stream",
     "text": [
      "working on a group ('tss', '-', 'enhancer', '.', 'mix+-') ...\n",
      "working on a group ('tss', '-', 'enhancer', '.', 'undef-ctcf') ...\n",
      "working on CkoCT442_IAA_pool.hg19 ...\n",
      "working on a group ('enhancer', '.', 'tss', '+', '+') ...\n",
      "working on a group of 1016 size ...\n"
     ]
    },
    {
     "name": "stderr",
     "output_type": "stream",
     "text": [
      "INFO:root:('chr18', 'chr18'): 12\n",
      "INFO:root:('chr11', 'chr11'): 32\n",
      "INFO:root:('chr7', 'chr7'): 34\n",
      "INFO:root:('chr19', 'chr19'): 35\n",
      "INFO:root:('chr9', 'chr9'): 49\n",
      "INFO:root:('chr4', 'chr4'): 49\n",
      "INFO:root:('chr22', 'chr22'): 21\n",
      "INFO:root:('chr20', 'chr20'): 23\n",
      "INFO:root:('chr5', 'chr5'): 31\n",
      "INFO:root:('chr3', 'chr3'): 63\n",
      "INFO:root:('chr17', 'chr17'): 63\n",
      "INFO:root:('chr2', 'chr2'): 54\n",
      "INFO:root:('chr15', 'chr15'): 60\n",
      "INFO:root:('chr16', 'chr16'): 86\n",
      "INFO:root:('chr1', 'chr1'): 114\n",
      "INFO:root:('chr6', 'chr6'): 67\n",
      "INFO:root:('chr13', 'chr13'): 28\n",
      "INFO:root:('chr14', 'chr14'): 51\n",
      "INFO:root:('chr10', 'chr10'): 34\n",
      "INFO:root:('chr12', 'chr12'): 77\n",
      "INFO:root:('chr8', 'chr8'): 19\n",
      "INFO:root:Total number of piled up windows: 1002\n"
     ]
    },
    {
     "name": "stdout",
     "output_type": "stream",
     "text": [
      "working on a group ('enhancer', '.', 'tss', '+', '-') ...\n",
      "working on a group of 1528 size ...\n"
     ]
    },
    {
     "name": "stderr",
     "output_type": "stream",
     "text": [
      "INFO:root:('chr15', 'chr15'): 64\n",
      "INFO:root:('chr8', 'chr8'): 40\n",
      "INFO:root:('chr11', 'chr11'): 84\n",
      "INFO:root:('chr7', 'chr7'): 91\n",
      "INFO:root:('chr3', 'chr3'): 74\n",
      "INFO:root:('chr5', 'chr5'): 60\n",
      "INFO:root:('chr21', 'chr21'): 13\n",
      "INFO:root:('chr17', 'chr17'): 110\n",
      "INFO:root:('chr4', 'chr4'): 57\n",
      "INFO:root:('chr20', 'chr20'): 33\n",
      "INFO:root:('chr16', 'chr16'): 52\n",
      "INFO:root:('chr19', 'chr19'): 67\n",
      "INFO:root:('chr22', 'chr22'): 46\n",
      "INFO:root:('chr2', 'chr2'): 116\n",
      "INFO:root:('chr12', 'chr12'): 78\n",
      "INFO:root:('chr1', 'chr1'): 155\n",
      "INFO:root:('chr9', 'chr9'): 65\n",
      "INFO:root:('chr18', 'chr18'): 26\n",
      "INFO:root:('chr10', 'chr10'): 59\n",
      "INFO:root:('chr6', 'chr6'): 119\n",
      "INFO:root:('chr13', 'chr13'): 61\n",
      "INFO:root:('chr14', 'chr14'): 51\n",
      "INFO:root:Total number of piled up windows: 1521\n"
     ]
    },
    {
     "name": "stdout",
     "output_type": "stream",
     "text": [
      "working on a group ('enhancer', '.', 'tss', '+', 'all') ...\n",
      "working on a group ('enhancer', '.', 'tss', '+', 'almost+') ...\n",
      "working on a group ('enhancer', '.', 'tss', '+', 'almost-') ...\n",
      "working on a group ('enhancer', '.', 'tss', '+', 'empty') ...\n",
      "working on a group of 1880 size ...\n"
     ]
    },
    {
     "name": "stderr",
     "output_type": "stream",
     "text": [
      "INFO:root:('chr18', 'chr18'): 44\n",
      "INFO:root:('chr14', 'chr14'): 52\n",
      "INFO:root:('chr13', 'chr13'): 76\n",
      "INFO:root:('chr9', 'chr9'): 69\n",
      "INFO:root:('chr10', 'chr10'): 67\n",
      "INFO:root:('chr15', 'chr15'): 101\n",
      "INFO:root:('chr8', 'chr8'): 60\n",
      "INFO:root:('chr21', 'chr21'): 10\n",
      "INFO:root:('chr17', 'chr17'): 127\n",
      "INFO:root:('chr22', 'chr22'): 15\n",
      "INFO:root:('chr20', 'chr20'): 23\n",
      "INFO:root:('chr7', 'chr7'): 123\n",
      "INFO:root:('chr16', 'chr16'): 54\n",
      "INFO:root:('chr19', 'chr19'): 42\n",
      "INFO:root:('chr12', 'chr12'): 141\n",
      "INFO:root:('chr6', 'chr6'): 88\n",
      "INFO:root:('chr11', 'chr11'): 73\n",
      "INFO:root:('chr5', 'chr5'): 142\n",
      "INFO:root:('chr3', 'chr3'): 124\n",
      "INFO:root:('chr4', 'chr4'): 140\n",
      "INFO:root:('chr1', 'chr1'): 167\n",
      "INFO:root:('chr2', 'chr2'): 139\n",
      "INFO:root:Total number of piled up windows: 1877\n"
     ]
    },
    {
     "name": "stdout",
     "output_type": "stream",
     "text": [
      "working on a group ('enhancer', '.', 'tss', '+', 'mix+-') ...\n",
      "working on a group ('enhancer', '.', 'tss', '+', 'undef-ctcf') ...\n",
      "working on a group ('enhancer', '.', 'tss', '-', '+') ...\n",
      "working on a group of 951 size ...\n"
     ]
    },
    {
     "name": "stderr",
     "output_type": "stream",
     "text": [
      "INFO:root:('chr18', 'chr18'): 14\n",
      "INFO:root:('chr13', 'chr13'): 27\n",
      "INFO:root:('chr16', 'chr16'): 45\n",
      "INFO:root:('chr14', 'chr14'): 53\n",
      "INFO:root:('chr15', 'chr15'): 52\n",
      "INFO:root:('chr17', 'chr17'): 67\n",
      "INFO:root:('chr21', 'chr21'): 3\n",
      "INFO:root:('chr20', 'chr20'): 13\n",
      "INFO:root:('chr19', 'chr19'): 52\n",
      "INFO:root:('chr11', 'chr11'): 48\n",
      "INFO:root:('chr22', 'chr22'): 32\n",
      "INFO:root:('chr2', 'chr2'): 45\n",
      "INFO:root:('chr12', 'chr12'): 39\n",
      "INFO:root:('chr5', 'chr5'): 30\n",
      "INFO:root:('chr3', 'chr3'): 72\n",
      "INFO:root:('chr1', 'chr1'): 117\n",
      "INFO:root:('chr10', 'chr10'): 30\n",
      "INFO:root:('chr9', 'chr9'): 47\n",
      "INFO:root:('chr4', 'chr4'): 39\n",
      "INFO:root:('chr6', 'chr6'): 39\n",
      "INFO:root:('chr8', 'chr8'): 30\n",
      "INFO:root:('chr7', 'chr7'): 43\n",
      "INFO:root:Total number of piled up windows: 937\n"
     ]
    },
    {
     "name": "stdout",
     "output_type": "stream",
     "text": [
      "working on a group ('enhancer', '.', 'tss', '-', '-') ...\n",
      "working on a group of 1606 size ...\n"
     ]
    },
    {
     "name": "stderr",
     "output_type": "stream",
     "text": [
      "INFO:root:('chr13', 'chr13'): 44\n",
      "INFO:root:('chr9', 'chr9'): 52\n",
      "INFO:root:('chr16', 'chr16'): 68\n",
      "INFO:root:('chr14', 'chr14'): 43\n",
      "INFO:root:('chr15', 'chr15'): 61\n",
      "INFO:root:('chr18', 'chr18'): 54\n",
      "INFO:root:('chr19', 'chr19'): 40\n",
      "INFO:root:('chr20', 'chr20'): 29\n",
      "INFO:root:('chr5', 'chr5'): 49\n",
      "INFO:root:('chr10', 'chr10'): 65\n",
      "INFO:root:('chr22', 'chr22'): 70\n",
      "INFO:root:('chr4', 'chr4'): 63\n",
      "INFO:root:('chr3', 'chr3'): 83\n",
      "INFO:root:('chr21', 'chr21'): 22\n",
      "INFO:root:('chr12', 'chr12'): 94\n",
      "INFO:root:('chr8', 'chr8'): 70\n",
      "INFO:root:('chr2', 'chr2'): 96\n",
      "INFO:root:('chr11', 'chr11'): 86\n",
      "INFO:root:('chr17', 'chr17'): 114\n",
      "INFO:root:('chr1', 'chr1'): 211\n",
      "INFO:root:('chr7', 'chr7'): 97\n",
      "INFO:root:('chr6', 'chr6'): 90\n",
      "INFO:root:Total number of piled up windows: 1601\n"
     ]
    },
    {
     "name": "stdout",
     "output_type": "stream",
     "text": [
      "working on a group ('enhancer', '.', 'tss', '-', 'all') ...\n",
      "working on a group ('enhancer', '.', 'tss', '-', 'almost+') ...\n",
      "working on a group ('enhancer', '.', 'tss', '-', 'almost-') ...\n",
      "working on a group ('enhancer', '.', 'tss', '-', 'empty') ...\n",
      "working on a group of 2165 size ...\n"
     ]
    },
    {
     "name": "stderr",
     "output_type": "stream",
     "text": [
      "INFO:root:('chr16', 'chr16'): 63\n",
      "INFO:root:('chr17', 'chr17'): 100\n",
      "INFO:root:('chr19', 'chr19'): 23\n",
      "INFO:root:('chr13', 'chr13'): 94\n",
      "INFO:root:('chr14', 'chr14'): 89\n",
      "INFO:root:('chr15', 'chr15'): 95\n",
      "INFO:root:('chr21', 'chr21'): 15\n",
      "INFO:root:('chr20', 'chr20'): 31\n",
      "INFO:root:('chr22', 'chr22'): 36\n",
      "INFO:root:('chr12', 'chr12'): 124\n",
      "INFO:root:('chr10', 'chr10'): 83\n",
      "INFO:root:('chr3', 'chr3'): 143\n",
      "INFO:root:('chr2', 'chr2'): 182\n",
      "INFO:root:('chr1', 'chr1'): 203\n",
      "INFO:root:('chr5', 'chr5'): 142\n",
      "INFO:root:('chr6', 'chr6'): 101\n",
      "INFO:root:('chr9', 'chr9'): 115\n",
      "INFO:root:('chr18', 'chr18'): 50\n",
      "INFO:root:('chr4', 'chr4'): 157\n",
      "INFO:root:('chr11', 'chr11'): 96\n",
      "INFO:root:('chr8', 'chr8'): 97\n",
      "INFO:root:('chr7', 'chr7'): 123\n",
      "INFO:root:Total number of piled up windows: 2162\n"
     ]
    },
    {
     "name": "stdout",
     "output_type": "stream",
     "text": [
      "working on a group ('enhancer', '.', 'tss', '-', 'mix+-') ...\n",
      "working on a group ('enhancer', '.', 'tss', '-', 'undef-ctcf') ...\n",
      "working on a group ('tss', '+', 'enhancer', '.', '+') ...\n",
      "working on a group of 1635 size ...\n"
     ]
    },
    {
     "name": "stderr",
     "output_type": "stream",
     "text": [
      "INFO:root:('chr13', 'chr13'): 35\n",
      "INFO:root:('chr16', 'chr16'): 60\n",
      "INFO:root:('chr14', 'chr14'): 58\n",
      "INFO:root:('chr18', 'chr18'): 28\n",
      "INFO:root:('chr21', 'chr21'): 12\n",
      "INFO:root:('chr8', 'chr8'): 51\n",
      "INFO:root:('chr19', 'chr19'): 66\n",
      "INFO:root:('chr7', 'chr7'): 61\n",
      "INFO:root:('chr20', 'chr20'): 19\n",
      "INFO:root:('chr5', 'chr5'): 51\n",
      "INFO:root:('chr15', 'chr15'): 103\n",
      "INFO:root:('chr10', 'chr10'): 93\n",
      "INFO:root:('chr12', 'chr12'): 101\n",
      "INFO:root:('chr6', 'chr6'): 92\n",
      "INFO:root:('chr22', 'chr22'): 53\n",
      "INFO:root:('chr11', 'chr11'): 89\n",
      "INFO:root:('chr17', 'chr17'): 113\n",
      "INFO:root:('chr3', 'chr3'): 55\n",
      "INFO:root:('chr9', 'chr9'): 104\n",
      "INFO:root:('chr4', 'chr4'): 66\n",
      "INFO:root:('chr2', 'chr2'): 146\n",
      "INFO:root:('chr1', 'chr1'): 169\n",
      "INFO:root:Total number of piled up windows: 1625\n"
     ]
    },
    {
     "name": "stdout",
     "output_type": "stream",
     "text": [
      "working on a group ('tss', '+', 'enhancer', '.', '-') ...\n",
      "working on a group of 1100 size ...\n"
     ]
    },
    {
     "name": "stderr",
     "output_type": "stream",
     "text": [
      "INFO:root:('chr12', 'chr12'): 55\n",
      "INFO:root:('chr11', 'chr11'): 33\n",
      "INFO:root:('chr8', 'chr8'): 20\n",
      "INFO:root:('chr7', 'chr7'): 66\n",
      "INFO:root:('chr22', 'chr22'): 12\n",
      "INFO:root:('chr4', 'chr4'): 61\n",
      "INFO:root:('chr19', 'chr19'): 48\n",
      "INFO:root:('chr20', 'chr20'): 29\n",
      "INFO:root:('chr3', 'chr3'): 58\n",
      "INFO:root:('chr21', 'chr21'): 37\n",
      "INFO:root:('chr2', 'chr2'): 49\n",
      "INFO:root:('chr6', 'chr6'): 108\n",
      "INFO:root:('chr9', 'chr9'): 36\n",
      "INFO:root:('chr1', 'chr1'): 129\n",
      "INFO:root:('chr14', 'chr14'): 56\n",
      "INFO:root:('chr10', 'chr10'): 32\n",
      "INFO:root:('chr5', 'chr5'): 68\n",
      "INFO:root:('chr18', 'chr18'): 15\n",
      "INFO:root:('chr17', 'chr17'): 81\n",
      "INFO:root:('chr16', 'chr16'): 39\n",
      "INFO:root:('chr13', 'chr13'): 23\n",
      "INFO:root:('chr15', 'chr15'): 43\n",
      "INFO:root:Total number of piled up windows: 1098\n"
     ]
    },
    {
     "name": "stdout",
     "output_type": "stream",
     "text": [
      "working on a group ('tss', '+', 'enhancer', '.', 'all') ...\n",
      "working on a group ('tss', '+', 'enhancer', '.', 'almost+') ...\n",
      "working on a group ('tss', '+', 'enhancer', '.', 'almost-') ...\n",
      "working on a group ('tss', '+', 'enhancer', '.', 'empty') ...\n",
      "working on a group of 2220 size ...\n"
     ]
    },
    {
     "name": "stderr",
     "output_type": "stream",
     "text": [
      "INFO:root:('chr16', 'chr16'): 70\n",
      "INFO:root:('chr14', 'chr14'): 94\n",
      "INFO:root:('chr10', 'chr10'): 68\n",
      "INFO:root:('chr12', 'chr12'): 92\n",
      "INFO:root:('chr13', 'chr13'): 125\n",
      "INFO:root:('chr11', 'chr11'): 102\n",
      "INFO:root:('chr19', 'chr19'): 57\n",
      "INFO:root:('chr21', 'chr21'): 30\n",
      "INFO:root:('chr22', 'chr22'): 34\n",
      "INFO:root:('chr4', 'chr4'): 105\n",
      "INFO:root:('chr20', 'chr20'): 55\n",
      "INFO:root:('chr3', 'chr3'): 165\n",
      "INFO:root:('chr18', 'chr18'): 48\n",
      "INFO:root:('chr9', 'chr9'): 91\n",
      "INFO:root:('chr1', 'chr1'): 182\n",
      "INFO:root:('chr7', 'chr7'): 102\n",
      "INFO:root:('chr15', 'chr15'): 88\n",
      "INFO:root:('chr17', 'chr17'): 118\n",
      "INFO:root:('chr5', 'chr5'): 133\n",
      "INFO:root:('chr2', 'chr2'): 184\n",
      "INFO:root:('chr8', 'chr8'): 114\n",
      "INFO:root:('chr6', 'chr6'): 147\n",
      "INFO:root:Total number of piled up windows: 2204\n"
     ]
    },
    {
     "name": "stdout",
     "output_type": "stream",
     "text": [
      "working on a group ('tss', '+', 'enhancer', '.', 'mix+-') ...\n",
      "working on a group ('tss', '+', 'enhancer', '.', 'undef-ctcf') ...\n",
      "working on a group ('tss', '-', 'enhancer', '.', '+') ...\n",
      "working on a group of 1619 size ...\n"
     ]
    },
    {
     "name": "stderr",
     "output_type": "stream",
     "text": [
      "INFO:root:('chr17', 'chr17'): 89\n",
      "INFO:root:('chr15', 'chr15'): 70\n",
      "INFO:root:('chr16', 'chr16'): 75\n",
      "INFO:root:('chr9', 'chr9'): 63\n",
      "INFO:root:('chr21', 'chr21'): 7\n",
      "INFO:root:('chr4', 'chr4'): 68\n",
      "INFO:root:('chr20', 'chr20'): 20\n",
      "INFO:root:('chr22', 'chr22'): 42\n",
      "INFO:root:('chr19', 'chr19'): 56\n",
      "INFO:root:('chr3', 'chr3'): 87\n",
      "INFO:root:('chr7', 'chr7'): 67\n",
      "INFO:root:('chr18', 'chr18'): 22\n",
      "INFO:root:('chr1', 'chr1'): 128\n",
      "INFO:root:('chr5', 'chr5'): 69\n",
      "INFO:root:('chr14', 'chr14'): 77\n",
      "INFO:root:('chr13', 'chr13'): 44\n",
      "INFO:root:('chr2', 'chr2'): 183\n",
      "INFO:root:('chr6', 'chr6'): 126\n",
      "INFO:root:('chr10', 'chr10'): 67\n",
      "INFO:root:('chr11', 'chr11'): 60\n",
      "INFO:root:('chr12', 'chr12'): 117\n",
      "INFO:root:('chr8', 'chr8'): 80\n",
      "INFO:root:Total number of piled up windows: 1617\n"
     ]
    },
    {
     "name": "stdout",
     "output_type": "stream",
     "text": [
      "working on a group ('tss', '-', 'enhancer', '.', '-') ...\n",
      "working on a group of 1049 size ...\n"
     ]
    },
    {
     "name": "stderr",
     "output_type": "stream",
     "text": [
      "INFO:root:('chr8', 'chr8'): 34\n",
      "INFO:root:('chr7', 'chr7'): 52\n",
      "INFO:root:('chr14', 'chr14'): 74\n",
      "INFO:root:('chr5', 'chr5'): 46\n",
      "INFO:root:('chr19', 'chr19'): 31\n",
      "INFO:root:('chr6', 'chr6'): 70\n",
      "INFO:root:('chr22', 'chr22'): 17\n",
      "INFO:root:('chr20', 'chr20'): 20\n",
      "INFO:root:('chr21', 'chr21'): 30\n",
      "INFO:root:('chr2', 'chr2'): 37\n",
      "INFO:root:('chr3', 'chr3'): 79\n",
      "INFO:root:('chr4', 'chr4'): 71\n",
      "INFO:root:('chr1', 'chr1'): 118\n",
      "INFO:root:('chr17', 'chr17'): 77\n",
      "INFO:root:('chr9', 'chr9'): 56\n",
      "INFO:root:('chr10', 'chr10'): 9\n",
      "INFO:root:('chr11', 'chr11'): 40\n",
      "INFO:root:('chr12', 'chr12'): 65\n",
      "INFO:root:('chr18', 'chr18'): 8\n",
      "INFO:root:('chr16', 'chr16'): 30\n",
      "INFO:root:('chr13', 'chr13'): 46\n",
      "INFO:root:('chr15', 'chr15'): 35\n",
      "INFO:root:Total number of piled up windows: 1045\n"
     ]
    },
    {
     "name": "stdout",
     "output_type": "stream",
     "text": [
      "working on a group ('tss', '-', 'enhancer', '.', 'all') ...\n",
      "working on a group ('tss', '-', 'enhancer', '.', 'almost+') ...\n",
      "working on a group ('tss', '-', 'enhancer', '.', 'almost-') ...\n",
      "working on a group ('tss', '-', 'enhancer', '.', 'empty') ...\n",
      "working on a group of 2031 size ...\n"
     ]
    },
    {
     "name": "stderr",
     "output_type": "stream",
     "text": [
      "INFO:root:('chr18', 'chr18'): 32\n",
      "INFO:root:('chr16', 'chr16'): 53\n",
      "INFO:root:('chr17', 'chr17'): 69\n",
      "INFO:root:('chr19', 'chr19'): 30\n",
      "INFO:root:('chr21', 'chr21'): 24\n",
      "INFO:root:('chr15', 'chr15'): 76\n",
      "INFO:root:('chr14', 'chr14'): 115\n",
      "INFO:root:('chr22', 'chr22'): 24\n",
      "INFO:root:('chr13', 'chr13'): 120\n",
      "INFO:root:('chr8', 'chr8'): 98\n",
      "INFO:root:('chr20', 'chr20'): 66\n",
      "INFO:root:('chr11', 'chr11'): 132\n",
      "INFO:root:('chr10', 'chr10'): 68\n",
      "INFO:root:('chr7', 'chr7'): 102\n",
      "INFO:root:('chr4', 'chr4'): 111\n",
      "INFO:root:('chr3', 'chr3'): 134\n",
      "INFO:root:('chr12', 'chr12'): 112\n",
      "INFO:root:('chr2', 'chr2'): 166\n",
      "INFO:root:('chr6', 'chr6'): 100\n",
      "INFO:root:('chr9', 'chr9'): 126\n",
      "INFO:root:('chr1', 'chr1'): 177\n",
      "INFO:root:('chr5', 'chr5'): 90\n",
      "INFO:root:Total number of piled up windows: 2025\n"
     ]
    },
    {
     "name": "stdout",
     "output_type": "stream",
     "text": [
      "working on a group ('tss', '-', 'enhancer', '.', 'mix+-') ...\n",
      "working on a group ('tss', '-', 'enhancer', '.', 'undef-ctcf') ...\n"
     ]
    }
   ],
   "source": [
    "key_samples = [\n",
    "    \"CkoCT442_NT_pool.hg19\",\n",
    "    \"CkoCT442_IAA_pool.hg19\",\n",
    "]\n",
    "pup_dict = {}\n",
    "binsize = 5_000\n",
    "\n",
    "# group genes by expression and size before extracting corresponding profiles of a list of features :\n",
    "for sample in key_samples:\n",
    "    print(f\"working on {sample} ...\")\n",
    "    pup_dict[sample] = {}\n",
    "    cname = ins_samples[sample]\n",
    "    clr = cooler.Cooler(f\"{cname}::/resolutions/{binsize}\")\n",
    "    for grp_name, grp_df in PE_groups:\n",
    "        type1, strand1, type2, strand2, status = grp_name\n",
    "        print(f\"working on a group {grp_name} ...\")\n",
    "        if status in [\"+\",\"-\",\"empty\"]:\n",
    "            # run coolpup ...\n",
    "            pup_dict[sample][grp_name] = get_pup(grp_df, clr, binsize, _cols=[\"chrom1\",\"start1\",\"end2\"] )"
   ]
  },
  {
   "cell_type": "code",
   "execution_count": 10,
   "id": "settled-custody",
   "metadata": {},
   "outputs": [],
   "source": [
    "import pickle\n",
    "file_to_store = open(\"PUP_DICT_5kb_SHIFT_EXP_PromEnhanc_detailed_stricter.pickle\", \"wb\")\n",
    "pickle.dump(pup_dict, file_to_store)\n",
    "# Save object to file\n",
    "file_to_store.close()"
   ]
  },
  {
   "cell_type": "markdown",
   "id": "fresh-router",
   "metadata": {},
   "source": [
    "### plotting different pileups for different groups ..."
   ]
  },
  {
   "cell_type": "code",
   "execution_count": null,
   "id": "integral-lloyd",
   "metadata": {},
   "outputs": [],
   "source": [
    "from matplotlib import colors"
   ]
  },
  {
   "cell_type": "code",
   "execution_count": null,
   "id": "proprietary-proportion",
   "metadata": {},
   "outputs": [],
   "source": [
    "def reverse_strand(strand):\n",
    "    \"\"\"\n",
    "    reverse strand: +->-, -->+, .->.\n",
    "    \"\"\"\n",
    "    if strand == \"+\":\n",
    "        return \"-\"\n",
    "    elif strand == \"-\":\n",
    "        return \"+\"\n",
    "    else:\n",
    "        return strand\n",
    "\n",
    "def flip_int(int_description):\n",
    "    \"\"\"\n",
    "    flip promoter-enhancer pairs into Enhancer to Promoter\n",
    "    \"\"\"\n",
    "    type1, strand1, type2, strand2, *_bs = int_description\n",
    "    return type2, reverse_strand(strand2), type1, reverse_strand(strand1), *_bs\n",
    "\n",
    "def flip_PE(pe_tuple):\n",
    "    \"\"\"\n",
    "    flip promoter-enhancer pairs into Enhancer to Promoter\n",
    "    \"\"\"\n",
    "    t1, *_ = pe_tuple\n",
    "    if t1 != \"enhancer\":\n",
    "        return flip_int(pe_tuple)\n",
    "    else:\n",
    "        return pe_tuple"
   ]
  },
  {
   "cell_type": "code",
   "execution_count": null,
   "id": "ccec4b8c",
   "metadata": {},
   "outputs": [],
   "source": [
    "pup_dict[\"CkoCT442_NT_pool.hg19\"]"
   ]
  },
  {
   "cell_type": "markdown",
   "id": "13eed838",
   "metadata": {},
   "source": [
    "## Remember to flip CTCF as well ..."
   ]
  },
  {
   "cell_type": "code",
   "execution_count": null,
   "id": "aquatic-gregory",
   "metadata": {},
   "outputs": [],
   "source": [
    "combined_dict = {}\n",
    "mean_dict = {}\n",
    "for k,mat in pup_dict[\"CkoCT442_NT_pool.hg19\"].items():\n",
    "    mat = mat[\"data\"][\"all\"]\n",
    "    invk = flip_PE(k)\n",
    "    invmat = mat[::-1,::-1] if k != invk else mat\n",
    "    # populate combined_dict now\n",
    "    if invk not in combined_dict:\n",
    "        combined_dict[invk] = [ invmat ]\n",
    "    else:\n",
    "        combined_dict[invk].append(invmat)\n",
    "        mean_dict[invk] = np.nanmean(combined_dict[invk],axis=0)\n",
    "\n",
    "\n",
    "fig = plt.figure(figsize=(12,8),constrained_layout=True)\n",
    "gs = fig.add_gridspec(2,3)\n",
    "for idx, (name, mat) in enumerate(mean_dict.items()):\n",
    "    j, i = idx//2, idx%2\n",
    "    ax = fig.add_subplot(gs[i,j])\n",
    "    ax.set_title(name)\n",
    "    img = ax.imshow(\n",
    "        mat,\n",
    "        # norm = MidPointLogNorm(vmin=0.75,vmax=1.25,midpoint=1),\n",
    "        norm = colors.TwoSlopeNorm(vmin=0.75, vcenter=1, vmax=1.25),\n",
    "        cmap=\"coolwarm\",\n",
    "        interpolation=\"nearest\",            \n",
    "    )\n",
    "# plt.colorbar(img)"
   ]
  },
  {
   "cell_type": "code",
   "execution_count": null,
   "id": "0b930c94",
   "metadata": {},
   "outputs": [],
   "source": [
    "combined_dict = {}\n",
    "mean_dict = {}\n",
    "for k,mat in pup_dict[\"CkoCT442_IAA_pool.hg19\"].items():\n",
    "    mat = mat[\"data\"][\"all\"]\n",
    "    invk = flip_PE(k)\n",
    "    invmat = mat[::-1,::-1] if k != invk else mat\n",
    "    # populate combined_dict now\n",
    "    if invk not in combined_dict:\n",
    "        combined_dict[invk] = [ invmat ]\n",
    "    else:\n",
    "        combined_dict[invk].append(invmat)\n",
    "        mean_dict[invk] = np.nanmean(combined_dict[invk],axis=0)\n",
    "\n",
    "\n",
    "fig = plt.figure(figsize=(12,8),constrained_layout=True)\n",
    "gs = fig.add_gridspec(2,3)\n",
    "for idx, (name, mat) in enumerate(mean_dict.items()):\n",
    "    j, i = idx//2, idx%2\n",
    "    ax = fig.add_subplot(gs[i,j])\n",
    "    ax.set_title(name)\n",
    "    img = ax.imshow(\n",
    "        mat,\n",
    "        # norm = MidPointLogNorm(vmin=0.75,vmax=1.25,midpoint=1),\n",
    "        norm = colors.TwoSlopeNorm(vmin=0.75, vcenter=1, vmax=1.25),\n",
    "        cmap=\"coolwarm\",\n",
    "        interpolation=\"nearest\",            \n",
    "    )\n",
    "# plt.colorbar(img)"
   ]
  },
  {
   "cell_type": "code",
   "execution_count": null,
   "id": "retained-subsection",
   "metadata": {},
   "outputs": [],
   "source": [
    "combined_dict = {}\n",
    "mean_dict = {}\n",
    "for k,mat in pup_dict[\"Ctrl500M-CT442-IAA.hg19\"][\"data\"].to_dict().items():\n",
    "    invk = flip_PE(k)\n",
    "    invmat = mat[::-1,::-1] if k != invk else mat\n",
    "    # populate combined_dict now\n",
    "    if invk not in combined_dict:\n",
    "        combined_dict[invk] = [ invmat ]\n",
    "    else:\n",
    "        combined_dict[invk].append(invmat)\n",
    "        mean_dict[invk] = np.nanmean(combined_dict[invk],axis=0)\n",
    "\n",
    "\n",
    "fig = plt.figure(figsize=(7,8),constrained_layout=True)\n",
    "gs = fig.add_gridspec(2,2)\n",
    "for idx, (name, mat) in enumerate(mean_dict.items()):\n",
    "    j, i = idx//2, idx%2\n",
    "    ax = fig.add_subplot(gs[i,j])\n",
    "    ax.set_title(name)\n",
    "    img = ax.imshow(\n",
    "        mat,\n",
    "        # norm = MidPointLogNorm(vmin=0.75,vmax=1.25,midpoint=1),\n",
    "        norm = colors.TwoSlopeNorm(vmin=0.75, vcenter=1, vmax=1.25),\n",
    "        cmap=\"coolwarm\",\n",
    "        interpolation=\"nearest\",            \n",
    "    )\n",
    "# plt.colorbar(img)"
   ]
  },
  {
   "cell_type": "code",
   "execution_count": null,
   "id": "industrial-screen",
   "metadata": {},
   "outputs": [],
   "source": [
    "fig = plt.figure(figsize=(12,8),constrained_layout=True)\n",
    "gs = fig.add_gridspec(2,len(PE_groups)//2)\n",
    "\n",
    "_yyyy = pup_dict[\"RAD21-IAA.hg19\"]#.reset_index()#.set_index([\"gexp\",\"gsize\",\"orientation\"])\n",
    "\n",
    "for idx, (name, _) in enumerate(PE_groups):\n",
    "    j, i = idx//2, idx%2\n",
    "    ax = fig.add_subplot(gs[i,j])\n",
    "    ax.set_title(name)\n",
    "    pup_heatmap = _yyyy.loc[name,\"data\"].values[0]\n",
    "    img = ax.imshow(\n",
    "        pup_heatmap,\n",
    "        # norm = MidPointLogNorm(vmin=0.75,vmax=1.25,midpoint=1),\n",
    "        norm = colors.TwoSlopeNorm(vmin=0.75, vcenter=1, vmax=1.25),\n",
    "        cmap=\"coolwarm\",\n",
    "        interpolation=\"nearest\",            \n",
    "    )\n",
    "# plt.colorbar(img)"
   ]
  },
  {
   "cell_type": "code",
   "execution_count": null,
   "id": "assured-sailing",
   "metadata": {},
   "outputs": [],
   "source": [
    "fig = plt.figure(figsize=(12,8),constrained_layout=True)\n",
    "gs = fig.add_gridspec(2,len(PE_groups)//2)\n",
    "\n",
    "_yyyy = pup_dict[\"Ctrl500M-CT442-IAA.hg19\"]#.reset_index()#.set_index([\"gexp\",\"gsize\",\"orientation\"])\n",
    "\n",
    "for idx, (name, _) in enumerate(PE_groups):\n",
    "    j, i = idx//2, idx%2\n",
    "    ax = fig.add_subplot(gs[i,j])\n",
    "    ax.set_title(name)\n",
    "    pup_heatmap = _yyyy.loc[name,\"data\"].values[0]\n",
    "    img = ax.imshow(\n",
    "        pup_heatmap,\n",
    "        # norm = MidPointLogNorm(vmin=0.75,vmax=1.25,midpoint=1),\n",
    "        norm = colors.TwoSlopeNorm(vmin=0.75, vcenter=1, vmax=1.25),\n",
    "        cmap=\"coolwarm\",\n",
    "        interpolation=\"nearest\",            \n",
    "    )\n",
    "# plt.colorbar(img)"
   ]
  },
  {
   "cell_type": "code",
   "execution_count": null,
   "id": "upper-mercury",
   "metadata": {},
   "outputs": [],
   "source": []
  }
 ],
 "metadata": {
  "kernelspec": {
   "display_name": "Python 3",
   "language": "python",
   "name": "python3"
  },
  "language_info": {
   "codemirror_mode": {
    "name": "ipython",
    "version": 3
   },
   "file_extension": ".py",
   "mimetype": "text/x-python",
   "name": "python",
   "nbconvert_exporter": "python",
   "pygments_lexer": "ipython3",
   "version": "3.8.10"
  }
 },
 "nbformat": 4,
 "nbformat_minor": 5
}
