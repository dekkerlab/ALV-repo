{
 "cells": [
  {
   "cell_type": "code",
   "execution_count": 1,
   "id": "c099eea4",
   "metadata": {},
   "outputs": [
    {
     "data": {
      "application/javascript": [
       "require([\"codemirror/keymap/sublime\", \"notebook/js/cell\", \"base/js/namespace\"],\n",
       "    function(sublime_keymap, cell, IPython) {\n",
       "        cell.Cell.options_default.cm_config.keyMap = 'sublime';\n",
       "        var cells = IPython.notebook.get_cells();\n",
       "        for(var cl=0; cl< cells.length ; cl++){\n",
       "            cells[cl].code_mirror.setOption('keyMap', 'sublime');\n",
       "        }\n",
       "    }\n",
       ");\n"
      ],
      "text/plain": [
       "<IPython.core.display.Javascript object>"
      ]
     },
     "metadata": {},
     "output_type": "display_data"
    }
   ],
   "source": [
    "%%javascript\n",
    "require([\"codemirror/keymap/sublime\", \"notebook/js/cell\", \"base/js/namespace\"],\n",
    "    function(sublime_keymap, cell, IPython) {\n",
    "        cell.Cell.options_default.cm_config.keyMap = 'sublime';\n",
    "        var cells = IPython.notebook.get_cells();\n",
    "        for(var cl=0; cl< cells.length ; cl++){\n",
    "            cells[cl].code_mirror.setOption('keyMap', 'sublime');\n",
    "        }\n",
    "    }\n",
    ");"
   ]
  },
  {
   "cell_type": "code",
   "execution_count": 2,
   "id": "37548ed0",
   "metadata": {},
   "outputs": [],
   "source": [
    "%load_ext autoreload\n",
    "%autoreload 2\n",
    "%matplotlib inline\n",
    "%config InlineBackend.print_figure_kwargs={'facecolor' : \"w\"}\n",
    "import warnings\n",
    "warnings.filterwarnings('ignore')\n",
    "from more_itertools import chunked\n",
    "from pathlib import Path\n",
    "# import all samples as dictionary ...\n",
    "from samples import *"
   ]
  },
  {
   "cell_type": "code",
   "execution_count": 3,
   "id": "9ed47bd6",
   "metadata": {},
   "outputs": [],
   "source": [
    "import os\n",
    "os.environ[\"MKL_NUM_THREADS\"] = \"1\" \n",
    "os.environ[\"NUMEXPR_NUM_THREADS\"] = \"1\" \n",
    "os.environ[\"OMP_NUM_THREADS\"] = \"1\" "
   ]
  },
  {
   "cell_type": "code",
   "execution_count": 4,
   "id": "d796bb2e",
   "metadata": {},
   "outputs": [],
   "source": [
    "# %matplotlib inline\n",
    "import matplotlib.pyplot as plt\n",
    "import matplotlib as mpl\n",
    "mpl.style.use('seaborn-white')\n",
    "import seaborn as sns\n",
    "import multiprocess as mp\n",
    "import numpy as np\n",
    "import pandas as pd\n",
    "import bioframe\n",
    "import cooltools\n",
    "import cooler\n",
    "from matplotlib.gridspec import GridSpec\n",
    "import bbi\n",
    "from cooltools import snipping"
   ]
  },
  {
   "cell_type": "code",
   "execution_count": 5,
   "id": "5cff67dc",
   "metadata": {},
   "outputs": [],
   "source": [
    "from matplotlib.colors import LogNorm\n",
    "# https://stackoverflow.com/questions/48625475/python-shifted-logarithmic-colorbar-white-color-offset-to-center\n",
    "class MidPointLogNorm(LogNorm):\n",
    "    def __init__(self, vmin=None, vmax=None, midpoint=None, clip=False):\n",
    "        LogNorm.__init__(self, vmin=vmin, vmax=vmax, clip=clip)\n",
    "        self.midpoint=midpoint\n",
    "    def __call__(self, value, clip=None):\n",
    "        result, is_scalar = self.process_value(value)\n",
    "        x, y = [np.log(self.vmin), np.log(self.midpoint), np.log(self.vmax)], [0, 0.5, 1]\n",
    "        return np.ma.array(np.interp(np.log(value), x, y), mask=result.mask, copy=False)"
   ]
  },
  {
   "cell_type": "code",
   "execution_count": 6,
   "id": "179adf71",
   "metadata": {},
   "outputs": [],
   "source": [
    "# Use bioframe to fetch the genomic features from the UCSC.\n",
    "hg19_chromsizes = bioframe.fetch_chromsizes('hg19', as_bed=True)\n",
    "hg19_cens = bioframe.fetch_centromeres('hg19')\n",
    "hg19_arms = bioframe.split(hg19_chromsizes, hg19_cens, cols_points=['chrom', 'mid'])\n",
    "\n",
    "# Select only chromosomes that are present in the cooler. \n",
    "# This step is typically not required! we call it only because the test data are reduced. \n",
    "hg19_chromsizes = hg19_chromsizes.set_index(\"chrom\").loc[autosomal_chroms].reset_index() \n",
    "hg19_arms = hg19_arms.set_index(\"chrom\").loc[autosomal_chroms].reset_index()\n",
    "# call this to automaticly assign names to chromosomal arms:\n",
    "hg19_arms = bioframe.parse_regions(hg19_arms)\n",
    "hg19_arms[\"name\"] = [f\"{chrom}{arm}\" for chrom in autosomal_chroms for arm in list('pq')]\n",
    "hg19_arms.to_csv(\"hg19_arms.bed\",sep=\"\\t\",index=False,header=False)"
   ]
  },
  {
   "cell_type": "code",
   "execution_count": 7,
   "id": "73a7386b",
   "metadata": {},
   "outputs": [],
   "source": [
    "conditions = ['442-NT','442-IAA']\n",
    "binsize = 2000\n",
    "binsize_human = f\"{int(binsize/1_000)}kb\"\n",
    "\n",
    "cooler_paths = {    \n",
    "    '442-NT' : f'/data/alv/CTCF_degron/data/CkoCT442-NT-pool.mcool::resolutions/{binsize}',\n",
    "    '442-IAA' : f'/data/alv/CTCF_degron/data/CkoCT442-IAA-pool.mcool::resolutions/{binsize}',\n",
    "}\n",
    "long_names = {\n",
    "    '442-NT' : 'CTCFdegron-442-nontreated-pool',\n",
    "    '442-IAA': 'CTCFdegron-442-auxin-pool',\n",
    "}\n",
    "\n",
    "pal = sns.color_palette('colorblind')\n",
    "colors = {\n",
    "    '442-NT': \"#e74c3c\",\n",
    "    '442-IAA': pal[2],\n",
    "}\n",
    "\n",
    "clrs = {\n",
    "    cond: cooler.Cooler(cooler_paths[cond]) for cond in conditions\n",
    "}"
   ]
  },
  {
   "cell_type": "code",
   "execution_count": null,
   "id": "cc2d9946",
   "metadata": {},
   "outputs": [],
   "source": []
  },
  {
   "cell_type": "code",
   "execution_count": null,
   "id": "a2bfa15c",
   "metadata": {},
   "outputs": [],
   "source": []
  },
  {
   "cell_type": "code",
   "execution_count": null,
   "id": "045fbffb",
   "metadata": {},
   "outputs": [],
   "source": []
  },
  {
   "cell_type": "code",
   "execution_count": null,
   "id": "07c492e3",
   "metadata": {},
   "outputs": [],
   "source": []
  },
  {
   "cell_type": "code",
   "execution_count": null,
   "id": "77170e8b",
   "metadata": {},
   "outputs": [],
   "source": []
  },
  {
   "cell_type": "code",
   "execution_count": 8,
   "id": "8402a3f2",
   "metadata": {},
   "outputs": [
    {
     "name": "stdout",
     "output_type": "stream",
     "text": [
      "already exist !\n",
      "/data/alv/CTCF_degron/data/CkoCT442-NT-pool.2kb.cis.exp.tsv\n",
      "already exist !\n",
      "/data/alv/CTCF_degron/data/CkoCT442-IAA-pool.2kb.cis.exp.tsv\n"
     ]
    }
   ],
   "source": [
    "# iterate over samples to calculate expected on:\n",
    "for cond in conditions:\n",
    "    lname,*_ = cooler_paths[cond].split(\".mcool\")\n",
    "    target_exp_file = Path(f\"{lname}.{binsize_human}.cis.exp.tsv\")\n",
    "    if target_exp_file.is_file():\n",
    "        print(\"already exist !\")\n",
    "        print(target_exp_file)\n",
    "        continue\n",
    "    else:\n",
    "        print(\"working on ...\")\n",
    "        print(cond,lname)\n",
    "        ######################################\n",
    "        !cooltools compute-expected \\\n",
    "            --nproc 4 \\\n",
    "            --output {target_exp_file} \\\n",
    "            --regions hg19_arms.bed \\\n",
    "            --contact-type cis \\\n",
    "            --balance \\\n",
    "            --weight-name weight \\\n",
    "            --ignore-diags 2 \\\n",
    "            {cooler_paths[cond]}\n",
    "        ######################################\n"
   ]
  },
  {
   "cell_type": "code",
   "execution_count": 9,
   "id": "8e96654c",
   "metadata": {},
   "outputs": [],
   "source": [
    "expected_paths = {    \n",
    "    '442-NT' : f'/data/alv/CTCF_degron/data/CkoCT442-NT-pool.{binsize_human}.cis.exp.tsv',\n",
    "    '442-IAA' : f'/data/alv/CTCF_degron/data/CkoCT442-IAA-pool.{binsize_human}.cis.exp.tsv',\n",
    "}\n",
    "expecteds = {\n",
    "    cond: pd.read_csv(expected_paths[cond], sep=\"\\t\") for cond in conditions\n",
    "}"
   ]
  },
  {
   "cell_type": "code",
   "execution_count": 15,
   "id": "0f49ddf0",
   "metadata": {
    "scrolled": true
   },
   "outputs": [
    {
     "name": "stdout",
     "output_type": "stream",
     "text": [
      "   chrom      start        end  strand\n",
      "0  chr20   26189793   26190372     NaN\n",
      "1  chr14   88237570   88237824     NaN\n",
      "2   chr2  133015108  133015345     NaN\n",
      "3  chr22   21271181   21271776     NaN\n",
      "4  chr17   41399725   41401091     NaN\n",
      "10000\n"
     ]
    }
   ],
   "source": [
    "#pick the bed file to do interaction pileup on\n",
    "boundaries = pd.read_table('/data/alv/CTCF_degron/analysis/for-paper/draft6/int_pileup_by_arm/masterlist_CTCFdependent.bed', delimiter='\\t', names=[\"chrom\", \"start\", \"end\",\"strand\"])#,\"score\", \"score2\", \"score3\",\"score4\",\"score5\",\"score6\"])\n",
    "print(boundaries.head())\n",
    "print(len(boundaries))"
   ]
  },
  {
   "cell_type": "code",
   "execution_count": 19,
   "id": "4328a39b",
   "metadata": {},
   "outputs": [
    {
     "name": "stdout",
     "output_type": "stream",
     "text": [
      "   chrom      start        end  strand\n",
      "0  chr22   22089705   22090414     NaN\n",
      "1   chr9  123630887  123631666     NaN\n",
      "2  chr22   19165638   19167351     NaN\n",
      "3  chr22   20104784   20105071     NaN\n",
      "4  chr22   23522606   23522844     NaN\n",
      "10000\n"
     ]
    }
   ],
   "source": [
    "#pick the bed file to do interaction pileup on\n",
    "boundaries = pd.read_table('/data/alv/CTCF_degron/analysis/for-paper/draft6/int_pileup_by_arm/masterlist_CTCFindependent.bed', delimiter='\\t', names=[\"chrom\", \"start\", \"end\",\"strand\"])#,\"score\", \"score2\", \"score3\",\"score4\",\"score5\",\"score6\"])\n",
    "print(boundaries.head())\n",
    "print(len(boundaries))"
   ]
  },
  {
   "cell_type": "code",
   "execution_count": 20,
   "id": "3f0caf74",
   "metadata": {},
   "outputs": [
    {
     "name": "stdout",
     "output_type": "stream",
     "text": [
      "10000 windows, after assigning supports\n"
     ]
    },
    {
     "data": {
      "text/html": [
       "<div>\n",
       "<style scoped>\n",
       "    .dataframe tbody tr th:only-of-type {\n",
       "        vertical-align: middle;\n",
       "    }\n",
       "\n",
       "    .dataframe tbody tr th {\n",
       "        vertical-align: top;\n",
       "    }\n",
       "\n",
       "    .dataframe thead th {\n",
       "        text-align: right;\n",
       "    }\n",
       "</style>\n",
       "<table border=\"1\" class=\"dataframe\">\n",
       "  <thead>\n",
       "    <tr style=\"text-align: right;\">\n",
       "      <th></th>\n",
       "      <th>chrom</th>\n",
       "      <th>start</th>\n",
       "      <th>end</th>\n",
       "      <th>lo</th>\n",
       "      <th>hi</th>\n",
       "      <th>region</th>\n",
       "    </tr>\n",
       "  </thead>\n",
       "  <tbody>\n",
       "    <tr>\n",
       "      <th>0</th>\n",
       "      <td>chr22</td>\n",
       "      <td>22040000</td>\n",
       "      <td>22142000</td>\n",
       "      <td>11020</td>\n",
       "      <td>11071</td>\n",
       "      <td>chr22q</td>\n",
       "    </tr>\n",
       "    <tr>\n",
       "      <th>1</th>\n",
       "      <td>chr9</td>\n",
       "      <td>123580000</td>\n",
       "      <td>123682000</td>\n",
       "      <td>61790</td>\n",
       "      <td>61841</td>\n",
       "      <td>chr9q</td>\n",
       "    </tr>\n",
       "    <tr>\n",
       "      <th>2</th>\n",
       "      <td>chr22</td>\n",
       "      <td>19116000</td>\n",
       "      <td>19218000</td>\n",
       "      <td>9558</td>\n",
       "      <td>9609</td>\n",
       "      <td>chr22q</td>\n",
       "    </tr>\n",
       "    <tr>\n",
       "      <th>3</th>\n",
       "      <td>chr22</td>\n",
       "      <td>20054000</td>\n",
       "      <td>20156000</td>\n",
       "      <td>10027</td>\n",
       "      <td>10078</td>\n",
       "      <td>chr22q</td>\n",
       "    </tr>\n",
       "    <tr>\n",
       "      <th>4</th>\n",
       "      <td>chr22</td>\n",
       "      <td>23472000</td>\n",
       "      <td>23574000</td>\n",
       "      <td>11736</td>\n",
       "      <td>11787</td>\n",
       "      <td>chr22q</td>\n",
       "    </tr>\n",
       "  </tbody>\n",
       "</table>\n",
       "</div>"
      ],
      "text/plain": [
       "   chrom      start        end     lo     hi  region\n",
       "0  chr22   22040000   22142000  11020  11071  chr22q\n",
       "1   chr9  123580000  123682000  61790  61841   chr9q\n",
       "2  chr22   19116000   19218000   9558   9609  chr22q\n",
       "3  chr22   20054000   20156000  10027  10078  chr22q\n",
       "4  chr22   23472000   23574000  11736  11787  chr22q"
      ]
     },
     "execution_count": 20,
     "metadata": {},
     "output_type": "execute_result"
    }
   ],
   "source": [
    "flank = 50000\n",
    "windows = snipping.make_bin_aligned_windows(\n",
    "    binsize, \n",
    "    boundaries['chrom'], \n",
    "    (boundaries['start'] + boundaries['end'])//2,\n",
    "    flank_bp=flank)\n",
    "windows = snipping.assign_regions(windows, hg19_arms)\n",
    "windows = windows.dropna()\n",
    "arm_sites = boundaries.loc[windows.index,:].reset_index(drop=True)\n",
    "windows = windows.reset_index(drop=True)\n",
    "print(len(windows), 'windows, after assigning supports')\n",
    "windows.head()"
   ]
  },
  {
   "cell_type": "code",
   "execution_count": 21,
   "id": "59013143",
   "metadata": {},
   "outputs": [],
   "source": [
    "# the most time consuming step !!!\n",
    "stacks = {}\n",
    "piles = {}\n",
    "for cond in conditions:\n",
    "    snipper = snipping.ObsExpSnipper(clrs[cond], expecteds[cond], regions=hg19_arms)\n",
    "    stack = snipping.pileup(windows, snipper.select, snipper.snip)\n",
    "    stacks[cond] = stack\n",
    "    piles[cond] = np.nanmean(stack, axis=2)"
   ]
  },
  {
   "cell_type": "code",
   "execution_count": 22,
   "id": "82b42e34",
   "metadata": {},
   "outputs": [
    {
     "data": {
      "image/png": "[encoded data removed]",
      "text/plain": [
       "<Figure size 864x432 with 3 Axes>"
      ]
     },
     "metadata": {},
     "output_type": "display_data"
    }
   ],
   "source": [
    "# draw the pileup\n",
    "gs = plt.GridSpec(nrows=1, ncols=len(conditions) + 1, width_ratios=[20] * len(conditions) + [1])\n",
    "fig = plt.figure(figsize=(6 * len(conditions), 6))\n",
    "\n",
    "opts = dict(\n",
    "    norm = MidPointLogNorm(vmin=0.9,vmax=1.1,midpoint=1),\n",
    "    extent=[-flank//1000, flank//1000, -flank//1000, flank//1000],\n",
    "#     cmap='RdBu_r',\n",
    "    cmap='coolwarm',\n",
    "    interpolation=\"nearest\"\n",
    ")\n",
    "\n",
    "for i, cond in enumerate(conditions):\n",
    "    ax = plt.subplot(gs[i])\n",
    "    img = ax.matshow(\n",
    "        piles[cond],\n",
    "        **opts)\n",
    "    ax.xaxis.tick_bottom()\n",
    "    if i > 0:\n",
    "        ax.yaxis.set_visible(False)\n",
    "    plt.title(long_names[cond])\n",
    "\n",
    "ax = plt.subplot(gs[len(conditions)])\n",
    "plt.colorbar(img, cax=ax, extend = 'both')\n",
    "\n",
    "plt.suptitle(f'({flank//1000})kb flank\\n'\n",
    "             f'Hi-C resolution = {binsize//1000}kb; # of pairs = {len(windows)}')\n",
    "\n",
    "fig.savefig(\"/data/alv/CTCF_degron/analysis/for-paper/draft6/int_pileup_by_arm/fig1-int-pileup-CTCFindep-50kb-byarm.pdf\", format=\"pdf\")"
   ]
  },
  {
   "cell_type": "code",
   "execution_count": 19,
   "id": "2aba2f3c",
   "metadata": {},
   "outputs": [
    {
     "data": {
      "text/plain": [
       "0.9012504626108302"
      ]
     },
     "execution_count": 19,
     "metadata": {},
     "output_type": "execute_result"
    }
   ],
   "source": [
    "#to convert previous scale\n",
    "2 ** -0.15"
   ]
  },
  {
   "cell_type": "code",
   "execution_count": null,
   "id": "e940d533",
   "metadata": {},
   "outputs": [],
   "source": []
  },
  {
   "cell_type": "code",
   "execution_count": null,
   "id": "4cfd615a",
   "metadata": {},
   "outputs": [],
   "source": []
  },
  {
   "cell_type": "code",
   "execution_count": null,
   "id": "1329f723",
   "metadata": {},
   "outputs": [],
   "source": []
  }
 ],
 "metadata": {
  "kernelspec": {
   "display_name": "Python 3",
   "language": "python",
   "name": "python3"
  },
  "language_info": {
   "codemirror_mode": {
    "name": "ipython",
    "version": 3
   },
   "file_extension": ".py",
   "mimetype": "text/x-python",
   "name": "python",
   "nbconvert_exporter": "python",
   "pygments_lexer": "ipython3",
   "version": "3.8.8"
  }
 },
 "nbformat": 4,
 "nbformat_minor": 5
}
