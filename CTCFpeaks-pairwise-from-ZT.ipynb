{
 "cells": [
  {
   "cell_type": "code",
   "execution_count": 10,
   "metadata": {},
   "outputs": [
    {
     "name": "stdout",
     "output_type": "stream",
     "text": [
      "/data/alv/CTCF_degron/analysis/ChIPseq/ChIP4/input\n"
     ]
    }
   ],
   "source": [
    "cd /data/alv/CTCF_degron/analysis/ChIPseq/ChIP4/input"
   ]
  },
  {
   "cell_type": "code",
   "execution_count": 11,
   "metadata": {},
   "outputs": [
    {
     "name": "stdout",
     "output_type": "stream",
     "text": [
      "DDX55-newpeaks\r\n",
      "IAA-CTCF-narrowPeaks-sort-merge\r\n",
      "IAA-CTCF-summits-sort-merge-200.bed\r\n",
      "IAA-CTCF-summits-sort-merge-200-merge.bed\r\n",
      "IAA-CTCF-summits-sort-merge.bed\r\n",
      "IAA-DDX55-narrowPeaks-sort-merge\r\n",
      "IAA-DDX55-summits-sort-merge-200.bed\r\n",
      "IAA-DDX55-summits-sort-merge-200-merge.bed\r\n",
      "IAA-DDX55-summits-sort-merge.bed\r\n",
      "IAA-RAD21-narrowPeaks-sort-merge\r\n",
      "IAA-RAD21-summits-sort-merge-200.bed\r\n",
      "IAA-RAD21-summits-sort-merge-200-merge.bed\r\n",
      "IAA-RAD21-summits-sort-merge.bed\r\n",
      "IAA-TAF5L-narrowPeaks-sort-merge\r\n",
      "IAA-TAF5L-summits-sort-merge-200.bed\r\n",
      "IAA-TAF5L-summits-sort-merge-200-merge.bed\r\n",
      "IAA-TAF5L-summits-sort-merge.bed\r\n",
      "NT-CTCF-narrowPeaks-sort-merge\r\n",
      "NT-CTCF-summits-sort-merge-200.bed\r\n",
      "NT-CTCF-summits-sort-merge-200-merge.bed\r\n",
      "NT-CTCF-summits-sort-merge.bed\r\n",
      "NT-CTCF-summits-sort-merge-with-strength.bed\r\n",
      "NT-DDX55-narrowPeaks-sort-merge\r\n",
      "NT-DDX55-summits-sort-merge-200.bed\r\n",
      "NT-DDX55-summits-sort-merge-200-merge.bed\r\n",
      "NT-DDX55-summits-sort-merge.bed\r\n",
      "NT-RAD21-narrowPeaks-sort-merge\r\n",
      "NT-RAD21-summits-sort-merge-200.bed\r\n",
      "NT-RAD21-summits-sort-merge-200-merge.bed\r\n",
      "NT-RAD21-summits-sort-merge.bed\r\n",
      "NT-TAF5L-narrowPeaks-sort-merge\r\n",
      "NT-TAF5L-summits-sort-merge-200.bed\r\n",
      "NT-TAF5L-summits-sort-merge-200-merge.bed\r\n",
      "NT-TAF5L-summits-sort-merge.bed\r\n",
      "RAD21-newpeaks\r\n",
      "RAD21-newpeaks-CpG\r\n",
      "RAD21-newpeaks-promoters\r\n",
      "test\r\n"
     ]
    }
   ],
   "source": [
    "ls"
   ]
  },
  {
   "cell_type": "code",
   "execution_count": 12,
   "metadata": {},
   "outputs": [],
   "source": [
    "import pandas as pd\n",
    "import numpy as np\n",
    "import matplotlib.pyplot as plt\n",
    "%matplotlib inline\n",
    "\n",
    "from bioframe.tools import intersect\n",
    "from bioframe import read_table\n",
    "\n",
    "from itertools import combinations"
   ]
  },
  {
   "cell_type": "code",
   "execution_count": 13,
   "metadata": {},
   "outputs": [],
   "source": [
    "import bioframe\n",
    "chromsizes = bioframe.fetch_chromsizes('hg19')\n",
    "chromosomes = list(chromsizes.index)"
   ]
  },
  {
   "cell_type": "code",
   "execution_count": 17,
   "metadata": {},
   "outputs": [],
   "source": [
    "fnames = [\"NT-CTCF-summits-sort-merge.bed\"]"
   ]
  },
  {
   "cell_type": "code",
   "execution_count": 18,
   "metadata": {},
   "outputs": [],
   "source": [
    "x = read_table(fnames[0],schema='bed')\n",
    "x = x[x.chrom.isin(chromosomes)].reset_index(drop=True)"
   ]
  },
  {
   "cell_type": "code",
   "execution_count": 19,
   "metadata": {},
   "outputs": [
    {
     "name": "stdout",
     "output_type": "stream",
     "text": [
      "37123\n"
     ]
    },
    {
     "data": {
      "text/html": [
       "<div>\n",
       "<style scoped>\n",
       "    .dataframe tbody tr th:only-of-type {\n",
       "        vertical-align: middle;\n",
       "    }\n",
       "\n",
       "    .dataframe tbody tr th {\n",
       "        vertical-align: top;\n",
       "    }\n",
       "\n",
       "    .dataframe thead th {\n",
       "        text-align: right;\n",
       "    }\n",
       "</style>\n",
       "<table border=\"1\" class=\"dataframe\">\n",
       "  <thead>\n",
       "    <tr style=\"text-align: right;\">\n",
       "      <th></th>\n",
       "      <th>chrom</th>\n",
       "      <th>start</th>\n",
       "      <th>end</th>\n",
       "      <th>name</th>\n",
       "      <th>score</th>\n",
       "      <th>strand</th>\n",
       "    </tr>\n",
       "  </thead>\n",
       "  <tbody>\n",
       "    <tr>\n",
       "      <th>0</th>\n",
       "      <td>chr1</td>\n",
       "      <td>10434</td>\n",
       "      <td>10435</td>\n",
       "      <td>NaN</td>\n",
       "      <td>NaN</td>\n",
       "      <td>NaN</td>\n",
       "    </tr>\n",
       "    <tr>\n",
       "      <th>1</th>\n",
       "      <td>chr1</td>\n",
       "      <td>237753</td>\n",
       "      <td>237761</td>\n",
       "      <td>NaN</td>\n",
       "      <td>NaN</td>\n",
       "      <td>NaN</td>\n",
       "    </tr>\n",
       "    <tr>\n",
       "      <th>2</th>\n",
       "      <td>chr1</td>\n",
       "      <td>714190</td>\n",
       "      <td>714191</td>\n",
       "      <td>NaN</td>\n",
       "      <td>NaN</td>\n",
       "      <td>NaN</td>\n",
       "    </tr>\n",
       "    <tr>\n",
       "      <th>3</th>\n",
       "      <td>chr1</td>\n",
       "      <td>714278</td>\n",
       "      <td>714279</td>\n",
       "      <td>NaN</td>\n",
       "      <td>NaN</td>\n",
       "      <td>NaN</td>\n",
       "    </tr>\n",
       "    <tr>\n",
       "      <th>4</th>\n",
       "      <td>chr1</td>\n",
       "      <td>805287</td>\n",
       "      <td>805293</td>\n",
       "      <td>NaN</td>\n",
       "      <td>NaN</td>\n",
       "      <td>NaN</td>\n",
       "    </tr>\n",
       "    <tr>\n",
       "      <th>...</th>\n",
       "      <td>...</td>\n",
       "      <td>...</td>\n",
       "      <td>...</td>\n",
       "      <td>...</td>\n",
       "      <td>...</td>\n",
       "      <td>...</td>\n",
       "    </tr>\n",
       "    <tr>\n",
       "      <th>37118</th>\n",
       "      <td>chrY</td>\n",
       "      <td>13413213</td>\n",
       "      <td>13413214</td>\n",
       "      <td>NaN</td>\n",
       "      <td>NaN</td>\n",
       "      <td>NaN</td>\n",
       "    </tr>\n",
       "    <tr>\n",
       "      <th>37119</th>\n",
       "      <td>chrY</td>\n",
       "      <td>13420940</td>\n",
       "      <td>13420941</td>\n",
       "      <td>NaN</td>\n",
       "      <td>NaN</td>\n",
       "      <td>NaN</td>\n",
       "    </tr>\n",
       "    <tr>\n",
       "      <th>37120</th>\n",
       "      <td>chrY</td>\n",
       "      <td>13636710</td>\n",
       "      <td>13636715</td>\n",
       "      <td>NaN</td>\n",
       "      <td>NaN</td>\n",
       "      <td>NaN</td>\n",
       "    </tr>\n",
       "    <tr>\n",
       "      <th>37121</th>\n",
       "      <td>chrY</td>\n",
       "      <td>58968568</td>\n",
       "      <td>58968569</td>\n",
       "      <td>NaN</td>\n",
       "      <td>NaN</td>\n",
       "      <td>NaN</td>\n",
       "    </tr>\n",
       "    <tr>\n",
       "      <th>37122</th>\n",
       "      <td>chrY</td>\n",
       "      <td>59001967</td>\n",
       "      <td>59001968</td>\n",
       "      <td>NaN</td>\n",
       "      <td>NaN</td>\n",
       "      <td>NaN</td>\n",
       "    </tr>\n",
       "  </tbody>\n",
       "</table>\n",
       "<p>37123 rows × 6 columns</p>\n",
       "</div>"
      ],
      "text/plain": [
       "      chrom     start       end  name  score  strand\n",
       "0      chr1     10434     10435   NaN    NaN     NaN\n",
       "1      chr1    237753    237761   NaN    NaN     NaN\n",
       "2      chr1    714190    714191   NaN    NaN     NaN\n",
       "3      chr1    714278    714279   NaN    NaN     NaN\n",
       "4      chr1    805287    805293   NaN    NaN     NaN\n",
       "...     ...       ...       ...   ...    ...     ...\n",
       "37118  chrY  13413213  13413214   NaN    NaN     NaN\n",
       "37119  chrY  13420940  13420941   NaN    NaN     NaN\n",
       "37120  chrY  13636710  13636715   NaN    NaN     NaN\n",
       "37121  chrY  58968568  58968569   NaN    NaN     NaN\n",
       "37122  chrY  59001967  59001968   NaN    NaN     NaN\n",
       "\n",
       "[37123 rows x 6 columns]"
      ]
     },
     "execution_count": 19,
     "metadata": {},
     "output_type": "execute_result"
    }
   ],
   "source": [
    "print(len(x))\n",
    "x"
   ]
  },
  {
   "cell_type": "code",
   "execution_count": 10,
   "metadata": {},
   "outputs": [],
   "source": [
    "bedpes = []\n",
    "\n",
    "gsep_min=200000\n",
    "gsep_max=400000\n",
    "df = x\n",
    "\n",
    "for chrom in chromosomes[:-2]:\n",
    "    # create pairwise combinations of indices of CTCF peaks for a given chrom:\n",
    "    pairwise_index = pd.DataFrame(list(combinations(df.index[df['chrom']==chrom],2)))\n",
    "    # left,right  of BEDPE ...\n",
    "    left=df.iloc[pairwise_index[0]].reset_index(drop=True)[[\"chrom\",\"start\",\"end\"]]\n",
    "    right=df.iloc[pairwise_index[1]].reset_index(drop=True)[[\"chrom\",\"start\",'end']]\n",
    "    # concat them ...\n",
    "    cols = [\"chrom1\",\"start1\",\"end1\",\"chrom2\",\"start2\",\"end2\"]\n",
    "    bedpe = pd.concat([left,right],ignore_index=True,axis=1).rename(dict(enumerate(cols)),axis=1)\n",
    "    # assert distances:\n",
    "    genomic_seps = bedpe['start2']-bedpe['start1']\n",
    "    #assert (genomic_seps>=0).all()\n",
    "    # accumulate\n",
    "    \n",
    "    bedpes.append(bedpe[(genomic_seps>gsep_min)&(genomic_seps<gsep_max)])\n",
    "\n",
    "bedpe_fin = pd.concat(bedpes, ignore_index=True)\n",
    "bedpe_fin.to_csv(\"/data/alv/CTCF_degron/analysis/for-paper/draft4/figure2bis/dots/mao/G4-pairwise-200-400kb.bedpe\")"
   ]
  },
  {
   "cell_type": "code",
   "execution_count": 11,
   "metadata": {},
   "outputs": [],
   "source": [
    "fff = [\"G4-pairwise-200-400kb.bedpe\",\n",
    "]\n",
    "\n",
    "for f in fff:\n",
    "    df = pd.read_csv(\"/data/alv/CTCF_degron/analysis/for-paper/draft4/figure2bis/dots/mao/\"+f,index_col=0)\n",
    "    df.to_csv(\"/data/alv/CTCF_degron/analysis/for-paper/draft4/figure2bis/dots/mao/\"+f+\".tsv\",index=False,sep='\\t')"
   ]
  },
  {
   "cell_type": "code",
   "execution_count": null,
   "metadata": {},
   "outputs": [],
   "source": []
  }
 ],
 "metadata": {
  "kernelspec": {
   "display_name": "Python 3",
   "language": "python",
   "name": "python3"
  },
  "language_info": {
   "codemirror_mode": {
    "name": "ipython",
    "version": 3
   },
   "file_extension": ".py",
   "mimetype": "text/x-python",
   "name": "python",
   "nbconvert_exporter": "python",
   "pygments_lexer": "ipython3",
   "version": "3.8.5"
  }
 },
 "nbformat": 4,
 "nbformat_minor": 2
}
