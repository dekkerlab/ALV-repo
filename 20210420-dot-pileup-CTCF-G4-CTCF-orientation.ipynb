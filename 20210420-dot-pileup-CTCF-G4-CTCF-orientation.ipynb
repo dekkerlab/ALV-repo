{
 "cells": [
  {
   "cell_type": "code",
   "execution_count": 1,
   "metadata": {},
   "outputs": [
    {
     "data": {
      "application/javascript": [
       "require([\"codemirror/keymap/sublime\", \"notebook/js/cell\", \"base/js/namespace\"],\n",
       "    function(sublime_keymap, cell, IPython) {\n",
       "        cell.Cell.options_default.cm_config.keyMap = 'sublime';\n",
       "        var cells = IPython.notebook.get_cells();\n",
       "        for(var cl=0; cl< cells.length ; cl++){\n",
       "            cells[cl].code_mirror.setOption('keyMap', 'sublime');\n",
       "        }\n",
       "    }\n",
       ");\n"
      ],
      "text/plain": [
       "<IPython.core.display.Javascript object>"
      ]
     },
     "metadata": {},
     "output_type": "display_data"
    }
   ],
   "source": [
    "%%javascript\n",
    "require([\"codemirror/keymap/sublime\", \"notebook/js/cell\", \"base/js/namespace\"],\n",
    "    function(sublime_keymap, cell, IPython) {\n",
    "        cell.Cell.options_default.cm_config.keyMap = 'sublime';\n",
    "        var cells = IPython.notebook.get_cells();\n",
    "        for(var cl=0; cl< cells.length ; cl++){\n",
    "            cells[cl].code_mirror.setOption('keyMap', 'sublime');\n",
    "        }\n",
    "    }\n",
    ");"
   ]
  },
  {
   "cell_type": "code",
   "execution_count": 2,
   "metadata": {},
   "outputs": [
    {
     "data": {
      "text/html": [
       "<style>.container { width:85% !important; }</style>"
      ],
      "text/plain": [
       "<IPython.core.display.HTML object>"
      ]
     },
     "metadata": {},
     "output_type": "display_data"
    }
   ],
   "source": [
    "# change the cell width\n",
    "from IPython.core.display import display, HTML\n",
    "display(HTML(\"<style>.container { width:85% !important; }</style>\"))"
   ]
  },
  {
   "cell_type": "code",
   "execution_count": 36,
   "metadata": {},
   "outputs": [
    {
     "name": "stdout",
     "output_type": "stream",
     "text": [
      "The autoreload extension is already loaded. To reload it, use:\n",
      "  %reload_ext autoreload\n"
     ]
    }
   ],
   "source": [
    "%load_ext autoreload\n",
    "%autoreload 2\n",
    "%matplotlib inline\n",
    "%config InlineBackend.print_figure_kwargs={'facecolor' : \"w\"}\n",
    "import warnings\n",
    "warnings.filterwarnings('ignore')\n",
    "from more_itertools import chunked\n",
    "from pathlib import Path\n",
    "# import all samples as dictionary ...\n",
    "from samples import *"
   ]
  },
  {
   "cell_type": "code",
   "execution_count": null,
   "metadata": {},
   "outputs": [],
   "source": [
    "import os\n",
    "os.environ[\"MKL_NUM_THREADS\"] = \"1\" \n",
    "os.environ[\"NUMEXPR_NUM_THREADS\"] = \"1\" \n",
    "os.environ[\"OMP_NUM_THREADS\"] = \"1\" "
   ]
  },
  {
   "cell_type": "code",
   "execution_count": 4,
   "metadata": {},
   "outputs": [],
   "source": [
    "# %matplotlib inline\n",
    "import matplotlib.pyplot as plt\n",
    "import matplotlib as mpl\n",
    "mpl.style.use('seaborn-white')\n",
    "import seaborn as sns\n",
    "import multiprocess as mp\n",
    "import numpy as np\n",
    "import pandas as pd\n",
    "import bioframe\n",
    "import cooltools\n",
    "import cooler\n",
    "from matplotlib.gridspec import GridSpec\n",
    "import bbi\n",
    "from cooltools import snipping"
   ]
  },
  {
   "cell_type": "code",
   "execution_count": 45,
   "metadata": {},
   "outputs": [],
   "source": [
    "# Use bioframe to fetch the genomic features from the UCSC.\n",
    "hg19_chromsizes = bioframe.fetch_chromsizes('hg19', as_bed=True)\n",
    "hg19_cens = bioframe.fetch_centromeres('hg19')\n",
    "hg19_arms = bioframe.split(hg19_chromsizes, hg19_cens, cols_points=['chrom', 'mid'])\n",
    "\n",
    "# Select only chromosomes that are present in the cooler. \n",
    "# This step is typically not required! we call it only because the test data are reduced. \n",
    "hg19_chromsizes = hg19_chromsizes.set_index(\"chrom\").loc[autosomal_chroms].reset_index() \n",
    "hg19_arms = hg19_arms.set_index(\"chrom\").loc[autosomal_chroms].reset_index()\n",
    "# call this to automaticly assign names to chromosomal arms:\n",
    "hg19_arms = bioframe.parse_regions(hg19_arms)\n",
    "hg19_arms[\"name\"] = [f\"{chrom}{arm}\" for chrom in autosomal_chroms for arm in list('pq')]\n",
    "hg19_arms.to_csv(\"hg19_arms.bed\",sep=\"\\t\",index=False,header=False)"
   ]
  },
  {
   "cell_type": "code",
   "execution_count": 47,
   "metadata": {},
   "outputs": [],
   "source": [
    "conditions = ['442-NT','442-IAA']\n",
    "binsize = 2000\n",
    "binsize_human = f\"{int(binsize/1_000)}kb\"\n",
    "\n",
    "cooler_paths = {    \n",
    "    '442-NT' : f'CkoCT442-NT-pool.mcool::resolutions/{binsize}',\n",
    "    '442-IAA' : f'CkoCT442-IAA-pool.mcool::resolutions/{binsize}',\n",
    "}\n",
    "long_names = {\n",
    "    '442-NT' : 'CTCFdegron-442-nontreated-pool',\n",
    "    '442-IAA': 'CTCFdegron-442-auxin-pool',\n",
    "}\n",
    "\n",
    "pal = sns.color_palette('colorblind')\n",
    "colors = {\n",
    "    '442-NT': \"#e74c3c\",\n",
    "    '442-IAA': pal[2],\n",
    "}\n",
    "clrs = {\n",
    "    cond: cooler.Cooler(cooler_paths[cond]) for cond in conditions\n",
    "}"
   ]
  },
  {
   "cell_type": "code",
   "execution_count": 74,
   "metadata": {
    "scrolled": true
   },
   "outputs": [
    {
     "name": "stdout",
     "output_type": "stream",
     "text": [
      "already exist !\n",
      "CkoCT442-NT-pool.2kb.cis.exp.tsv\n",
      "already exist !\n",
      "CkoCT442-IAA-pool.2kb.cis.exp.tsv\n"
     ]
    }
   ],
   "source": [
    "# iterate over samples to calculate insulation on:\n",
    "for cond in conditions:\n",
    "    lname,*_ = cooler_paths[cond].split(\".mcool\")\n",
    "    target_exp_file = Path(f\"{lname}.{binsize_human}.cis.exp.tsv\")\n",
    "    if target_exp_file.is_file():\n",
    "        print(\"already exist !\")\n",
    "        print(target_exp_file)\n",
    "        continue\n",
    "    else:\n",
    "        print(\"working on ...\")\n",
    "        print(cond,lname)\n",
    "        ######################################\n",
    "        !cooltools compute-expected \\\n",
    "            --nproc 4 \\\n",
    "            --output {target_exp_file} \\\n",
    "            --regions hg19_arms.bed \\\n",
    "            --contact-type cis \\\n",
    "            --balance \\\n",
    "            --weight-name weight \\\n",
    "            --ignore-diags 2 \\\n",
    "            {cooler_paths[cond]}\n",
    "        ######################################\n"
   ]
  },
  {
   "cell_type": "code",
   "execution_count": 83,
   "metadata": {},
   "outputs": [],
   "source": [
    "expected_paths = {    \n",
    "    '442-NT' : f'CkoCT442-NT-pool.{binsize_human}.cis.exp.tsv',\n",
    "    '442-IAA' : f'CkoCT442-IAA-pool.{binsize_human}.cis.exp.tsv',\n",
    "}\n",
    "expecteds = {\n",
    "    cond: pd.read_csv(expected_paths[cond],sep=\"\\t\") for cond in conditions\n",
    "}"
   ]
  },
  {
   "cell_type": "code",
   "execution_count": 84,
   "metadata": {},
   "outputs": [
    {
     "name": "stdout",
     "output_type": "stream",
     "text": [
      "7543\n"
     ]
    },
    {
     "data": {
      "text/html": [
       "<div>\n",
       "<style scoped>\n",
       "    .dataframe tbody tr th:only-of-type {\n",
       "        vertical-align: middle;\n",
       "    }\n",
       "\n",
       "    .dataframe tbody tr th {\n",
       "        vertical-align: top;\n",
       "    }\n",
       "\n",
       "    .dataframe thead th {\n",
       "        text-align: right;\n",
       "    }\n",
       "</style>\n",
       "<table border=\"1\" class=\"dataframe\">\n",
       "  <thead>\n",
       "    <tr style=\"text-align: right;\">\n",
       "      <th></th>\n",
       "      <th>chrom1</th>\n",
       "      <th>start1</th>\n",
       "      <th>end1</th>\n",
       "      <th>chrom2</th>\n",
       "      <th>start2</th>\n",
       "      <th>end2</th>\n",
       "    </tr>\n",
       "  </thead>\n",
       "  <tbody>\n",
       "    <tr>\n",
       "      <th>0</th>\n",
       "      <td>chr1</td>\n",
       "      <td>875596</td>\n",
       "      <td>875897</td>\n",
       "      <td>chr1</td>\n",
       "      <td>1243959</td>\n",
       "      <td>1243964</td>\n",
       "    </tr>\n",
       "    <tr>\n",
       "      <th>1</th>\n",
       "      <td>chr1</td>\n",
       "      <td>875596</td>\n",
       "      <td>875897</td>\n",
       "      <td>chr1</td>\n",
       "      <td>1260181</td>\n",
       "      <td>1260186</td>\n",
       "    </tr>\n",
       "    <tr>\n",
       "      <th>2</th>\n",
       "      <td>chr1</td>\n",
       "      <td>919017</td>\n",
       "      <td>919979</td>\n",
       "      <td>chr1</td>\n",
       "      <td>1243959</td>\n",
       "      <td>1243964</td>\n",
       "    </tr>\n",
       "    <tr>\n",
       "      <th>3</th>\n",
       "      <td>chr1</td>\n",
       "      <td>919017</td>\n",
       "      <td>919979</td>\n",
       "      <td>chr1</td>\n",
       "      <td>1260181</td>\n",
       "      <td>1260186</td>\n",
       "    </tr>\n",
       "    <tr>\n",
       "      <th>4</th>\n",
       "      <td>chr1</td>\n",
       "      <td>1057249</td>\n",
       "      <td>1057885</td>\n",
       "      <td>chr1</td>\n",
       "      <td>1371069</td>\n",
       "      <td>1371074</td>\n",
       "    </tr>\n",
       "  </tbody>\n",
       "</table>\n",
       "</div>"
      ],
      "text/plain": [
       "  chrom1   start1     end1 chrom2   start2     end2\n",
       "0   chr1   875596   875897   chr1  1243959  1243964\n",
       "1   chr1   875596   875897   chr1  1260181  1260186\n",
       "2   chr1   919017   919979   chr1  1243959  1243964\n",
       "3   chr1   919017   919979   chr1  1260181  1260186\n",
       "4   chr1  1057249  1057885   chr1  1371069  1371074"
      ]
     },
     "execution_count": 84,
     "metadata": {},
     "output_type": "execute_result"
    }
   ],
   "source": [
    "#CTCF-only pairwise\n",
    "anchor_dist = 50000\n",
    "anchor_flank = 2000\n",
    "sites = pd.read_table('upstreamCTCF_pTSS.bedpe', delimiter='\\t')\n",
    "#, names=[\"chrom1\", \"start1\", \"end1\",\"chrom2\",\"start2\", \"end2\", \"score\"])\n",
    "print(len(sites))\n",
    "sites.head()"
   ]
  },
  {
   "cell_type": "code",
   "execution_count": 85,
   "metadata": {},
   "outputs": [
    {
     "data": {
      "text/html": [
       "<div>\n",
       "<style scoped>\n",
       "    .dataframe tbody tr th:only-of-type {\n",
       "        vertical-align: middle;\n",
       "    }\n",
       "\n",
       "    .dataframe tbody tr th {\n",
       "        vertical-align: top;\n",
       "    }\n",
       "\n",
       "    .dataframe thead th {\n",
       "        text-align: right;\n",
       "    }\n",
       "</style>\n",
       "<table border=\"1\" class=\"dataframe\">\n",
       "  <thead>\n",
       "    <tr style=\"text-align: right;\">\n",
       "      <th></th>\n",
       "      <th>chrom1</th>\n",
       "      <th>start1</th>\n",
       "      <th>end1</th>\n",
       "      <th>chrom2</th>\n",
       "      <th>start2</th>\n",
       "      <th>end2</th>\n",
       "      <th>mid1</th>\n",
       "      <th>mid2</th>\n",
       "    </tr>\n",
       "  </thead>\n",
       "  <tbody>\n",
       "    <tr>\n",
       "      <th>0</th>\n",
       "      <td>chr1</td>\n",
       "      <td>875596</td>\n",
       "      <td>875897</td>\n",
       "      <td>chr1</td>\n",
       "      <td>1243959</td>\n",
       "      <td>1243964</td>\n",
       "      <td>875746.5</td>\n",
       "      <td>1243961.5</td>\n",
       "    </tr>\n",
       "    <tr>\n",
       "      <th>1</th>\n",
       "      <td>chr1</td>\n",
       "      <td>875596</td>\n",
       "      <td>875897</td>\n",
       "      <td>chr1</td>\n",
       "      <td>1260181</td>\n",
       "      <td>1260186</td>\n",
       "      <td>875746.5</td>\n",
       "      <td>1260183.5</td>\n",
       "    </tr>\n",
       "    <tr>\n",
       "      <th>2</th>\n",
       "      <td>chr1</td>\n",
       "      <td>919017</td>\n",
       "      <td>919979</td>\n",
       "      <td>chr1</td>\n",
       "      <td>1243959</td>\n",
       "      <td>1243964</td>\n",
       "      <td>919498.0</td>\n",
       "      <td>1243961.5</td>\n",
       "    </tr>\n",
       "    <tr>\n",
       "      <th>3</th>\n",
       "      <td>chr1</td>\n",
       "      <td>919017</td>\n",
       "      <td>919979</td>\n",
       "      <td>chr1</td>\n",
       "      <td>1260181</td>\n",
       "      <td>1260186</td>\n",
       "      <td>919498.0</td>\n",
       "      <td>1260183.5</td>\n",
       "    </tr>\n",
       "    <tr>\n",
       "      <th>4</th>\n",
       "      <td>chr1</td>\n",
       "      <td>1057249</td>\n",
       "      <td>1057885</td>\n",
       "      <td>chr1</td>\n",
       "      <td>1371069</td>\n",
       "      <td>1371074</td>\n",
       "      <td>1057567.0</td>\n",
       "      <td>1371071.5</td>\n",
       "    </tr>\n",
       "  </tbody>\n",
       "</table>\n",
       "</div>"
      ],
      "text/plain": [
       "  chrom1   start1     end1 chrom2   start2     end2       mid1       mid2\n",
       "0   chr1   875596   875897   chr1  1243959  1243964   875746.5  1243961.5\n",
       "1   chr1   875596   875897   chr1  1260181  1260186   875746.5  1260183.5\n",
       "2   chr1   919017   919979   chr1  1243959  1243964   919498.0  1243961.5\n",
       "3   chr1   919017   919979   chr1  1260181  1260186   919498.0  1260183.5\n",
       "4   chr1  1057249  1057885   chr1  1371069  1371074  1057567.0  1371071.5"
      ]
     },
     "execution_count": 85,
     "metadata": {},
     "output_type": "execute_result"
    }
   ],
   "source": [
    "sites['mid1'] = (sites['start1'] + sites['end1'])/2\n",
    "sites['mid2'] = (sites['start2'] + sites['end2'])/2\n",
    "sites.head()"
   ]
  },
  {
   "cell_type": "code",
   "execution_count": 86,
   "metadata": {},
   "outputs": [
    {
     "data": {
      "text/html": [
       "<div>\n",
       "<style scoped>\n",
       "    .dataframe tbody tr th:only-of-type {\n",
       "        vertical-align: middle;\n",
       "    }\n",
       "\n",
       "    .dataframe tbody tr th {\n",
       "        vertical-align: top;\n",
       "    }\n",
       "\n",
       "    .dataframe thead th {\n",
       "        text-align: right;\n",
       "    }\n",
       "</style>\n",
       "<table border=\"1\" class=\"dataframe\">\n",
       "  <thead>\n",
       "    <tr style=\"text-align: right;\">\n",
       "      <th></th>\n",
       "      <th>chrom1</th>\n",
       "      <th>start1</th>\n",
       "      <th>end1</th>\n",
       "      <th>lo1</th>\n",
       "      <th>hi1</th>\n",
       "      <th>chrom2</th>\n",
       "      <th>start2</th>\n",
       "      <th>end2</th>\n",
       "      <th>lo2</th>\n",
       "      <th>hi2</th>\n",
       "      <th>region</th>\n",
       "    </tr>\n",
       "  </thead>\n",
       "  <tbody>\n",
       "    <tr>\n",
       "      <th>0</th>\n",
       "      <td>chr1</td>\n",
       "      <td>824000</td>\n",
       "      <td>926000</td>\n",
       "      <td>412</td>\n",
       "      <td>463</td>\n",
       "      <td>chr1</td>\n",
       "      <td>1192000</td>\n",
       "      <td>1294000</td>\n",
       "      <td>596</td>\n",
       "      <td>647</td>\n",
       "      <td>chr1p</td>\n",
       "    </tr>\n",
       "    <tr>\n",
       "      <th>1</th>\n",
       "      <td>chr1</td>\n",
       "      <td>824000</td>\n",
       "      <td>926000</td>\n",
       "      <td>412</td>\n",
       "      <td>463</td>\n",
       "      <td>chr1</td>\n",
       "      <td>1210000</td>\n",
       "      <td>1312000</td>\n",
       "      <td>605</td>\n",
       "      <td>656</td>\n",
       "      <td>chr1p</td>\n",
       "    </tr>\n",
       "    <tr>\n",
       "      <th>2</th>\n",
       "      <td>chr1</td>\n",
       "      <td>868000</td>\n",
       "      <td>970000</td>\n",
       "      <td>434</td>\n",
       "      <td>485</td>\n",
       "      <td>chr1</td>\n",
       "      <td>1192000</td>\n",
       "      <td>1294000</td>\n",
       "      <td>596</td>\n",
       "      <td>647</td>\n",
       "      <td>chr1p</td>\n",
       "    </tr>\n",
       "    <tr>\n",
       "      <th>3</th>\n",
       "      <td>chr1</td>\n",
       "      <td>868000</td>\n",
       "      <td>970000</td>\n",
       "      <td>434</td>\n",
       "      <td>485</td>\n",
       "      <td>chr1</td>\n",
       "      <td>1210000</td>\n",
       "      <td>1312000</td>\n",
       "      <td>605</td>\n",
       "      <td>656</td>\n",
       "      <td>chr1p</td>\n",
       "    </tr>\n",
       "    <tr>\n",
       "      <th>4</th>\n",
       "      <td>chr1</td>\n",
       "      <td>1006000</td>\n",
       "      <td>1108000</td>\n",
       "      <td>503</td>\n",
       "      <td>554</td>\n",
       "      <td>chr1</td>\n",
       "      <td>1320000</td>\n",
       "      <td>1422000</td>\n",
       "      <td>660</td>\n",
       "      <td>711</td>\n",
       "      <td>chr1p</td>\n",
       "    </tr>\n",
       "  </tbody>\n",
       "</table>\n",
       "</div>"
      ],
      "text/plain": [
       "  chrom1   start1     end1  lo1  hi1 chrom2   start2     end2  lo2  hi2 region\n",
       "0   chr1   824000   926000  412  463   chr1  1192000  1294000  596  647  chr1p\n",
       "1   chr1   824000   926000  412  463   chr1  1210000  1312000  605  656  chr1p\n",
       "2   chr1   868000   970000  434  485   chr1  1192000  1294000  596  647  chr1p\n",
       "3   chr1   868000   970000  434  485   chr1  1210000  1312000  605  656  chr1p\n",
       "4   chr1  1006000  1108000  503  554   chr1  1320000  1422000  660  711  chr1p"
      ]
     },
     "execution_count": 86,
     "metadata": {},
     "output_type": "execute_result"
    }
   ],
   "source": [
    "snippet_flank = 50000\n",
    "windows1 = snipping.make_bin_aligned_windows(\n",
    "    binsize, \n",
    "    sites['chrom1'], \n",
    "    sites['mid1'],\n",
    "    flank_bp=snippet_flank)\n",
    "\n",
    "windows2 = snipping.make_bin_aligned_windows(\n",
    "    binsize, \n",
    "    sites['chrom2'], \n",
    "    sites['mid2'],\n",
    "    flank_bp=snippet_flank)\n",
    "\n",
    "windows = pd.merge(windows1, windows2, left_index=True, right_index=True, suffixes=('1', '2'))\n",
    "windows = snipping.assign_regions(windows, hg19_arms)\n",
    "windows = windows.dropna()\n",
    "windows.head()"
   ]
  },
  {
   "cell_type": "code",
   "execution_count": 87,
   "metadata": {},
   "outputs": [],
   "source": [
    "stacks = {}\n",
    "piles = {}\n",
    "for cond in conditions:\n",
    "    snipper = snipping.ObsExpSnipper(clrs[cond], expecteds[cond], regions=hg19_arms)\n",
    "    stack = snipping.pileup(windows, snipper.select, snipper.snip)\n",
    "    stacks[cond] = stack\n",
    "    piles[cond] = np.nanmean(stack, axis=2)"
   ]
  },
  {
   "cell_type": "code",
   "execution_count": 96,
   "metadata": {},
   "outputs": [],
   "source": [
    "from matplotlib.colors import LogNorm\n",
    "class MidPointLogNorm(LogNorm):\n",
    "    def __init__(self, vmin=None, vmax=None, midpoint=None, clip=False):\n",
    "        LogNorm.__init__(self,vmin=vmin, vmax=vmax, clip=clip)\n",
    "        self.midpoint=midpoint\n",
    "    def __call__(self, value, clip=None):\n",
    "        result, is_scalar = self.process_value(value)\n",
    "        x, y = [np.log(self.vmin), np.log(self.midpoint), np.log(self.vmax)], [0, 0.5, 1]\n",
    "        return np.ma.array(np.interp(np.log(value), x, y), mask=result.mask, copy=False)\n"
   ]
  },
  {
   "cell_type": "code",
   "execution_count": 117,
   "metadata": {
    "scrolled": false
   },
   "outputs": [
    {
     "data": {
      "text/plain": [
       "Text(0.5, 0.98, '(50 +/- 2)kb apart\\nHi-C resolution = 2kb; # of pairs = 7543')"
      ]
     },
     "execution_count": 117,
     "metadata": {},
     "output_type": "execute_result"
    },
    {
     "data": {
      "image/png": "[encoded data removed]",
      "text/plain": [
       "<Figure size 864x432 with 3 Axes>"
      ]
     },
     "metadata": {
      "needs_background": "light"
     },
     "output_type": "display_data"
    }
   ],
   "source": [
    "gs = plt.GridSpec(nrows=1, ncols=len(conditions) + 1, width_ratios=[20] * len(conditions) + [1])\n",
    "fig = plt.figure(figsize=(6 * len(conditions), 6))\n",
    "\n",
    "opts = dict(\n",
    "    norm = MidPointLogNorm(vmin=0.82,vmax=1.4,midpoint=1),\n",
    "    extent=[-snippet_flank//1000, snippet_flank//1000, -snippet_flank//1000, snippet_flank//1000],\n",
    "    cmap='RdBu_r',\n",
    "    interpolation=\"nearest\"\n",
    ")\n",
    "\n",
    "for i, cond in enumerate(conditions):\n",
    "    ax = plt.subplot(gs[i])\n",
    "    img = ax.matshow(\n",
    "        piles[cond],\n",
    "        **opts)\n",
    "    ax.xaxis.tick_bottom()\n",
    "    if i > 0:\n",
    "        ax.yaxis.set_visible(False)\n",
    "    plt.title(long_names[cond])\n",
    "\n",
    "ax = plt.subplot(gs[len(conditions)])\n",
    "plt.colorbar(img, cax=ax)\n",
    "\n",
    "plt.suptitle(f'({anchor_dist//1000} +/- {anchor_flank//1000})kb apart\\n'\n",
    "             f'Hi-C resolution = {binsize//1000}kb; # of pairs = {len(windows)}')"
   ]
  },
  {
   "cell_type": "code",
   "execution_count": null,
   "metadata": {},
   "outputs": [],
   "source": []
  }
 ],
 "metadata": {
  "kernelspec": {
   "display_name": "Python 3",
   "language": "python",
   "name": "python3"
  },
  "language_info": {
   "codemirror_mode": {
    "name": "ipython",
    "version": 3
   },
   "file_extension": ".py",
   "mimetype": "text/x-python",
   "name": "python",
   "nbconvert_exporter": "python",
   "pygments_lexer": "ipython3",
   "version": "3.8.5"
  }
 },
 "nbformat": 4,
 "nbformat_minor": 2
}
