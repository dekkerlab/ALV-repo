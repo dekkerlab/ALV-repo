{
 "cells": [
  {
   "cell_type": "code",
   "execution_count": 1,
   "id": "modular-nicaragua",
   "metadata": {},
   "outputs": [
    {
     "data": {
      "application/javascript": [
       "require([\"codemirror/keymap/sublime\", \"notebook/js/cell\", \"base/js/namespace\"],\n",
       "    function(sublime_keymap, cell, IPython) {\n",
       "        cell.Cell.options_default.cm_config.keyMap = 'sublime';\n",
       "        var cells = IPython.notebook.get_cells();\n",
       "        for(var cl=0; cl< cells.length ; cl++){\n",
       "            cells[cl].code_mirror.setOption('keyMap', 'sublime');\n",
       "        }\n",
       "    }\n",
       ");\n"
      ],
      "text/plain": [
       "<IPython.core.display.Javascript object>"
      ]
     },
     "metadata": {},
     "output_type": "display_data"
    }
   ],
   "source": [
    "%%javascript\n",
    "require([\"codemirror/keymap/sublime\", \"notebook/js/cell\", \"base/js/namespace\"],\n",
    "    function(sublime_keymap, cell, IPython) {\n",
    "        cell.Cell.options_default.cm_config.keyMap = 'sublime';\n",
    "        var cells = IPython.notebook.get_cells();\n",
    "        for(var cl=0; cl< cells.length ; cl++){\n",
    "            cells[cl].code_mirror.setOption('keyMap', 'sublime');\n",
    "        }\n",
    "    }\n",
    ");"
   ]
  },
  {
   "cell_type": "code",
   "execution_count": 2,
   "id": "foster-arthur",
   "metadata": {},
   "outputs": [
    {
     "data": {
      "text/html": [
       "<style>.container { width:85% !important; }</style>"
      ],
      "text/plain": [
       "<IPython.core.display.HTML object>"
      ]
     },
     "metadata": {},
     "output_type": "display_data"
    }
   ],
   "source": [
    "# change the cell width\n",
    "from IPython.core.display import display, HTML\n",
    "display(HTML(\"<style>.container { width:85% !important; }</style>\"))"
   ]
  },
  {
   "cell_type": "code",
   "execution_count": 3,
   "id": "champion-acting",
   "metadata": {},
   "outputs": [],
   "source": [
    "%load_ext autoreload\n",
    "%autoreload 2\n",
    "%matplotlib inline\n",
    "%config InlineBackend.print_figure_kwargs={'facecolor' : \"w\"}\n",
    "import warnings\n",
    "warnings.filterwarnings('ignore')\n",
    "from more_itertools import chunked\n",
    "# import all relevant func and modules from a companion .py file\n",
    "from supp_lib import *\n",
    "# import all samples as dictionary ...\n",
    "from samples import *"
   ]
  },
  {
   "cell_type": "code",
   "execution_count": 4,
   "id": "prepared-basin",
   "metadata": {},
   "outputs": [],
   "source": [
    "# let's start with the super useful intro on how to extract a BED file with gene annotation from HiGlass docs ...\n",
    "# https://docs.higlass.io/data_preparation.html#gene-annotation-tracks"
   ]
  },
  {
   "cell_type": "code",
   "execution_count": 5,
   "id": "lesbian-tragedy",
   "metadata": {},
   "outputs": [],
   "source": [
    "ASSEMBLY=\"hg19\"\n",
    "TAXID=9606\n",
    "DATADIR=\"./gene_annot_data\"\n"
   ]
  },
  {
   "cell_type": "markdown",
   "id": "grateful-submission",
   "metadata": {},
   "source": [
    "### let's download some refseq, gene info and stuff"
   ]
  },
  {
   "cell_type": "code",
   "execution_count": 6,
   "id": "religious-cooling",
   "metadata": {},
   "outputs": [],
   "source": [
    "# %%bash\n",
    "# DATADIR=./gene_annot_data\n",
    "# mkdir -p $DATADIR\n",
    "# mkdir -p $DATADIR/genbank\n",
    "# wget -N -P $DATADIR ftp://ftp.ncbi.nlm.nih.gov/gene/DATA/gene2refseq.gz\n",
    "# wget -N -P $DATADIR ftp://ftp.ncbi.nlm.nih.gov/gene/DATA/gene_info.gz\n",
    "# wget -N -P $DATADIR ftp://ftp.ncbi.nlm.nih.gov/gene/DATA/gene2pubmed.gz\n"
   ]
  },
  {
   "cell_type": "markdown",
   "id": "initial-answer",
   "metadata": {},
   "source": [
    "## Download data from UCSC and NCBI"
   ]
  },
  {
   "cell_type": "code",
   "execution_count": 446,
   "id": "crude-market",
   "metadata": {},
   "outputs": [],
   "source": [
    "%%bash -s \"$ASSEMBLY\" \"$TAXID\" \"$DATADIR\"\n",
    "ASSEMBLY=$1\n",
    "TAXID=$2\n",
    "DATADIR=$3\n",
    "# # Download UCSC refGene database for assembly of interest\n",
    "# mkdir $DATADIR/$ASSEMBLY\n",
    "# # wget -N -P $DATADIR/$ASSEMBLY/ http://hgdownload.cse.ucsc.edu/goldenPath/$ASSEMBLY/database/refGene.txt.gz\n",
    "\n",
    "# # Filter genbank data for species of interest\n",
    "# zcat $DATADIR/gene2refseq.gz | grep ^${TAXID} > $DATADIR/$ASSEMBLY/gene2refseq\n",
    "zcat $DATADIR/gene_info.gz | grep ^${TAXID} | sort -k 2b,2 > $DATADIR/$ASSEMBLY/gene_info # gene-centric\n",
    "# zcat $DATADIR/gene2pubmed.gz | grep ^${TAXID} > $DATADIR/$ASSEMBLY/gene2pubmed\n",
    "\n",
    "# Sort\n",
    "# Optional: filter out unplaced and unlocalized scaffolds (which have a \"_\" in the chrom name)\n",
    "zcat $DATADIR/$ASSEMBLY/refGene.txt.gz \\\n",
    "    | awk -F $'\\t' '{if (!($3 ~ /_/)) print;}' \\\n",
    "    | sort -k 2b,2 \\\n",
    "    > $DATADIR/$ASSEMBLY/refGene_sorted\n",
    "\n",
    "# read about the compatibility of sort and join here:\n",
    "# https://www.gnu.org/software/coreutils/manual/html_node/Sorting-files-for-join.html\n",
    "# to join reliably and without warnings, input files have to sorted a certain way"
   ]
  },
  {
   "cell_type": "markdown",
   "id": "optical-structure",
   "metadata": {},
   "source": [
    "## Get full model and citation count for each gene"
   ]
  },
  {
   "cell_type": "code",
   "execution_count": 455,
   "id": "polar-mobile",
   "metadata": {
    "scrolled": false
   },
   "outputs": [
    {
     "name": "stdout",
     "output_type": "stream",
     "text": [
      "uniq RefSeq entries in geneid_refseqid ...\n",
      "168138\n",
      "uniq gene_id entries in geneid_refseqid ...\n",
      "38723\n",
      "uniq gene_id entries in geneid_refseqid_count ...\n",
      "38723\n",
      "uniq gene_id entries in geneid_refGene_count ...\n",
      "28228\n"
     ]
    }
   ],
   "source": [
    "%%bash -s  \"$ASSEMBLY\" \"$TAXID\" \"$DATADIR\"\n",
    "ASSEMBLY=$1\n",
    "TAXID=$2\n",
    "DATADIR=$3\n",
    "# Count pubmed citations\n",
    "# Output: {gene_id} \\t {citation_count}\n",
    "cat $DATADIR/$ASSEMBLY/gene2pubmed \\\n",
    "    | awk '{print $2}' \\\n",
    "    | sort \\\n",
    "    | uniq -c \\\n",
    "    | awk '{print $2 \"\\t\" $1}' \\\n",
    "    | sort -k1b,1 \\\n",
    "    > $DATADIR/$ASSEMBLY/gene2pubmed-count\n",
    "\n",
    "# Gene2refseq dictionary\n",
    "# Output: {gene_id} \\t {refseq_id}\n",
    "cat $DATADIR/$ASSEMBLY/gene2refseq \\\n",
    "    | awk -F $'\\t' '{ split($4,a,\".\"); if (a[1] != \"-\") print $2 \"\\t\" a[1];}' \\\n",
    "    | sort -k1b,1 \\\n",
    "    | uniq  \\\n",
    "    > $DATADIR/$ASSEMBLY/geneid_refseqid\n",
    "\n",
    "echo \"uniq RefSeq entries in geneid_refseqid ...\"\n",
    "cut -f2 $DATADIR/$ASSEMBLY/geneid_refseqid |sort|uniq|wc -l\n",
    "echo \"uniq gene_id entries in geneid_refseqid ...\"\n",
    "cut -f1 $DATADIR/$ASSEMBLY/geneid_refseqid |sort|uniq|wc -l\n",
    "\n",
    "# Append refseq IDs to citation count table\n",
    "# Output: {gene_id} \\t {refseq_id} \\t {citation_count}\n",
    "join -a 1 -e \"0\" -o 1.1 1.2 2.1 -t $'\\t' \\\n",
    "    $DATADIR/$ASSEMBLY/geneid_refseqid \\\n",
    "    $DATADIR/$ASSEMBLY/gene2pubmed-count  \\\n",
    "    | sort -k2b,2 \\\n",
    "    > $DATADIR/$ASSEMBLY/geneid_refseqid_count\n",
    "\n",
    "echo \"uniq gene_id entries in geneid_refseqid_count ...\"\n",
    "cut -f1 $DATADIR/$ASSEMBLY/geneid_refseqid_count |sort|uniq|wc -l\n",
    "\n",
    "# Join the refseq gene model against gene IDs\n",
    "# Output: {gene_id} \\t {refseq_id} \\t {chrom}(5) \\t {strand}(6) \\t {txStart}(7) \\t {txEnd}(8) \\t {cdsStart}(9) \\t {cdsEnd}(10) \\t {exonCount}(11) \\t {exonStarts}(12) \\t {exonEnds}(13)\n",
    "join -1 2 -2 2 \\\n",
    "    $DATADIR/$ASSEMBLY/geneid_refseqid_count \\\n",
    "    $DATADIR/$ASSEMBLY/refGene_sorted \\\n",
    "    | awk '{ print $2 \"\\t\" $1 \"\\t\" $5 \"\\t\" $6 \"\\t\" $7 \"\\t\" $8 \"\\t\" $9 \"\\t\" $10 \"\\t\" $11 \"\\t\" $12 \"\\t\" $13 \"\\t\" $3; }' \\\n",
    "    | sort -k1b,1   \\\n",
    "    > $DATADIR/$ASSEMBLY/geneid_refGene_count\n",
    "    \n",
    "echo \"uniq gene_id entries in geneid_refGene_count ...\"\n",
    "cut -f1 $DATADIR/$ASSEMBLY/geneid_refGene_count |sort|uniq|wc -l\n",
    "\n",
    "# Join citation counts against gene information\n",
    "# make sure we keep genes that have no citation info !, hence \"-a 1 -e \"0\"\" options:\n",
    "# output -> geneid \\t symbol \\t gene_type \\t gene_descr \\t citation_count\n",
    "join -1 2 -2 1 -a 1 -e \"0\" -o 1.2 1.3 1.10 1.12 2.2 -t $'\\t' \\\n",
    "    $DATADIR/$ASSEMBLY/gene_info \\\n",
    "    $DATADIR/$ASSEMBLY/gene2pubmed-count \\\n",
    "    | sort -k1b,1 \\\n",
    "    > $DATADIR/$ASSEMBLY/gene_subinfo_citation_count"
   ]
  },
  {
   "cell_type": "code",
   "execution_count": 464,
   "id": "behind-raising",
   "metadata": {},
   "outputs": [
    {
     "name": "stdout",
     "output_type": "stream",
     "text": [
      "1\tNM_130786\tchr19\t-\t58856548\t58864858\t58858387\t58864803\t8\t58856548,58858718,58861735,58862756,58863648,58864293,58864657,58864769,\t58858395,58859006,58862017,58863053,58863921,58864563,58864693,58864858,\t1\n",
      "10\tNM_000015\tchr8\t+\t18248791\t18258725\t18257513\t18258386\t2\t18248791,18257507,\t18248855,18258725,\t10\n",
      "100\tNM_000022\tchr20\t-\t43248162\t43280340\t43248474\t43280248\t12\t43248162,43248939,43249658,43251228,43251469,43251647,43252842,43254209,43255096,43257687,43264867,43280215,\t43248488,43249042,43249788,43251293,43251571,43251719,43252970,43254325,43255240,43257810,43264929,43280340,\t100\n",
      "100\tNM_001322050\tchr20\t-\t43248159\t43280399\t43248474\t43255169\t11\t43248159,43248939,43249658,43251228,43251469,43251647,43252842,43255096,43257687,43264867,43280215,\t43248488,43249042,43249788,43251293,43251571,43251719,43252970,43255240,43257810,43264929,43280399,\t100\n",
      "100\tNM_001322051\tchr20\t-\t43248159\t43280399\t43248474\t43280248\t11\t43248159,43248939,43249658,43251228,43251469,43252842,43254209,43255096,43257687,43264867,43280215,\t43248488,43249042,43249788,43251293,43251571,43252970,43254325,43255240,43257810,43264929,43280399,\t100\n",
      "100\tNR_136160\tchr20\t-\t43248159\t43280399\t43280399\t43280399\t11\t43248159,43248939,43249658,43251469,43251647,43252842,43254209,43255096,43257687,43264867,43280215,\t43248488,43249042,43249788,43251571,43251719,43252970,43254325,43255240,43257810,43264929,43280399,\t100\n",
      "1000\tNM_001308176\tchr18\t-\t25530929\t25616605\t25532116\t25616512\t15\t25530929,25543320,25562907,25564963,25565491,25568487,25570060,25572618,25573463,25582960,25585812,25589680,25591809,25593646,25616433,\t25532323,25543485,25563047,25565197,25565725,25568630,25570314,25572804,25573601,25583133,25585957,25589836,25591956,25593873,25616605,\t1000\n",
      "1000\tNM_001792\tchr18\t-\t25530929\t25757094\t25532116\t25756986\t16\t25530929,25543320,25562907,25564963,25565491,25568487,25570060,25572618,25573463,25582960,25585812,25589680,25591809,25593646,25727636,25756926,\t25532323,25543485,25563047,25565197,25565725,25568630,25570314,25572804,25573601,25583133,25585957,25589836,25591956,25593873,25727748,25757094,\t1000\n",
      "10000\tNM_001206729\tchr1\t-\t243663020\t244006886\t243663044\t244006472\t14\t243663020,243675625,243708811,243716030,243727021,243736227,243776972,243778397,243800912,243809194,243828073,243858892,244006426,244006845,\t243663088,243675728,243708899,243716245,243727150,243736350,243777041,243778463,243801044,243809339,243828185,243859018,244006584,244006886,\t10000\n",
      "10000\tNM_001370074\tchr1\t-\t243663025\t244014381\t243668550\t244006472\t14\t243663025,243675625,243708811,243716030,243727021,243736227,243776972,243778397,243800912,243809194,243828073,243858892,244006426,244014350,\t243668636,243675728,243708899,243716245,243727150,243736350,243777041,243778463,243801044,243809339,243828185,243859018,244006584,244014381,\t10000\n"
     ]
    }
   ],
   "source": [
    "%%bash -s  \"$ASSEMBLY\" \"$TAXID\" \"$DATADIR\"\n",
    "ASSEMBLY=$1\n",
    "TAXID=$2\n",
    "DATADIR=$3\n",
    "# Output: {gene_id} \\t {refseq_id} \\t {chrom}(5) \\t {strand}(6) \\t {txStart}(7) \\t {txEnd}(8) \\t {cdsStart}(9) \\t {cdsEnd}(10) \\t {exonCount}(11) \\t {exonStarts}(12) \\t {exonEnds}(13)\n",
    "head $DATADIR/$ASSEMBLY/geneid_refGene_count"
   ]
  },
  {
   "cell_type": "code",
   "execution_count": 466,
   "id": "orange-sleep",
   "metadata": {},
   "outputs": [],
   "source": [
    "%%bash -s  \"$ASSEMBLY\" \"$TAXID\" \"$DATADIR\"\n",
    "ASSEMBLY=$1\n",
    "TAXID=$2\n",
    "DATADIR=$3\n",
    "# 1: chr (chr1)\n",
    "# 2: txStart (52301201) [9]\n",
    "# 3: txEnd (52317145) [10]\n",
    "# 4: geneName (ACVRL1)   [2]\n",
    "# 5: citationCount (123) [16] -> useless ...\n",
    "# 6: strand (+)  [8]\n",
    "# 7: refseqId (NM_000020)\n",
    "# 8: geneId (94) [1]\n",
    "# 9: geneType (protein-coding)\n",
    "# 10: geneDesc (activin A receptor type II-like 1)\n",
    "# 11: cdsStart (52306258)\n",
    "# 12: cdsEnd (52314677)\n",
    "# 13: exonStarts (52301201,52306253,52306882,52307342,52307757,52308222,52309008,52309819,52312768,52314542,)\n",
    "# 14: exonEnds (52301479,52306319,52307134,52307554,52307857,52308369,52309284,52310017,52312899,52317145,)\n",
    "#\n",
    "# joining 2 files according to the specified output, based on their columns:\n",
    "# gene_subinfo_citation_count -> geneid \\t symbol \\t gene_type \\t gene_descr \\t citation_count\n",
    "# geneid_refGene_count -> {gene_id} \\t {refseq_id} \\t {chrom} \\t {strand} \\t {txStart} \\t {txEnd} \\t {cdsStart} \\t {cdsEnd} \\t {exonCount} \\t {exonStarts} \\t {exonEnds}\n",
    "#\n",
    "join -o 2.3 2.5 2.6 1.2 1.5 2.4 2.2 1.1 1.3 1.4 2.7 2.8 2.10 2.11 -t $'\\t' \\\n",
    "    $DATADIR/$ASSEMBLY/gene_subinfo_citation_count \\\n",
    "    $DATADIR/$ASSEMBLY/geneid_refGene_count \\\n",
    "    > $DATADIR/$ASSEMBLY/geneAnnotations.bed\n",
    "\n",
    "# Download: https://raw.githubusercontent.com/higlass/clodius/develop/scripts/exonU.py\n",
    "# make sure to update/report an issue about \"exonU.py\" regarding the txStart and txEnd integer casting ...\n",
    "# because in the current form it is sorting txStart/End lexicographically ...\n",
    "# ! scp ghpcc:/nl/umw_job_dekker/cshare/reference/sorted_chromsizes/hg19.reduced.chrom.sizes ./\n",
    "python exonU.py $DATADIR/$ASSEMBLY/geneAnnotations.bed > $DATADIR/$ASSEMBLY/geneAnnotationsExonUnions.bed\n",
    "\n",
    "# Some of the gene_ids are duplicated in the final geneAnnotationsExonUnions.bed - those appear to be \"real\" duplicated genes\n",
    "# mostly associated with unmappable areas etc - probably related to the Encode blacklisting - should check someday"
   ]
  },
  {
   "cell_type": "markdown",
   "id": "passive-cleaner",
   "metadata": {},
   "source": [
    "### Further filter and preprare our RefSeq-based list of genes"
   ]
  },
  {
   "cell_type": "code",
   "execution_count": 4,
   "id": "photographic-selling",
   "metadata": {},
   "outputs": [],
   "source": [
    "genes_df = pd.read_csv(\n",
    "    \"./gene_annot_data/hg19/geneAnnotationsExonUnions.bed\",\n",
    "    sep=\"\\t\",\n",
    "    header=None,\n",
    "    names = [\"chr\",\n",
    "            \"txStart\",\n",
    "            \"txEnd\",\n",
    "            \"geneName\",\n",
    "            \"citationCount\",\n",
    "            \"strand\",\n",
    "            \"union_geneId\", # \"refseqId\",\n",
    "            \"geneId\",\n",
    "            \"geneType\",\n",
    "            \"geneDesc\",\n",
    "            \"cdsStart\",\n",
    "            \"cdsEnd\",\n",
    "            \"exonStarts\",\n",
    "            \"exonEnds\"]\n",
    ")\n",
    "genes_df.head()\n",
    "\n",
    "### we'll be removing duplicated genes because they're likely unamppable and/or harder to deal with anyways ...\n",
    "### there are of course expections, but will do it anyways:\n",
    "geneId_grp = genes_df.groupby(\"geneId\")\n",
    "genes_df = geneId_grp.first()[geneId_grp.size() == 1].reset_index()"
   ]
  },
  {
   "cell_type": "markdown",
   "id": "about-innocent",
   "metadata": {},
   "source": [
    "### some stats ..."
   ]
  },
  {
   "cell_type": "code",
   "execution_count": 5,
   "id": "dimensional-story",
   "metadata": {},
   "outputs": [
    {
     "data": {
      "text/plain": [
       "<AxesSubplot:xlabel='geneType,strand'>"
      ]
     },
     "execution_count": 5,
     "metadata": {},
     "output_type": "execute_result"
    },
    {
     "data": {
      "image/png": "[encoded data removed]",
      "text/plain": [
       "<Figure size 432x288 with 1 Axes>"
      ]
     },
     "metadata": {
      "needs_background": "light"
     },
     "output_type": "display_data"
    }
   ],
   "source": [
    "# by geneType and strand ...\n",
    "genes_df.groupby([\"geneType\",\"strand\"]).size().plot.bar()"
   ]
  },
  {
   "cell_type": "markdown",
   "id": "optimum-logistics",
   "metadata": {},
   "source": [
    "### merging RNA-seq expression data with our gene annotation ..."
   ]
  },
  {
   "cell_type": "code",
   "execution_count": 83,
   "id": "macro-savannah",
   "metadata": {},
   "outputs": [],
   "source": [
    "rsem_df = pd.read_csv(\"merged_TPM_genes.tsv\",sep=\"\\t\")\n",
    "# genes_Df  overlap   rsem\n",
    "# ~4_300     ~23_200   ~2_500"
   ]
  },
  {
   "cell_type": "code",
   "execution_count": 84,
   "id": "pediatric-christian",
   "metadata": {},
   "outputs": [],
   "source": [
    "yyy = pd.merge(\n",
    "    rsem_df,\n",
    "    genes_df,\n",
    "    how = 'left',\n",
    "    left_on=\"Id\",\n",
    "    right_on=\"geneName\"\n",
    ")"
   ]
  },
  {
   "cell_type": "code",
   "execution_count": 85,
   "id": "superb-revelation",
   "metadata": {},
   "outputs": [
    {
     "data": {
      "text/html": [
       "<div>\n",
       "<style scoped>\n",
       "    .dataframe tbody tr th:only-of-type {\n",
       "        vertical-align: middle;\n",
       "    }\n",
       "\n",
       "    .dataframe tbody tr th {\n",
       "        vertical-align: top;\n",
       "    }\n",
       "\n",
       "    .dataframe thead th {\n",
       "        text-align: right;\n",
       "    }\n",
       "</style>\n",
       "<table border=\"1\" class=\"dataframe\">\n",
       "  <thead>\n",
       "    <tr style=\"text-align: right;\">\n",
       "      <th></th>\n",
       "      <th>Id</th>\n",
       "      <th>rsem.out.S442_IAA</th>\n",
       "      <th>rsem.out.S442_IAAR2</th>\n",
       "      <th>rsem.out.S442_NT</th>\n",
       "      <th>rsem.out.S442_NTR2</th>\n",
       "      <th>rsem.out.S442_siCTRL_IAAR2</th>\n",
       "      <th>rsem.out.S442_siCTRL_NTR2</th>\n",
       "      <th>rsem.out.S442_siCtrl_IAA</th>\n",
       "      <th>rsem.out.S442_siCtrl_NT</th>\n",
       "      <th>rsem.out.S442_siDDX55_IAA</th>\n",
       "      <th>...</th>\n",
       "      <th>geneName</th>\n",
       "      <th>citationCount</th>\n",
       "      <th>strand</th>\n",
       "      <th>union_geneId</th>\n",
       "      <th>geneType</th>\n",
       "      <th>geneDesc</th>\n",
       "      <th>cdsStart</th>\n",
       "      <th>cdsEnd</th>\n",
       "      <th>exonStarts</th>\n",
       "      <th>exonEnds</th>\n",
       "    </tr>\n",
       "  </thead>\n",
       "  <tbody>\n",
       "    <tr>\n",
       "      <th>14</th>\n",
       "      <td>GPR98</td>\n",
       "      <td>10</td>\n",
       "      <td>6</td>\n",
       "      <td>8</td>\n",
       "      <td>4</td>\n",
       "      <td>4</td>\n",
       "      <td>4</td>\n",
       "      <td>5</td>\n",
       "      <td>5</td>\n",
       "      <td>4</td>\n",
       "      <td>...</td>\n",
       "      <td>NaN</td>\n",
       "      <td>NaN</td>\n",
       "      <td>NaN</td>\n",
       "      <td>NaN</td>\n",
       "      <td>NaN</td>\n",
       "      <td>NaN</td>\n",
       "      <td>NaN</td>\n",
       "      <td>NaN</td>\n",
       "      <td>NaN</td>\n",
       "      <td>NaN</td>\n",
       "    </tr>\n",
       "    <tr>\n",
       "      <th>39</th>\n",
       "      <td>MIR941-2</td>\n",
       "      <td>0</td>\n",
       "      <td>0</td>\n",
       "      <td>0</td>\n",
       "      <td>0</td>\n",
       "      <td>0</td>\n",
       "      <td>0</td>\n",
       "      <td>0</td>\n",
       "      <td>0</td>\n",
       "      <td>0</td>\n",
       "      <td>...</td>\n",
       "      <td>NaN</td>\n",
       "      <td>NaN</td>\n",
       "      <td>NaN</td>\n",
       "      <td>NaN</td>\n",
       "      <td>NaN</td>\n",
       "      <td>NaN</td>\n",
       "      <td>NaN</td>\n",
       "      <td>NaN</td>\n",
       "      <td>NaN</td>\n",
       "      <td>NaN</td>\n",
       "    </tr>\n",
       "    <tr>\n",
       "      <th>41</th>\n",
       "      <td>BSN-AS2</td>\n",
       "      <td>0</td>\n",
       "      <td>0</td>\n",
       "      <td>0</td>\n",
       "      <td>0</td>\n",
       "      <td>0</td>\n",
       "      <td>0</td>\n",
       "      <td>0</td>\n",
       "      <td>0</td>\n",
       "      <td>0</td>\n",
       "      <td>...</td>\n",
       "      <td>NaN</td>\n",
       "      <td>NaN</td>\n",
       "      <td>NaN</td>\n",
       "      <td>NaN</td>\n",
       "      <td>NaN</td>\n",
       "      <td>NaN</td>\n",
       "      <td>NaN</td>\n",
       "      <td>NaN</td>\n",
       "      <td>NaN</td>\n",
       "      <td>NaN</td>\n",
       "    </tr>\n",
       "    <tr>\n",
       "      <th>46</th>\n",
       "      <td>LINC01279</td>\n",
       "      <td>0</td>\n",
       "      <td>0</td>\n",
       "      <td>0</td>\n",
       "      <td>1</td>\n",
       "      <td>0</td>\n",
       "      <td>0</td>\n",
       "      <td>0</td>\n",
       "      <td>0</td>\n",
       "      <td>0</td>\n",
       "      <td>...</td>\n",
       "      <td>NaN</td>\n",
       "      <td>NaN</td>\n",
       "      <td>NaN</td>\n",
       "      <td>NaN</td>\n",
       "      <td>NaN</td>\n",
       "      <td>NaN</td>\n",
       "      <td>NaN</td>\n",
       "      <td>NaN</td>\n",
       "      <td>NaN</td>\n",
       "      <td>NaN</td>\n",
       "    </tr>\n",
       "    <tr>\n",
       "      <th>47</th>\n",
       "      <td>LINC00864</td>\n",
       "      <td>0</td>\n",
       "      <td>0</td>\n",
       "      <td>0</td>\n",
       "      <td>0</td>\n",
       "      <td>0</td>\n",
       "      <td>0</td>\n",
       "      <td>0</td>\n",
       "      <td>0</td>\n",
       "      <td>0</td>\n",
       "      <td>...</td>\n",
       "      <td>NaN</td>\n",
       "      <td>NaN</td>\n",
       "      <td>NaN</td>\n",
       "      <td>NaN</td>\n",
       "      <td>NaN</td>\n",
       "      <td>NaN</td>\n",
       "      <td>NaN</td>\n",
       "      <td>NaN</td>\n",
       "      <td>NaN</td>\n",
       "      <td>NaN</td>\n",
       "    </tr>\n",
       "    <tr>\n",
       "      <th>...</th>\n",
       "      <td>...</td>\n",
       "      <td>...</td>\n",
       "      <td>...</td>\n",
       "      <td>...</td>\n",
       "      <td>...</td>\n",
       "      <td>...</td>\n",
       "      <td>...</td>\n",
       "      <td>...</td>\n",
       "      <td>...</td>\n",
       "      <td>...</td>\n",
       "      <td>...</td>\n",
       "      <td>...</td>\n",
       "      <td>...</td>\n",
       "      <td>...</td>\n",
       "      <td>...</td>\n",
       "      <td>...</td>\n",
       "      <td>...</td>\n",
       "      <td>...</td>\n",
       "      <td>...</td>\n",
       "      <td>...</td>\n",
       "      <td>...</td>\n",
       "    </tr>\n",
       "    <tr>\n",
       "      <th>25787</th>\n",
       "      <td>TTTY17A</td>\n",
       "      <td>0</td>\n",
       "      <td>0</td>\n",
       "      <td>0</td>\n",
       "      <td>0</td>\n",
       "      <td>0</td>\n",
       "      <td>0</td>\n",
       "      <td>0</td>\n",
       "      <td>0</td>\n",
       "      <td>0</td>\n",
       "      <td>...</td>\n",
       "      <td>NaN</td>\n",
       "      <td>NaN</td>\n",
       "      <td>NaN</td>\n",
       "      <td>NaN</td>\n",
       "      <td>NaN</td>\n",
       "      <td>NaN</td>\n",
       "      <td>NaN</td>\n",
       "      <td>NaN</td>\n",
       "      <td>NaN</td>\n",
       "      <td>NaN</td>\n",
       "    </tr>\n",
       "    <tr>\n",
       "      <th>25789</th>\n",
       "      <td>MIR515-1</td>\n",
       "      <td>0</td>\n",
       "      <td>0</td>\n",
       "      <td>0</td>\n",
       "      <td>0</td>\n",
       "      <td>0</td>\n",
       "      <td>0</td>\n",
       "      <td>0</td>\n",
       "      <td>0</td>\n",
       "      <td>0</td>\n",
       "      <td>...</td>\n",
       "      <td>NaN</td>\n",
       "      <td>NaN</td>\n",
       "      <td>NaN</td>\n",
       "      <td>NaN</td>\n",
       "      <td>NaN</td>\n",
       "      <td>NaN</td>\n",
       "      <td>NaN</td>\n",
       "      <td>NaN</td>\n",
       "      <td>NaN</td>\n",
       "      <td>NaN</td>\n",
       "    </tr>\n",
       "    <tr>\n",
       "      <th>25791</th>\n",
       "      <td>SELO</td>\n",
       "      <td>27</td>\n",
       "      <td>39</td>\n",
       "      <td>23</td>\n",
       "      <td>36</td>\n",
       "      <td>46</td>\n",
       "      <td>37</td>\n",
       "      <td>34</td>\n",
       "      <td>29</td>\n",
       "      <td>38</td>\n",
       "      <td>...</td>\n",
       "      <td>NaN</td>\n",
       "      <td>NaN</td>\n",
       "      <td>NaN</td>\n",
       "      <td>NaN</td>\n",
       "      <td>NaN</td>\n",
       "      <td>NaN</td>\n",
       "      <td>NaN</td>\n",
       "      <td>NaN</td>\n",
       "      <td>NaN</td>\n",
       "      <td>NaN</td>\n",
       "    </tr>\n",
       "    <tr>\n",
       "      <th>25794</th>\n",
       "      <td>LOC653602</td>\n",
       "      <td>0</td>\n",
       "      <td>0</td>\n",
       "      <td>0</td>\n",
       "      <td>0</td>\n",
       "      <td>0</td>\n",
       "      <td>0</td>\n",
       "      <td>0</td>\n",
       "      <td>0</td>\n",
       "      <td>0</td>\n",
       "      <td>...</td>\n",
       "      <td>NaN</td>\n",
       "      <td>NaN</td>\n",
       "      <td>NaN</td>\n",
       "      <td>NaN</td>\n",
       "      <td>NaN</td>\n",
       "      <td>NaN</td>\n",
       "      <td>NaN</td>\n",
       "      <td>NaN</td>\n",
       "      <td>NaN</td>\n",
       "      <td>NaN</td>\n",
       "    </tr>\n",
       "    <tr>\n",
       "      <th>25799</th>\n",
       "      <td>LOC101927905</td>\n",
       "      <td>3</td>\n",
       "      <td>2</td>\n",
       "      <td>3</td>\n",
       "      <td>3</td>\n",
       "      <td>2</td>\n",
       "      <td>0</td>\n",
       "      <td>2</td>\n",
       "      <td>1</td>\n",
       "      <td>1</td>\n",
       "      <td>...</td>\n",
       "      <td>NaN</td>\n",
       "      <td>NaN</td>\n",
       "      <td>NaN</td>\n",
       "      <td>NaN</td>\n",
       "      <td>NaN</td>\n",
       "      <td>NaN</td>\n",
       "      <td>NaN</td>\n",
       "      <td>NaN</td>\n",
       "      <td>NaN</td>\n",
       "      <td>NaN</td>\n",
       "    </tr>\n",
       "  </tbody>\n",
       "</table>\n",
       "<p>2582 rows × 39 columns</p>\n",
       "</div>"
      ],
      "text/plain": [
       "                 Id  rsem.out.S442_IAA  rsem.out.S442_IAAR2  rsem.out.S442_NT  \\\n",
       "14            GPR98                 10                    6                 8   \n",
       "39         MIR941-2                  0                    0                 0   \n",
       "41          BSN-AS2                  0                    0                 0   \n",
       "46        LINC01279                  0                    0                 0   \n",
       "47        LINC00864                  0                    0                 0   \n",
       "...             ...                ...                  ...               ...   \n",
       "25787       TTTY17A                  0                    0                 0   \n",
       "25789      MIR515-1                  0                    0                 0   \n",
       "25791          SELO                 27                   39                23   \n",
       "25794     LOC653602                  0                    0                 0   \n",
       "25799  LOC101927905                  3                    2                 3   \n",
       "\n",
       "       rsem.out.S442_NTR2  rsem.out.S442_siCTRL_IAAR2  \\\n",
       "14                      4                           4   \n",
       "39                      0                           0   \n",
       "41                      0                           0   \n",
       "46                      1                           0   \n",
       "47                      0                           0   \n",
       "...                   ...                         ...   \n",
       "25787                   0                           0   \n",
       "25789                   0                           0   \n",
       "25791                  36                          46   \n",
       "25794                   0                           0   \n",
       "25799                   3                           2   \n",
       "\n",
       "       rsem.out.S442_siCTRL_NTR2  rsem.out.S442_siCtrl_IAA  \\\n",
       "14                             4                         5   \n",
       "39                             0                         0   \n",
       "41                             0                         0   \n",
       "46                             0                         0   \n",
       "47                             0                         0   \n",
       "...                          ...                       ...   \n",
       "25787                          0                         0   \n",
       "25789                          0                         0   \n",
       "25791                         37                        34   \n",
       "25794                          0                         0   \n",
       "25799                          0                         2   \n",
       "\n",
       "       rsem.out.S442_siCtrl_NT  rsem.out.S442_siDDX55_IAA  ...  geneName  \\\n",
       "14                           5                          4  ...       NaN   \n",
       "39                           0                          0  ...       NaN   \n",
       "41                           0                          0  ...       NaN   \n",
       "46                           0                          0  ...       NaN   \n",
       "47                           0                          0  ...       NaN   \n",
       "...                        ...                        ...  ...       ...   \n",
       "25787                        0                          0  ...       NaN   \n",
       "25789                        0                          0  ...       NaN   \n",
       "25791                       29                         38  ...       NaN   \n",
       "25794                        0                          0  ...       NaN   \n",
       "25799                        1                          1  ...       NaN   \n",
       "\n",
       "       citationCount  strand  union_geneId  geneType  geneDesc  cdsStart  \\\n",
       "14               NaN     NaN           NaN       NaN       NaN       NaN   \n",
       "39               NaN     NaN           NaN       NaN       NaN       NaN   \n",
       "41               NaN     NaN           NaN       NaN       NaN       NaN   \n",
       "46               NaN     NaN           NaN       NaN       NaN       NaN   \n",
       "47               NaN     NaN           NaN       NaN       NaN       NaN   \n",
       "...              ...     ...           ...       ...       ...       ...   \n",
       "25787            NaN     NaN           NaN       NaN       NaN       NaN   \n",
       "25789            NaN     NaN           NaN       NaN       NaN       NaN   \n",
       "25791            NaN     NaN           NaN       NaN       NaN       NaN   \n",
       "25794            NaN     NaN           NaN       NaN       NaN       NaN   \n",
       "25799            NaN     NaN           NaN       NaN       NaN       NaN   \n",
       "\n",
       "       cdsEnd  exonStarts  exonEnds  \n",
       "14        NaN         NaN       NaN  \n",
       "39        NaN         NaN       NaN  \n",
       "41        NaN         NaN       NaN  \n",
       "46        NaN         NaN       NaN  \n",
       "47        NaN         NaN       NaN  \n",
       "...       ...         ...       ...  \n",
       "25787     NaN         NaN       NaN  \n",
       "25789     NaN         NaN       NaN  \n",
       "25791     NaN         NaN       NaN  \n",
       "25794     NaN         NaN       NaN  \n",
       "25799     NaN         NaN       NaN  \n",
       "\n",
       "[2582 rows x 39 columns]"
      ]
     },
     "execution_count": 85,
     "metadata": {},
     "output_type": "execute_result"
    }
   ],
   "source": [
    "yyy[yyy.isna().any(axis=1)]"
   ]
  },
  {
   "cell_type": "code",
   "execution_count": 86,
   "id": "arabic-entity",
   "metadata": {},
   "outputs": [
    {
     "data": {
      "text/plain": [
       "<AxesSubplot:ylabel='Frequency'>"
      ]
     },
     "execution_count": 86,
     "metadata": {},
     "output_type": "execute_result"
    },
    {
     "data": {
      "image/png": "[encoded data removed]",
      "text/plain": [
       "<Figure size 432x288 with 1 Axes>"
      ]
     },
     "metadata": {
      "needs_background": "light"
     },
     "output_type": "display_data"
    }
   ],
   "source": [
    "yyy[yyy.isna().any(axis=1)][\"rsem.out.S442_NT\"].plot.hist(log=True,bins=100)\n",
    "yyy[\"rsem.out.S442_NT\"].plot.hist(log=True,bins=100,alpha=0.3)"
   ]
  },
  {
   "cell_type": "code",
   "execution_count": 59,
   "id": "local-shower",
   "metadata": {},
   "outputs": [
    {
     "data": {
      "text/plain": [
       "14              GPR98\n",
       "39           MIR941-2\n",
       "41            BSN-AS2\n",
       "46          LINC01279\n",
       "47          LINC00864\n",
       "             ...     \n",
       "25787         TTTY17A\n",
       "25789        MIR515-1\n",
       "25791            SELO\n",
       "25794       LOC653602\n",
       "25799    LOC101927905\n",
       "Name: Id, Length: 2582, dtype: object"
      ]
     },
     "execution_count": 59,
     "metadata": {},
     "output_type": "execute_result"
    }
   ],
   "source": [
    "yyy[yyy.isna().any(axis=1)][\"Id\"]"
   ]
  },
  {
   "cell_type": "code",
   "execution_count": 78,
   "id": "peripheral-crawford",
   "metadata": {},
   "outputs": [
    {
     "data": {
      "text/plain": [
       "0              GPR98\n",
       "1           MIR941-2\n",
       "2            BSN-AS2\n",
       "3          LINC01279\n",
       "4          LINC00864\n",
       "            ...     \n",
       "2577         TTTY17A\n",
       "2578        MIR515-1\n",
       "2579            SELO\n",
       "2580       LOC653602\n",
       "2581    LOC101927905\n",
       "Name: Id, Length: 2582, dtype: object"
      ]
     },
     "execution_count": 78,
     "metadata": {},
     "output_type": "execute_result"
    }
   ],
   "source": [
    "yyy[yyy.isna().any(axis=1)][\"Id\"].reset_index(drop=True)"
   ]
  },
  {
   "cell_type": "code",
   "execution_count": 75,
   "id": "hundred-screening",
   "metadata": {},
   "outputs": [
    {
     "data": {
      "text/html": [
       "<div>\n",
       "<style scoped>\n",
       "    .dataframe tbody tr th:only-of-type {\n",
       "        vertical-align: middle;\n",
       "    }\n",
       "\n",
       "    .dataframe tbody tr th {\n",
       "        vertical-align: top;\n",
       "    }\n",
       "\n",
       "    .dataframe thead th {\n",
       "        text-align: right;\n",
       "    }\n",
       "</style>\n",
       "<table border=\"1\" class=\"dataframe\">\n",
       "  <thead>\n",
       "    <tr style=\"text-align: right;\">\n",
       "      <th></th>\n",
       "      <th>Id</th>\n",
       "      <th>12</th>\n",
       "    </tr>\n",
       "  </thead>\n",
       "  <tbody>\n",
       "    <tr>\n",
       "      <th>0</th>\n",
       "      <td>MIR941-2</td>\n",
       "      <td>MIR941-2</td>\n",
       "    </tr>\n",
       "    <tr>\n",
       "      <th>3</th>\n",
       "      <td>TTTY1B</td>\n",
       "      <td>TTTY1B</td>\n",
       "    </tr>\n",
       "    <tr>\n",
       "      <th>5</th>\n",
       "      <td>F8A1</td>\n",
       "      <td>F8A1</td>\n",
       "    </tr>\n",
       "    <tr>\n",
       "      <th>8</th>\n",
       "      <td>C9orf16</td>\n",
       "      <td>C9orf16</td>\n",
       "    </tr>\n",
       "    <tr>\n",
       "      <th>9</th>\n",
       "      <td>CXorf56</td>\n",
       "      <td>CXorf56</td>\n",
       "    </tr>\n",
       "    <tr>\n",
       "      <th>...</th>\n",
       "      <td>...</td>\n",
       "      <td>...</td>\n",
       "    </tr>\n",
       "    <tr>\n",
       "      <th>1848</th>\n",
       "      <td>CCDC58</td>\n",
       "      <td>CCDC58</td>\n",
       "    </tr>\n",
       "    <tr>\n",
       "      <th>1850</th>\n",
       "      <td>DAZ4</td>\n",
       "      <td>DAZ4</td>\n",
       "    </tr>\n",
       "    <tr>\n",
       "      <th>1856</th>\n",
       "      <td>TP53TG3B</td>\n",
       "      <td>TP53TG3B</td>\n",
       "    </tr>\n",
       "    <tr>\n",
       "      <th>1868</th>\n",
       "      <td>TTTY17A</td>\n",
       "      <td>TTTY17A</td>\n",
       "    </tr>\n",
       "    <tr>\n",
       "      <th>1871</th>\n",
       "      <td>MIR515-1</td>\n",
       "      <td>MIR515-1</td>\n",
       "    </tr>\n",
       "  </tbody>\n",
       "</table>\n",
       "<p>502 rows × 2 columns</p>\n",
       "</div>"
      ],
      "text/plain": [
       "            Id        12\n",
       "0     MIR941-2  MIR941-2\n",
       "3       TTTY1B    TTTY1B\n",
       "5         F8A1      F8A1\n",
       "8      C9orf16   C9orf16\n",
       "9      CXorf56   CXorf56\n",
       "...        ...       ...\n",
       "1848    CCDC58    CCDC58\n",
       "1850      DAZ4      DAZ4\n",
       "1856  TP53TG3B  TP53TG3B\n",
       "1868   TTTY17A   TTTY17A\n",
       "1871  MIR515-1  MIR515-1\n",
       "\n",
       "[502 rows x 2 columns]"
      ]
     },
     "execution_count": 75,
     "metadata": {},
     "output_type": "execute_result"
    }
   ],
   "source": [
    "pd.merge(\n",
    "    yyy[yyy.isna().any(axis=1)][\"Id\"].reset_index(drop=True),\n",
    "    pd.read_csv(\"./gene_annot_data/hg19/refGene_sorted\",sep=\"\\t\",header=None)[12],\n",
    "    how=\"inner\",\n",
    "    left_on=\"Id\",\n",
    "    right_on=12\n",
    ").drop_duplicates()\n",
    "# pd.read_csv(\"./gene_annot_data/hg19/refGene_sorted\",sep=\"\\t\",header=None)[12]"
   ]
  },
  {
   "cell_type": "code",
   "execution_count": 69,
   "id": "dominican-speed",
   "metadata": {},
   "outputs": [
    {
     "data": {
      "text/html": [
       "<div>\n",
       "<style scoped>\n",
       "    .dataframe tbody tr th:only-of-type {\n",
       "        vertical-align: middle;\n",
       "    }\n",
       "\n",
       "    .dataframe tbody tr th {\n",
       "        vertical-align: top;\n",
       "    }\n",
       "\n",
       "    .dataframe thead th {\n",
       "        text-align: right;\n",
       "    }\n",
       "</style>\n",
       "<table border=\"1\" class=\"dataframe\">\n",
       "  <thead>\n",
       "    <tr style=\"text-align: right;\">\n",
       "      <th></th>\n",
       "      <th>Id</th>\n",
       "      <th>2</th>\n",
       "    </tr>\n",
       "  </thead>\n",
       "  <tbody>\n",
       "    <tr>\n",
       "      <th>0</th>\n",
       "      <td>MIR941-2</td>\n",
       "      <td>MIR941-2</td>\n",
       "    </tr>\n",
       "    <tr>\n",
       "      <th>1</th>\n",
       "      <td>TTTY1B</td>\n",
       "      <td>TTTY1B</td>\n",
       "    </tr>\n",
       "    <tr>\n",
       "      <th>2</th>\n",
       "      <td>F8A1</td>\n",
       "      <td>F8A1</td>\n",
       "    </tr>\n",
       "    <tr>\n",
       "      <th>3</th>\n",
       "      <td>MIR548AU</td>\n",
       "      <td>MIR548AU</td>\n",
       "    </tr>\n",
       "    <tr>\n",
       "      <th>4</th>\n",
       "      <td>HGH1</td>\n",
       "      <td>HGH1</td>\n",
       "    </tr>\n",
       "    <tr>\n",
       "      <th>...</th>\n",
       "      <td>...</td>\n",
       "      <td>...</td>\n",
       "    </tr>\n",
       "    <tr>\n",
       "      <th>389</th>\n",
       "      <td>RNU6-79P</td>\n",
       "      <td>RNU6-79P</td>\n",
       "    </tr>\n",
       "    <tr>\n",
       "      <th>390</th>\n",
       "      <td>DAZ4</td>\n",
       "      <td>DAZ4</td>\n",
       "    </tr>\n",
       "    <tr>\n",
       "      <th>391</th>\n",
       "      <td>TP53TG3B</td>\n",
       "      <td>TP53TG3B</td>\n",
       "    </tr>\n",
       "    <tr>\n",
       "      <th>392</th>\n",
       "      <td>TTTY17A</td>\n",
       "      <td>TTTY17A</td>\n",
       "    </tr>\n",
       "    <tr>\n",
       "      <th>393</th>\n",
       "      <td>MIR515-1</td>\n",
       "      <td>MIR515-1</td>\n",
       "    </tr>\n",
       "  </tbody>\n",
       "</table>\n",
       "<p>394 rows × 2 columns</p>\n",
       "</div>"
      ],
      "text/plain": [
       "           Id         2\n",
       "0    MIR941-2  MIR941-2\n",
       "1      TTTY1B    TTTY1B\n",
       "2        F8A1      F8A1\n",
       "3    MIR548AU  MIR548AU\n",
       "4        HGH1      HGH1\n",
       "..        ...       ...\n",
       "389  RNU6-79P  RNU6-79P\n",
       "390      DAZ4      DAZ4\n",
       "391  TP53TG3B  TP53TG3B\n",
       "392   TTTY17A   TTTY17A\n",
       "393  MIR515-1  MIR515-1\n",
       "\n",
       "[394 rows x 2 columns]"
      ]
     },
     "execution_count": 69,
     "metadata": {},
     "output_type": "execute_result"
    }
   ],
   "source": [
    "pd.merge(\n",
    "    yyy[yyy.isna().any(axis=1)][\"Id\"].reset_index(drop=True),\n",
    "    pd.read_csv(\"./gene_annot_data/hg19/gene_info\",sep=\"\\t\",header=None)[2],\n",
    "    how=\"inner\",\n",
    "    left_on=\"Id\",\n",
    "    right_on=2\n",
    ")"
   ]
  },
  {
   "cell_type": "code",
   "execution_count": 44,
   "id": "agreed-modification",
   "metadata": {},
   "outputs": [
    {
     "ename": "NameError",
     "evalue": "name 'refGene_sorted' is not defined",
     "output_type": "error",
     "traceback": [
      "\u001b[0;31m---------------------------------------------------------------------------\u001b[0m",
      "\u001b[0;31mNameError\u001b[0m                                 Traceback (most recent call last)",
      "\u001b[0;32m<ipython-input-44-41df213f1ac4>\u001b[0m in \u001b[0;36m<module>\u001b[0;34m\u001b[0m\n\u001b[0;32m----> 1\u001b[0;31m \u001b[0mrefGene_sorted\u001b[0m\u001b[0;34m\u001b[0m\u001b[0;34m\u001b[0m\u001b[0m\n\u001b[0m",
      "\u001b[0;31mNameError\u001b[0m: name 'refGene_sorted' is not defined"
     ]
    }
   ],
   "source": [
    "refGene_sorted"
   ]
  },
  {
   "cell_type": "code",
   "execution_count": 6,
   "id": "sensitive-pearl",
   "metadata": {},
   "outputs": [
    {
     "data": {
      "text/html": [
       "<div>\n",
       "<style scoped>\n",
       "    .dataframe tbody tr th:only-of-type {\n",
       "        vertical-align: middle;\n",
       "    }\n",
       "\n",
       "    .dataframe tbody tr th {\n",
       "        vertical-align: top;\n",
       "    }\n",
       "\n",
       "    .dataframe thead th {\n",
       "        text-align: right;\n",
       "    }\n",
       "</style>\n",
       "<table border=\"1\" class=\"dataframe\">\n",
       "  <thead>\n",
       "    <tr style=\"text-align: right;\">\n",
       "      <th></th>\n",
       "      <th>geneId</th>\n",
       "      <th>chr</th>\n",
       "      <th>txStart</th>\n",
       "      <th>txEnd</th>\n",
       "      <th>geneName</th>\n",
       "      <th>citationCount</th>\n",
       "      <th>strand</th>\n",
       "      <th>union_geneId</th>\n",
       "      <th>geneType</th>\n",
       "      <th>geneDesc</th>\n",
       "      <th>cdsStart</th>\n",
       "      <th>cdsEnd</th>\n",
       "      <th>exonStarts</th>\n",
       "      <th>exonEnds</th>\n",
       "    </tr>\n",
       "  </thead>\n",
       "  <tbody>\n",
       "    <tr>\n",
       "      <th>0</th>\n",
       "      <td>1</td>\n",
       "      <td>chr19</td>\n",
       "      <td>58856548</td>\n",
       "      <td>58864858</td>\n",
       "      <td>A1BG</td>\n",
       "      <td>31</td>\n",
       "      <td>-</td>\n",
       "      <td>union_1</td>\n",
       "      <td>protein-coding</td>\n",
       "      <td>alpha-1-B glycoprotein</td>\n",
       "      <td>58858387</td>\n",
       "      <td>58864803</td>\n",
       "      <td>58856548,58858718,58861735,58862756,58863648,5...</td>\n",
       "      <td>58858395,58859006,58862017,58863053,58863921,5...</td>\n",
       "    </tr>\n",
       "    <tr>\n",
       "      <th>1</th>\n",
       "      <td>2</td>\n",
       "      <td>chr12</td>\n",
       "      <td>9220303</td>\n",
       "      <td>9268825</td>\n",
       "      <td>A2M</td>\n",
       "      <td>273</td>\n",
       "      <td>-</td>\n",
       "      <td>union_2</td>\n",
       "      <td>protein-coding</td>\n",
       "      <td>alpha-2-macroglobulin</td>\n",
       "      <td>9220418</td>\n",
       "      <td>9268445</td>\n",
       "      <td>9220303,9220778,9221335,9222340,9223083,922495...</td>\n",
       "      <td>9220435,9220820,9221438,9222409,9223174,922508...</td>\n",
       "    </tr>\n",
       "    <tr>\n",
       "      <th>2</th>\n",
       "      <td>3</td>\n",
       "      <td>chr12</td>\n",
       "      <td>9381128</td>\n",
       "      <td>9386803</td>\n",
       "      <td>A2MP1</td>\n",
       "      <td>6</td>\n",
       "      <td>-</td>\n",
       "      <td>union_3</td>\n",
       "      <td>pseudo</td>\n",
       "      <td>alpha-2-macroglobulin pseudogene 1</td>\n",
       "      <td>9386803</td>\n",
       "      <td>9386803</td>\n",
       "      <td>9381128,9381967,9382848,9383605,9384201,938465...</td>\n",
       "      <td>9381294,9382009,9382951,9383674,9384292,938478...</td>\n",
       "    </tr>\n",
       "    <tr>\n",
       "      <th>3</th>\n",
       "      <td>9</td>\n",
       "      <td>chr8</td>\n",
       "      <td>18027975</td>\n",
       "      <td>18081198</td>\n",
       "      <td>NAT1</td>\n",
       "      <td>245</td>\n",
       "      <td>+</td>\n",
       "      <td>union_9</td>\n",
       "      <td>protein-coding</td>\n",
       "      <td>N-acetyltransferase 1</td>\n",
       "      <td>18079556</td>\n",
       "      <td>18080429</td>\n",
       "      <td>18027975,18028187,18067289,18067611,18067617,1...</td>\n",
       "      <td>18028016,18028248,18067464,18067689,18067689,1...</td>\n",
       "    </tr>\n",
       "    <tr>\n",
       "      <th>4</th>\n",
       "      <td>10</td>\n",
       "      <td>chr8</td>\n",
       "      <td>18248791</td>\n",
       "      <td>18258725</td>\n",
       "      <td>NAT2</td>\n",
       "      <td>706</td>\n",
       "      <td>+</td>\n",
       "      <td>union_10</td>\n",
       "      <td>protein-coding</td>\n",
       "      <td>N-acetyltransferase 2</td>\n",
       "      <td>18257513</td>\n",
       "      <td>18258386</td>\n",
       "      <td>18248791,18257507</td>\n",
       "      <td>18248855,18258725</td>\n",
       "    </tr>\n",
       "    <tr>\n",
       "      <th>...</th>\n",
       "      <td>...</td>\n",
       "      <td>...</td>\n",
       "      <td>...</td>\n",
       "      <td>...</td>\n",
       "      <td>...</td>\n",
       "      <td>...</td>\n",
       "      <td>...</td>\n",
       "      <td>...</td>\n",
       "      <td>...</td>\n",
       "      <td>...</td>\n",
       "      <td>...</td>\n",
       "      <td>...</td>\n",
       "      <td>...</td>\n",
       "      <td>...</td>\n",
       "    </tr>\n",
       "    <tr>\n",
       "      <th>27516</th>\n",
       "      <td>116804915</td>\n",
       "      <td>chr6</td>\n",
       "      <td>166581584</td>\n",
       "      <td>166584660</td>\n",
       "      <td>LNCDAT</td>\n",
       "      <td>1</td>\n",
       "      <td>+</td>\n",
       "      <td>union_116804915</td>\n",
       "      <td>ncRNA</td>\n",
       "      <td>lncRNA divergent activator of TBXT</td>\n",
       "      <td>166584660</td>\n",
       "      <td>166584660</td>\n",
       "      <td>166581584,166581764,166581764,166581852,166582...</td>\n",
       "      <td>166581638,166582086,166582191,166582086,166582...</td>\n",
       "    </tr>\n",
       "    <tr>\n",
       "      <th>27517</th>\n",
       "      <td>116804918</td>\n",
       "      <td>chr11</td>\n",
       "      <td>120894810</td>\n",
       "      <td>121062199</td>\n",
       "      <td>TBCEL-TECTA</td>\n",
       "      <td>0</td>\n",
       "      <td>+</td>\n",
       "      <td>union_116804918</td>\n",
       "      <td>protein-coding</td>\n",
       "      <td>TBCEL-TECTA readthrough</td>\n",
       "      <td>120916399</td>\n",
       "      <td>121061515</td>\n",
       "      <td>120894810,120916382,120918236,120924259,120925...</td>\n",
       "      <td>120895000,120916532,120918376,120924441,120926...</td>\n",
       "    </tr>\n",
       "    <tr>\n",
       "      <th>27518</th>\n",
       "      <td>117779438</td>\n",
       "      <td>chr1</td>\n",
       "      <td>20480706</td>\n",
       "      <td>20487061</td>\n",
       "      <td>LOC117779438</td>\n",
       "      <td>0</td>\n",
       "      <td>+</td>\n",
       "      <td>union_117779438</td>\n",
       "      <td>ncRNA</td>\n",
       "      <td>-</td>\n",
       "      <td>20487061</td>\n",
       "      <td>20487061</td>\n",
       "      <td>20480706,20480706,20486122</td>\n",
       "      <td>20481080,20487061,20487061</td>\n",
       "    </tr>\n",
       "    <tr>\n",
       "      <th>27519</th>\n",
       "      <td>118142757</td>\n",
       "      <td>chr6</td>\n",
       "      <td>42123143</td>\n",
       "      <td>42147794</td>\n",
       "      <td>LOC118142757</td>\n",
       "      <td>24</td>\n",
       "      <td>+</td>\n",
       "      <td>union_118142757</td>\n",
       "      <td>protein-coding</td>\n",
       "      <td>-</td>\n",
       "      <td>42141351</td>\n",
       "      <td>42147141</td>\n",
       "      <td>42123143,42130657,42130657,42141070,42146017,4...</td>\n",
       "      <td>42123331,42130833,42131204,42141552,42146167,4...</td>\n",
       "    </tr>\n",
       "    <tr>\n",
       "      <th>27520</th>\n",
       "      <td>120356739</td>\n",
       "      <td>chr11</td>\n",
       "      <td>71791895</td>\n",
       "      <td>71807938</td>\n",
       "      <td>LRRC51</td>\n",
       "      <td>2</td>\n",
       "      <td>+</td>\n",
       "      <td>union_120356739</td>\n",
       "      <td>protein-coding</td>\n",
       "      <td>leucine rich repeat containing 51</td>\n",
       "      <td>71800129</td>\n",
       "      <td>71807808</td>\n",
       "      <td>71791895,71799342,71799385,71800074,71800462,7...</td>\n",
       "      <td>71791931,71799426,71799426,71800211,71800642,7...</td>\n",
       "    </tr>\n",
       "  </tbody>\n",
       "</table>\n",
       "<p>27521 rows × 14 columns</p>\n",
       "</div>"
      ],
      "text/plain": [
       "          geneId    chr    txStart      txEnd      geneName  citationCount  \\\n",
       "0              1  chr19   58856548   58864858          A1BG             31   \n",
       "1              2  chr12    9220303    9268825           A2M            273   \n",
       "2              3  chr12    9381128    9386803         A2MP1              6   \n",
       "3              9   chr8   18027975   18081198          NAT1            245   \n",
       "4             10   chr8   18248791   18258725          NAT2            706   \n",
       "...          ...    ...        ...        ...           ...            ...   \n",
       "27516  116804915   chr6  166581584  166584660        LNCDAT              1   \n",
       "27517  116804918  chr11  120894810  121062199   TBCEL-TECTA              0   \n",
       "27518  117779438   chr1   20480706   20487061  LOC117779438              0   \n",
       "27519  118142757   chr6   42123143   42147794  LOC118142757             24   \n",
       "27520  120356739  chr11   71791895   71807938        LRRC51              2   \n",
       "\n",
       "      strand     union_geneId        geneType  \\\n",
       "0          -          union_1  protein-coding   \n",
       "1          -          union_2  protein-coding   \n",
       "2          -          union_3          pseudo   \n",
       "3          +          union_9  protein-coding   \n",
       "4          +         union_10  protein-coding   \n",
       "...      ...              ...             ...   \n",
       "27516      +  union_116804915           ncRNA   \n",
       "27517      +  union_116804918  protein-coding   \n",
       "27518      +  union_117779438           ncRNA   \n",
       "27519      +  union_118142757  protein-coding   \n",
       "27520      +  union_120356739  protein-coding   \n",
       "\n",
       "                                 geneDesc   cdsStart     cdsEnd  \\\n",
       "0                  alpha-1-B glycoprotein   58858387   58864803   \n",
       "1                   alpha-2-macroglobulin    9220418    9268445   \n",
       "2      alpha-2-macroglobulin pseudogene 1    9386803    9386803   \n",
       "3                   N-acetyltransferase 1   18079556   18080429   \n",
       "4                   N-acetyltransferase 2   18257513   18258386   \n",
       "...                                   ...        ...        ...   \n",
       "27516  lncRNA divergent activator of TBXT  166584660  166584660   \n",
       "27517             TBCEL-TECTA readthrough  120916399  121061515   \n",
       "27518                                   -   20487061   20487061   \n",
       "27519                                   -   42141351   42147141   \n",
       "27520   leucine rich repeat containing 51   71800129   71807808   \n",
       "\n",
       "                                              exonStarts  \\\n",
       "0      58856548,58858718,58861735,58862756,58863648,5...   \n",
       "1      9220303,9220778,9221335,9222340,9223083,922495...   \n",
       "2      9381128,9381967,9382848,9383605,9384201,938465...   \n",
       "3      18027975,18028187,18067289,18067611,18067617,1...   \n",
       "4                                      18248791,18257507   \n",
       "...                                                  ...   \n",
       "27516  166581584,166581764,166581764,166581852,166582...   \n",
       "27517  120894810,120916382,120918236,120924259,120925...   \n",
       "27518                         20480706,20480706,20486122   \n",
       "27519  42123143,42130657,42130657,42141070,42146017,4...   \n",
       "27520  71791895,71799342,71799385,71800074,71800462,7...   \n",
       "\n",
       "                                                exonEnds  \n",
       "0      58858395,58859006,58862017,58863053,58863921,5...  \n",
       "1      9220435,9220820,9221438,9222409,9223174,922508...  \n",
       "2      9381294,9382009,9382951,9383674,9384292,938478...  \n",
       "3      18028016,18028248,18067464,18067689,18067689,1...  \n",
       "4                                      18248855,18258725  \n",
       "...                                                  ...  \n",
       "27516  166581638,166582086,166582191,166582086,166582...  \n",
       "27517  120895000,120916532,120918376,120924441,120926...  \n",
       "27518                         20481080,20487061,20487061  \n",
       "27519  42123331,42130833,42131204,42141552,42146167,4...  \n",
       "27520  71791931,71799426,71799426,71800211,71800642,7...  \n",
       "\n",
       "[27521 rows x 14 columns]"
      ]
     },
     "execution_count": 6,
     "metadata": {},
     "output_type": "execute_result"
    }
   ],
   "source": [
    "genes_df"
   ]
  },
  {
   "cell_type": "markdown",
   "id": "radical-absence",
   "metadata": {},
   "source": [
    "### after \"filtering\" our list of genes we are left with ~ 27k of them, and let's get to extracting TSS/TTS and other useful info"
   ]
  },
  {
   "cell_type": "code",
   "execution_count": 558,
   "id": "molecular-forth",
   "metadata": {},
   "outputs": [],
   "source": [
    "# columns needed for TSS/TTS bed files output:\n",
    "tx_cols = [\"chr\", \"txStart\", \"txEnd\"]\n",
    "\n",
    "pgenes_df =  genes_df[ genes_df[\"strand\"] == \"+\" ][tx_cols].reset_index(drop=True)\n",
    "mgenes_df =  genes_df[ genes_df[\"strand\"] == \"-\" ][tx_cols].reset_index(drop=True)"
   ]
  },
  {
   "cell_type": "markdown",
   "id": "documentary-luxury",
   "metadata": {},
   "source": [
    "#### carefully extract TSS from the genes, considering their orientation, and possible duplications ..."
   ]
  },
  {
   "cell_type": "code",
   "execution_count": 559,
   "id": "cardiac-mechanics",
   "metadata": {},
   "outputs": [
    {
     "name": "stdout",
     "output_type": "stream",
     "text": [
      " there are 66 duplicated pTSSs ...\n",
      "finally there are 13921 +TSSs to work with...\n",
      " there are 58 duplicated mTSSs ...\n",
      "finally there are 13476 -TSSs to work with...\n",
      "there are still 1 duplicated TSSs ... drop em\n",
      "finally there are 27396 -TSSs to work with...\n"
     ]
    }
   ],
   "source": [
    "pTSS = pgenes_df.copy()\n",
    "mTSS = mgenes_df.copy()\n",
    "# after copying, pTSS and mTSS are dataframes that have chr, txStart, txEnd  of the\n",
    "# transcripts, that we could modify as we please ...\n",
    "\n",
    "# for genes on p-strand, we keep txStart, and modify txEnd to be ~several bp downstream:\n",
    "pTSS[\"txEnd\"] = pTSS[\"txStart\"] + 1\n",
    "pTSS[\"strand\"] = \"+\"\n",
    "# report how many TSS were duplicated here:\n",
    "print(f\" there are {pTSS.duplicated().sum()} duplicated pTSSs ...\")\n",
    "pTSS = pTSS.drop_duplicates().reset_index(drop=True)\n",
    "print(f\"finally there are {len(pTSS)} +TSSs to work with...\")\n",
    "\n",
    "# for genes on m-strand, we keep txEnd, and modify txStart to be ~several bp downstream (relative to the gene):\n",
    "mTSS[\"txStart\"] = mTSS[\"txEnd\"] - 1\n",
    "mTSS[\"strand\"] = \"-\"\n",
    "# report how many TSS were duplicated here:\n",
    "print(f\" there are {mTSS.duplicated().sum()} duplicated mTSSs ...\")\n",
    "mTSS = mTSS.drop_duplicates().reset_index(drop=True)\n",
    "print(f\"finally there are {len(mTSS)} -TSSs to work with...\")\n",
    "\n",
    "# after modifying pTSS and mTSS separately - let's bring them back together ...\n",
    "TSS = pd.concat([pTSS,mTSS]).reset_index(drop=True)\n",
    "print(f\"there are still {TSS.duplicated(subset=tx_cols).sum()} duplicated TSSs ... drop em\")\n",
    "TSS = TSS.drop_duplicates(subset=tx_cols).reset_index(drop=True)\n",
    "print(f\"finally there are {len(TSS)} -TSSs to work with...\")\n",
    "\n",
    "# DROP IT !\n",
    "TSS.to_csv(\"allTSS_wstrand.bed\",index=False,header=None,sep=\"\\t\")"
   ]
  },
  {
   "cell_type": "markdown",
   "id": "polyphonic-butler",
   "metadata": {},
   "source": [
    "#### carefully extract TTS (aka 3' end of the gene ) from the list of genes, considering their orientation, and possible duplications ..."
   ]
  },
  {
   "cell_type": "code",
   "execution_count": 560,
   "id": "recovered-trader",
   "metadata": {},
   "outputs": [
    {
     "name": "stdout",
     "output_type": "stream",
     "text": [
      " there are 120 duplicated pTTSs ...\n",
      "finally there are 13867 +TTSs to work with...\n",
      " there are 68 duplicated mTTSs ...\n",
      "finally there are 13466 -TTSs to work with...\n",
      "there are still 2 duplicated TTSs ... drop em\n",
      "finally there are 27331 -TTSs to work with...\n"
     ]
    }
   ],
   "source": [
    "pTTS = pgenes_df.copy()\n",
    "mTTS = mgenes_df.copy()\n",
    "# after copying, pTTS and mTTS are dataframes that have chr, txStart, txEnd  of the\n",
    "# transcripts, that we could modify as we please ...\n",
    "\n",
    "# for genes on p-strand, we keep txEnd, and modify txStart to be ~several bp upstream:\n",
    "pTTS[\"txStart\"] = pTTS[\"txEnd\"] - 1\n",
    "pTTS[\"strand\"] = \"+\"\n",
    "# report how many TTS were duplicated here:\n",
    "print(f\" there are {pTTS.duplicated().sum()} duplicated pTTSs ...\")\n",
    "pTTS = pTTS.drop_duplicates().reset_index(drop=True)\n",
    "print(f\"finally there are {len(pTTS)} +TTSs to work with...\")\n",
    "\n",
    "# for genes on m-strand, we keep txStart, and modify txEnd to be ~several bp upstream (relative to the gene):\n",
    "mTTS[\"txEnd\"] = mTTS[\"txStart\"] + 1\n",
    "mTTS[\"strand\"] = \"-\"\n",
    "# report how many TTS were duplicated here:\n",
    "print(f\" there are {mTTS.duplicated().sum()} duplicated mTTSs ...\")\n",
    "mTTS = mTTS.drop_duplicates().reset_index(drop=True)\n",
    "print(f\"finally there are {len(mTTS)} -TTSs to work with...\")\n",
    "\n",
    "# after modifying pTTS and mTTS separately - let's bring them back together ...\n",
    "TTS = pd.concat([pTTS,mTTS]).reset_index(drop=True)\n",
    "print(f\"there are still {TTS.duplicated(subset=tx_cols).sum()} duplicated TTSs ... drop em\")\n",
    "TTS = TTS.drop_duplicates(subset=tx_cols).reset_index(drop=True)\n",
    "print(f\"finally there are {len(TTS)} -TTSs to work with...\")\n",
    "\n",
    "# DROP IT !\n",
    "TTS.to_csv(\"allTTS_wstrand.bed\",index=False,header=None,sep=\"\\t\")"
   ]
  },
  {
   "cell_type": "code",
   "execution_count": 572,
   "id": "straight-platinum",
   "metadata": {},
   "outputs": [],
   "source": [
    "# !scp allTTS_wstrand.bed ghpcc:/nl/umw_job_dekker/users/sv49w/ALV2021/\n",
    "# !scp allTSS_wstrand.bed ghpcc:/nl/umw_job_dekker/users/sv49w/ALV2021/\n",
    "# !scp ActiveTSS-13412-1bp.bed ghpcc:/nl/umw_job_dekker/users/sv49w/ALV2021/\n",
    "# !scp ActiveTSS-NO-CTCF-8849-1bp.bed ghpcc:/nl/umw_job_dekker/users/sv49w/ALV2021/\n",
    "# !scp activeTTS_wstrand.bed ghpcc:/nl/umw_job_dekker/users/sv49w/ALV2021/\n",
    "# !scp ActiveTTS-withoutH3K4-1bp.bed ghpcc:/nl/umw_job_dekker/users/sv49w/ALV2021/\n",
    "# !scp ActiveTTS-withoutH3K4-NO-CTCF-10933-1bp.bed ghpcc:/nl/umw_job_dekker/users/sv49w/ALV2021/"
   ]
  },
  {
   "cell_type": "markdown",
   "id": "dramatic-printer",
   "metadata": {},
   "source": [
    "### Let's get TTS that correspond to active TSSs\n",
    "using our `ActiveTSS-13412-1bp.bed` file , and our main `gene_df` \"database\""
   ]
  },
  {
   "cell_type": "code",
   "execution_count": 542,
   "id": "durable-wellington",
   "metadata": {},
   "outputs": [],
   "source": [
    "fname = \"ActiveTSS-13412-1bp.bed\"\n",
    "act_tss_df = bioframe.read_table(\n",
    "    fname,\n",
    "    names=[\"chrom\",\"start\",\"end\",\"strand\"]\n",
    ")\n",
    "act_tss_df = act_tss_df.sort_values([\"chrom\",\"start\"])\n",
    "# act_tss_df = act_tss_df[ act_tss_df[\"chrom\"].isin(autosomal_chroms) ]\n",
    "act_tss_df = act_tss_df.reset_index(drop=True)"
   ]
  },
  {
   "cell_type": "code",
   "execution_count": 552,
   "id": "scheduled-hands",
   "metadata": {},
   "outputs": [
    {
     "data": {
      "text/html": [
       "<div>\n",
       "<style scoped>\n",
       "    .dataframe tbody tr th:only-of-type {\n",
       "        vertical-align: middle;\n",
       "    }\n",
       "\n",
       "    .dataframe tbody tr th {\n",
       "        vertical-align: top;\n",
       "    }\n",
       "\n",
       "    .dataframe thead th {\n",
       "        text-align: right;\n",
       "    }\n",
       "</style>\n",
       "<table border=\"1\" class=\"dataframe\">\n",
       "  <thead>\n",
       "    <tr style=\"text-align: right;\">\n",
       "      <th></th>\n",
       "      <th>chrom2</th>\n",
       "      <th>start2</th>\n",
       "      <th>end2</th>\n",
       "      <th>strand2</th>\n",
       "      <th>geneId</th>\n",
       "      <th>chr</th>\n",
       "      <th>txStart</th>\n",
       "      <th>txEnd</th>\n",
       "      <th>geneName</th>\n",
       "      <th>citationCount</th>\n",
       "      <th>strand</th>\n",
       "      <th>union_geneId</th>\n",
       "      <th>geneType</th>\n",
       "      <th>geneDesc</th>\n",
       "      <th>cdsStart</th>\n",
       "      <th>cdsEnd</th>\n",
       "      <th>exonStarts</th>\n",
       "      <th>exonEnds</th>\n",
       "    </tr>\n",
       "  </thead>\n",
       "  <tbody>\n",
       "    <tr>\n",
       "      <th>0</th>\n",
       "      <td>chr1</td>\n",
       "      <td>762970</td>\n",
       "      <td>762971</td>\n",
       "      <td>+</td>\n",
       "      <td>643837.0</td>\n",
       "      <td>chr1</td>\n",
       "      <td>762970</td>\n",
       "      <td>794826</td>\n",
       "      <td>LINC01128</td>\n",
       "      <td>6</td>\n",
       "      <td>+</td>\n",
       "      <td>union_643837</td>\n",
       "      <td>ncRNA</td>\n",
       "      <td>long intergenic non-protein coding RNA 1128</td>\n",
       "      <td>794826</td>\n",
       "      <td>794826</td>\n",
       "      <td>762970,763177,764382,776579,783033,787306,7880...</td>\n",
       "      <td>763155,763229,764484,778984,783186,787490,7881...</td>\n",
       "    </tr>\n",
       "    <tr>\n",
       "      <th>1</th>\n",
       "      <td>chr1</td>\n",
       "      <td>859302</td>\n",
       "      <td>859303</td>\n",
       "      <td>+</td>\n",
       "      <td>148398.0</td>\n",
       "      <td>chr1</td>\n",
       "      <td>859302</td>\n",
       "      <td>879954</td>\n",
       "      <td>SAMD11</td>\n",
       "      <td>14</td>\n",
       "      <td>+</td>\n",
       "      <td>union_148398</td>\n",
       "      <td>protein-coding</td>\n",
       "      <td>sterile alpha motif domain containing 11</td>\n",
       "      <td>859811</td>\n",
       "      <td>879533</td>\n",
       "      <td>859302,861110,861301,865534,866418,871151,8744...</td>\n",
       "      <td>860328,861180,861393,865716,866469,871276,8745...</td>\n",
       "    </tr>\n",
       "  </tbody>\n",
       "</table>\n",
       "</div>"
      ],
      "text/plain": [
       "  chrom2  start2    end2 strand2    geneId   chr  txStart   txEnd   geneName  \\\n",
       "0   chr1  762970  762971       +  643837.0  chr1   762970  794826  LINC01128   \n",
       "1   chr1  859302  859303       +  148398.0  chr1   859302  879954     SAMD11   \n",
       "\n",
       "   citationCount strand  union_geneId        geneType  \\\n",
       "0              6      +  union_643837           ncRNA   \n",
       "1             14      +  union_148398  protein-coding   \n",
       "\n",
       "                                      geneDesc  cdsStart  cdsEnd  \\\n",
       "0  long intergenic non-protein coding RNA 1128    794826  794826   \n",
       "1     sterile alpha motif domain containing 11    859811  879533   \n",
       "\n",
       "                                          exonStarts  \\\n",
       "0  762970,763177,764382,776579,783033,787306,7880...   \n",
       "1  859302,861110,861301,865534,866418,871151,8744...   \n",
       "\n",
       "                                            exonEnds  \n",
       "0  763155,763229,764484,778984,783186,787490,7881...  \n",
       "1  860328,861180,861393,865716,866469,871276,8745...  "
      ]
     },
     "execution_count": 552,
     "metadata": {},
     "output_type": "execute_result"
    }
   ],
   "source": [
    "active_genes_df = bioframe.overlap(\n",
    "    act_tss_df,\n",
    "    genes_df,\n",
    "    how=\"left\",\n",
    "    cols2=tx_cols,\n",
    "    suffixes=('2', '')\n",
    ")\n",
    "active_genes_df = active_genes_df.astype(\n",
    "    {'start2':int,\n",
    "     'end2':int,\n",
    "     'txStart':int,\n",
    "     'txEnd':int,\n",
    "     'citationCount':int,\n",
    "     'cdsStart':int,\n",
    "     'cdsEnd':int,\n",
    "    }\n",
    ")\n",
    "# active_genes_df - they are good, but there are plenty of duplicates - i.e. same transcripts\n",
    "# but it's ok - since we are going to drop_duplicates for TTS anyways ...\n",
    "active_genes_df.head(2)\n",
    "# active_genes_df.duplicated([\"chr\",\"txStart\",\"txEnd\"]).sum()"
   ]
  },
  {
   "cell_type": "markdown",
   "id": "aquatic-measurement",
   "metadata": {},
   "source": [
    "#### get to extracting TTS, corresponding to the active TSS (active genes) ..."
   ]
  },
  {
   "cell_type": "code",
   "execution_count": 555,
   "id": "federal-discrimination",
   "metadata": {},
   "outputs": [
    {
     "name": "stdout",
     "output_type": "stream",
     "text": [
      " there are 1235 duplicated active pTTSs ...\n",
      "finally there are 6917 active +TTSs to work with...\n",
      " there are 1063 duplicated active mTTSs ...\n",
      "finally there are 6748 active -TTSs to work with...\n",
      "there are still 2 duplicated active TTSs ... drop em\n",
      "finally there are 13663 active-TTSs to work with...\n"
     ]
    }
   ],
   "source": [
    "# columns needed for TSS/act_TTS bed files output:\n",
    "act_pgenes_df =  active_genes_df[ active_genes_df[\"strand\"] == \"+\" ][tx_cols].reset_index(drop=True)\n",
    "act_mgenes_df =  active_genes_df[ active_genes_df[\"strand\"] == \"-\" ][tx_cols].reset_index(drop=True)\n",
    "\n",
    "act_pTTS = act_pgenes_df.copy()\n",
    "act_mTTS = act_mgenes_df.copy()\n",
    "# after copying, act_pTTS and act_mTTS are dataframes that have chr, txStart, txEnd  of the\n",
    "# transcripts, that we could modify as we please ...\n",
    "\n",
    "# for genes on p-strand, we keep txEnd, and modify txStart to be ~several bp upstream:\n",
    "act_pTTS[\"txStart\"] = act_pTTS[\"txEnd\"] - 1\n",
    "act_pTTS[\"strand\"] = \"+\"\n",
    "# report how many act_TTS were duplicated here:\n",
    "print(f\" there are {act_pTTS.duplicated().sum()} duplicated active pTTSs ...\")\n",
    "act_pTTS = act_pTTS.drop_duplicates().reset_index(drop=True)\n",
    "print(f\"finally there are {len(act_pTTS)} active +TTSs to work with...\")\n",
    "\n",
    "# for genes on m-strand, we keep txStart, and modify txEnd to be ~several bp upstream (relative to the gene):\n",
    "act_mTTS[\"txEnd\"] = act_mTTS[\"txStart\"] + 1\n",
    "act_mTTS[\"strand\"] = \"-\"\n",
    "# report how many act_TTS were duplicated here:\n",
    "print(f\" there are {act_mTTS.duplicated().sum()} duplicated active mTTSs ...\")\n",
    "act_mTTS = act_mTTS.drop_duplicates().reset_index(drop=True)\n",
    "print(f\"finally there are {len(act_mTTS)} active -TTSs to work with...\")\n",
    "\n",
    "# after modifying act_pTTS and act_mTTS separately - let's bring them back together ...\n",
    "act_TTS = pd.concat([act_pTTS,act_mTTS]).reset_index(drop=True)\n",
    "print(f\"there are still {act_TTS.duplicated(subset=tx_cols).sum()} duplicated active TTSs ... drop em\")\n",
    "act_TTS = act_TTS.drop_duplicates(subset=tx_cols).reset_index(drop=True)\n",
    "print(f\"finally there are {len(act_TTS)} active-TTSs to work with...\")\n",
    "\n",
    "# DROP IT !\n",
    "act_TTS.to_csv(\"activeTTS_wstrand.bed\",index=False,header=None,sep=\"\\t\")\n"
   ]
  },
  {
   "cell_type": "markdown",
   "id": "disabled-drill",
   "metadata": {},
   "source": [
    "### Let's create a BigBed with Genes ! for stackups ..."
   ]
  },
  {
   "cell_type": "code",
   "execution_count": 13,
   "id": "molecular-prescription",
   "metadata": {},
   "outputs": [
    {
     "name": "stdout",
     "output_type": "stream",
     "text": [
      "15005 genes+.bed\n",
      "14607 genes-.bed\n",
      "pass1 - making usageList (24 chroms): 3 millis\n",
      "pass2 - checking and writing primary data (15005 records, 3 fields): 15 millis\n",
      "pass1 - making usageList (25 chroms): 2 millis\n",
      "pass2 - checking and writing primary data (14607 records, 3 fields): 17 millis\n"
     ]
    }
   ],
   "source": [
    "# let's re-read genes_df just in case ...\n",
    "genes_df = pd.read_csv(\n",
    "    \"./gene_annot_data/hg19/geneAnnotationsExonUnions.bed\",\n",
    "    sep=\"\\t\",\n",
    "    header=None,\n",
    "    names = [\"chr\",\n",
    "            \"txStart\",\n",
    "            \"txEnd\",\n",
    "            \"geneName\",\n",
    "            \"citationCount\",\n",
    "            \"strand\",\n",
    "            \"union_geneId\", # \"refseqId\",\n",
    "            \"geneId\",\n",
    "            \"geneType\",\n",
    "            \"geneDesc\",\n",
    "            \"cdsStart\",\n",
    "            \"cdsEnd\",\n",
    "            \"exonStarts\",\n",
    "            \"exonEnds\"]\n",
    ")\n",
    "# genes_df.head()\n",
    "\n",
    "\n",
    "genes_df[genes_df[\"strand\"]==\"+\"].iloc[:,:3].to_csv(\"genes+.bed\",index=False,header=None,sep=\"\\t\")\n",
    "genes_df[genes_df[\"strand\"]==\"-\"].iloc[:,:3].to_csv(\"genes-.bed\",index=False,header=None,sep=\"\\t\")\n",
    "\n",
    "! wc -l genes+.bed\n",
    "! wc -l genes-.bed\n",
    "\n",
    "! bedSort genes+.bed  genes+sort.bed \n",
    "! bedSort genes-.bed  genes-sort.bed \n",
    "\n",
    "! bedToBigBed -tab -type=bed3 genes+sort.bed hg19.sizes gene_plus.bb\n",
    "! bedToBigBed -tab -type=bed3 genes-sort.bed hg19.sizes gene_minus.bb"
   ]
  },
  {
   "cell_type": "markdown",
   "id": "seasonal-revolution",
   "metadata": {},
   "source": [
    "#### Create a BigBed for R-loops ..."
   ]
  },
  {
   "cell_type": "markdown",
   "id": "visible-shield",
   "metadata": {},
   "source": [
    "Active TTS with R-loop\n",
    "/nl/umw_job_dekker/users/av90w/projects/for-paper/for-higlass/ActiveTTS-withoutH3K4-NO-CTCF-Rloop\n",
    "\n",
    "Consensus list of R-loops\n",
    "/nl/umw_job_dekker/users/av90w/projects/for-paper/for-higlass/NT2_K562_DRIP\n",
    "(19 229)\n",
    "\n",
    "K562 wig files R-loop:\n",
    "https://www.ncbi.nlm.nih.gov/geo/query/acc.cgi?acc=GSE70189\n",
    "GSM1720619_K562_DRIP.wig.gz\n",
    "Convert wig to bigwig: https://www.encodeproject.org/software/wigtobigwig/\n"
   ]
  },
  {
   "cell_type": "code",
   "execution_count": 41,
   "id": "democratic-bubble",
   "metadata": {},
   "outputs": [],
   "source": [
    "! rm hg19.REDUCED.sizes"
   ]
  },
  {
   "cell_type": "code",
   "execution_count": 51,
   "id": "convenient-hearing",
   "metadata": {},
   "outputs": [],
   "source": [
    "! wigToBigWig DRIP_K562_Rloops.wig hg19.ALT.sizes DRIP_K562_Rloops.bw"
   ]
  },
  {
   "cell_type": "code",
   "execution_count": 49,
   "id": "adjusted-circumstances",
   "metadata": {},
   "outputs": [],
   "source": [
    "#line 96688424 of DRIP_K562_Rloops.wig: chromosome chrUn_gl000220 has 161802 bases, but item ends at 161810\n",
    "# we modified this one to 161850 !!!"
   ]
  },
  {
   "cell_type": "code",
   "execution_count": 14,
   "id": "completed-professor",
   "metadata": {},
   "outputs": [
    {
     "name": "stdout",
     "output_type": "stream",
     "text": [
      "NT2_K562_DRIP                                 100%  448KB   1.8MB/s   00:00    \n"
     ]
    }
   ],
   "source": [
    "!scp ghpcc:/nl/umw_job_dekker/users/av90w/projects/for-paper/for-higlass/NT2_K562_DRIP ./NT2_K562_DRIP.bed"
   ]
  },
  {
   "cell_type": "code",
   "execution_count": 16,
   "id": "minute-breath",
   "metadata": {},
   "outputs": [
    {
     "name": "stdout",
     "output_type": "stream",
     "text": [
      "chr1\t8980\t16829\n",
      "chr1\t19347\t23799\n",
      "chr1\t25221\t31339\n",
      "chr1\t327933\t331035\n",
      "chr1\t563379\t571291\n",
      "chr1\t658642\t661250\n",
      "chr1\t722178\t728140\n",
      "chr1\t753158\t759944\n",
      "chr1\t761376\t773572\n",
      "chr1\t836637\t859981\n",
      "pass1 - making usageList (24 chroms): 4 millis\n",
      "pass2 - checking and writing primary data (19229 records, 3 fields): 17 millis\n"
     ]
    }
   ],
   "source": [
    "! head NT2_K562_DRIP.bed\n",
    "! bedToBigBed -tab -type=bed3 NT2_K562_DRIP.bed hg19.sizes NT2_K562_DRIP.bb\n",
    "# ! bedToBigBed -tab -type=bed3 genes-sort.bed hg19.sizes gene_minus.bb"
   ]
  },
  {
   "cell_type": "markdown",
   "id": "appropriate-package",
   "metadata": {},
   "source": [
    "### Let's create bigBEDs for CTCF peaks(w oriented motifs) ..."
   ]
  },
  {
   "cell_type": "markdown",
   "id": "inside-practitioner",
   "metadata": {},
   "source": [
    "#### read in all called CTCF (NT) peaks ..."
   ]
  },
  {
   "cell_type": "code",
   "execution_count": 82,
   "id": "suffering-alloy",
   "metadata": {},
   "outputs": [],
   "source": [
    "# !wc -l intersect-all-NT-CTCF-NO-G4-centered-RAD21\n",
    "ctcf_peaks_df = bioframe.read_table(\n",
    "#                     \"NT-CTCF-narrowPeaks-sort-merge-with-strength.bed\",\n",
    "                    \"intersect-all-NT-CTCF-NO-G4-centered-RAD21\",\n",
    "                    schema=\"bed3\",\n",
    "                    index_col=False,\n",
    "                )\n",
    "ctcf_peaks_df = ctcf_peaks_df.sort_values([\"chrom\",\"start\"])\n",
    "ctcf_peaks_df = ctcf_peaks_df[ ctcf_peaks_df[\"chrom\"].isin(autosomal_chroms) ]\n",
    "ctcf_peaks_df = ctcf_peaks_df.reset_index(drop=True)"
   ]
  },
  {
   "cell_type": "markdown",
   "id": "yellow-birthday",
   "metadata": {},
   "source": [
    "#### read in CTCF motifs ..."
   ]
  },
  {
   "cell_type": "code",
   "execution_count": 83,
   "id": "pursuant-sleeve",
   "metadata": {},
   "outputs": [],
   "source": [
    "### CTCF motif: http://jaspar.genereg.net/matrix/MA0139.1/\n",
    "jaspar_url = 'http://expdata.cmmt.ubc.ca/JASPAR/downloads/UCSC_tracks/2018/hg19/tsv/'\n",
    "jaspar_motif_file = 'MA0139.1.tsv.gz'\n",
    "ctcf_motifs = bioframe.read_table(\n",
    "                jaspar_url+jaspar_motif_file,\n",
    "                skiprows=1,\n",
    "                names=[\"chrom\", \"start\", \"end\",\"name\",\"score\", \"pval\", \"strand\"]\n",
    ")\n",
    "ctcf_motifs = ctcf_motifs.sort_values([\"chrom\",\"start\"])\n",
    "ctcf_motifs = ctcf_motifs[ ctcf_motifs[\"chrom\"].isin(autosomal_chroms) ]\n",
    "ctcf_motifs = ctcf_motifs.reset_index(drop=True)\n",
    "\n",
    "# beforehand we used FIMO to find motifs in the hg19 - ourselves\n",
    "# it seems to match the published one - OK - so we'll use the published one:\n",
    "# # here is very-very liberal list of CTCF calls in hg19, based on \"MA0139.1.meme\" from JASPAR\n",
    "# # P-val cutoff was 1e-4 - let's see how it looks here ...\n",
    "# !scp ghpcc:/nl/umw_job_dekker/users/sv49w/ALV2021/CTCF_motif/CTCF.hist.txt ./CTCF.MA0139.1.txt\n"
   ]
  },
  {
   "cell_type": "markdown",
   "id": "civic-convert",
   "metadata": {},
   "source": [
    "#### merge CTCF peaks with CTCF motifs - i.e. annotate peaks with motifs ...."
   ]
  },
  {
   "cell_type": "code",
   "execution_count": 88,
   "id": "median-congo",
   "metadata": {},
   "outputs": [
    {
     "data": {
      "text/html": [
       "<div>\n",
       "<style scoped>\n",
       "    .dataframe tbody tr th:only-of-type {\n",
       "        vertical-align: middle;\n",
       "    }\n",
       "\n",
       "    .dataframe tbody tr th {\n",
       "        vertical-align: top;\n",
       "    }\n",
       "\n",
       "    .dataframe thead th {\n",
       "        text-align: right;\n",
       "    }\n",
       "</style>\n",
       "<table border=\"1\" class=\"dataframe\">\n",
       "  <thead>\n",
       "    <tr style=\"text-align: right;\">\n",
       "      <th></th>\n",
       "      <th>chrom</th>\n",
       "      <th>start</th>\n",
       "      <th>end</th>\n",
       "      <th>strand</th>\n",
       "    </tr>\n",
       "  </thead>\n",
       "  <tbody>\n",
       "    <tr>\n",
       "      <th>0</th>\n",
       "      <td>chr1</td>\n",
       "      <td>8651</td>\n",
       "      <td>12008</td>\n",
       "      <td>-</td>\n",
       "    </tr>\n",
       "    <tr>\n",
       "      <th>1</th>\n",
       "      <td>chr1</td>\n",
       "      <td>803437</td>\n",
       "      <td>807191</td>\n",
       "      <td>+</td>\n",
       "    </tr>\n",
       "    <tr>\n",
       "      <th>2</th>\n",
       "      <td>chr1</td>\n",
       "      <td>917517</td>\n",
       "      <td>921479</td>\n",
       "      <td>+</td>\n",
       "    </tr>\n",
       "    <tr>\n",
       "      <th>3</th>\n",
       "      <td>chr1</td>\n",
       "      <td>1055749</td>\n",
       "      <td>1059385</td>\n",
       "      <td>+</td>\n",
       "    </tr>\n",
       "    <tr>\n",
       "      <th>4</th>\n",
       "      <td>chr1</td>\n",
       "      <td>1873787</td>\n",
       "      <td>1877466</td>\n",
       "      <td>+</td>\n",
       "    </tr>\n",
       "  </tbody>\n",
       "</table>\n",
       "</div>"
      ],
      "text/plain": [
       "  chrom    start      end strand\n",
       "0  chr1     8651    12008      -\n",
       "1  chr1   803437   807191      +\n",
       "2  chr1   917517   921479      +\n",
       "3  chr1  1055749  1059385      +\n",
       "4  chr1  1873787  1877466      +"
      ]
     },
     "metadata": {},
     "output_type": "display_data"
    },
    {
     "name": "stdout",
     "output_type": "stream",
     "text": [
      "there are 719 CTCF peaks that do not have a MOTIF associated with them out of 9347\n"
     ]
    }
   ],
   "source": [
    "ctcf_motif_annotated = bioframe.overlap(\n",
    "    ctcf_peaks_df,\n",
    "    ctcf_motifs,\n",
    "    how=\"inner\",\n",
    "    suffixes=('','_')\n",
    ")\n",
    "# for a peak with several motifs, assign the \"strongest\" one:\n",
    "# NOTE pval here is actually -1 * log10(actual_pval) * 100 , i.e. 10^(-13) --> 1_300\n",
    "max_idx = ctcf_motif_annotated.groupby([\"chrom\",\"start\",\"end\"])[\"pval_\"].idxmax()\n",
    "\n",
    "_cols = [\"chrom\",\n",
    "        \"start\",\n",
    "        \"end\",\n",
    "        \"strand_\"]\n",
    "_rename_cols = {\"strand_\":\"strand\"}\n",
    "\n",
    "ctcf_motif_annotated = ctcf_motif_annotated \\\n",
    "                        .loc[max_idx,_cols] \\\n",
    "                        .rename(_rename_cols,axis=1) \\\n",
    "                        .reset_index(drop=True)\n",
    "ctcf_motif_annotated = bioframe.expand(ctcf_motif_annotated,pad=1500)\n",
    "display(ctcf_motif_annotated.head())\n",
    "print(f\"there are {len(ctcf_peaks_df) - len(ctcf_motif_annotated)} CTCF peaks that do not have a MOTIF associated with them out of {len(ctcf_peaks_df)}\")\n"
   ]
  },
  {
   "cell_type": "code",
   "execution_count": 89,
   "id": "sporting-logan",
   "metadata": {},
   "outputs": [],
   "source": [
    "# # one check what happens with the distribution of the pvalues of motif annotations after\n",
    "# # we assign *all* peaks a motif :\n",
    "# ctcf_motifs[\"pval\"].hist(bins=100,log=True)\n",
    "# ctcf_motif_annotated[\"pval_\"].hist(bins=100,log=True)\n",
    "# # pval - 400 seems to be a good cutoff ..."
   ]
  },
  {
   "cell_type": "markdown",
   "id": "chicken-timothy",
   "metadata": {},
   "source": [
    "#### let's start saving annotated peaks and possibly motifs themselves as bigBEDs for display ..."
   ]
  },
  {
   "cell_type": "code",
   "execution_count": 90,
   "id": "floating-begin",
   "metadata": {},
   "outputs": [],
   "source": [
    "ctcf_motif_annotated[ctcf_motif_annotated[\"strand\"]==\"+\"] \\\n",
    "    .to_csv(\n",
    "    \"CTCF_peaks_plus.bed\",\n",
    "    columns=_cols[:3],\n",
    "    header=None,\n",
    "    index=False,\n",
    "    sep=\"\\t\"\n",
    ")\n",
    "ctcf_motif_annotated[ctcf_motif_annotated[\"strand\"]==\"-\"] \\\n",
    "    .to_csv(\n",
    "    \"CTCF_peaks_minus.bed\",\n",
    "    columns=_cols[:3],\n",
    "    header=None,\n",
    "    index=False,\n",
    "    sep=\"\\t\"\n",
    ")"
   ]
  },
  {
   "cell_type": "code",
   "execution_count": 91,
   "id": "comprehensive-dallas",
   "metadata": {},
   "outputs": [
    {
     "name": "stdout",
     "output_type": "stream",
     "text": [
      "pass1 - making usageList (22 chroms): 1 millis\n",
      "pass2 - checking and writing primary data (4379 records, 3 fields): 3 millis\n",
      "pass1 - making usageList (22 chroms): 1 millis\n",
      "pass2 - checking and writing primary data (4249 records, 3 fields): 6 millis\n"
     ]
    }
   ],
   "source": [
    "# ! wc -l CTCF_peaks_minus.bed\n",
    "# ! wc -l CTCF_peaks_plus.bed\n",
    "! bedToBigBed -tab -type=bed3 CTCF_peaks_plus.bed hg19.sizes CTCF_peaks_plus.bb\n",
    "! bedToBigBed -tab -type=bed3 CTCF_peaks_minus.bed hg19.sizes CTCF_peaks_minus.bb"
   ]
  },
  {
   "cell_type": "markdown",
   "id": "configured-norfolk",
   "metadata": {},
   "source": [
    "#### let's try to look at the CTCF-motifs as well ! there are ~ 600'000 of them (pval > 410) ..."
   ]
  },
  {
   "cell_type": "code",
   "execution_count": 78,
   "id": "comic-april",
   "metadata": {},
   "outputs": [],
   "source": [
    "from copy import copy"
   ]
  },
  {
   "cell_type": "code",
   "execution_count": 80,
   "id": "covered-southwest",
   "metadata": {},
   "outputs": [],
   "source": [
    "ctcf_motifs_copy = copy(ctcf_motifs)\n",
    "ctcf_motifs_copy = bioframe.expand(ctcf_motifs_copy,pad=200)\n",
    "ctcf_motifs_copy[(ctcf_motifs_copy[\"strand\"]==\"+\")&(ctcf_motifs_copy[\"pval\"] > 410)] \\\n",
    "    .to_csv(\n",
    "    \"CTCF_motif_plus.bed\",\n",
    "    columns=_cols[:3],\n",
    "    header=None,\n",
    "    index=False,\n",
    "    sep=\"\\t\"\n",
    ")\n",
    "ctcf_motifs_copy[(ctcf_motifs_copy[\"strand\"]==\"-\")&(ctcf_motifs_copy[\"pval\"] > 410)] \\\n",
    "    .to_csv(\n",
    "    \"CTCF_motif_minus.bed\",\n",
    "    columns=_cols[:3],\n",
    "    header=None,\n",
    "    index=False,\n",
    "    sep=\"\\t\"\n",
    ")"
   ]
  },
  {
   "cell_type": "code",
   "execution_count": 81,
   "id": "valued-ecuador",
   "metadata": {},
   "outputs": [
    {
     "name": "stdout",
     "output_type": "stream",
     "text": [
      "pass1 - making usageList (22 chroms): 37 millis\n",
      "pass2 - checking and writing primary data (303156 records, 3 fields): 234 millis\n",
      "pass1 - making usageList (22 chroms): 35 millis\n",
      "pass2 - checking and writing primary data (303842 records, 3 fields): 227 millis\n"
     ]
    }
   ],
   "source": [
    "# ! wc -l CTCF_motif_minus.bed\n",
    "# ! wc -l CTCF_motif_plus.bed\n",
    "! bedToBigBed -tab -type=bed3 CTCF_motif_plus.bed hg19.sizes CTCF_motif_plus.bb\n",
    "! bedToBigBed -tab -type=bed3 CTCF_motif_minus.bed hg19.sizes CTCF_motif_minus.bb"
   ]
  },
  {
   "cell_type": "markdown",
   "id": "sound-sarah",
   "metadata": {},
   "source": [
    "### Let's check out H3K27ac as well (an enhancer mark) - it's BED file of the HAP1 wt peaks (lifted from hg38)"
   ]
  },
  {
   "cell_type": "code",
   "execution_count": 94,
   "id": "about-particular",
   "metadata": {},
   "outputs": [
    {
     "name": "stdout",
     "output_type": "stream",
     "text": [
      "pass1 - making usageList (24 chroms): 6 millis\r\n",
      "pass2 - checking and writing primary data (47564 records, 3 fields): 35 millis\r\n"
     ]
    }
   ],
   "source": [
    "# h3k27ac_df = bioframe.read_table(\"./HAP1_H3K27ac_hglft_genome.bed\",schema=\"bed3\")\n",
    "! bedSort HAP1_H3K27ac_hglft_genome.bed HAP1_H3K27ac_sorted.bed\n",
    "! bedToBigBed -tab -type=bed3 HAP1_H3K27ac_sorted.bed hg19.sizes HAP1_H3K27ac.bb"
   ]
  },
  {
   "cell_type": "markdown",
   "id": "effective-paint",
   "metadata": {},
   "source": [
    "### Let's check the Enahncers themselves !"
   ]
  },
  {
   "cell_type": "code",
   "execution_count": 16,
   "id": "underlying-begin",
   "metadata": {},
   "outputs": [
    {
     "name": "stdout",
     "output_type": "stream",
     "text": [
      "43148 K562_Enhancers_bed3.bed\r\n"
     ]
    }
   ],
   "source": [
    "! wc -l K562_Enhancers_bed3.bed "
   ]
  },
  {
   "cell_type": "code",
   "execution_count": 11,
   "id": "cardiovascular-belfast",
   "metadata": {},
   "outputs": [
    {
     "name": "stdout",
     "output_type": "stream",
     "text": [
      "pass1 - making usageList (23 chroms): 6 millis\n",
      "pass2 - checking and writing primary data (43148 records, 3 fields): 42 millis\n"
     ]
    }
   ],
   "source": [
    "!cut -f1-3 K562_Enhancers.bed > K562_Enhancers_bed3.bed \n",
    "! bedSort K562_Enhancers_bed3.bed  K562_Enhancers_sorted.bed\n",
    "! bedToBigBed -tab -type=bed3 K562_Enhancers_sorted.bed hg19.sizes K562_Enhancers.bb"
   ]
  },
  {
   "cell_type": "markdown",
   "id": "liquid-outdoors",
   "metadata": {},
   "source": [
    "#### Super enhancers to BigBed ..."
   ]
  },
  {
   "cell_type": "code",
   "execution_count": 103,
   "id": "disciplinary-delay",
   "metadata": {},
   "outputs": [],
   "source": [
    "! cat HCT-116-SuperEnhancers.bed|head -10741| tail -n +2 |cut -f1-3 > HCT-116-SuperEnhancers_10740.bed\n",
    "! tail -n +10742 HCT-116-SuperEnhancers.bed| tail -n +3 |cut -f1-3 > HCT-116-SuperEnhancers_389.bed"
   ]
  },
  {
   "cell_type": "code",
   "execution_count": 109,
   "id": "sticky-apparel",
   "metadata": {},
   "outputs": [
    {
     "name": "stdout",
     "output_type": "stream",
     "text": [
      "track name=\"Enhancers in HCT-116 in HCT-116\" itemRGB=On color=0,0,0\r\n",
      "chr4\t30742798\t30979694\t48_MACS_peak_20052_lociStitched\t1\r\n",
      "chr1\t8064006\t8276456\t46_MACS_peak_292_lociStitched\t2\r\n",
      "chr12\t76015297\t76191707\t33_MACS_peak_6160_lociStitched\t4\r\n",
      "chr12\t76239756\t76392059\t32_MACS_peak_6207_lociStitched\t28\r\n",
      "chr8\t94830284\t94973679\t21_MACS_peak_25106_lociStitched\t3\r\n",
      "chr6\t159106998\t159241627\t26_MACS_peak_23177_lociStitched\t11\r\n",
      "chr12\t65819549\t65933738\t18_MACS_peak_6078_lociStitched\t27\r\n",
      "chr8\t128208736\t128320580\t19_MACS_peak_25370_lociStitched\t12\r\n",
      "chr4\t169400771\t169511678\t21_MACS_peak_20668_lociStitched\t50\r\n"
     ]
    }
   ],
   "source": [
    "! head HCT-116-SuperEnhancers.bed"
   ]
  },
  {
   "cell_type": "code",
   "execution_count": 104,
   "id": "formal-phoenix",
   "metadata": {},
   "outputs": [],
   "source": [
    "! cat K562_SuperEnhancers.bed|head -12024 | tail -n +2 |cut -f1-3 > K562-SuperEnhancers_12023.bed\n",
    "! tail -n +12025 K562_SuperEnhancers.bed | tail -n +3 |cut -f1-3 > K562-SuperEnhancers_744.bed"
   ]
  },
  {
   "cell_type": "code",
   "execution_count": 111,
   "id": "serious-infection",
   "metadata": {},
   "outputs": [
    {
     "name": "stdout",
     "output_type": "stream",
     "text": [
      "pass1 - making usageList (23 chroms): 1 millis\n",
      "pass2 - checking and writing primary data (10740 records, 3 fields): 10 millis\n",
      "pass1 - making usageList (23 chroms): 0 millis\n",
      "pass2 - checking and writing primary data (388 records, 3 fields): 1 millis\n",
      "pass1 - making usageList (23 chroms): 2 millis\n",
      "pass2 - checking and writing primary data (12023 records, 3 fields): 10 millis\n",
      "pass1 - making usageList (23 chroms): 0 millis\n",
      "pass2 - checking and writing primary data (742 records, 3 fields): 2 millis\n"
     ]
    }
   ],
   "source": [
    "# ! bedSort HCT-116-SuperEnhancers_10740.bed HCT-116-SuperEnhancers_10740_sort.bed\n",
    "# ! bedSort HCT-116-SuperEnhancers_389.bed HCT-116-SuperEnhancers_389_sort.bed\n",
    "# ! bedSort K562-SuperEnhancers_12023.bed K562-SuperEnhancers_12023_sort.bed\n",
    "# ! bedSort K562-SuperEnhancers_744.bed K562-SuperEnhancers_744_sort.bed\n",
    "\n",
    "\n",
    "! bedToBigBed -tab -type=bed3 HCT-116-SuperEnhancers_10740_sort.bed hg19.sizes HCT-116-SuperEnhancers_10740.bb\n",
    "! bedToBigBed -tab -type=bed3 HCT-116-SuperEnhancers_389_sort.bed hg19.sizes HCT-116-SuperEnhancers_389.bb\n",
    "! bedToBigBed -tab -type=bed3 K562-SuperEnhancers_12023_sort.bed hg19.sizes K562-SuperEnhancers_12023.bb\n",
    "! bedToBigBed -tab -type=bed3 K562-SuperEnhancers_744_sort.bed hg19.sizes K562-SuperEnhancers_744.bb\n",
    "\n",
    "\n",
    "\n",
    "# ! bedToBigBed -tab -type=bed3 HCT-116-SuperEnhancers_sort.bed hg19.sizes HCT-116-SuperEnhancers.bb\n",
    "# ! bedToBigBed -tab -type=bed3 K562_SuperEnhancers_sort.bed hg19.sizes K562_SuperEnhancers.bb\n"
   ]
  },
  {
   "cell_type": "markdown",
   "id": "informational-thermal",
   "metadata": {},
   "source": [
    "The first three required BED fields are:\n",
    "\n",
    " - **chrom** - The name of the chromosome (e.g. chr3, chrY, chr2_random) or scaffold (e.g. scaffold10671).\n",
    " - chromStart - The starting position of the feature in the chromosome or scaffold. The first base in a chromosome is numbered 0.\n",
    " - chromEnd - The ending position of the feature in the chromosome or scaffold. The chromEnd base is not included in the display of the feature, however, the number in position format will be represented. For example, the first 100 bases of chromosome 1 are defined as chrom=1, chromStart=0, chromEnd=100, and span the bases numbered 0-99 in our software (not 0-100), but will represent the position notation chr1:1-100. Read more here.\n",
    "\n",
    "\n",
    "The 9 additional optional BED fields are:\n",
    "\n",
    " - name - Defines the name of the BED line. This label is displayed to the left of the BED line in the Genome Browser window when the track is open to full display mode or directly to the left of the item in pack mode.\n",
    " - score - A score between 0 and 1000. If the track line useScore attribute is set to 1 for this annotation data set, the score value will determine the level of gray in which this feature is displayed (higher numbers = darker gray).\n",
    " - strand - Defines the strand. Either \".\" (=no strand) or \"+\" or \"-\".\n",
    " - thickStart - The starting position at which the feature is drawn thickly (for example, the start codon in gene displays). When there is no thick part, thickStart and thickEnd are usually set to the chromStart position.\n",
    " - thickEnd - The ending position at which the feature is drawn thickly (for example the stop codon in gene displays).\n",
    " - itemRgb - An RGB value of the form R,G,B (e.g. 255,0,0). If the track line itemRgb attribute is set to \"On\", this RBG value will determine the display color of the data contained in this BED line. NOTE: It is recommended that a simple color scheme (eight colors or less) be used with this attribute to avoid overwhelming the color resources of the Genome Browser and your Internet browser.\n",
    " - blockCount - The number of blocks (exons) in the BED line.\n",
    " - blockSizes - A comma-separated list of the block sizes. The number of items in this list should correspond to blockCount.\n",
    " - blockStarts - A comma-separated list of block starts. All of the blockStart positions should be calculated relative to chromStart. The number of items in this list should correspond to blockCount."
   ]
  },
  {
   "cell_type": "code",
   "execution_count": 196,
   "id": "settled-selection",
   "metadata": {},
   "outputs": [],
   "source": [
    "import bioframe\n",
    "import pandas as pd\n",
    "ddd = pd.read_csv(\"geneAnnotationsExonUnions.bed\",sep=\"\\t\",header=None)"
   ]
  },
  {
   "cell_type": "code",
   "execution_count": 5,
   "id": "commercial-efficiency",
   "metadata": {},
   "outputs": [
    {
     "name": "stdout",
     "output_type": "stream",
     "text": [
      "pass1 - making usageList (23 chroms): 4 millis\r\n",
      "pass2 - checking and writing primary data (37363 records, 3 fields): 26 millis\r\n"
     ]
    }
   ],
   "source": [
    "xxx = pd.read_csv(\"./gene_annot_data/HK_exons.csv\")#.groupby(\"Chromosome\").size()\n",
    "# xxx[xxx[\"Gene Name\"]==\"M6PR\"]\n",
    "# \"chromosome\" \"exon start\" \"exon end\"\n",
    "xxx = xxx.rename({\"chromosome\":\"chrom\",\"exon start\":\"start\",\"exon end\":\"end\"},axis=1)\n",
    "xxx = xxx[[\"chrom\",\"start\",\"end\"]].drop_duplicates().reset_index(drop=True)\n",
    "xxx = xxx.sort_values([\"chrom\",\"start\"]).reset_index(drop=True)\n",
    "xxx.to_csv(\"HKexons.bed\",header=None,index=False,sep=\"\\t\")\n",
    "! bedToBigBed -tab -type=bed3 HKexons.bed hg19.sizes HKexons.bb"
   ]
  },
  {
   "cell_type": "code",
   "execution_count": 6,
   "id": "grateful-python",
   "metadata": {},
   "outputs": [],
   "source": [
    "xxx = pd.read_csv(\"./gene_annot_data/Housekeeping_TranscriptsHuman.csv\",sep=\";\") \\\n",
    "        .rename({\"Chromosome\":\"chrom\",\"Start position\":\"start\",\"End position\":\"end\"},axis=1)\n",
    "xxx = xxx[[\"chrom\",\"start\",\"end\"]]\n",
    "xxx[\"chrom\"] = \"chr\"+xxx[\"chrom\"].astype(\"str\")\n",
    "# \"Chromosome\",\"Start position\",\"End position\"\n",
    "# ({\"Chromosome\":\"chrom\",\"Start position\":\"start\",\"End position\":\"end\"})\n",
    "xxx = xxx.sort_values([\"chrom\",\"start\"]).reset_index(drop=True)\n",
    "xxx.to_csv(\"/home/sergpolly/Desktop/HKtrans.bed\",header=None,index=False,sep=\"\\t\")\n",
    "# xxx lifted to hg19 using whatever online tool ..."
   ]
  },
  {
   "cell_type": "code",
   "execution_count": 40,
   "id": "included-smell",
   "metadata": {},
   "outputs": [
    {
     "name": "stdout",
     "output_type": "stream",
     "text": [
      "pass1 - making usageList (23 chroms): 1 millis\r\n",
      "pass2 - checking and writing primary data (2157 records, 3 fields): 5 millis\r\n"
     ]
    }
   ],
   "source": [
    "! bedSort ./gene_annot_data/HKtrans_hg19_downloaded.bed HKtrans_hg19.bed\n",
    "! bedToBigBed -tab -type=bed3 HKtrans_hg19.bed hg19.sizes HKtrans.bb"
   ]
  },
  {
   "cell_type": "code",
   "execution_count": 7,
   "id": "daily-lending",
   "metadata": {},
   "outputs": [],
   "source": [
    "pd.read_csv(\"./gene_annot_data/Housekeeping_TranscriptsHuman.csv\",sep=\";\")#.groupby(\"Chromosome\").size()\n",
    "HK_genes = pd.read_csv(\"./gene_annot_data/Housekeeping_GenesHuman.csv\",sep=\";\")[\"Gene.name\"].unique()"
   ]
  },
  {
   "cell_type": "code",
   "execution_count": 8,
   "id": "dependent-spouse",
   "metadata": {},
   "outputs": [
    {
     "name": "stdout",
     "output_type": "stream",
     "text": [
      "pass1 - making usageList (24 chroms): 0 millis\r\n",
      "pass2 - checking and writing primary data (1718 records, 3 fields): 3 millis\r\n"
     ]
    }
   ],
   "source": [
    "# ddd.loc[3]\n",
    "aaa = ddd[ddd.iloc[:,3].isin(HK_genes)].reset_index(drop=True)\n",
    "aaa.iloc[:,:3].to_csv(\"HKgenes.bed\",index=False,header=None,sep=\"\\t\")\n",
    "! bedToBigBed -tab -type=bed3 HKgenes.bed hg19.sizes HKgenes.bb\n",
    "# aaa[maaa].iloc[:,:6].to_csv(\"protein-coding-genes-.bed\",index=False,header=None,sep=\"\\t\")"
   ]
  },
  {
   "cell_type": "code",
   "execution_count": 41,
   "id": "editorial-librarian",
   "metadata": {},
   "outputs": [
    {
     "data": {
      "text/plain": [
       "Text(0, 0.5, 'CDS size, bp')"
      ]
     },
     "execution_count": 41,
     "metadata": {},
     "output_type": "execute_result"
    },
    {
     "data": {
      "image/png": "[encoded data removed]",
      "text/plain": [
       "<Figure size 432x288 with 1 Axes>"
      ]
     },
     "metadata": {
      "needs_background": "light"
     },
     "output_type": "display_data"
    }
   ],
   "source": [
    "plt.scatter((ddd.loc[:,2] - ddd.loc[:,1]).values,(ddd.loc[:,11] - ddd.loc[:,10]).values,alpha=0.2)\n",
    "ax = plt.gca()\n",
    "ax.set_xscale(\"log\")\n",
    "ax.set_yscale(\"log\")\n",
    "ax.set_xlim((100,5e6))\n",
    "ax.set_ylim((100,5e6))\n",
    "ax.set_xlabel(\"transcript size, bp\")\n",
    "ax.set_ylabel(\"CDS size, bp\")\n",
    "\n"
   ]
  },
  {
   "cell_type": "code",
   "execution_count": 81,
   "id": "utility-trunk",
   "metadata": {},
   "outputs": [
    {
     "data": {
      "text/plain": [
       "Text(0, 0.5, 'TSS--->CDS distance, bp')"
      ]
     },
     "execution_count": 81,
     "metadata": {},
     "output_type": "execute_result"
    },
    {
     "data": {
      "image/png": "[encoded data removed]",
      "text/plain": [
       "<Figure size 432x288 with 1 Axes>"
      ]
     },
     "metadata": {
      "needs_background": "light"
     },
     "output_type": "display_data"
    }
   ],
   "source": [
    "# 1---->2 # transcript coords\n",
    "# 10-->11 # CDS coords\n",
    "# bins = np.linspace(0,1e6,200)\n",
    "# bins = np.geomspace(100,1e6,200)\n",
    "y = (ddd.loc[:,10] - ddd.loc[:,1])[(ddd.iloc[:,5]==\"+\")&(ddd.iloc[:,8]==\"protein-coding\")].values\n",
    "x = (ddd.loc[:,2] - ddd.loc[:,1])[(ddd.iloc[:,5]==\"+\")&(ddd.iloc[:,8]==\"protein-coding\")].values\n",
    "\n",
    "plt.loglog(x,y,'ro',alpha=0.05)\n",
    "ax = plt.gca()#.set_xscale(\"log\")\n",
    "# plt.gca().set_title(\"distribution of CDS\")\n",
    "ax.set_xlabel(\"transcript size, bp\")\n",
    "ax.set_ylabel(\"TSS--->CDS distance, bp\")\n"
   ]
  },
  {
   "cell_type": "code",
   "execution_count": 79,
   "id": "resident-vanilla",
   "metadata": {},
   "outputs": [
    {
     "data": {
      "text/plain": [
       "[<matplotlib.lines.Line2D at 0x7fc6ff239550>]"
      ]
     },
     "execution_count": 79,
     "metadata": {},
     "output_type": "execute_result"
    },
    {
     "data": {
      "image/png": "[encoded data removed]",
      "text/plain": [
       "<Figure size 432x288 with 1 Axes>"
      ]
     },
     "metadata": {
      "needs_background": "light"
     },
     "output_type": "display_data"
    }
   ],
   "source": [
    "# 2---->1\n",
    "# 11-->10\n",
    "# bins = np.linspace(0,1e6,200)\n",
    "# bins = np.geomspace(100,1e6,200)\n",
    "y = (ddd.loc[:,2] - ddd.loc[:,11])[(ddd.iloc[:,5]==\"-\")&(ddd.iloc[:,8]==\"protein-coding\")].values\n",
    "x = (ddd.loc[:,2] - ddd.loc[:,1])[(ddd.iloc[:,5]==\"-\")&(ddd.iloc[:,8]==\"protein-coding\")].values\n",
    "\n",
    "plt.loglog(x,y,'ro',alpha=0.05)\n",
    "# plt.gca().set_xscale(\"log\")\n",
    "# plt.gca().set_title(\"distribution of CDS\")"
   ]
  },
  {
   "cell_type": "code",
   "execution_count": 56,
   "id": "atlantic-reverse",
   "metadata": {},
   "outputs": [
    {
     "data": {
      "text/plain": [
       "<AxesSubplot:>"
      ]
     },
     "execution_count": 56,
     "metadata": {},
     "output_type": "execute_result"
    },
    {
     "data": {
      "image/png": "[encoded data removed]",
      "text/plain": [
       "<Figure size 432x288 with 1 Axes>"
      ]
     },
     "metadata": {
      "needs_background": "light"
     },
     "output_type": "display_data"
    }
   ],
   "source": [
    "# bins = np.linspace(0,1e6,200)\n",
    "# bins = np.geomspace(100,1e6,200)\n",
    "(ddd.loc[:,10] - ddd.loc[:,1])[ddd.iloc[:,5]==\"+\"].hist(bins=100,log=True)\n",
    "(ddd.loc[:,2] - ddd.loc[:,1])[ddd.iloc[:,5]==\"+\"].hist(bins=100,log=True,alpha=0.3)\n",
    "\n",
    "# plt.gca().set_xscale(\"log\")\n",
    "# plt.gca().set_title(\"distribution of CDS\")"
   ]
  },
  {
   "cell_type": "code",
   "execution_count": 31,
   "id": "broad-watson",
   "metadata": {},
   "outputs": [
    {
     "data": {
      "text/plain": [
       "Text(0.5, 1.0, 'distribution of CDS')"
      ]
     },
     "execution_count": 31,
     "metadata": {},
     "output_type": "execute_result"
    },
    {
     "data": {
      "image/png": "[encoded data removed]",
      "text/plain": [
       "<Figure size 432x288 with 1 Axes>"
      ]
     },
     "metadata": {
      "needs_background": "light"
     },
     "output_type": "display_data"
    }
   ],
   "source": [
    "# bins = np.linspace(0,1e6,200)\n",
    "bins = np.geomspace(100,1e6,200)\n",
    "(ddd.loc[:,11] - ddd.loc[:,10]).hist(bins=bins,log=True)\n",
    "plt.gca().set_xscale(\"log\")\n",
    "plt.gca().set_title(\"distribution of CDS\")"
   ]
  },
  {
   "cell_type": "code",
   "execution_count": 43,
   "id": "faced-fraud",
   "metadata": {},
   "outputs": [],
   "source": [
    "aaa = ddd[ddd[8] == \"protein-coding\"].copy()\n",
    "aaa[4] = 1\n",
    "paaa = (aaa[5] == \"+\")\n",
    "maaa = (aaa[5] == \"-\")\n",
    "aaa[paaa].iloc[:,:6].to_csv(\"protein-coding-genes+.bed\",index=False,header=None,sep=\"\\t\")\n",
    "aaa[maaa].iloc[:,:6].to_csv(\"protein-coding-genes-.bed\",index=False,header=None,sep=\"\\t\")"
   ]
  },
  {
   "cell_type": "code",
   "execution_count": 44,
   "id": "durable-assistant",
   "metadata": {},
   "outputs": [],
   "source": [
    "# let's look at other types of transcripts separately !\n",
    "aaa = ddd[ddd[8] != \"protein-coding\"].copy()\n",
    "aaa[4] = 1\n",
    "paaa = (aaa[5] == \"+\")\n",
    "maaa = (aaa[5] == \"-\")\n",
    "aaa[paaa].iloc[:,:6].to_csv(\"noncoding-genes+.bed\",index=False,header=None,sep=\"\\t\")\n",
    "aaa[maaa].iloc[:,:6].to_csv(\"noncoding-genes-.bed\",index=False,header=None,sep=\"\\t\")"
   ]
  },
  {
   "cell_type": "code",
   "execution_count": 45,
   "id": "arbitrary-dealing",
   "metadata": {},
   "outputs": [
    {
     "name": "stdout",
     "output_type": "stream",
     "text": [
      "8590 protein-coding-genes+.bed\n",
      "8295 protein-coding-genes-.bed\n",
      "4045 noncoding-genes+.bed\n",
      "3955 noncoding-genes-.bed\n"
     ]
    }
   ],
   "source": [
    "! wc -l protein-coding-genes+.bed\n",
    "! wc -l protein-coding-genes-.bed\n",
    "! wc -l noncoding-genes+.bed\n",
    "! wc -l noncoding-genes-.bed"
   ]
  },
  {
   "cell_type": "code",
   "execution_count": 120,
   "id": "crucial-metallic",
   "metadata": {},
   "outputs": [
    {
     "name": "stdout",
     "output_type": "stream",
     "text": [
      "pass1 - making usageList (24 chroms): 2 millis\n",
      "pass2 - checking and writing primary data (8590 records, 6 fields): 16 millis\n",
      "pass1 - making usageList (24 chroms): 2 millis\n",
      "pass2 - checking and writing primary data (8295 records, 6 fields): 16 millis\n"
     ]
    }
   ],
   "source": [
    "! bedToBigBed -tab -type=bed6 protein-coding-genes+.bed hg19.sizes pcgene_plus.bb\n",
    "! bedToBigBed -tab -type=bed6 protein-coding-genes-.bed hg19.sizes pcgene_minus.bb"
   ]
  },
  {
   "cell_type": "code",
   "execution_count": 15,
   "id": "biblical-illustration",
   "metadata": {},
   "outputs": [
    {
     "name": "stdout",
     "output_type": "stream",
     "text": [
      "pass1 - making usageList (24 chroms): 2 millis\n",
      "pass2 - checking and writing primary data (4045 records, 6 fields): 12 millis\n",
      "pass1 - making usageList (25 chroms): 1 millis\n",
      "pass2 - checking and writing primary data (3955 records, 6 fields): 7 millis\n"
     ]
    }
   ],
   "source": [
    "! bedToBigBed -tab -type=bed6 noncoding-genes+.bed hg19.sizes ncgene_plus.bb\n",
    "! bedToBigBed -tab -type=bed6 noncoding-genes-.bed hg19.sizes ncgene_minus.bb"
   ]
  },
  {
   "cell_type": "markdown",
   "id": "banner-directive",
   "metadata": {},
   "source": [
    "### let's merge TSS with G4 peaks to defin all G4/transcription related locations ..."
   ]
  },
  {
   "cell_type": "code",
   "execution_count": 49,
   "id": "organized-competition",
   "metadata": {},
   "outputs": [
    {
     "name": "stdout",
     "output_type": "stream",
     "text": [
      "G4 ChipSeq peaks 8955\n",
      "and the union list is 32826 bs 32826\n"
     ]
    }
   ],
   "source": [
    "# bf is short for bioframe here ...\n",
    "df = bioframe.read_table(\n",
    "    \"G4-Mao-sort\",\n",
    "    names=[\"chrom\",\"start\",\"end\"]\n",
    ")\n",
    "df = df.sort_values([\"chrom\",\"start\"])\n",
    "df = df.reset_index(drop=True)\n",
    "print(f\"G4 ChipSeq peaks {len(df)}\")\n",
    "# bf is short for bioframe here ...\n",
    "_df = pd.concat([TSS.rename({0:\"chrom\",1:\"start\",2:\"end\"},axis=1),df]).sort_values([\"chrom\",\"start\"]).reset_index(drop=True)\n",
    "bioframe.merge(_df, min_dist=1000)[[\"chrom\",\"start\",\"end\"]].to_csv(\"union_G4_TSS.bed\",header=None,index=False,sep=\"\\t\")\n",
    "print(f\"and the union list is {len(_df)} bs {len(df)+len(TSS)}\")\n"
   ]
  },
  {
   "cell_type": "code",
   "execution_count": 91,
   "id": "wrapped-programming",
   "metadata": {},
   "outputs": [],
   "source": [
    "tss = TSS.rename({0:\"chrom\",1:\"start\",2:\"end\"},axis=1).copy()\n",
    "# iii = np.arange(len(tss))\n",
    "# np.random.shuffle(iii)\n",
    "# tss.index = iii\n",
    "# tss\n"
   ]
  },
  {
   "cell_type": "code",
   "execution_count": 38,
   "id": "blocked-error",
   "metadata": {},
   "outputs": [],
   "source": [
    "! bedSort {DATADIR}/{ASSEMBLY}/geneAnnotationsExonUnions.bed geneAnnotationsExonUnions.bed"
   ]
  },
  {
   "cell_type": "code",
   "execution_count": 65,
   "id": "speaking-executive",
   "metadata": {},
   "outputs": [],
   "source": [
    "! cat geneAnnotationsExonUnions.bed |cut -f1-4 > justGenes.bed"
   ]
  },
  {
   "cell_type": "code",
   "execution_count": 90,
   "id": "reported-variation",
   "metadata": {},
   "outputs": [
    {
     "name": "stdout",
     "output_type": "stream",
     "text": [
      "chr10\t70173820\t70231878\tDNA2\t55\t-\tunion_1763\t1763\tprotein-coding\tDNA replication helicase/nuclease 2\t70174795\t70231621\t70173820,70176463,70178790,70179559,70181981,70182271,70182453,70190192,70190192,70191613,70191962,70192150,70196767,70202673,70204677,70206052,70209784,70218860,70225423,70227879,70229737,70231547,70231547,70231810\t70174862,70176612,70178970,70179649,70182186,70182361,70182647,70190297,70190412,70191728,70192072,70192267,70196998,70202868,70204840,70206170,70210004,70218992,70225569,70228063,70229920,70231642,70231730,70231878\r\n",
      "chr10\t70320093\t70454242\tTET1\t164\t+\tunion_80312\t80312\tprotein-coding\ttet methylcytosine dioxygenase 1\t70332095\t70451571\t70320093,70331973,70360737,70404454,70411602,70412257,70426801,70432651,70441155,70442592,70446112,70450564\t70320499,70334009,70360791,70406762,70411693,70412351,70427013,70432802,70441245,70442730,70446464,70454242\r\n",
      "chr10\t70480995\t70552134\tCCAR1\t94\t+\tunion_55749\t55749\tprotein-coding\tcell division cycle and apoptosis regulator 1\t70482261\t70551023\t70480995,70480995,70482211,70496632,70497601,70500385,70502132,70506917,70507130,70508892,70509280,70513608,70514470,70515126,70516029,70517050,70520763,70525644,70530962,70532744,70545892,70546302,70547683,70547899,70549466,70550963\t70481039,70481045,70482334,70496805,70497646,70500418,70502326,70507032,70507323,70509022,70509442,70513834,70514584,70515293,70516240,70517134,70520949,70525836,70531202,70532856,70545975,70546449,70547804,70548085,70549672,70552134\r\n",
      "chr10\t70514928\t70514995\tSNORD98\t2\t+\tunion_692211\t692211\tsnoRNA\tsmall nucleolar RNA, C/D box 98\t70514995\t70514995\t70514928\t70514995\r\n",
      "chr10\t70587287\t70655211\tSTOX1\t33\t+\tunion_219736\t219736\tprotein-coding\tstorkhead box 1\t70587380\t70652365\t70587287,70587293,70641713,70644015,70644015,70652344,70652344,70654997\t70587690,70587690,70641866,70644215,70646374,70652529,70652816,70655211\r\n",
      "chr10\t70661070\t70706603\tDDX50\t82\t+\tunion_79009\t79009\tprotein-coding\tDExD-box helicase 50\t70661140\t70706386\t70661070,70666466,70670062,70670823,70672917,70673146,70673814,70679587,70693954,70694554,70695761,70696691,70700815,70702968,70706107\t70661227,70666763,70670138,70671002,70673035,70673332,70673960,70679737,70694116,70694674,70695835,70696851,70700950,70703013,70706603\r\n",
      "chr10\t70715925\t70744825\tDDX21\t194\t+\tunion_9188\t9188\tprotein-coding\tDExD-box helicase 21\t70719678\t70742568\t70715925,70716195,70719561,70721837,70723046,70725132,70726773,70728731,70729956,70731646,70733300,70734425,70737284,70738597,70741292,70742298,70742298\t70716068,70716504,70720005,70721913,70723225,70725250,70726959,70728877,70730106,70731808,70733420,70734499,70737444,70738732,70741337,70744824,70744825\r\n",
      "chr10\t70748558\t70776736\tKIFBP\t48\t+\tunion_26128\t26128\tprotein-coding\tkinesin family binding protein\t70748588\t70776172\t70748558,70760179,70764801,70765487,70768596,70770655,70775296\t70749014,70760278,70764881,70765671,70768681,70770771,70776736\r\n",
      "chr10\t70883908\t70934172\tVPS26A\t104\t+\tunion_9559\t9559\tprotein-coding\tVPS26, retromer complex component A\t70884033\t70930940\t70883908,70883933,70892653,70893287,70893287,70915567,70916762,70917802,70922161,70925797,70928244,70930911,70930911\t70884036,70884036,70892803,70893363,70893393,70915643,70916919,70917967,70922268,70925866,70928387,70934168,70934172\r\n",
      "chr10\t70939989\t70968849\tSUPV3L1\t47\t+\tunion_6832\t6832\tprotein-coding\tSuv3 like RNA helicase\t70946242\t70968791\t70939989,70942275,70945694,70945742,70946198,70947149,70947397,70949022,70951410,70954943,70956747,70958127,70958859,70960035,70962194,70962622,70962698,70967548,70968355\t70940318,70942410,70945820,70945820,70946306,70947222,70947512,70949191,70951522,70955021,70956839,70958308,70958953,70960255,70962275,70962799,70962799,70967697,70968849\r\n"
     ]
    }
   ],
   "source": [
    "! bedToBigBed -tab -type=bed4 justGenes.bed hg19.sizes hg19_annot.bb! head -3000 geneAnnotationsExonUnions.bed|tail"
   ]
  },
  {
   "cell_type": "code",
   "execution_count": 66,
   "id": "integral-austin",
   "metadata": {},
   "outputs": [
    {
     "name": "stdout",
     "output_type": "stream",
     "text": [
      "chr1\t11868\t14362\tDDX11L17\r\n",
      "chr1\t11873\t14409\tDDX11L1\r\n",
      "chr1\t14361\t29370\tWASH7P\r\n",
      "chr1\t17368\t17436\tMIR6859-4\r\n",
      "chr1\t17368\t17436\tMIR6859-1\r\n",
      "chr1\t17368\t17436\tMIR6859-3\r\n",
      "chr1\t17368\t17436\tMIR6859-2\r\n",
      "chr1\t30365\t30503\tMIR1302-11\r\n",
      "chr1\t30365\t30503\tMIR1302-10\r\n",
      "chr1\t30365\t30503\tMIR1302-9\r\n"
     ]
    }
   ],
   "source": [
    "! head justGenes.bed"
   ]
  },
  {
   "cell_type": "code",
   "execution_count": 67,
   "id": "single-romania",
   "metadata": {},
   "outputs": [
    {
     "name": "stdout",
     "output_type": "stream",
     "text": [
      "pass1 - making usageList (25 chroms): 7 millis\n",
      "pass2 - checking and writing primary data (24885 records, 4 fields): 40 millis\n"
     ]
    }
   ],
   "source": [
    "! bedToBigBed -tab -type=bed4 justGenes.bed hg19.sizes hg19_annot.bb"
   ]
  },
  {
   "cell_type": "code",
   "execution_count": 68,
   "id": "romance-insider",
   "metadata": {},
   "outputs": [
    {
     "name": "stdout",
     "output_type": "stream",
     "text": [
      "-rw-rw-r-- 1 sergpolly sergpolly 418K Mar 25 18:32 hg19_annot.bb\r\n",
      "-rwxrwxr-x 1 sergpolly sergpolly  376 Mar 25 17:35 \u001b[0m\u001b[01;32mhg19.reduced.chrom.sizes\u001b[0m*\r\n",
      "-rw-rw-r-- 1 sergpolly sergpolly 2.0K Mar 25 17:54 hg19.sizes\r\n"
     ]
    }
   ],
   "source": [
    "ls -lah hg19*"
   ]
  },
  {
   "cell_type": "code",
   "execution_count": 42,
   "id": "equipped-bidding",
   "metadata": {},
   "outputs": [],
   "source": [
    "#wget http://hgdownload.cse.ucsc.edu/admin/exe/linux.x86_64/bedToBigBed"
   ]
  },
  {
   "cell_type": "code",
   "execution_count": 70,
   "id": "cordless-budget",
   "metadata": {},
   "outputs": [
    {
     "data": {
      "text/plain": [
       "{'version': 4,\n",
       " 'isCompressed': True,\n",
       " 'isSwapped': 0,\n",
       " 'primaryDataSize': 299451,\n",
       " 'zoomLevels': 6,\n",
       " 'chromCount': 25,\n",
       " 'summary': {'basesCovered': 1157192927,\n",
       "  'sum': 1246306033.0,\n",
       "  'mean': 1.077007994017924,\n",
       "  'min': 1.0,\n",
       "  'max': 21.0,\n",
       "  'std': 0.4987228052953744}}"
      ]
     },
     "execution_count": 70,
     "metadata": {},
     "output_type": "execute_result"
    }
   ],
   "source": [
    "bbi.info(\"hg19_annot.bb\")"
   ]
  },
  {
   "cell_type": "code",
   "execution_count": null,
   "id": "tough-canvas",
   "metadata": {},
   "outputs": [],
   "source": []
  },
  {
   "cell_type": "code",
   "execution_count": 115,
   "id": "precious-intervention",
   "metadata": {},
   "outputs": [
    {
     "data": {
      "text/html": [
       "<div>\n",
       "<style scoped>\n",
       "    .dataframe tbody tr th:only-of-type {\n",
       "        vertical-align: middle;\n",
       "    }\n",
       "\n",
       "    .dataframe tbody tr th {\n",
       "        vertical-align: top;\n",
       "    }\n",
       "\n",
       "    .dataframe thead th {\n",
       "        text-align: right;\n",
       "    }\n",
       "</style>\n",
       "<table border=\"1\" class=\"dataframe\">\n",
       "  <thead>\n",
       "    <tr style=\"text-align: right;\">\n",
       "      <th></th>\n",
       "      <th>chrom</th>\n",
       "      <th>start</th>\n",
       "      <th>end</th>\n",
       "      <th>name</th>\n",
       "      <th>score</th>\n",
       "      <th>strand</th>\n",
       "    </tr>\n",
       "  </thead>\n",
       "  <tbody>\n",
       "    <tr>\n",
       "      <th>0</th>\n",
       "      <td>chr1</td>\n",
       "      <td>40026489</td>\n",
       "      <td>40042462</td>\n",
       "      <td>PABPC4</td>\n",
       "      <td>1</td>\n",
       "      <td>-</td>\n",
       "    </tr>\n",
       "    <tr>\n",
       "      <th>1</th>\n",
       "      <td>chr1</td>\n",
       "      <td>40089106</td>\n",
       "      <td>40105315</td>\n",
       "      <td>HEYL</td>\n",
       "      <td>1</td>\n",
       "      <td>-</td>\n",
       "    </tr>\n",
       "    <tr>\n",
       "      <th>2</th>\n",
       "      <td>chr1</td>\n",
       "      <td>40124792</td>\n",
       "      <td>40137710</td>\n",
       "      <td>NT5C1A</td>\n",
       "      <td>1</td>\n",
       "      <td>-</td>\n",
       "    </tr>\n",
       "    <tr>\n",
       "      <th>3</th>\n",
       "      <td>chr1</td>\n",
       "      <td>40144319</td>\n",
       "      <td>40157157</td>\n",
       "      <td>HPCAL4</td>\n",
       "      <td>1</td>\n",
       "      <td>-</td>\n",
       "    </tr>\n",
       "  </tbody>\n",
       "</table>\n",
       "</div>"
      ],
      "text/plain": [
       "  chrom     start       end    name  score strand\n",
       "0  chr1  40026489  40042462  PABPC4      1      -\n",
       "1  chr1  40089106  40105315    HEYL      1      -\n",
       "2  chr1  40124792  40137710  NT5C1A      1      -\n",
       "3  chr1  40144319  40157157  HPCAL4      1      -"
      ]
     },
     "execution_count": 115,
     "metadata": {},
     "output_type": "execute_result"
    }
   ],
   "source": [
    "bbi.fetch_intervals(\"hg19_annot.bb\",\"chr1\",40_000_000,40_200_000,iterator=False)"
   ]
  },
  {
   "cell_type": "code",
   "execution_count": 114,
   "id": "rising-tours",
   "metadata": {},
   "outputs": [],
   "source": [
    "bbi.fetch_intervals?"
   ]
  },
  {
   "cell_type": "code",
   "execution_count": 113,
   "id": "current-syntax",
   "metadata": {},
   "outputs": [
    {
     "data": {
      "text/plain": [
       "{'version': 4,\n",
       " 'isCompressed': True,\n",
       " 'isSwapped': 0,\n",
       " 'primaryDataSize': 212267,\n",
       " 'zoomLevels': 5,\n",
       " 'chromCount': 24,\n",
       " 'summary': {'basesCovered': 1009255353,\n",
       "  'sum': 1062351689.0,\n",
       "  'mean': 1.052609417272023,\n",
       "  'min': 1.0,\n",
       "  'max': 21.0,\n",
       "  'std': 0.45984559662229113}}"
      ]
     },
     "execution_count": 113,
     "metadata": {},
     "output_type": "execute_result"
    }
   ],
   "source": [
    "bbi.info(\"hg19_annot.bb\")"
   ]
  },
  {
   "cell_type": "code",
   "execution_count": 111,
   "id": "lasting-authorization",
   "metadata": {},
   "outputs": [],
   "source": [
    "# bbi.fetch?\n",
    "xxx = bbi.fetch(\n",
    "    \"hg19_annot.bb\",\n",
    "    \"chr1\",\n",
    "    40_000_000,\n",
    "    40_200_000,\n",
    "    bins=-1,\n",
    "    missing=0.0,\n",
    "    oob=np.nan,\n",
    "    summary='mean',\n",
    ")\n"
   ]
  },
  {
   "cell_type": "code",
   "execution_count": 112,
   "id": "narrow-caution",
   "metadata": {},
   "outputs": [
    {
     "data": {
      "text/plain": [
       "[<matplotlib.lines.Line2D at 0x7fee0b919ee0>]"
      ]
     },
     "execution_count": 112,
     "metadata": {},
     "output_type": "execute_result"
    },
    {
     "data": {
      "image/png": "[encoded data removed]",
      "text/plain": [
       "<Figure size 432x288 with 1 Axes>"
      ]
     },
     "metadata": {
      "needs_background": "light"
     },
     "output_type": "display_data"
    }
   ],
   "source": [
    "plt.plot(xxx)"
   ]
  },
  {
   "cell_type": "code",
   "execution_count": 77,
   "id": "rubber-romantic",
   "metadata": {},
   "outputs": [
    {
     "name": "stdout",
     "output_type": "stream",
     "text": [
      "/home/sergpolly/Desktop/ALV-repo\r\n"
     ]
    }
   ],
   "source": [
    "!pwd"
   ]
  },
  {
   "cell_type": "code",
   "execution_count": 4,
   "id": "official-chicken",
   "metadata": {},
   "outputs": [],
   "source": [
    "# ! tail S44_NT_S442_IAA.output_events_all_select_hg19.txt"
   ]
  },
  {
   "cell_type": "code",
   "execution_count": 8,
   "id": "pressed-groove",
   "metadata": {},
   "outputs": [
    {
     "name": "stdout",
     "output_type": "stream",
     "text": [
      "AAVS1_sg24_NT_DDX55_sg2B_NT.output_events_all 100%   79KB 825.7KB/s   00:00    \n",
      "S44_NT_S442_IAA.output_events_all_select_hg19 100%   48KB 533.7KB/s   00:00    \n"
     ]
    }
   ],
   "source": [
    "! scp ghpcc:/nl/umw_job_dekker/users/av90w/projects/for-paper/for-higlass/AAVS1_sg24_NT_DDX55_sg2B_NT.output_events_all_select_hg19.txt ./\n",
    "! scp ghpcc:/nl/umw_job_dekker/users/av90w/projects/for-paper/for-higlass/S44_NT_S442_IAA.output_events_all_select_hg19.txt ./"
   ]
  },
  {
   "cell_type": "code",
   "execution_count": null,
   "id": "fluid-italian",
   "metadata": {},
   "outputs": [],
   "source": [
    "! bedSort {DATADIR}/{ASSEMBLY}/geneAnnotationsExonUnions.bed geneAnnotationsExonUnions.bed"
   ]
  },
  {
   "cell_type": "code",
   "execution_count": 15,
   "id": "sexual-trouble",
   "metadata": {},
   "outputs": [],
   "source": [
    "! bedSort AAVS1_sg24_NT_DDX55_sg2B_NT.output_events_all_select_hg19.txt SpliceDDX55aux.bed\n",
    "! bedSort S44_NT_S442_IAA.output_events_all_select_hg19.txt SpliceCTCFaux.bed"
   ]
  },
  {
   "cell_type": "code",
   "execution_count": 10,
   "id": "structural-definition",
   "metadata": {},
   "outputs": [
    {
     "name": "stdout",
     "output_type": "stream",
     "text": [
      "pass1 - making usageList (23 chroms): 1 millis\n",
      "pass2 - checking and writing primary data (3410 records, 3 fields): 4 millis\n",
      "pass1 - making usageList (23 chroms): 1 millis\n",
      "pass2 - checking and writing primary data (2079 records, 3 fields): 3 millis\n"
     ]
    }
   ],
   "source": [
    "! bedToBigBed -tab -type=bed3 SpliceDDX55aux.bed hg19.sizes SpliceDDX55aux.bb\n",
    "! bedToBigBed -tab -type=bed3 SpliceCTCFaux.bed hg19.sizes SpliceCTCFaux.bb"
   ]
  },
  {
   "cell_type": "code",
   "execution_count": 17,
   "id": "burning-graham",
   "metadata": {},
   "outputs": [
    {
     "data": {
      "text/plain": [
       "[<matplotlib.lines.Line2D at 0x7f69f0e9ea90>]"
      ]
     },
     "execution_count": 17,
     "metadata": {},
     "output_type": "execute_result"
    },
    {
     "data": {
      "image/png": "[encoded data removed]",
      "text/plain": [
       "<Figure size 432x288 with 1 Axes>"
      ]
     },
     "metadata": {
      "needs_background": "light"
     },
     "output_type": "display_data"
    }
   ],
   "source": [
    "# bbi.fetch?\n",
    "xxx = bbi.fetch(\n",
    "    \"SpliceDDX55aux.bb\",\n",
    "    \"chr15\",\n",
    "    40_000_000,\n",
    "    40_700_000,\n",
    "    bins=-1,\n",
    "    missing=0.0,\n",
    "    oob=np.nan,\n",
    "    summary='mean',\n",
    ")\n",
    "plt.plot(xxx)"
   ]
  },
  {
   "cell_type": "code",
   "execution_count": 27,
   "id": "short-comfort",
   "metadata": {},
   "outputs": [
    {
     "data": {
      "text/plain": [
       "[<matplotlib.lines.Line2D at 0x7f58e83e5550>]"
      ]
     },
     "execution_count": 27,
     "metadata": {},
     "output_type": "execute_result"
    },
    {
     "data": {
      "image/png": "[encoded data removed]",
      "text/plain": [
       "<Figure size 432x288 with 1 Axes>"
      ]
     },
     "metadata": {
      "needs_background": "light"
     },
     "output_type": "display_data"
    }
   ],
   "source": [
    "# bbi.fetch?\n",
    "xxx = bbi.fetch(\n",
    "    \"SpliceCTCFaux.bb\",\n",
    "    \"chr1\",\n",
    "    39_000_000,\n",
    "    40_900_000,\n",
    "    bins=-1,\n",
    "    missing=0.0,\n",
    "    oob=np.nan,\n",
    "    summary='mean',\n",
    ")\n",
    "plt.plot(xxx)"
   ]
  }
 ],
 "metadata": {
  "kernelspec": {
   "display_name": "Python 3",
   "language": "python",
   "name": "python3"
  },
  "language_info": {
   "codemirror_mode": {
    "name": "ipython",
    "version": 3
   },
   "file_extension": ".py",
   "mimetype": "text/x-python",
   "name": "python",
   "nbconvert_exporter": "python",
   "pygments_lexer": "ipython3",
   "version": "3.8.5"
  }
 },
 "nbformat": 4,
 "nbformat_minor": 5
}
