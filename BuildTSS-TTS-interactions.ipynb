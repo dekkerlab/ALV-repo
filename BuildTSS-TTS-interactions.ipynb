{
 "cells": [
  {
   "cell_type": "code",
   "execution_count": 1,
   "id": "central-ferry",
   "metadata": {},
   "outputs": [
    {
     "data": {
      "application/javascript": [
       "require([\"codemirror/keymap/sublime\", \"notebook/js/cell\", \"base/js/namespace\"],\n",
       "    function(sublime_keymap, cell, IPython) {\n",
       "        cell.Cell.options_default.cm_config.keyMap = 'sublime';\n",
       "        var cells = IPython.notebook.get_cells();\n",
       "        for(var cl=0; cl< cells.length ; cl++){\n",
       "            cells[cl].code_mirror.setOption('keyMap', 'sublime');\n",
       "        }\n",
       "    }\n",
       ");\n"
      ],
      "text/plain": [
       "<IPython.core.display.Javascript object>"
      ]
     },
     "metadata": {},
     "output_type": "display_data"
    }
   ],
   "source": [
    "%%javascript\n",
    "require([\"codemirror/keymap/sublime\", \"notebook/js/cell\", \"base/js/namespace\"],\n",
    "    function(sublime_keymap, cell, IPython) {\n",
    "        cell.Cell.options_default.cm_config.keyMap = 'sublime';\n",
    "        var cells = IPython.notebook.get_cells();\n",
    "        for(var cl=0; cl< cells.length ; cl++){\n",
    "            cells[cl].code_mirror.setOption('keyMap', 'sublime');\n",
    "        }\n",
    "    }\n",
    ");"
   ]
  },
  {
   "cell_type": "code",
   "execution_count": 2,
   "id": "demanding-tuesday",
   "metadata": {},
   "outputs": [
    {
     "data": {
      "text/html": [
       "<style>.container { width:85% !important; }</style>"
      ],
      "text/plain": [
       "<IPython.core.display.HTML object>"
      ]
     },
     "metadata": {},
     "output_type": "display_data"
    }
   ],
   "source": [
    "# change the cell width\n",
    "from IPython.core.display import display, HTML\n",
    "display(HTML(\"<style>.container { width:85% !important; }</style>\"))"
   ]
  },
  {
   "cell_type": "code",
   "execution_count": 3,
   "id": "domestic-valuation",
   "metadata": {},
   "outputs": [],
   "source": [
    "%load_ext autoreload\n",
    "%autoreload 2\n",
    "%matplotlib inline\n",
    "%config InlineBackend.print_figure_kwargs={'facecolor' : \"w\"}\n",
    "import warnings\n",
    "warnings.filterwarnings('ignore')\n",
    "# make matplotlib pdf-s text recognizable by evil-Adobe\n",
    "import matplotlib\n",
    "matplotlib.rcParams['pdf.fonttype'] = 42\n",
    "matplotlib.rcParams['ps.fonttype'] = 42\n",
    "from more_itertools import chunked\n",
    "# import all relevant func and modules from a companion .py file\n",
    "from supp_lib import *\n",
    "# import all samples as dictionary ...\n",
    "from samples import *"
   ]
  },
  {
   "cell_type": "code",
   "execution_count": 4,
   "id": "innocent-pulse",
   "metadata": {},
   "outputs": [],
   "source": [
    "genes_df = pd.read_csv(\n",
    "    \"./gene_annot_data/hg19/geneAnnotationsExonUnions.bed\",\n",
    "    sep=\"\\t\",\n",
    "    header=None,\n",
    "    names = [\"chr\",\n",
    "            \"txStart\",\n",
    "            \"txEnd\",\n",
    "            \"geneName\",\n",
    "            \"citationCount\",\n",
    "            \"strand\",\n",
    "            \"union_geneId\", # \"refseqId\",\n",
    "            \"geneId\",\n",
    "            \"geneType\",\n",
    "            \"geneDesc\",\n",
    "            \"cdsStart\",\n",
    "            \"cdsEnd\",\n",
    "            \"exonStarts\",\n",
    "            \"exonEnds\"]\n",
    ")\n",
    "genes_df.head()\n",
    "\n",
    "### we'll be removing duplicated genes because they're likely unamppable and/or harder to deal with anyways ...\n",
    "### there are of course expections, but will do it anyways:\n",
    "geneId_grp = genes_df.groupby(\"geneId\")\n",
    "genes_df = geneId_grp.first()[geneId_grp.size() == 1].reset_index()"
   ]
  },
  {
   "cell_type": "markdown",
   "id": "completed-stewart",
   "metadata": {},
   "source": [
    "### Let's merge in Gene Expression level information into our gene annotation DataFrame "
   ]
  },
  {
   "cell_type": "code",
   "execution_count": 5,
   "id": "viral-tension",
   "metadata": {},
   "outputs": [],
   "source": [
    "# column names for the RNA-seq samples generated for various controls, mutants and siRNAs ...\n",
    "rsem_si_cols = ['rsem.out.S442_IAA',\n",
    "                'rsem.out.S442_IAAR2',\n",
    "                'rsem.out.S442_NT',\n",
    "                'rsem.out.S442_NTR2',\n",
    "                'rsem.out.S442_siCTRL_IAAR2',\n",
    "                'rsem.out.S442_siCTRL_NTR2',\n",
    "                'rsem.out.S442_siCtrl_IAA',\n",
    "                'rsem.out.S442_siCtrl_NT',\n",
    "                'rsem.out.S442_siDDX55_IAA',\n",
    "                'rsem.out.S442_siDDX55_IAAR2',\n",
    "                'rsem.out.S442_siDDX55_NT',\n",
    "                'rsem.out.S442_siDDX55_NTR2',\n",
    "                'rsem.out.S442_siTAF5L_IAA',\n",
    "                'rsem.out.S442_siTAF5L_IAAR2',\n",
    "                'rsem.out.S442_siTAF5L_NT',\n",
    "                'rsem.out.S442_siTAF5L_NTR2',\n",
    "                'rsem.out.S44_IAA',\n",
    "                'rsem.out.S44_IAAR2',\n",
    "                'rsem.out.S44_NT',\n",
    "                'rsem.out.S44_NTR2']\n",
    "rsem_mut_cols = ['rsem.out.AAVS1_sg24_IAA',\n",
    "                'rsem.out.AAVS1_sg24_IAAR2',\n",
    "                'rsem.out.AAVS1_sg24_NT',\n",
    "                'rsem.out.AAVS1_sg24_NTR2',\n",
    "                'rsem.out.DDX55_sg27_IAA',\n",
    "                'rsem.out.DDX55_sg27_IAAR2',\n",
    "                'rsem.out.DDX55_sg27_NT',\n",
    "                'rsem.out.DDX55_sg27_NTR2',\n",
    "                'rsem.out.DDX55_sg2B_IAA',\n",
    "                'rsem.out.DDX55_sg2B_IAAR2',\n",
    "                'rsem.out.DDX55_sg2B_NT',\n",
    "                'rsem.out.DDX55_sg2B_NTR2',\n",
    "                'rsem.out.TAF5L_sg23_IAA',\n",
    "                'rsem.out.TAF5L_sg23_IAAR2',\n",
    "                'rsem.out.TAF5L_sg23_NT',\n",
    "                'rsem.out.TAF5L_sg23_NTR2',\n",
    "                'rsem.out.TAF5L_sg27_IAA',\n",
    "                'rsem.out.TAF5L_sg27_IAAR2',\n",
    "                'rsem.out.TAF5L_sg27_NT',\n",
    "                'rsem.out.TAF5L_sg27_NTR2']"
   ]
  },
  {
   "cell_type": "code",
   "execution_count": 6,
   "id": "isolated-danger",
   "metadata": {},
   "outputs": [],
   "source": [
    "rsem_si_df = pd.read_csv(\"merged_TPM_genes_si.tsv\",sep=\"\\t\")[[\"Id\"] + rsem_si_cols]\n",
    "rsem_mut_df = pd.read_csv(\"merged_TPM_genes_mut.tsv\",sep=\"\\t\")[[\"Id\"] + rsem_mut_cols]\n",
    "\n",
    "# merge si and mut parts to create a monster RNA-seq data set ...\n",
    "rsem_df = pd.merge(rsem_si_df,rsem_mut_df,how=\"inner\",on=\"Id\")\n",
    "\n",
    "# some checks\n",
    "assert np.asarray([(c in rsem_df.columns) for c in rsem_mut_cols]).all()\n",
    "assert np.asarray([(c in rsem_df.columns) for c in rsem_si_cols]).all()\n",
    "assert len(rsem_df) == len(rsem_si_df) == len(rsem_mut_df)\n"
   ]
  },
  {
   "cell_type": "markdown",
   "id": "korean-passing",
   "metadata": {},
   "source": [
    "#### We'll be using minimum and maximum levels of RNA-seq per gene across samples to define our lists of \"commonly\" active and inactive genes - so let's calculate min/max and drop all other columns ..."
   ]
  },
  {
   "cell_type": "code",
   "execution_count": 7,
   "id": "latter-hierarchy",
   "metadata": {},
   "outputs": [
    {
     "data": {
      "text/plain": [
       "Text(0, 0.5, 'min-TPM')"
      ]
     },
     "execution_count": 7,
     "metadata": {},
     "output_type": "execute_result"
    },
    {
     "data": {
      "image/png": "[encoded data removed]",
      "text/plain": [
       "<Figure size 648x288 with 2 Axes>"
      ]
     },
     "metadata": {
      "needs_background": "light"
     },
     "output_type": "display_data"
    }
   ],
   "source": [
    "# explore a bit how min vs max behave ...\n",
    "# are there a lot of genes that go from expressed to not expressed etc ...\n",
    "_max_col = rsem_df[ rsem_si_cols+rsem_mut_cols ].max(axis=1)\n",
    "_min_col = rsem_df[ rsem_si_cols+rsem_mut_cols ].min(axis=1)\n",
    "\n",
    "x = _max_col\n",
    "y = _min_col\n",
    "\n",
    "f,axs = plt.subplots(1,2,figsize=(9,4))\n",
    "ax = axs[0]\n",
    "ax.scatter(x,y,alpha=0.1)\n",
    "ax.set_xlabel(\"max-TPM\")\n",
    "ax.set_ylabel(\"min-TPM\")\n",
    "ax.set_xlim((-10,250))\n",
    "ax.set_ylim((-10,250))\n",
    "ax = axs[1]\n",
    "ax.loglog(x,y,\"ro\",alpha=0.1)\n",
    "ax.set_xlabel(\"max-TPM\")\n",
    "ax.set_ylabel(\"min-TPM\")"
   ]
  },
  {
   "cell_type": "code",
   "execution_count": 8,
   "id": "focal-compression",
   "metadata": {},
   "outputs": [],
   "source": [
    "rsem_df = rsem_df[[\"Id\"]]\n",
    "rsem_df[\"exp_min\"] = _min_col\n",
    "rsem_df[\"exp_max\"] = _max_col"
   ]
  },
  {
   "cell_type": "markdown",
   "id": "ancient-decade",
   "metadata": {},
   "source": [
    "#### Overlap that refined dataframe of RNA-seq results with \"our\" list of genes ..."
   ]
  },
  {
   "cell_type": "code",
   "execution_count": 9,
   "id": "orange-appraisal",
   "metadata": {},
   "outputs": [
    {
     "data": {
      "text/html": [
       "<div>\n",
       "<style scoped>\n",
       "    .dataframe tbody tr th:only-of-type {\n",
       "        vertical-align: middle;\n",
       "    }\n",
       "\n",
       "    .dataframe tbody tr th {\n",
       "        vertical-align: top;\n",
       "    }\n",
       "\n",
       "    .dataframe thead th {\n",
       "        text-align: right;\n",
       "    }\n",
       "</style>\n",
       "<table border=\"1\" class=\"dataframe\">\n",
       "  <thead>\n",
       "    <tr style=\"text-align: right;\">\n",
       "      <th></th>\n",
       "      <th>Id</th>\n",
       "      <th>exp_min</th>\n",
       "      <th>exp_max</th>\n",
       "      <th>geneId</th>\n",
       "      <th>chr</th>\n",
       "      <th>txStart</th>\n",
       "      <th>txEnd</th>\n",
       "      <th>geneName</th>\n",
       "      <th>citationCount</th>\n",
       "      <th>strand</th>\n",
       "      <th>union_geneId</th>\n",
       "      <th>geneType</th>\n",
       "      <th>geneDesc</th>\n",
       "      <th>cdsStart</th>\n",
       "      <th>cdsEnd</th>\n",
       "      <th>exonStarts</th>\n",
       "      <th>exonEnds</th>\n",
       "    </tr>\n",
       "  </thead>\n",
       "  <tbody>\n",
       "    <tr>\n",
       "      <th>0</th>\n",
       "      <td>C9orf152</td>\n",
       "      <td>0</td>\n",
       "      <td>0</td>\n",
       "      <td>401546</td>\n",
       "      <td>chr9</td>\n",
       "      <td>112961844</td>\n",
       "      <td>112970439</td>\n",
       "      <td>C9orf152</td>\n",
       "      <td>5</td>\n",
       "      <td>-</td>\n",
       "      <td>union_401546</td>\n",
       "      <td>protein-coding</td>\n",
       "      <td>chromosome 9 open reading frame 152</td>\n",
       "      <td>112963227</td>\n",
       "      <td>112969859</td>\n",
       "      <td>112961844,112969666</td>\n",
       "      <td>112963754,112970439</td>\n",
       "    </tr>\n",
       "    <tr>\n",
       "      <th>1</th>\n",
       "      <td>RPS11</td>\n",
       "      <td>4273</td>\n",
       "      <td>7092</td>\n",
       "      <td>6205</td>\n",
       "      <td>chr19</td>\n",
       "      <td>49999690</td>\n",
       "      <td>50002965</td>\n",
       "      <td>RPS11</td>\n",
       "      <td>149</td>\n",
       "      <td>+</td>\n",
       "      <td>union_6205</td>\n",
       "      <td>protein-coding</td>\n",
       "      <td>ribosomal protein S11</td>\n",
       "      <td>49999713</td>\n",
       "      <td>50002892</td>\n",
       "      <td>49999690,50000450,50000776,50001173,50002768</td>\n",
       "      <td>49999728,50000582,50000852,50001303,50002965</td>\n",
       "    </tr>\n",
       "    <tr>\n",
       "      <th>2</th>\n",
       "      <td>ELMO2</td>\n",
       "      <td>12</td>\n",
       "      <td>21</td>\n",
       "      <td>63916</td>\n",
       "      <td>chr20</td>\n",
       "      <td>44994683</td>\n",
       "      <td>45035690</td>\n",
       "      <td>ELMO2</td>\n",
       "      <td>47</td>\n",
       "      <td>-</td>\n",
       "      <td>union_63916</td>\n",
       "      <td>protein-coding</td>\n",
       "      <td>engulfment and cell motility 2</td>\n",
       "      <td>44995998</td>\n",
       "      <td>45017838</td>\n",
       "      <td>44994683,44994689,44997529,44999081,44999990,4...</td>\n",
       "      <td>44996199,44996199,44997607,44999164,45000098,4...</td>\n",
       "    </tr>\n",
       "  </tbody>\n",
       "</table>\n",
       "</div>"
      ],
      "text/plain": [
       "         Id  exp_min  exp_max  geneId    chr    txStart      txEnd  geneName  \\\n",
       "0  C9orf152        0        0  401546   chr9  112961844  112970439  C9orf152   \n",
       "1     RPS11     4273     7092    6205  chr19   49999690   50002965     RPS11   \n",
       "2     ELMO2       12       21   63916  chr20   44994683   45035690     ELMO2   \n",
       "\n",
       "   citationCount strand  union_geneId        geneType  \\\n",
       "0              5      -  union_401546  protein-coding   \n",
       "1            149      +    union_6205  protein-coding   \n",
       "2             47      -   union_63916  protein-coding   \n",
       "\n",
       "                              geneDesc   cdsStart     cdsEnd  \\\n",
       "0  chromosome 9 open reading frame 152  112963227  112969859   \n",
       "1                ribosomal protein S11   49999713   50002892   \n",
       "2       engulfment and cell motility 2   44995998   45017838   \n",
       "\n",
       "                                          exonStarts  \\\n",
       "0                                112961844,112969666   \n",
       "1       49999690,50000450,50000776,50001173,50002768   \n",
       "2  44994683,44994689,44997529,44999081,44999990,4...   \n",
       "\n",
       "                                            exonEnds  \n",
       "0                                112963754,112970439  \n",
       "1       49999728,50000582,50000852,50001303,50002965  \n",
       "2  44996199,44996199,44997607,44999164,45000098,4...  "
      ]
     },
     "execution_count": 9,
     "metadata": {},
     "output_type": "execute_result"
    }
   ],
   "source": [
    "genes_exp_df = pd.merge(\n",
    "    rsem_df,\n",
    "    genes_df,\n",
    "    how = 'inner',\n",
    "    left_on=\"Id\",\n",
    "    right_on=\"geneName\"\n",
    ")\n",
    "genes_exp_df.head(3)\n",
    "# genes_Df  overlap   rsem\n",
    "# ~4_300     ~23_200   ~2_500"
   ]
  },
  {
   "cell_type": "code",
   "execution_count": 10,
   "id": "split-invalid",
   "metadata": {},
   "outputs": [],
   "source": [
    "# refine the dataframe  ...\n",
    "# columns needed for TSS/TTS bed files output:\n",
    "tx_cols = [\"chr\", \"txStart\", \"txEnd\", \"strand\", \"exp_min\", \"exp_max\"]\n",
    "\n",
    "tx_cols_rename = {\"chr\":\"chrom\",\n",
    "                  \"txStart\":\"start\",\n",
    "                  \"txEnd\":\"end\"}\n",
    "\n",
    "gdf =  genes_exp_df[tx_cols].reset_index(drop=True).rename(tx_cols_rename,axis=1)\n",
    "\n",
    "gdf[\"size\"] = gdf[\"end\"] - gdf[\"start\"]"
   ]
  },
  {
   "cell_type": "code",
   "execution_count": 11,
   "id": "first-august",
   "metadata": {},
   "outputs": [
    {
     "data": {
      "text/html": [
       "<div>\n",
       "<style scoped>\n",
       "    .dataframe tbody tr th:only-of-type {\n",
       "        vertical-align: middle;\n",
       "    }\n",
       "\n",
       "    .dataframe tbody tr th {\n",
       "        vertical-align: top;\n",
       "    }\n",
       "\n",
       "    .dataframe thead th {\n",
       "        text-align: right;\n",
       "    }\n",
       "</style>\n",
       "<table border=\"1\" class=\"dataframe\">\n",
       "  <thead>\n",
       "    <tr style=\"text-align: right;\">\n",
       "      <th></th>\n",
       "      <th>chrom</th>\n",
       "      <th>start</th>\n",
       "      <th>end</th>\n",
       "      <th>strand</th>\n",
       "      <th>exp_min</th>\n",
       "      <th>exp_max</th>\n",
       "      <th>size</th>\n",
       "    </tr>\n",
       "  </thead>\n",
       "  <tbody>\n",
       "    <tr>\n",
       "      <th>0</th>\n",
       "      <td>chr1</td>\n",
       "      <td>11873</td>\n",
       "      <td>14409</td>\n",
       "      <td>+</td>\n",
       "      <td>0</td>\n",
       "      <td>0</td>\n",
       "      <td>2536</td>\n",
       "    </tr>\n",
       "    <tr>\n",
       "      <th>1</th>\n",
       "      <td>chr1</td>\n",
       "      <td>14361</td>\n",
       "      <td>29370</td>\n",
       "      <td>-</td>\n",
       "      <td>28</td>\n",
       "      <td>56</td>\n",
       "      <td>15009</td>\n",
       "    </tr>\n",
       "    <tr>\n",
       "      <th>2</th>\n",
       "      <td>chr1</td>\n",
       "      <td>69090</td>\n",
       "      <td>70008</td>\n",
       "      <td>+</td>\n",
       "      <td>0</td>\n",
       "      <td>0</td>\n",
       "      <td>918</td>\n",
       "    </tr>\n",
       "  </tbody>\n",
       "</table>\n",
       "</div>"
      ],
      "text/plain": [
       "  chrom  start    end strand  exp_min  exp_max   size\n",
       "0  chr1  11873  14409      +        0        0   2536\n",
       "1  chr1  14361  29370      -       28       56  15009\n",
       "2  chr1  69090  70008      +        0        0    918"
      ]
     },
     "execution_count": 11,
     "metadata": {},
     "output_type": "execute_result"
    }
   ],
   "source": [
    "# final adjustments ...\n",
    "gdf = gdf.sort_values([\"chrom\",\"start\"])\n",
    "gdf = gdf[gdf[\"chrom\"].isin(autosomal_chroms)]\n",
    "gdf = gdf.reset_index(drop=True)\n",
    "gdf.head(3)"
   ]
  },
  {
   "cell_type": "code",
   "execution_count": 12,
   "id": "literary-block",
   "metadata": {},
   "outputs": [],
   "source": [
    "all_genes = copy(gdf)"
   ]
  },
  {
   "cell_type": "markdown",
   "id": "religious-attribute",
   "metadata": {},
   "source": [
    "#### Let's try to remove genes with CTCF at the promoters(TSS) and TTS - just in case"
   ]
  },
  {
   "cell_type": "code",
   "execution_count": 13,
   "id": "charitable-flavor",
   "metadata": {},
   "outputs": [],
   "source": [
    "from copy import copy\n",
    "ctcf_df = bioframe.read_table(\n",
    "        \"NT-CTCF-narrowPeaks-sort-merge-with-strength.bed\",\n",
    "        schema=\"bed3\",\n",
    "        index_col=False\n",
    ")\n",
    "\n",
    "ctcf_radius = 2_000\n",
    "_tss = copy(all_genes)\n",
    "_tss[\"tss\"] = _tss.apply(lambda r: r[\"start\"] if r[\"strand\"]==\"+\" else r[\"end\"],axis=1)\n",
    "_tss[\"tss_mflank\"] = _tss[\"tss\"] - ctcf_radius\n",
    "_tss[\"tss_pflank\"] = _tss[\"tss\"] + ctcf_radius\n",
    "# _tss[[\"chrom\",\"tss_mflank\",\"tss_pflank\"]]\n",
    "\n",
    "tss_ctcf_overlap = bioframe.overlap(\n",
    "    _tss[[\"chrom\",\"tss_mflank\",\"tss_pflank\"]],\n",
    "    ctcf_df,\n",
    "    how='left',\n",
    "    suffixes=('_', ''),\n",
    "    return_index=True,\n",
    "    # keep_order=False,\n",
    "    cols1=[\"chrom\",\"tss_mflank\",\"tss_pflank\"],\n",
    ")\n",
    "\n",
    "\n",
    "_tts = copy(all_genes)\n",
    "_tts[\"tts\"] = _tts.apply(lambda r: r[\"end\"] if r[\"strand\"]==\"+\" else r[\"start\"],axis=1)\n",
    "_tts[\"tts_mflank\"] = _tts[\"tts\"] - ctcf_radius\n",
    "_tts[\"tts_pflank\"] = _tts[\"tts\"] + ctcf_radius\n",
    "# _tts[[\"chrom\",\"tss_mflank\",\"tss_pflank\"]]\n",
    "\n",
    "tts_ctcf_overlap = bioframe.overlap(\n",
    "    _tts[[\"chrom\",\"tts_mflank\",\"tts_pflank\"]],\n",
    "    ctcf_df,\n",
    "    how='left',\n",
    "    suffixes=('_', ''),\n",
    "    return_index=True,\n",
    "    # keep_order=False,\n",
    "    cols1=[\"chrom\",\"tts_mflank\",\"tts_pflank\"],\n",
    ")\n",
    "\n",
    "# .drop_duplicates(subset=[\"chrom_\",\"tss_mflank_\",\"tss_pflank_\"])"
   ]
  },
  {
   "cell_type": "code",
   "execution_count": 14,
   "id": "prescription-memorabilia",
   "metadata": {},
   "outputs": [
    {
     "name": "stdout",
     "output_type": "stream",
     "text": [
      "5063 genes have CTCF@TSS,\n",
      "    17231 genes do not -\n",
      "    total # of genes 22294\n"
     ]
    }
   ],
   "source": [
    "ctcf_index = tss_ctcf_overlap[\"index_\"][\n",
    "                    ~pd.isna(tss_ctcf_overlap[\"index\"])\n",
    "                ]\n",
    "noctcf_index = tss_ctcf_overlap[\"index_\"][\n",
    "                    pd.isna(tss_ctcf_overlap[\"index\"])\n",
    "                ]\n",
    "ctcf_index = np.unique(ctcf_index.astype(np.int).values)\n",
    "noctcf_index = np.unique(noctcf_index.astype(np.int).values)\n",
    "\n",
    "all_genes_ctcf = all_genes.loc[ ctcf_index ].reset_index(drop=True)\n",
    "all_genes_noctcf = all_genes.loc[ noctcf_index ].reset_index(drop=True)\n",
    "\n",
    "print(\n",
    "    f\"\"\"{len(all_genes_ctcf)} genes have CTCF@TSS,\n",
    "    {len(all_genes_noctcf)} genes do not -\n",
    "    total # of genes {len(all_genes_noctcf)+len(all_genes_ctcf)}\"\"\"\n",
    ")"
   ]
  },
  {
   "cell_type": "markdown",
   "id": "presidential-design",
   "metadata": {},
   "source": [
    "#### same for TTS ..."
   ]
  },
  {
   "cell_type": "code",
   "execution_count": 15,
   "id": "generous-swaziland",
   "metadata": {},
   "outputs": [
    {
     "name": "stdout",
     "output_type": "stream",
     "text": [
      "2568 genes have CTCF@TTS,\n",
      "    19726 genes do not -\n",
      "    total # of genes 22294\n"
     ]
    }
   ],
   "source": [
    "ctcf_index = tts_ctcf_overlap[\"index_\"][\n",
    "                    ~pd.isna(tts_ctcf_overlap[\"index\"])\n",
    "                ]\n",
    "noctcf_index = tts_ctcf_overlap[\"index_\"][\n",
    "                    pd.isna(tts_ctcf_overlap[\"index\"])\n",
    "                ]\n",
    "ctcf_index = np.unique(ctcf_index.astype(np.int).values)\n",
    "noctcf_index = np.unique(noctcf_index.astype(np.int).values)\n",
    "\n",
    "all_genes_ctcf = all_genes.loc[ ctcf_index ].reset_index(drop=True)\n",
    "all_genes_noctcf = all_genes.loc[ noctcf_index ].reset_index(drop=True)\n",
    "\n",
    "print(\n",
    "    f\"\"\"{len(all_genes_ctcf)} genes have CTCF@TTS,\n",
    "    {len(all_genes_noctcf)} genes do not -\n",
    "    total # of genes {len(all_genes_noctcf)+len(all_genes_ctcf)}\"\"\"\n",
    ")"
   ]
  },
  {
   "cell_type": "markdown",
   "id": "encouraging-consensus",
   "metadata": {},
   "source": [
    "#### Combine \"exclusion\" of CTCF for both TSS and TTS ..."
   ]
  },
  {
   "cell_type": "code",
   "execution_count": 16,
   "id": "hybrid-brave",
   "metadata": {},
   "outputs": [
    {
     "name": "stdout",
     "output_type": "stream",
     "text": [
      "15710 genes have no CTCF@TTS and no CTCF@TSS\n"
     ]
    }
   ],
   "source": [
    "ctcf_index_tts = tts_ctcf_overlap[\"index_\"][\n",
    "                    ~pd.isna(tts_ctcf_overlap[\"index\"])\n",
    "                ]\n",
    "noctcf_index_tts = tts_ctcf_overlap[\"index_\"][\n",
    "                    pd.isna(tts_ctcf_overlap[\"index\"])\n",
    "                ]\n",
    "# these are indices of the genes (from all_genes) that have (don't have) CTCF@TTS\n",
    "ctcf_index_tts = np.unique(ctcf_index_tts.astype(np.int).values)\n",
    "noctcf_index_tts = np.unique(noctcf_index_tts.astype(np.int).values)\n",
    "\n",
    "\n",
    "ctcf_index_tss = tss_ctcf_overlap[\"index_\"][\n",
    "                    ~pd.isna(tss_ctcf_overlap[\"index\"])\n",
    "                ]\n",
    "noctcf_index_tss = tss_ctcf_overlap[\"index_\"][\n",
    "                    pd.isna(tss_ctcf_overlap[\"index\"])\n",
    "                ]\n",
    "# these are indices of the genes (from all_genes) that have (don't have) CTCF@TSS\n",
    "ctcf_index_tss = np.unique(ctcf_index_tss.astype(np.int).values)\n",
    "noctcf_index_tss = np.unique(noctcf_index_tss.astype(np.int).values)\n",
    "\n",
    "# here is the strictest set - no CTCF at TSS AND TTS ...\n",
    "strict_index = np.intersect1d(\n",
    "                        noctcf_index_tts,\n",
    "                        noctcf_index_tss\n",
    "                )\n",
    "\n",
    "all_genes_noctcf_atall = all_genes.loc[ strict_index ].reset_index(drop=True)\n",
    "\n",
    "print(\n",
    "    f\"\"\"{len(all_genes_noctcf_atall)} genes have no CTCF@TTS and no CTCF@TSS\"\"\"\n",
    ")"
   ]
  },
  {
   "cell_type": "markdown",
   "id": "dense-premises",
   "metadata": {},
   "source": [
    "### Use `gdf` variable to choose which DataFrame with genes we are going to work on  ...."
   ]
  },
  {
   "cell_type": "code",
   "execution_count": 17,
   "id": "bright-humanity",
   "metadata": {},
   "outputs": [],
   "source": [
    "gdf = copy(all_genes_noctcf_atall)"
   ]
  },
  {
   "cell_type": "code",
   "execution_count": 18,
   "id": "significant-zambia",
   "metadata": {},
   "outputs": [],
   "source": [
    "fig5_samples = [\"ins_CTCF\",\n",
    "                \"ins_noCTCF\",\n",
    "                \"ins_polII\",\n",
    "                \"ins_nopolII\",\n",
    "                \"ev1_CTCF\",\n",
    "                \"ev1_noCTCF\",\n",
    "                \"ev1_polII\",\n",
    "                \"ev1_nopolII\",\n",
    "                \"polII\",\n",
    "                'h3k4_r1',\n",
    "                \"mrna_ctcf\",\n",
    "                \"mrna_noctcf\"]"
   ]
  },
  {
   "cell_type": "code",
   "execution_count": 19,
   "id": "stable-aquarium",
   "metadata": {},
   "outputs": [
    {
     "data": {
      "text/plain": [
       "<matplotlib.legend.Legend at 0x7f63e9187f70>"
      ]
     },
     "execution_count": 19,
     "metadata": {},
     "output_type": "execute_result"
    },
    {
     "data": {
      "image/png": "[encoded data removed]",
      "text/plain": [
       "<Figure size 432x288 with 1 Axes>"
      ]
     },
     "metadata": {
      "needs_background": "light"
     },
     "output_type": "display_data"
    }
   ],
   "source": [
    "bins = np.r_[0,np.geomspace(100,1_000_000),10_000_000]\n",
    "gdf[gdf[\"strand\"]==\"+\"][\"size\"].plot.hist(bins=bins,log=True,label=\"+\")\n",
    "gdf[gdf[\"strand\"]==\"-\"][\"size\"].plot.hist(bins=bins,log=True,alpha=0.7,label=\"-\")\n",
    "ax = plt.gca()\n",
    "ax.set_xscale(\"log\")\n",
    "ax.set_xlabel(\"transcript size, bp\")\n",
    "ax.legend(frameon=False)"
   ]
  },
  {
   "cell_type": "code",
   "execution_count": 20,
   "id": "available-hostel",
   "metadata": {},
   "outputs": [
    {
     "data": {
      "text/plain": [
       "Text(0.5, 1.0, 'max')"
      ]
     },
     "execution_count": 20,
     "metadata": {},
     "output_type": "execute_result"
    },
    {
     "data": {
      "image/png": "[encoded data removed]",
      "text/plain": [
       "<Figure size 720x288 with 2 Axes>"
      ]
     },
     "metadata": {
      "needs_background": "light"
     },
     "output_type": "display_data"
    }
   ],
   "source": [
    "# actually - negative polarity genes are less expressed than tha positive strand genes ...\n",
    "bins = np.r_[0,np.geomspace(1,12000)]\n",
    "f,axs = plt.subplots(1,2,figsize=(10,4),sharey=True)\n",
    "\n",
    "ax = axs[0]\n",
    "gdf[gdf[\"strand\"]==\"+\"][\"exp_min\"].plot.hist(bins=bins,log=True,label=\"+\",ax=ax)\n",
    "gdf[gdf[\"strand\"]==\"-\"][\"exp_min\"].plot.hist(bins=bins,log=True,alpha=0.7,label=\"-\",ax=ax)\n",
    "ax.set_xscale(\"log\")\n",
    "ax.set_xlabel(\"TPM\")\n",
    "ax.legend(frameon=False)\n",
    "ax.set_title(\"min\")\n",
    "ax = axs[1]\n",
    "gdf[gdf[\"strand\"]==\"+\"][\"exp_max\"].plot.hist(bins=bins,log=True,label=\"+\",ax=ax)\n",
    "gdf[gdf[\"strand\"]==\"-\"][\"exp_max\"].plot.hist(bins=bins,log=True,alpha=0.7,label=\"-\",ax=ax)\n",
    "ax.set_xscale(\"log\")\n",
    "ax.set_xlabel(\"TPM\")\n",
    "ax.legend(frameon=False)\n",
    "ax.set_title(\"max\")"
   ]
  },
  {
   "cell_type": "code",
   "execution_count": 21,
   "id": "sublime-fifty",
   "metadata": {},
   "outputs": [
    {
     "data": {
      "text/html": [
       "<div>\n",
       "<style scoped>\n",
       "    .dataframe tbody tr th:only-of-type {\n",
       "        vertical-align: middle;\n",
       "    }\n",
       "\n",
       "    .dataframe tbody tr th {\n",
       "        vertical-align: top;\n",
       "    }\n",
       "\n",
       "    .dataframe thead th {\n",
       "        text-align: right;\n",
       "    }\n",
       "</style>\n",
       "<table border=\"1\" class=\"dataframe\">\n",
       "  <thead>\n",
       "    <tr style=\"text-align: right;\">\n",
       "      <th></th>\n",
       "      <th>chrom</th>\n",
       "      <th>start</th>\n",
       "      <th>end</th>\n",
       "      <th>strand</th>\n",
       "      <th>exp_min</th>\n",
       "      <th>exp_max</th>\n",
       "      <th>size</th>\n",
       "      <th>gexp_min</th>\n",
       "      <th>gexp_max</th>\n",
       "      <th>gsize</th>\n",
       "    </tr>\n",
       "  </thead>\n",
       "  <tbody>\n",
       "    <tr>\n",
       "      <th>0</th>\n",
       "      <td>chr1</td>\n",
       "      <td>14361</td>\n",
       "      <td>29370</td>\n",
       "      <td>-</td>\n",
       "      <td>28</td>\n",
       "      <td>56</td>\n",
       "      <td>15009</td>\n",
       "      <td>high</td>\n",
       "      <td>high</td>\n",
       "      <td>short</td>\n",
       "    </tr>\n",
       "    <tr>\n",
       "      <th>1</th>\n",
       "      <td>chr1</td>\n",
       "      <td>69090</td>\n",
       "      <td>70008</td>\n",
       "      <td>+</td>\n",
       "      <td>0</td>\n",
       "      <td>0</td>\n",
       "      <td>918</td>\n",
       "      <td>no</td>\n",
       "      <td>no</td>\n",
       "      <td>short</td>\n",
       "    </tr>\n",
       "  </tbody>\n",
       "</table>\n",
       "</div>"
      ],
      "text/plain": [
       "  chrom  start    end strand  exp_min  exp_max   size gexp_min gexp_max  gsize\n",
       "0  chr1  14361  29370      -       28       56  15009     high     high  short\n",
       "1  chr1  69090  70008      +        0        0    918       no       no  short"
      ]
     },
     "metadata": {},
     "output_type": "display_data"
    },
    {
     "data": {
      "text/html": [
       "<div>\n",
       "<style scoped>\n",
       "    .dataframe tbody tr th:only-of-type {\n",
       "        vertical-align: middle;\n",
       "    }\n",
       "\n",
       "    .dataframe tbody tr th {\n",
       "        vertical-align: top;\n",
       "    }\n",
       "\n",
       "    .dataframe thead th {\n",
       "        text-align: right;\n",
       "    }\n",
       "</style>\n",
       "<table border=\"1\" class=\"dataframe\">\n",
       "  <thead>\n",
       "    <tr style=\"text-align: right;\">\n",
       "      <th>gsize</th>\n",
       "      <th>short</th>\n",
       "      <th>long</th>\n",
       "    </tr>\n",
       "    <tr>\n",
       "      <th>gexp_min</th>\n",
       "      <th></th>\n",
       "      <th></th>\n",
       "    </tr>\n",
       "  </thead>\n",
       "  <tbody>\n",
       "    <tr>\n",
       "      <th>no</th>\n",
       "      <td>7766</td>\n",
       "      <td>1915</td>\n",
       "    </tr>\n",
       "    <tr>\n",
       "      <th>low</th>\n",
       "      <td>1065</td>\n",
       "      <td>747</td>\n",
       "    </tr>\n",
       "    <tr>\n",
       "      <th>high</th>\n",
       "      <td>2875</td>\n",
       "      <td>1342</td>\n",
       "    </tr>\n",
       "  </tbody>\n",
       "</table>\n",
       "</div>"
      ],
      "text/plain": [
       "gsize     short  long\n",
       "gexp_min             \n",
       "no         7766  1915\n",
       "low        1065   747\n",
       "high       2875  1342"
      ]
     },
     "metadata": {},
     "output_type": "display_data"
    },
    {
     "data": {
      "text/html": [
       "<div>\n",
       "<style scoped>\n",
       "    .dataframe tbody tr th:only-of-type {\n",
       "        vertical-align: middle;\n",
       "    }\n",
       "\n",
       "    .dataframe tbody tr th {\n",
       "        vertical-align: top;\n",
       "    }\n",
       "\n",
       "    .dataframe thead th {\n",
       "        text-align: right;\n",
       "    }\n",
       "</style>\n",
       "<table border=\"1\" class=\"dataframe\">\n",
       "  <thead>\n",
       "    <tr style=\"text-align: right;\">\n",
       "      <th></th>\n",
       "      <th>gsize</th>\n",
       "      <th>short</th>\n",
       "      <th>long</th>\n",
       "    </tr>\n",
       "    <tr>\n",
       "      <th>gexp_min</th>\n",
       "      <th>gexp_max</th>\n",
       "      <th></th>\n",
       "      <th></th>\n",
       "    </tr>\n",
       "  </thead>\n",
       "  <tbody>\n",
       "    <tr>\n",
       "      <th rowspan=\"3\" valign=\"top\">no</th>\n",
       "      <th>no</th>\n",
       "      <td>6319</td>\n",
       "      <td>1360</td>\n",
       "    </tr>\n",
       "    <tr>\n",
       "      <th>low</th>\n",
       "      <td>1261</td>\n",
       "      <td>489</td>\n",
       "    </tr>\n",
       "    <tr>\n",
       "      <th>high</th>\n",
       "      <td>186</td>\n",
       "      <td>66</td>\n",
       "    </tr>\n",
       "    <tr>\n",
       "      <th rowspan=\"3\" valign=\"top\">low</th>\n",
       "      <th>no</th>\n",
       "      <td>0</td>\n",
       "      <td>0</td>\n",
       "    </tr>\n",
       "    <tr>\n",
       "      <th>low</th>\n",
       "      <td>187</td>\n",
       "      <td>146</td>\n",
       "    </tr>\n",
       "    <tr>\n",
       "      <th>high</th>\n",
       "      <td>878</td>\n",
       "      <td>601</td>\n",
       "    </tr>\n",
       "    <tr>\n",
       "      <th rowspan=\"3\" valign=\"top\">high</th>\n",
       "      <th>no</th>\n",
       "      <td>0</td>\n",
       "      <td>0</td>\n",
       "    </tr>\n",
       "    <tr>\n",
       "      <th>low</th>\n",
       "      <td>0</td>\n",
       "      <td>0</td>\n",
       "    </tr>\n",
       "    <tr>\n",
       "      <th>high</th>\n",
       "      <td>2875</td>\n",
       "      <td>1342</td>\n",
       "    </tr>\n",
       "  </tbody>\n",
       "</table>\n",
       "</div>"
      ],
      "text/plain": [
       "gsize              short  long\n",
       "gexp_min gexp_max             \n",
       "no       no         6319  1360\n",
       "         low        1261   489\n",
       "         high        186    66\n",
       "low      no            0     0\n",
       "         low         187   146\n",
       "         high        878   601\n",
       "high     no            0     0\n",
       "         low           0     0\n",
       "         high       2875  1342"
      ]
     },
     "metadata": {},
     "output_type": "display_data"
    }
   ],
   "source": [
    "exp_bin_edges = [0,.5,5,np.inf]\n",
    "exp_labels = (\"no\",\"low\",\"high\")\n",
    "sizes_bin_edges = [0,50_000,np.inf]\n",
    "sizes_labels = (\"short\",\"long\")\n",
    "\n",
    "gdf[\"gexp_min\"] = pd.cut(\n",
    "    gdf[\"exp_min\"],\n",
    "    bins = exp_bin_edges,\n",
    "    labels = exp_labels,\n",
    "    include_lowest = True\n",
    ")\n",
    "gdf[\"gexp_max\"] = pd.cut(\n",
    "    gdf[\"exp_max\"],\n",
    "    bins = exp_bin_edges,\n",
    "    labels = exp_labels,\n",
    "    include_lowest = True\n",
    ")\n",
    "gdf[\"gsize\"] = pd.cut(\n",
    "    gdf[\"size\"],\n",
    "    bins = sizes_bin_edges,\n",
    "    labels = sizes_labels,\n",
    "    include_lowest = True\n",
    ")\n",
    "display(gdf.head(2))\n",
    "display( gdf.groupby([\"gexp_min\",\"gsize\"]).size().unstack(fill_value=0) )\n",
    "# finding the common active genes and common inactive ones ...\n",
    "display( gdf.groupby([\"gexp_min\",\"gexp_max\",\"gsize\"]).size().unstack(fill_value=0) )"
   ]
  },
  {
   "cell_type": "code",
   "execution_count": 22,
   "id": "respected-phase",
   "metadata": {},
   "outputs": [],
   "source": [
    "long_high_genes = gdf.groupby([\"gexp_min\",\"gexp_max\",\"gsize\"]).get_group((\"high\",\"high\",\"long\"))"
   ]
  },
  {
   "cell_type": "code",
   "execution_count": 23,
   "id": "spread-bracket",
   "metadata": {},
   "outputs": [],
   "source": [
    "TSS_TTS_ints = pd.DataFrame({})\n",
    "TSS_TTS_ints[\"chrom1\"] = long_high_genes[\"chrom\"].copy()\n",
    "TSS_TTS_ints[\"start1\"] = long_high_genes[\"start\"].copy() - 5  # 10 bp-wide peak\n",
    "TSS_TTS_ints[\"end1\"] = long_high_genes[\"start\"].copy() + 5  # 10 bp-wide peak\n",
    "\n",
    "TSS_TTS_ints[\"chrom2\"] = long_high_genes[\"chrom\"].copy()\n",
    "TSS_TTS_ints[\"start2\"] = long_high_genes[\"end\"].copy() - 5  # 10 bp-wide peak\n",
    "TSS_TTS_ints[\"end2\"] = long_high_genes[\"end\"].copy() + 5  # 10 bp-wide peak\n",
    "\n",
    "TSS_TTS_ints[\"strand\"] = long_high_genes[\"strand\"]"
   ]
  },
  {
   "cell_type": "code",
   "execution_count": 24,
   "id": "horizontal-lindsay",
   "metadata": {},
   "outputs": [
    {
     "data": {
      "text/html": [
       "<div>\n",
       "<style scoped>\n",
       "    .dataframe tbody tr th:only-of-type {\n",
       "        vertical-align: middle;\n",
       "    }\n",
       "\n",
       "    .dataframe tbody tr th {\n",
       "        vertical-align: top;\n",
       "    }\n",
       "\n",
       "    .dataframe thead th {\n",
       "        text-align: right;\n",
       "    }\n",
       "</style>\n",
       "<table border=\"1\" class=\"dataframe\">\n",
       "  <thead>\n",
       "    <tr style=\"text-align: right;\">\n",
       "      <th></th>\n",
       "      <th>chrom1</th>\n",
       "      <th>start1</th>\n",
       "      <th>end1</th>\n",
       "      <th>chrom2</th>\n",
       "      <th>start2</th>\n",
       "      <th>end2</th>\n",
       "      <th>strand</th>\n",
       "    </tr>\n",
       "  </thead>\n",
       "  <tbody>\n",
       "    <tr>\n",
       "      <th>37</th>\n",
       "      <td>chr1</td>\n",
       "      <td>1716718</td>\n",
       "      <td>1716728</td>\n",
       "      <td>chr1</td>\n",
       "      <td>1822551</td>\n",
       "      <td>1822561</td>\n",
       "      <td>-</td>\n",
       "    </tr>\n",
       "    <tr>\n",
       "      <th>66</th>\n",
       "      <td>chr1</td>\n",
       "      <td>6324326</td>\n",
       "      <td>6324336</td>\n",
       "      <td>chr1</td>\n",
       "      <td>6453822</td>\n",
       "      <td>6453832</td>\n",
       "      <td>-</td>\n",
       "    </tr>\n",
       "    <tr>\n",
       "      <th>72</th>\n",
       "      <td>chr1</td>\n",
       "      <td>6845378</td>\n",
       "      <td>6845388</td>\n",
       "      <td>chr1</td>\n",
       "      <td>7829761</td>\n",
       "      <td>7829771</td>\n",
       "      <td>+</td>\n",
       "    </tr>\n",
       "    <tr>\n",
       "      <th>74</th>\n",
       "      <td>chr1</td>\n",
       "      <td>7844345</td>\n",
       "      <td>7844355</td>\n",
       "      <td>chr1</td>\n",
       "      <td>7905232</td>\n",
       "      <td>7905242</td>\n",
       "      <td>+</td>\n",
       "    </tr>\n",
       "    <tr>\n",
       "      <th>87</th>\n",
       "      <td>chr1</td>\n",
       "      <td>9788978</td>\n",
       "      <td>9788988</td>\n",
       "      <td>chr1</td>\n",
       "      <td>9884579</td>\n",
       "      <td>9884589</td>\n",
       "      <td>-</td>\n",
       "    </tr>\n",
       "    <tr>\n",
       "      <th>...</th>\n",
       "      <td>...</td>\n",
       "      <td>...</td>\n",
       "      <td>...</td>\n",
       "      <td>...</td>\n",
       "      <td>...</td>\n",
       "      <td>...</td>\n",
       "      <td>...</td>\n",
       "    </tr>\n",
       "    <tr>\n",
       "      <th>15617</th>\n",
       "      <td>chr9</td>\n",
       "      <td>134249032</td>\n",
       "      <td>134249042</td>\n",
       "      <td>chr9</td>\n",
       "      <td>134375575</td>\n",
       "      <td>134375585</td>\n",
       "      <td>+</td>\n",
       "    </tr>\n",
       "    <tr>\n",
       "      <th>15619</th>\n",
       "      <td>chr9</td>\n",
       "      <td>134735493</td>\n",
       "      <td>134735503</td>\n",
       "      <td>chr9</td>\n",
       "      <td>134955249</td>\n",
       "      <td>134955259</td>\n",
       "      <td>-</td>\n",
       "    </tr>\n",
       "    <tr>\n",
       "      <th>15623</th>\n",
       "      <td>chr9</td>\n",
       "      <td>135468378</td>\n",
       "      <td>135468388</td>\n",
       "      <td>chr9</td>\n",
       "      <td>135545783</td>\n",
       "      <td>135545793</td>\n",
       "      <td>-</td>\n",
       "    </tr>\n",
       "    <tr>\n",
       "      <th>15671</th>\n",
       "      <td>chr9</td>\n",
       "      <td>138700327</td>\n",
       "      <td>138700337</td>\n",
       "      <td>chr9</td>\n",
       "      <td>138799387</td>\n",
       "      <td>138799397</td>\n",
       "      <td>-</td>\n",
       "    </tr>\n",
       "    <tr>\n",
       "      <th>15705</th>\n",
       "      <td>chr9</td>\n",
       "      <td>140513451</td>\n",
       "      <td>140513461</td>\n",
       "      <td>chr9</td>\n",
       "      <td>140730573</td>\n",
       "      <td>140730583</td>\n",
       "      <td>+</td>\n",
       "    </tr>\n",
       "  </tbody>\n",
       "</table>\n",
       "<p>1342 rows × 7 columns</p>\n",
       "</div>"
      ],
      "text/plain": [
       "      chrom1     start1       end1 chrom2     start2       end2 strand\n",
       "37      chr1    1716718    1716728   chr1    1822551    1822561      -\n",
       "66      chr1    6324326    6324336   chr1    6453822    6453832      -\n",
       "72      chr1    6845378    6845388   chr1    7829761    7829771      +\n",
       "74      chr1    7844345    7844355   chr1    7905232    7905242      +\n",
       "87      chr1    9788978    9788988   chr1    9884579    9884589      -\n",
       "...      ...        ...        ...    ...        ...        ...    ...\n",
       "15617   chr9  134249032  134249042   chr9  134375575  134375585      +\n",
       "15619   chr9  134735493  134735503   chr9  134955249  134955259      -\n",
       "15623   chr9  135468378  135468388   chr9  135545783  135545793      -\n",
       "15671   chr9  138700327  138700337   chr9  138799387  138799397      -\n",
       "15705   chr9  140513451  140513461   chr9  140730573  140730583      +\n",
       "\n",
       "[1342 rows x 7 columns]"
      ]
     },
     "execution_count": 24,
     "metadata": {},
     "output_type": "execute_result"
    }
   ],
   "source": [
    "TSS_TTS_ints"
   ]
  },
  {
   "cell_type": "code",
   "execution_count": null,
   "id": "severe-aggregate",
   "metadata": {},
   "outputs": [],
   "source": [
    "TSS_TTS_ints.to_csv(\"\",sep=\"\\t\",index=False,header=False\")"
   ]
  },
  {
   "cell_type": "markdown",
   "id": "incorporated-platform",
   "metadata": {},
   "source": [
    "## take these start and ends and turn them into \"interactions\" in the form of a BEDPE file "
   ]
  },
  {
   "cell_type": "code",
   "execution_count": null,
   "id": "timely-mozambique",
   "metadata": {},
   "outputs": [],
   "source": []
  }
 ],
 "metadata": {
  "kernelspec": {
   "display_name": "Python 3",
   "language": "python",
   "name": "python3"
  },
  "language_info": {
   "codemirror_mode": {
    "name": "ipython",
    "version": 3
   },
   "file_extension": ".py",
   "mimetype": "text/x-python",
   "name": "python",
   "nbconvert_exporter": "python",
   "pygments_lexer": "ipython3",
   "version": "3.8.5"
  }
 },
 "nbformat": 4,
 "nbformat_minor": 5
}
