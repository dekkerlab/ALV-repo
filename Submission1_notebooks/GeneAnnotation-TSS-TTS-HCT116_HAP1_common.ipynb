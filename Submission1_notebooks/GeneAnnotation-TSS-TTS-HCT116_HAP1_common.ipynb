{
 "cells": [
  {
   "cell_type": "code",
   "execution_count": 1,
   "id": "roman-chocolate",
   "metadata": {},
   "outputs": [
    {
     "data": {
      "application/javascript": [
       "require([\"codemirror/keymap/sublime\", \"notebook/js/cell\", \"base/js/namespace\"],\n",
       "    function(sublime_keymap, cell, IPython) {\n",
       "        cell.Cell.options_default.cm_config.keyMap = 'sublime';\n",
       "        var cells = IPython.notebook.get_cells();\n",
       "        for(var cl=0; cl< cells.length ; cl++){\n",
       "            cells[cl].code_mirror.setOption('keyMap', 'sublime');\n",
       "        }\n",
       "    }\n",
       ");\n"
      ],
      "text/plain": [
       "<IPython.core.display.Javascript object>"
      ]
     },
     "metadata": {},
     "output_type": "display_data"
    }
   ],
   "source": [
    "%%javascript\n",
    "require([\"codemirror/keymap/sublime\", \"notebook/js/cell\", \"base/js/namespace\"],\n",
    "    function(sublime_keymap, cell, IPython) {\n",
    "        cell.Cell.options_default.cm_config.keyMap = 'sublime';\n",
    "        var cells = IPython.notebook.get_cells();\n",
    "        for(var cl=0; cl< cells.length ; cl++){\n",
    "            cells[cl].code_mirror.setOption('keyMap', 'sublime');\n",
    "        }\n",
    "    }\n",
    ");"
   ]
  },
  {
   "cell_type": "code",
   "execution_count": 2,
   "id": "thermal-calcium",
   "metadata": {},
   "outputs": [
    {
     "data": {
      "text/html": [
       "<style>.container { width:85% !important; }</style>"
      ],
      "text/plain": [
       "<IPython.core.display.HTML object>"
      ]
     },
     "metadata": {},
     "output_type": "display_data"
    }
   ],
   "source": [
    "# change the cell width\n",
    "from IPython.core.display import display, HTML\n",
    "display(HTML(\"<style>.container { width:85% !important; }</style>\"))"
   ]
  },
  {
   "cell_type": "code",
   "execution_count": 3,
   "id": "noticed-heritage",
   "metadata": {},
   "outputs": [],
   "source": [
    "%load_ext autoreload\n",
    "%autoreload 2\n",
    "%matplotlib inline\n",
    "%config InlineBackend.print_figure_kwargs={'facecolor' : \"w\"}\n",
    "import warnings\n",
    "warnings.filterwarnings('ignore')\n",
    "from more_itertools import chunked\n",
    "# import all relevant func and modules from a companion .py file\n",
    "from supp_lib import *\n",
    "# import all samples as dictionary ...\n",
    "from samples import *"
   ]
  },
  {
   "cell_type": "code",
   "execution_count": 4,
   "id": "owned-prefix",
   "metadata": {},
   "outputs": [],
   "source": [
    "# let's start with the super useful intro on how to extract a BED file with gene annotation from HiGlass docs ...\n",
    "# https://docs.higlass.io/data_preparation.html#gene-annotation-tracks"
   ]
  },
  {
   "cell_type": "markdown",
   "id": "committed-patch",
   "metadata": {},
   "source": [
    "### Further filter and preprare our RefSeq-based list of genes"
   ]
  },
  {
   "cell_type": "code",
   "execution_count": 5,
   "id": "banned-intranet",
   "metadata": {},
   "outputs": [],
   "source": [
    "genes_df = pd.read_csv(\n",
    "    \"./gene_annot_data/hg19/geneAnnotationsExonUnions.bed\",\n",
    "    sep=\"\\t\",\n",
    "    header=None,\n",
    "    names = [\"chr\",\n",
    "            \"txStart\",\n",
    "            \"txEnd\",\n",
    "            \"geneName\",\n",
    "            \"citationCount\",\n",
    "            \"strand\",\n",
    "            \"union_geneId\", # \"refseqId\",\n",
    "            \"geneId\",\n",
    "            \"geneType\",\n",
    "            \"geneDesc\",\n",
    "            \"cdsStart\",\n",
    "            \"cdsEnd\",\n",
    "            \"exonStarts\",\n",
    "            \"exonEnds\"]\n",
    ")\n",
    "genes_df.head()\n",
    "\n",
    "### we'll be removing duplicated genes because they're likely unamppable and/or harder to deal with anyways ...\n",
    "### there are of course expections, but will do it anyways:\n",
    "geneId_grp = genes_df.groupby(\"geneId\")\n",
    "genes_df = geneId_grp.first()[geneId_grp.size() == 1].reset_index()"
   ]
  },
  {
   "cell_type": "markdown",
   "id": "renewable-driving",
   "metadata": {},
   "source": [
    "### some stats ..."
   ]
  },
  {
   "cell_type": "code",
   "execution_count": 6,
   "id": "continental-wonder",
   "metadata": {},
   "outputs": [
    {
     "data": {
      "text/plain": [
       "<AxesSubplot:xlabel='geneType,strand'>"
      ]
     },
     "execution_count": 6,
     "metadata": {},
     "output_type": "execute_result"
    },
    {
     "data": {
      "image/png": "[encoded data removed]",
      "text/plain": [
       "<Figure size 432x288 with 1 Axes>"
      ]
     },
     "metadata": {
      "needs_background": "light"
     },
     "output_type": "display_data"
    }
   ],
   "source": [
    "# by geneType and strand ...\n",
    "genes_df.groupby([\"geneType\",\"strand\"]).size().plot.bar()"
   ]
  },
  {
   "cell_type": "markdown",
   "id": "selective-shark",
   "metadata": {},
   "source": [
    "### merging RNA-seq expression data with our gene annotation ..."
   ]
  },
  {
   "cell_type": "code",
   "execution_count": 7,
   "id": "worst-myrtle",
   "metadata": {},
   "outputs": [],
   "source": [
    "rsem_df = pd.read_csv(\"merged_TPM_genes.tsv\",sep=\"\\t\")\n",
    "# genes_Df  overlap   rsem\n",
    "# ~4_300     ~23_200   ~2_500"
   ]
  },
  {
   "cell_type": "code",
   "execution_count": 11,
   "id": "rotary-civilization",
   "metadata": {},
   "outputs": [
    {
     "data": {
      "text/html": [
       "<div>\n",
       "<style scoped>\n",
       "    .dataframe tbody tr th:only-of-type {\n",
       "        vertical-align: middle;\n",
       "    }\n",
       "\n",
       "    .dataframe tbody tr th {\n",
       "        vertical-align: top;\n",
       "    }\n",
       "\n",
       "    .dataframe thead th {\n",
       "        text-align: right;\n",
       "    }\n",
       "</style>\n",
       "<table border=\"1\" class=\"dataframe\">\n",
       "  <thead>\n",
       "    <tr style=\"text-align: right;\">\n",
       "      <th></th>\n",
       "      <th>Id</th>\n",
       "      <th>12</th>\n",
       "    </tr>\n",
       "  </thead>\n",
       "  <tbody>\n",
       "    <tr>\n",
       "      <th>0</th>\n",
       "      <td>MIR941-2</td>\n",
       "      <td>MIR941-2</td>\n",
       "    </tr>\n",
       "    <tr>\n",
       "      <th>3</th>\n",
       "      <td>TTTY1B</td>\n",
       "      <td>TTTY1B</td>\n",
       "    </tr>\n",
       "    <tr>\n",
       "      <th>5</th>\n",
       "      <td>F8A1</td>\n",
       "      <td>F8A1</td>\n",
       "    </tr>\n",
       "    <tr>\n",
       "      <th>8</th>\n",
       "      <td>C9orf16</td>\n",
       "      <td>C9orf16</td>\n",
       "    </tr>\n",
       "    <tr>\n",
       "      <th>9</th>\n",
       "      <td>CXorf56</td>\n",
       "      <td>CXorf56</td>\n",
       "    </tr>\n",
       "  </tbody>\n",
       "</table>\n",
       "</div>"
      ],
      "text/plain": [
       "         Id        12\n",
       "0  MIR941-2  MIR941-2\n",
       "3    TTTY1B    TTTY1B\n",
       "5      F8A1      F8A1\n",
       "8   C9orf16   C9orf16\n",
       "9   CXorf56   CXorf56"
      ]
     },
     "metadata": {},
     "output_type": "display_data"
    },
    {
     "data": {
      "image/png": "[encoded data removed]",
      "text/plain": [
       "<Figure size 432x288 with 1 Axes>"
      ]
     },
     "metadata": {
      "needs_background": "light"
     },
     "output_type": "display_data"
    }
   ],
   "source": [
    "yyy = pd.merge(\n",
    "    rsem_df,\n",
    "    genes_df,\n",
    "    how = 'left',\n",
    "    left_on=\"Id\",\n",
    "    right_on=\"geneName\"\n",
    ")\n",
    "\n",
    "yyy[yyy.isna().any(axis=1)][\"rsem.out.S442_NT\"].plot.hist(log=True,bins=100)\n",
    "yyy[\"rsem.out.S442_NT\"].plot.hist(log=True,bins=100,alpha=0.3)\n",
    "\n",
    "display(pd.merge(\n",
    "    yyy[yyy.isna().any(axis=1)][\"Id\"].reset_index(drop=True),\n",
    "    pd.read_csv(\"./gene_annot_data/hg19/refGene_sorted\",sep=\"\\t\",header=None)[12],\n",
    "    how=\"inner\",\n",
    "    left_on=\"Id\",\n",
    "    right_on=12\n",
    ").drop_duplicates().head(5))\n",
    "# pd.read_csv(\"./gene_annot_data/hg19/refGene_sorted\",sep=\"\\t\",header=None)[12]\n"
   ]
  },
  {
   "cell_type": "markdown",
   "id": "compound-sally",
   "metadata": {},
   "source": [
    "### after \"filtering\" our list of genes we are left with ~ 27k of them, and let's get to extracting TSS/TTS and other useful info"
   ]
  },
  {
   "cell_type": "code",
   "execution_count": 12,
   "id": "fatty-calendar",
   "metadata": {},
   "outputs": [],
   "source": [
    "# columns needed for TSS/TTS bed files output:\n",
    "tx_cols = [\"chr\", \"txStart\", \"txEnd\"]\n",
    "\n",
    "pgenes_df =  genes_df[ genes_df[\"strand\"] == \"+\" ][tx_cols].reset_index(drop=True)\n",
    "mgenes_df =  genes_df[ genes_df[\"strand\"] == \"-\" ][tx_cols].reset_index(drop=True)"
   ]
  },
  {
   "cell_type": "markdown",
   "id": "neural-logging",
   "metadata": {},
   "source": [
    "#### carefully extract TSS from the genes, considering their orientation, and possible duplications ..."
   ]
  },
  {
   "cell_type": "code",
   "execution_count": 14,
   "id": "careful-squad",
   "metadata": {},
   "outputs": [
    {
     "name": "stdout",
     "output_type": "stream",
     "text": [
      " there are 66 duplicated pTSSs ...\n",
      "finally there are 13921 +TSSs to work with...\n",
      " there are 58 duplicated mTSSs ...\n",
      "finally there are 13476 -TSSs to work with...\n",
      "there are still 1 duplicated TSSs ... drop em\n",
      "finally there are 27396 -TSSs to work with...\n"
     ]
    }
   ],
   "source": [
    "pTSS = pgenes_df.copy()\n",
    "mTSS = mgenes_df.copy()\n",
    "# after copying, pTSS and mTSS are dataframes that have chr, txStart, txEnd  of the\n",
    "# transcripts, that we could modify as we please ...\n",
    "\n",
    "# for genes on p-strand, we keep txStart, and modify txEnd to be ~several bp downstream:\n",
    "pTSS[\"txEnd\"] = pTSS[\"txStart\"] + 1\n",
    "pTSS[\"strand\"] = \"+\"\n",
    "# report how many TSS were duplicated here:\n",
    "print(f\" there are {pTSS.duplicated().sum()} duplicated pTSSs ...\")\n",
    "pTSS = pTSS.drop_duplicates().reset_index(drop=True)\n",
    "print(f\"finally there are {len(pTSS)} +TSSs to work with...\")\n",
    "\n",
    "# for genes on m-strand, we keep txEnd, and modify txStart to be ~several bp downstream (relative to the gene):\n",
    "mTSS[\"txStart\"] = mTSS[\"txEnd\"] - 1\n",
    "mTSS[\"strand\"] = \"-\"\n",
    "# report how many TSS were duplicated here:\n",
    "print(f\" there are {mTSS.duplicated().sum()} duplicated mTSSs ...\")\n",
    "mTSS = mTSS.drop_duplicates().reset_index(drop=True)\n",
    "print(f\"finally there are {len(mTSS)} -TSSs to work with...\")\n",
    "\n",
    "# after modifying pTSS and mTSS separately - let's bring them back together ...\n",
    "TSS = pd.concat([pTSS,mTSS]).reset_index(drop=True)\n",
    "print(f\"there are still {TSS.duplicated(subset=tx_cols).sum()} duplicated TSSs ... drop em\")\n",
    "TSS = TSS.drop_duplicates(subset=tx_cols).reset_index(drop=True)\n",
    "print(f\"finally there are {len(TSS)} -TSSs to work with...\")\n",
    "# we save them in the other notebook ..."
   ]
  },
  {
   "cell_type": "markdown",
   "id": "super-posting",
   "metadata": {},
   "source": [
    "#### carefully extract TTS (aka 3' end of the gene ) from the list of genes, considering their orientation, and possible duplications ..."
   ]
  },
  {
   "cell_type": "code",
   "execution_count": 15,
   "id": "fantastic-allah",
   "metadata": {},
   "outputs": [
    {
     "name": "stdout",
     "output_type": "stream",
     "text": [
      " there are 120 duplicated pTTSs ...\n",
      "finally there are 13867 +TTSs to work with...\n",
      " there are 68 duplicated mTTSs ...\n",
      "finally there are 13466 -TTSs to work with...\n",
      "there are still 2 duplicated TTSs ... drop em\n",
      "finally there are 27331 -TTSs to work with...\n"
     ]
    }
   ],
   "source": [
    "pTTS = pgenes_df.copy()\n",
    "mTTS = mgenes_df.copy()\n",
    "# after copying, pTTS and mTTS are dataframes that have chr, txStart, txEnd  of the\n",
    "# transcripts, that we could modify as we please ...\n",
    "\n",
    "# for genes on p-strand, we keep txEnd, and modify txStart to be ~several bp upstream:\n",
    "pTTS[\"txStart\"] = pTTS[\"txEnd\"] - 1\n",
    "pTTS[\"strand\"] = \"+\"\n",
    "# report how many TTS were duplicated here:\n",
    "print(f\" there are {pTTS.duplicated().sum()} duplicated pTTSs ...\")\n",
    "pTTS = pTTS.drop_duplicates().reset_index(drop=True)\n",
    "print(f\"finally there are {len(pTTS)} +TTSs to work with...\")\n",
    "\n",
    "# for genes on m-strand, we keep txStart, and modify txEnd to be ~several bp upstream (relative to the gene):\n",
    "mTTS[\"txEnd\"] = mTTS[\"txStart\"] + 1\n",
    "mTTS[\"strand\"] = \"-\"\n",
    "# report how many TTS were duplicated here:\n",
    "print(f\" there are {mTTS.duplicated().sum()} duplicated mTTSs ...\")\n",
    "mTTS = mTTS.drop_duplicates().reset_index(drop=True)\n",
    "print(f\"finally there are {len(mTTS)} -TTSs to work with...\")\n",
    "\n",
    "# after modifying pTTS and mTTS separately - let's bring them back together ...\n",
    "TTS = pd.concat([pTTS,mTTS]).reset_index(drop=True)\n",
    "print(f\"there are still {TTS.duplicated(subset=tx_cols).sum()} duplicated TTSs ... drop em\")\n",
    "TTS = TTS.drop_duplicates(subset=tx_cols).reset_index(drop=True)\n",
    "print(f\"finally there are {len(TTS)} -TTSs to work with...\")\n",
    "# we save them in the other notebook ..."
   ]
  },
  {
   "cell_type": "code",
   "execution_count": 16,
   "id": "boring-tactics",
   "metadata": {},
   "outputs": [],
   "source": [
    "# !scp allTTS_wstrand.bed ghpcc:/nl/umw_job_dekker/users/sv49w/ALV2021/\n",
    "# !scp allTSS_wstrand.bed ghpcc:/nl/umw_job_dekker/users/sv49w/ALV2021/\n",
    "# !scp ActiveTSS-13412-1bp.bed ghpcc:/nl/umw_job_dekker/users/sv49w/ALV2021/\n",
    "# !scp ActiveTSS-NO-CTCF-8849-1bp.bed ghpcc:/nl/umw_job_dekker/users/sv49w/ALV2021/\n",
    "# !scp activeTTS_wstrand.bed ghpcc:/nl/umw_job_dekker/users/sv49w/ALV2021/\n",
    "# !scp ActiveTTS-withoutH3K4-1bp.bed ghpcc:/nl/umw_job_dekker/users/sv49w/ALV2021/\n",
    "# !scp ActiveTTS-withoutH3K4-NO-CTCF-10933-1bp.bed ghpcc:/nl/umw_job_dekker/users/sv49w/ALV2021/"
   ]
  },
  {
   "cell_type": "markdown",
   "id": "obvious-standing",
   "metadata": {},
   "source": [
    "### Let's get TTS corresponding to active TSSs\n",
    "using our `ActiveTSS-13412-1bp.bed` file , and our main `gene_df` \"database\"\n",
    "\n",
    "also we need to do this for `ActiveTSS-12216-1bp_HCT116_HAP1.bed` file - list of TSS active between HCT116 and HAP1 ..."
   ]
  },
  {
   "cell_type": "code",
   "execution_count": 32,
   "id": "recognized-independence",
   "metadata": {},
   "outputs": [],
   "source": [
    "# fname = \"ActiveTSS-13412-1bp.bed\"\n",
    "fname = \"ActiveTSS-12113-1bp_HCT116_HAP1.bed\"\n",
    "act_tss_df = bioframe.read_table(\n",
    "    fname,\n",
    "    names=[\"chrom\",\"start\",\"end\",\"strand\"]\n",
    ")\n",
    "act_tss_df = act_tss_df.sort_values([\"chrom\",\"start\"])\n",
    "act_tss_df = act_tss_df.reset_index(drop=True)"
   ]
  },
  {
   "cell_type": "code",
   "execution_count": 33,
   "id": "electoral-adrian",
   "metadata": {},
   "outputs": [
    {
     "data": {
      "text/html": [
       "<div>\n",
       "<style scoped>\n",
       "    .dataframe tbody tr th:only-of-type {\n",
       "        vertical-align: middle;\n",
       "    }\n",
       "\n",
       "    .dataframe tbody tr th {\n",
       "        vertical-align: top;\n",
       "    }\n",
       "\n",
       "    .dataframe thead th {\n",
       "        text-align: right;\n",
       "    }\n",
       "</style>\n",
       "<table border=\"1\" class=\"dataframe\">\n",
       "  <thead>\n",
       "    <tr style=\"text-align: right;\">\n",
       "      <th></th>\n",
       "      <th>chrom2</th>\n",
       "      <th>start2</th>\n",
       "      <th>end2</th>\n",
       "      <th>strand2</th>\n",
       "      <th>geneId</th>\n",
       "      <th>chr</th>\n",
       "      <th>txStart</th>\n",
       "      <th>txEnd</th>\n",
       "      <th>geneName</th>\n",
       "      <th>citationCount</th>\n",
       "      <th>strand</th>\n",
       "      <th>union_geneId</th>\n",
       "      <th>geneType</th>\n",
       "      <th>geneDesc</th>\n",
       "      <th>cdsStart</th>\n",
       "      <th>cdsEnd</th>\n",
       "      <th>exonStarts</th>\n",
       "      <th>exonEnds</th>\n",
       "    </tr>\n",
       "  </thead>\n",
       "  <tbody>\n",
       "    <tr>\n",
       "      <th>0</th>\n",
       "      <td>chr1</td>\n",
       "      <td>762970</td>\n",
       "      <td>762971</td>\n",
       "      <td>+</td>\n",
       "      <td>643837.0</td>\n",
       "      <td>chr1</td>\n",
       "      <td>762970</td>\n",
       "      <td>794826</td>\n",
       "      <td>LINC01128</td>\n",
       "      <td>6</td>\n",
       "      <td>+</td>\n",
       "      <td>union_643837</td>\n",
       "      <td>ncRNA</td>\n",
       "      <td>long intergenic non-protein coding RNA 1128</td>\n",
       "      <td>794826</td>\n",
       "      <td>794826</td>\n",
       "      <td>762970,763177,764382,776579,783033,787306,7880...</td>\n",
       "      <td>763155,763229,764484,778984,783186,787490,7881...</td>\n",
       "    </tr>\n",
       "    <tr>\n",
       "      <th>1</th>\n",
       "      <td>chr1</td>\n",
       "      <td>859302</td>\n",
       "      <td>859303</td>\n",
       "      <td>+</td>\n",
       "      <td>148398.0</td>\n",
       "      <td>chr1</td>\n",
       "      <td>859302</td>\n",
       "      <td>879954</td>\n",
       "      <td>SAMD11</td>\n",
       "      <td>14</td>\n",
       "      <td>+</td>\n",
       "      <td>union_148398</td>\n",
       "      <td>protein-coding</td>\n",
       "      <td>sterile alpha motif domain containing 11</td>\n",
       "      <td>859811</td>\n",
       "      <td>879533</td>\n",
       "      <td>859302,861110,861301,865534,866418,871151,8744...</td>\n",
       "      <td>860328,861180,861393,865716,866469,871276,8745...</td>\n",
       "    </tr>\n",
       "  </tbody>\n",
       "</table>\n",
       "</div>"
      ],
      "text/plain": [
       "  chrom2  start2    end2 strand2    geneId   chr  txStart   txEnd   geneName  \\\n",
       "0   chr1  762970  762971       +  643837.0  chr1   762970  794826  LINC01128   \n",
       "1   chr1  859302  859303       +  148398.0  chr1   859302  879954     SAMD11   \n",
       "\n",
       "   citationCount strand  union_geneId        geneType  \\\n",
       "0              6      +  union_643837           ncRNA   \n",
       "1             14      +  union_148398  protein-coding   \n",
       "\n",
       "                                      geneDesc  cdsStart  cdsEnd  \\\n",
       "0  long intergenic non-protein coding RNA 1128    794826  794826   \n",
       "1     sterile alpha motif domain containing 11    859811  879533   \n",
       "\n",
       "                                          exonStarts  \\\n",
       "0  762970,763177,764382,776579,783033,787306,7880...   \n",
       "1  859302,861110,861301,865534,866418,871151,8744...   \n",
       "\n",
       "                                            exonEnds  \n",
       "0  763155,763229,764484,778984,783186,787490,7881...  \n",
       "1  860328,861180,861393,865716,866469,871276,8745...  "
      ]
     },
     "metadata": {},
     "output_type": "display_data"
    },
    {
     "name": "stdout",
     "output_type": "stream",
     "text": [
      "Number of duplicated genes among the list of active ones 1865 - why?\n"
     ]
    }
   ],
   "source": [
    "# Find \"active genes\" corresponding to our active TSS - simply by overlapping TSS and with the genes\n",
    "active_genes_df = bioframe.overlap(\n",
    "    act_tss_df,\n",
    "    genes_df,\n",
    "    how=\"left\",\n",
    "    cols2=tx_cols,\n",
    "    suffixes=('2', '')\n",
    ")\n",
    "active_genes_df = active_genes_df.astype(\n",
    "    {'start2':int,\n",
    "     'end2':int,\n",
    "     'txStart':int,\n",
    "     'txEnd':int,\n",
    "     'citationCount':int,\n",
    "     'cdsStart':int,\n",
    "     'cdsEnd':int,\n",
    "    }\n",
    ")\n",
    "# active_genes_df - they are good, but there are plenty of duplicates - i.e. same transcripts\n",
    "# but it's ok - since we are going to drop_duplicates for TTS anyways ...\n",
    "display(active_genes_df.head(2))\n",
    "print(f'Number of duplicated genes among the list of active ones {active_genes_df.duplicated([\"chr\",\"txStart\",\"txEnd\"]).sum()} - why?')"
   ]
  },
  {
   "cell_type": "markdown",
   "id": "unauthorized-retailer",
   "metadata": {},
   "source": [
    "#### get to extracting TTS, corresponding to the active TSS (active genes) ..."
   ]
  },
  {
   "cell_type": "code",
   "execution_count": 34,
   "id": "intellectual-catalyst",
   "metadata": {},
   "outputs": [
    {
     "name": "stdout",
     "output_type": "stream",
     "text": [
      " there are 1015 duplicated active pTTSs ...\n",
      "finally there are 6246 active +TTSs to work with...\n",
      " there are 924 duplicated active mTTSs ...\n",
      "finally there are 6091 active -TTSs to work with...\n",
      "there are still 2 duplicated active TTSs ... drop em\n",
      "finally there are 12335 active-TTSs to work with...\n"
     ]
    }
   ],
   "source": [
    "# columns needed for TSS/act_TTS bed files output:\n",
    "act_pgenes_df =  active_genes_df[ active_genes_df[\"strand\"] == \"+\" ][tx_cols].reset_index(drop=True)\n",
    "act_mgenes_df =  active_genes_df[ active_genes_df[\"strand\"] == \"-\" ][tx_cols].reset_index(drop=True)\n",
    "\n",
    "act_pTTS = act_pgenes_df.copy()\n",
    "act_mTTS = act_mgenes_df.copy()\n",
    "# after copying, act_pTTS and act_mTTS are dataframes that have chr, txStart, txEnd  of the\n",
    "# transcripts, that we could modify as we please ...\n",
    "\n",
    "# for genes on p-strand, we keep txEnd, and modify txStart to be ~several bp upstream:\n",
    "act_pTTS[\"txStart\"] = act_pTTS[\"txEnd\"] - 1\n",
    "act_pTTS[\"strand\"] = \"+\"\n",
    "# report how many act_TTS were duplicated here:\n",
    "print(f\" there are {act_pTTS.duplicated().sum()} duplicated active pTTSs ...\")\n",
    "act_pTTS = act_pTTS.drop_duplicates().reset_index(drop=True)\n",
    "print(f\"finally there are {len(act_pTTS)} active +TTSs to work with...\")\n",
    "\n",
    "# for genes on m-strand, we keep txStart, and modify txEnd to be ~several bp upstream (relative to the gene):\n",
    "act_mTTS[\"txEnd\"] = act_mTTS[\"txStart\"] + 1\n",
    "act_mTTS[\"strand\"] = \"-\"\n",
    "# report how many act_TTS were duplicated here:\n",
    "print(f\" there are {act_mTTS.duplicated().sum()} duplicated active mTTSs ...\")\n",
    "act_mTTS = act_mTTS.drop_duplicates().reset_index(drop=True)\n",
    "print(f\"finally there are {len(act_mTTS)} active -TTSs to work with...\")\n",
    "\n",
    "# after modifying act_pTTS and act_mTTS separately - let's bring them back together ...\n",
    "act_TTS = pd.concat([act_pTTS,act_mTTS]).reset_index(drop=True)\n",
    "print(f\"there are still {act_TTS.duplicated(subset=tx_cols).sum()} duplicated active TTSs ... drop em\")\n",
    "act_TTS = act_TTS.drop_duplicates(subset=tx_cols).reset_index(drop=True)\n",
    "print(f\"finally there are {len(act_TTS)} active-TTSs to work with...\")\n",
    "\n",
    "# DROP IT !\n",
    "act_TTS.to_csv(\"activeTTS_HCT116-HAP1_wstrand.bed\",index=False,header=None,sep=\"\\t\")\n"
   ]
  },
  {
   "cell_type": "code",
   "execution_count": null,
   "id": "dated-serum",
   "metadata": {},
   "outputs": [],
   "source": []
  }
 ],
 "metadata": {
  "kernelspec": {
   "display_name": "Python 3",
   "language": "python",
   "name": "python3"
  },
  "language_info": {
   "codemirror_mode": {
    "name": "ipython",
    "version": 3
   },
   "file_extension": ".py",
   "mimetype": "text/x-python",
   "name": "python",
   "nbconvert_exporter": "python",
   "pygments_lexer": "ipython3",
   "version": "3.8.5"
  }
 },
 "nbformat": 4,
 "nbformat_minor": 5
}
