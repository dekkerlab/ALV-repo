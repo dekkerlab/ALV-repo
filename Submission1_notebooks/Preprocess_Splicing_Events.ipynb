{
 "cells": [
  {
   "cell_type": "code",
   "execution_count": 1,
   "id": "nearby-cylinder",
   "metadata": {},
   "outputs": [
    {
     "data": {
      "application/javascript": [
       "require([\"codemirror/keymap/sublime\", \"notebook/js/cell\", \"base/js/namespace\"],\n",
       "    function(sublime_keymap, cell, IPython) {\n",
       "        cell.Cell.options_default.cm_config.keyMap = 'sublime';\n",
       "        var cells = IPython.notebook.get_cells();\n",
       "        for(var cl=0; cl< cells.length ; cl++){\n",
       "            cells[cl].code_mirror.setOption('keyMap', 'sublime');\n",
       "        }\n",
       "    }\n",
       ");\n"
      ],
      "text/plain": [
       "<IPython.core.display.Javascript object>"
      ]
     },
     "metadata": {},
     "output_type": "display_data"
    }
   ],
   "source": [
    "%%javascript\n",
    "require([\"codemirror/keymap/sublime\", \"notebook/js/cell\", \"base/js/namespace\"],\n",
    "    function(sublime_keymap, cell, IPython) {\n",
    "        cell.Cell.options_default.cm_config.keyMap = 'sublime';\n",
    "        var cells = IPython.notebook.get_cells();\n",
    "        for(var cl=0; cl< cells.length ; cl++){\n",
    "            cells[cl].code_mirror.setOption('keyMap', 'sublime');\n",
    "        }\n",
    "    }\n",
    ");"
   ]
  },
  {
   "cell_type": "code",
   "execution_count": 2,
   "id": "conscious-chest",
   "metadata": {},
   "outputs": [
    {
     "data": {
      "text/html": [
       "<style>.container { width:85% !important; }</style>"
      ],
      "text/plain": [
       "<IPython.core.display.HTML object>"
      ]
     },
     "metadata": {},
     "output_type": "display_data"
    }
   ],
   "source": [
    "# change the cell width\n",
    "from IPython.core.display import display, HTML\n",
    "display(HTML(\"<style>.container { width:85% !important; }</style>\"))"
   ]
  },
  {
   "cell_type": "code",
   "execution_count": 3,
   "id": "crude-district",
   "metadata": {},
   "outputs": [],
   "source": [
    "%load_ext autoreload\n",
    "%autoreload 2\n",
    "%matplotlib inline\n",
    "%config InlineBackend.print_figure_kwargs={'facecolor' : \"w\"}\n",
    "from copy import copy\n",
    "import warnings\n",
    "warnings.filterwarnings('ignore')\n",
    "# make matplotlib pdf-s text recognizable by evil-Adobe\n",
    "import matplotlib\n",
    "matplotlib.rcParams['pdf.fonttype'] = 42\n",
    "matplotlib.rcParams['ps.fonttype'] = 42\n",
    "from more_itertools import chunked\n",
    "# import all relevant func and modules from a companion .py file\n",
    "from supp_lib import *\n",
    "# import all samples as dictionary ...\n",
    "from samples import *"
   ]
  },
  {
   "cell_type": "markdown",
   "id": "electoral-seller",
   "metadata": {},
   "source": [
    "#### get some gene annotation the way we used it in the stackups (one from RefSeq, from HiGlass ...)"
   ]
  },
  {
   "cell_type": "code",
   "execution_count": 4,
   "id": "selected-component",
   "metadata": {},
   "outputs": [],
   "source": [
    "genes_df = pd.read_csv(\n",
    "    \"./gene_annot_data/hg19/geneAnnotationsExonUnions.bed\",\n",
    "    sep=\"\\t\",\n",
    "    header=None,\n",
    "    names = [\"chr\",\n",
    "            \"txStart\",\n",
    "            \"txEnd\",\n",
    "            \"geneName\",\n",
    "            \"citationCount\",\n",
    "            \"strand\",\n",
    "            \"union_geneId\", # \"refseqId\",\n",
    "            \"geneId\",\n",
    "            \"geneType\",\n",
    "            \"geneDesc\",\n",
    "            \"cdsStart\",\n",
    "            \"cdsEnd\",\n",
    "            \"exonStarts\",\n",
    "            \"exonEnds\"]\n",
    ")\n",
    "genes_df.head()\n",
    "\n",
    "### we'll be removing duplicated genes because they're likely unamppable and/or harder to deal with anyways ...\n",
    "### there are of course expections, but will do it anyways:\n",
    "geneId_grp = genes_df.groupby(\"geneId\")\n",
    "genes_df = geneId_grp.first()[geneId_grp.size() == 1].reset_index()"
   ]
  },
  {
   "cell_type": "markdown",
   "id": "fiscal-chemistry",
   "metadata": {},
   "source": [
    "#### Get expression data measured in TPMs"
   ]
  },
  {
   "cell_type": "code",
   "execution_count": 5,
   "id": "natural-leather",
   "metadata": {},
   "outputs": [],
   "source": [
    "# #RSEM for siRNA (and 44 and 442)\n",
    "# !scp ghpcc:/nl/umw_job_dekker/users/av90w/RNAseq/data/siRNA/report2546/rsem/mergedRSEM/merged_TPM_genes.tsv ./merged_TPM_genes_si.tsv\n",
    "# #RSEM for clones (and 44 and 442)\n",
    "# !scp ghpcc:/nl/umw_job_dekker/users/av90w/RNAseq/data/siRNA/report2547/rsem/mergedRSEM/merged_TPM_genes.tsv ./merged_TPM_genes_mut.tsv"
   ]
  },
  {
   "cell_type": "code",
   "execution_count": 10,
   "id": "vital-separation",
   "metadata": {},
   "outputs": [],
   "source": [
    "splice_samples = {\n",
    "# mutants splicing events ...\n",
    "\"mutCtrl-IAA_mutCtrl-NT\":\"./Rmats_AS_coordinates_070921/AAVS1_sg24_NT_AAVS1_sg24_IAA.output_gene_coords_071321.txt\",\n",
    "\"mutDDX55-IAA_mutCtrl-IAA\":\"./Rmats_AS_coordinates_070921/AAVS1_sg24_IAA_DDX55_sg2B_IAA+DDX55_sg27_IAA.output_gene_coords_070921.txt\",\n",
    "\"mutTAF5L-IAA_mutCtrl-IAA\":\"./Rmats_AS_coordinates_070921/AAVS1_sg24_IAA_TAF5L_sg23_IAA+TAF5L_sg27_IAA.output_gene_coords_070921.txt\",\n",
    "\"mutDDX55-IAA_mutCtrl-NT\":\"./Rmats_AS_coordinates_070921/AAVS1_sg24_NT_DDX55_sg2B_IAA+DDX55_sg27_IAA.output_gene_coords_070921.txt\",\n",
    "\"mutDDX55-NT_mutCtrl-NT\":\"./Rmats_AS_coordinates_070921/AAVS1_sg24_NT_DDX55_sg2B_NT+DDX55_sg27_NT.output_gene_coords_070921.txt\",\n",
    "\"mutTAF5L-IAA_mutCtrl-NT\":\"./Rmats_AS_coordinates_070921/AAVS1_sg24_NT_TAF5L_sg23_IAA+TAF5L_sg27_IAA.output_gene_coords_070921.txt\",\n",
    "\"mutTAF5L-NT_mutCtrl-NT\":\"./Rmats_AS_coordinates_070921/AAVS1_sg24_NT_TAF5L_sg23_NT+TAF5L_sg27_NT.output_gene_coords_070921.txt\",\n",
    "# siRNA splicing events ...\n",
    "\"siDDX55-IAA_siCtrl-IAA\":\"./Rmats_AS_coordinates_072221/S442_siCtrl_IAA_S442_siDDX55_IAA.output_gene_coords_072221.txt\",\n",
    "\"siTAF5L-IAA_siCtrl-IAA\":\"./Rmats_AS_coordinates_072221/S442_siCtrl_IAA_S442_siTAF5L_IAA.output_gene_coords_072221.txt\",\n",
    "\"siCtrl-IAA_siCtrl-NT\":\"./Rmats_AS_coordinates_072221/S442_siCtrl_NT_S442_siCtrl_IAA.output_gene_coords_072221.txt\",\n",
    "\"siDDX55-IAA_siCtrl-NT\":\"./Rmats_AS_coordinates_072221/S442_siCtrl_NT_S442_siDDX55_IAA.output_gene_coords_072221.txt\",\n",
    "\"siDDX55-NT_S442_siCtrl-NT\":\"./Rmats_AS_coordinates_072221/S442_siCtrl_NT_S442_siDDX55_NT.output_gene_coords_072221.txt\",\n",
    "\"siTAF5L-IAA_siCtrl-NT\":\"./Rmats_AS_coordinates_072221/S442_siCtrl_NT_S442_siTAF5L_IAA.output_gene_coords_072221.txt\",\n",
    "\"siTAF5L-NT_siCtrl-NT\":\"./Rmats_AS_coordinates_072221/S442_siCtrl_NT_S442_siTAF5L_NT.output_gene_coords_072221.txt\",\n",
    "# main CTCF related libraries ...\n",
    "\"noCTCF_CTCF\":\"./Rmats_AS_coordinates_070921/S442_NT_S442_IAA.output_gene_coords_070921.txt\",\n",
    "\"noCTCF_CTCF-noTIR1\":\"./Rmats_AS_coordinates_070921/S44_NT_S442_IAA.output_gene_coords_070921.txt\",\n",
    "# ultimate control - shouldn't have any changes ...\n",
    "\"CTCF-noTIR1-IAA_CTCF-noTIR1\":\"./Rmats_AS_coordinates_070921/S44_NT_S44_IAA.output_gene_coords_071321.txt\",\n",
    "}"
   ]
  },
  {
   "cell_type": "code",
   "execution_count": 11,
   "id": "binding-sarah",
   "metadata": {},
   "outputs": [
    {
     "name": "stdout",
     "output_type": "stream",
     "text": [
      " saving bed and bigbed for mutCtrl-IAA_mutCtrl-NT splicing events ...\n",
      "pass1 - making usageList (23 chroms): 0 millis\n",
      "pass2 - checking and writing primary data (1303 records, 3 fields): 5 millis\n",
      " saving bed and bigbed for mutDDX55-IAA_mutCtrl-IAA splicing events ...\n",
      "pass1 - making usageList (23 chroms): 0 millis\n",
      "pass2 - checking and writing primary data (2163 records, 3 fields): 3 millis\n",
      " saving bed and bigbed for mutTAF5L-IAA_mutCtrl-IAA splicing events ...\n",
      "pass1 - making usageList (23 chroms): 0 millis\n",
      "pass2 - checking and writing primary data (2721 records, 3 fields): 4 millis\n",
      " saving bed and bigbed for mutDDX55-IAA_mutCtrl-NT splicing events ...\n",
      "pass1 - making usageList (23 chroms): 0 millis\n",
      "pass2 - checking and writing primary data (2510 records, 3 fields): 4 millis\n",
      " saving bed and bigbed for mutDDX55-NT_mutCtrl-NT splicing events ...\n",
      "pass1 - making usageList (23 chroms): 0 millis\n",
      "pass2 - checking and writing primary data (2329 records, 3 fields): 5 millis\n",
      " saving bed and bigbed for mutTAF5L-IAA_mutCtrl-NT splicing events ...\n",
      "pass1 - making usageList (23 chroms): 1 millis\n",
      "pass2 - checking and writing primary data (3278 records, 3 fields): 3 millis\n",
      " saving bed and bigbed for mutTAF5L-NT_mutCtrl-NT splicing events ...\n",
      "pass1 - making usageList (23 chroms): 1 millis\n",
      "pass2 - checking and writing primary data (2918 records, 3 fields): 4 millis\n",
      " saving bed and bigbed for siDDX55-IAA_siCtrl-IAA splicing events ...\n",
      "pass1 - making usageList (23 chroms): 1 millis\n",
      "pass2 - checking and writing primary data (3302 records, 3 fields): 4 millis\n",
      " saving bed and bigbed for siTAF5L-IAA_siCtrl-IAA splicing events ...\n",
      "pass1 - making usageList (23 chroms): 1 millis\n",
      "pass2 - checking and writing primary data (4115 records, 3 fields): 4 millis\n",
      " saving bed and bigbed for siCtrl-IAA_siCtrl-NT splicing events ...\n",
      "pass1 - making usageList (23 chroms): 1 millis\n",
      "pass2 - checking and writing primary data (3606 records, 3 fields): 5 millis\n",
      " saving bed and bigbed for siDDX55-IAA_siCtrl-NT splicing events ...\n",
      "pass1 - making usageList (23 chroms): 1 millis\n",
      "pass2 - checking and writing primary data (3774 records, 3 fields): 4 millis\n",
      " saving bed and bigbed for siDDX55-NT_S442_siCtrl-NT splicing events ...\n",
      "pass1 - making usageList (23 chroms): 1 millis\n",
      "pass2 - checking and writing primary data (3253 records, 3 fields): 4 millis\n",
      " saving bed and bigbed for siTAF5L-IAA_siCtrl-NT splicing events ...\n",
      "pass1 - making usageList (23 chroms): 1 millis\n",
      "pass2 - checking and writing primary data (4666 records, 3 fields): 5 millis\n",
      " saving bed and bigbed for siTAF5L-NT_siCtrl-NT splicing events ...\n",
      "pass1 - making usageList (23 chroms): 1 millis\n",
      "pass2 - checking and writing primary data (4141 records, 3 fields): 5 millis\n",
      " saving bed and bigbed for noCTCF_CTCF splicing events ...\n",
      "pass1 - making usageList (23 chroms): 1 millis\n",
      "pass2 - checking and writing primary data (1517 records, 3 fields): 4 millis\n",
      " saving bed and bigbed for noCTCF_CTCF-noTIR1 splicing events ...\n",
      "pass1 - making usageList (23 chroms): 0 millis\n",
      "pass2 - checking and writing primary data (1689 records, 3 fields): 4 millis\n",
      " saving bed and bigbed for CTCF-noTIR1-IAA_CTCF-noTIR1 splicing events ...\n",
      "pass1 - making usageList (23 chroms): 0 millis\n",
      "pass2 - checking and writing primary data (1132 records, 3 fields): 2 millis\n"
     ]
    }
   ],
   "source": [
    "for k,v in splice_samples.items():\n",
    "    df = pd.read_csv(v,sep=\"\\t\")\n",
    "    print(f\" saving bed and bigbed for {k} splicing events ...\")\n",
    "    df[df[\"sig\"] == \"significant\"][[\"chrom\",\"start\",\"end\"]].to_csv(f\"splicing_{k}.bed\", index=False, header=None, sep=\"\\t\")\n",
    "    ! bedSort splicing_{k}.bed splicing_{k}_sort.bed\n",
    "    ! bedToBigBed -tab -type=bed3 splicing_{k}_sort.bed hg19.sizes splicing_{k}.bb"
   ]
  }
 ],
 "metadata": {
  "kernelspec": {
   "display_name": "Python 3",
   "language": "python",
   "name": "python3"
  },
  "language_info": {
   "codemirror_mode": {
    "name": "ipython",
    "version": 3
   },
   "file_extension": ".py",
   "mimetype": "text/x-python",
   "name": "python",
   "nbconvert_exporter": "python",
   "pygments_lexer": "ipython3",
   "version": "3.8.5"
  }
 },
 "nbformat": 4,
 "nbformat_minor": 5
}
