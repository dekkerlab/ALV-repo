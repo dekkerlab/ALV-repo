{
 "cells": [
  {
   "cell_type": "code",
   "execution_count": 44,
   "id": "charitable-camera",
   "metadata": {},
   "outputs": [
    {
     "data": {
      "application/javascript": [
       "require([\"codemirror/keymap/sublime\", \"notebook/js/cell\", \"base/js/namespace\"],\n",
       "    function(sublime_keymap, cell, IPython) {\n",
       "        cell.Cell.options_default.cm_config.keyMap = 'sublime';\n",
       "        var cells = IPython.notebook.get_cells();\n",
       "        for(var cl=0; cl< cells.length ; cl++){\n",
       "            cells[cl].code_mirror.setOption('keyMap', 'sublime');\n",
       "        }\n",
       "    }\n",
       ");\n"
      ],
      "text/plain": [
       "<IPython.core.display.Javascript object>"
      ]
     },
     "metadata": {},
     "output_type": "display_data"
    }
   ],
   "source": [
    "%%javascript\n",
    "require([\"codemirror/keymap/sublime\", \"notebook/js/cell\", \"base/js/namespace\"],\n",
    "    function(sublime_keymap, cell, IPython) {\n",
    "        cell.Cell.options_default.cm_config.keyMap = 'sublime';\n",
    "        var cells = IPython.notebook.get_cells();\n",
    "        for(var cl=0; cl< cells.length ; cl++){\n",
    "            cells[cl].code_mirror.setOption('keyMap', 'sublime');\n",
    "        }\n",
    "    }\n",
    ");"
   ]
  },
  {
   "cell_type": "code",
   "execution_count": 45,
   "id": "palestinian-adobe",
   "metadata": {},
   "outputs": [
    {
     "data": {
      "text/html": [
       "<style>.container { width:85% !important; }</style>"
      ],
      "text/plain": [
       "<IPython.core.display.HTML object>"
      ]
     },
     "metadata": {},
     "output_type": "display_data"
    }
   ],
   "source": [
    "# change the cell width\n",
    "from IPython.core.display import display, HTML\n",
    "display(HTML(\"<style>.container { width:85% !important; }</style>\"))"
   ]
  },
  {
   "cell_type": "code",
   "execution_count": 46,
   "id": "statewide-fleece",
   "metadata": {},
   "outputs": [],
   "source": [
    "# from openpyxl import load_workbook\n",
    "# import pandas as pd\n",
    "# from pathlib import Path\n",
    "# src_file = src_file = Path.cwd() / 'GEO-Hi-C.xlsx'\n",
    "# wb = load_workbook(filename = src_file)\n",
    "# wb.sheetnames\n",
    "# sheet = wb['METADATA TEMPLATE ']\n",
    "# # sheet\n",
    "# sheet.tables.keys()"
   ]
  },
  {
   "cell_type": "markdown",
   "id": "collectible-stanley",
   "metadata": {},
   "source": [
    "### Get files to calculate check sums for (HiC)"
   ]
  },
  {
   "cell_type": "code",
   "execution_count": 47,
   "id": "improving-cliff",
   "metadata": {},
   "outputs": [
    {
     "name": "stdout",
     "output_type": "stream",
     "text": [
      "GEO_FINAL_hic_mcool.tsv                       100% 4919     8.6KB/s   00:00    \n"
     ]
    }
   ],
   "source": [
    "import os\n",
    "import pandas as pd\n",
    "from pathlib import Path\n",
    "src_file = Path.cwd() / 'GEO-Hi-C-modif.xlsx'\n",
    "\n",
    "# df1 = pd.read_excel(\n",
    "#      os.path.join(APP_PATH, \"Data\", \"aug_latest.xlsm\"),\n",
    "#      engine='openpyxl',\n",
    "# )\n",
    "\n",
    "df = pd.read_excel(src_file, header=106, usecols='A:D',engine='openpyxl',nrows=135-107)\n",
    "df = df.rename(columns={\"Unnamed: 3\":\"path\"})\n",
    "df[\"path_proc\"] = df[\"path\"].str.rstrip(\"/\")+\"/\"+df[\"file name\"]\n",
    "# # don't have to save it every time\n",
    "# df[\"path_proc\"].to_csv(\"hic_mcool.tsv\",sep=\"\\t\",index=False,header=None)\n",
    "# ! scp hic_mcool.tsv ghpcc:/nl/umw_job_dekker/users/sv49w/ALV2021/\n",
    "\n",
    "#######################\n",
    "# run our little nf pipeline to calculate a bunch of md5-s specified in the hic_mcool.tsv file\n",
    "####################\n",
    "# bsub -W 04:00 -oo screen.out -eo screen.err \"nextflow run geo.nf --foo screen_fastq\"\n",
    "\n",
    "####\n",
    "# now deal with the results ...\n",
    "####\n",
    "# ! scp ghpcc:/nl/umw_job_dekker/users/sv49w/ALV2021/hic_mcool.md5 ./\n",
    "df_res = pd.read_csv(\"hic_mcool.md5\",sep=\" \",header=None,engine=\"python\")\n",
    "df[\"file checksum\"] = pd.merge(df,df_res,left_on=\"path_proc\",right_on=0)[1]\n",
    "df[[\"file name\",\"file type\",\"file checksum\",\"path\"]].to_csv(\"GEO_FINAL_hic_mcool.tsv\",sep=\"\\t\",index=False,header=None)\n",
    "! scp GEO_FINAL_hic_mcool.tsv ghpcc:/nl/umw_job_dekker/users/sv49w/ALV2021/GEO/"
   ]
  },
  {
   "cell_type": "code",
   "execution_count": 48,
   "id": "digital-slide",
   "metadata": {},
   "outputs": [
    {
     "name": "stdout",
     "output_type": "stream",
     "text": [
      "GEO_upload_hic_processed.ssv                  100% 5465    26.0KB/s   00:00    \n"
     ]
    }
   ],
   "source": [
    "df[\"dest\"] = \"uploads/dekkerlab_m7wFeGCY/Hi-C/\"+df[\"file name\"]\n",
    "df[[\"path_proc\",\"dest\"]].to_csv(\"GEO_upload_hic_processed.ssv\",sep=\" \",index=False,header=None)\n",
    "! scp GEO_upload_hic_processed.ssv ghpcc:/nl/umw_job_dekker/users/sv49w/ALV2021/\n",
    "# # # ! ssh ghpcc bsub \n",
    "# ! ssh ghpcc bsub -q long -W 10:00 -oo hicpup.out -eo hicpup.err \"bash geo_upload.sh GEO_upload_hic_processed.ssv\""
   ]
  },
  {
   "cell_type": "code",
   "execution_count": 49,
   "id": "expected-claim",
   "metadata": {
    "scrolled": true
   },
   "outputs": [
    {
     "name": "stdout",
     "output_type": "stream",
     "text": [
      "hic_fastq.md5                                 100%   34KB  62.4KB/s   00:00    \n",
      "GEO_FINAL_hic_fastq.tsv                       100%   48KB  67.0KB/s   00:00    \n"
     ]
    }
   ],
   "source": [
    "df = pd.read_excel(src_file, header=138, usecols='A:G',engine='openpyxl',nrows=327-138-1)\n",
    "df = df.rename(columns={\"Unnamed: 6\":\"path\"})\n",
    "# print(df.loc[0,\"path\"])\n",
    "# df[\"path\"].to_csv(\"hic_fastq.tsv\",sep=\"\\t\",index=False,header=None)\n",
    "# ! scp hic_fastq.tsv ghpcc:/nl/umw_job_dekker/users/sv49w/ALV2021/\n",
    "\n",
    "####\n",
    "# now deal with the results ...\n",
    "####\n",
    "! scp ghpcc:/nl/umw_job_dekker/users/sv49w/ALV2021/hic_fastq.md5 ./\n",
    "df_res = pd.read_csv(\"hic_fastq.md5\",sep=\" \",header=None,engine=\"python\")\n",
    "df[\"file checksum\"] = pd.merge(df,df_res,left_on=\"path\",right_on=0)[1]\n",
    "df.to_csv(\"GEO_FINAL_hic_fastq.tsv\",sep=\"\\t\",index=False,header=None)\n",
    "! scp GEO_FINAL_hic_fastq.tsv ghpcc:/nl/umw_job_dekker/users/sv49w/ALV2021/GEO/\n"
   ]
  },
  {
   "cell_type": "code",
   "execution_count": 50,
   "id": "affected-garlic",
   "metadata": {},
   "outputs": [
    {
     "name": "stdout",
     "output_type": "stream",
     "text": [
      "GEO_upload_hic_fastq.ssv                      100%   42KB 224.9KB/s   00:00    \n"
     ]
    }
   ],
   "source": [
    "df[\"dest\"] = \"uploads/dekkerlab_m7wFeGCY/Hi-C/\"+df[\"file name\"]+\".fastq.gz\"\n",
    "df[[\"path\",\"dest\"]].to_csv(\"GEO_upload_hic_fastq.ssv\",sep=\" \",index=False,header=None)\n",
    "! scp GEO_upload_hic_fastq.ssv ghpcc:/nl/umw_job_dekker/users/sv49w/ALV2021/\n",
    "\n",
    "# # # file name\n",
    "# ! ssh ghpcc bsub -q long -W 96:00 -oo hicfup.out -eo hicfup.err \"bash geo_upload.sh GEO_upload_hic_fastq.ssv\""
   ]
  },
  {
   "cell_type": "code",
   "execution_count": 65,
   "id": "acceptable-hartford",
   "metadata": {},
   "outputs": [],
   "source": [
    "df[\"dest\"] = \"incoming/\"+df[\"file name\"]+\".fastq.gz\"\n",
    "i = 1\n",
    "fp = open(f\"SRAKA{i//2}_upload_hic_fastq.ssv\",\"w\")\n",
    "for x,y in df[[\"path\",\"dest\"]].itertuples(index=False):\n",
    "    fp.write(x)\n",
    "    fp.write(\"\\n\")\n",
    "    fp.write(y)\n",
    "    fp.write(\"\\n\")\n",
    "    if (i % 2) == 0:\n",
    "        fp.close()\n",
    "        fn = f\"SRAKA{i//2}_upload_hic_fastq.ssv\"\n",
    "        fp = open(fn,\"w\")\n",
    "    i = i+1\n",
    "fp.close()\n",
    "# remove last one if empty ...\n",
    "_l, = ! wc -l {fn}|cut -f1 -d\" \"\n",
    "if not int(str(_l)):\n",
    "    ! rm {fn}\n",
    "\n",
    "# fp = open(f\"SRAKA{i//2}_upload_hic_fastq.ssv\",\"w\")\n",
    "\n",
    "# ! scp SRA_upload_hic_fastq.ssv ghpcc:/nl/umw_job_dekker/users/sv49w/ALV2021/\n",
    "# # ! ssh ghpcc bsub \n",
    "# ! ssh ghpcc bsub -q long -W 10:00 -oo chippup.out -eo chippup.err \"bash geo_upload.sh SRA_upload_hic_fastq.ssv\""
   ]
  },
  {
   "cell_type": "code",
   "execution_count": 73,
   "id": "medieval-baghdad",
   "metadata": {},
   "outputs": [],
   "source": [
    "%%bash\n",
    "for f in SRAKA*_upload_hic_fastq.ssv\n",
    "do\n",
    "  scp $f ghpcc:/nl/umw_job_dekker/users/sv49w/ALV2021/\n",
    "done\n"
   ]
  },
  {
   "cell_type": "code",
   "execution_count": null,
   "id": "comparative-tackle",
   "metadata": {},
   "outputs": [],
   "source": [
    "%%bash\n",
    "for f in SRAKA*_upload_hic_fastq.ssv\n",
    "do\n",
    "  /home/sv49w/.aspera/connect/bin/ascp -i ~/.ssh/sra-4.ssh.priv -QT -k1 -l200m --file-pair-list=$f --mode=send --user=asp-sra --host=upload.ncbi.nlm.nih.gov .\n",
    "done\n",
    "\n",
    "\n",
    "bsub -W 120:00 -q long -oo sra.out -eo sra.err \"/home/sv49w/.aspera/connect/bin/ascp  -i ~/.ssh/sra-4.ssh.priv -QT -l200m --file-pair-list=/nl/umw_job_dekker/users/sv49w/ALV2021/SRA_upload_hic_fastq.ssv --mode=send --user=asp-sra --host=upload.ncbi.nlm.nih.gov .\" "
   ]
  },
  {
   "cell_type": "markdown",
   "id": "academic-taiwan",
   "metadata": {},
   "source": [
    "### Get files to calculate check sums for (ChIP-seq)"
   ]
  },
  {
   "cell_type": "code",
   "execution_count": 10,
   "id": "antique-eugene",
   "metadata": {},
   "outputs": [
    {
     "name": "stdout",
     "output_type": "stream",
     "text": [
      "chip_processed.md5                            100% 4493    14.3KB/s   00:00    \n",
      "GEO_FINAL_chip_processed.tsv                  100% 4757   224.2KB/s   00:00    \n"
     ]
    }
   ],
   "source": [
    "src_file = Path.cwd() / 'GEO-ChIP-seq.xlsx'\n",
    "df = pd.read_excel(src_file, header=71, usecols='A:D',engine='openpyxl',nrows=102-72)\n",
    "df = df.rename(columns={\"Unnamed: 3\":\"path\"})\n",
    "df[\"path_proc\"] = df[\"path\"].str.rstrip(\"/\")+\"/\"+df[\"file name\"]\n",
    "df[\"path_proc\"].to_csv(\"chip_processed.tsv\",sep=\"\\t\",index=False,header=None)\n",
    "# ! scp chip_processed.tsv ghpcc:/nl/umw_job_dekker/users/sv49w/ALV2021/\n",
    "\n",
    "####\n",
    "# now deal with the results ...\n",
    "####\n",
    "! scp ghpcc:/nl/umw_job_dekker/users/sv49w/ALV2021/chip_processed.md5 ./\n",
    "df_res = pd.read_csv(\"chip_processed.md5\",sep=\" \",header=None,engine=\"python\")\n",
    "df[\"file checksum\"] = pd.merge(df,df_res,left_on=\"path_proc\",right_on=0)[1]\n",
    "df[[\"file name\",\"file type\",\"file checksum\",\"path\"]].to_csv(\"GEO_FINAL_chip_processed.tsv\",sep=\"\\t\",index=False,header=None)\n",
    "! scp GEO_FINAL_chip_processed.tsv ghpcc:/nl/umw_job_dekker/users/sv49w/ALV2021/GEO/"
   ]
  },
  {
   "cell_type": "code",
   "execution_count": 11,
   "id": "sensitive-meaning",
   "metadata": {},
   "outputs": [
    {
     "name": "stdout",
     "output_type": "stream",
     "text": [
      "\r",
      "GEO_upload_chip_processed.ssv                   0%    0     0.0KB/s   --:-- ETA\r",
      "GEO_upload_chip_processed.ssv                 100% 5586   144.2KB/s   00:00    \r\n"
     ]
    }
   ],
   "source": [
    "df[\"dest\"] = \"uploads/dekkerlab_m7wFeGCY/ChIP-seq/\"+df[\"file name\"]\n",
    "df[[\"path_proc\",\"dest\"]].to_csv(\"GEO_upload_chip_processed.ssv\",sep=\" \",index=False,header=None)\n",
    "! scp GEO_upload_chip_processed.ssv ghpcc:/nl/umw_job_dekker/users/sv49w/ALV2021/\n",
    "# # ! ssh ghpcc bsub \n",
    "# ! ssh ghpcc bsub -q long -W 10:00 -oo chippup.out -eo chippup.err \"bash geo_upload.sh GEO_upload_chip_processed.ssv\""
   ]
  },
  {
   "cell_type": "code",
   "execution_count": 23,
   "id": "chubby-facility",
   "metadata": {},
   "outputs": [
    {
     "name": "stdout",
     "output_type": "stream",
     "text": [
      "SRA_upload_chip_processed.ssv                 100% 4896    13.9KB/s   00:00    \n"
     ]
    }
   ],
   "source": [
    "df[\"dest\"] = \"test/TEZting_\"+df[\"file name\"]\n",
    "with open(\"SRA_upload_chip_processed.ssv\",\"w\") as fp:\n",
    "    for i,x,y in df[[\"path_proc\",\"dest\"]].itertuples():\n",
    "        fp.write(x)\n",
    "        fp.write(\"\\n\")\n",
    "        fp.write(y)\n",
    "        fp.write(\"\\n\")\n",
    "    \n",
    "    #.to_csv(\"SRA_upload_chip_processed.ssv\",sep=\" \",index=False,header=None)\n",
    "! scp SRA_upload_chip_processed.ssv ghpcc:/nl/umw_job_dekker/users/sv49w/ALV2021/\n",
    "# # ! ssh ghpcc bsub \n",
    "# ! ssh ghpcc bsub -q long -W 10:00 -oo chippup.out -eo chippup.err \"bash geo_upload.sh SRA_upload_chip_processed.ssv\""
   ]
  },
  {
   "cell_type": "code",
   "execution_count": 112,
   "id": "formed-aspect",
   "metadata": {},
   "outputs": [
    {
     "name": "stdout",
     "output_type": "stream",
     "text": [
      "chip_fastq.tsv                                100% 6832   296.1KB/s   00:00    \n",
      "chip_fastq.md5                                100% 8284    79.0KB/s   00:00    \n",
      "GEO_FINAL_chip_fastq.tsv                      100%   12KB 398.3KB/s   00:00    \n"
     ]
    }
   ],
   "source": [
    "df = pd.read_excel(src_file, header=105, usecols='A:G',engine='openpyxl',nrows=150-106)\n",
    "df = df.rename(columns={\"Unnamed: 6\":\"path\"})\n",
    "# df\n",
    "df[\"path\"].to_csv(\"chip_fastq.tsv\",sep=\"\\t\",index=False,header=None)\n",
    "! scp chip_fastq.tsv ghpcc:/nl/umw_job_dekker/users/sv49w/ALV2021/\n",
    "\n",
    "####\n",
    "# now deal with the results ...\n",
    "####\n",
    "! scp ghpcc:/nl/umw_job_dekker/users/sv49w/ALV2021/chip_fastq.md5 ./\n",
    "df_res = pd.read_csv(\"chip_fastq.md5\",sep=\" \",header=None,engine=\"python\")\n",
    "df[\"file checksum\"] = pd.merge(df,df_res,left_on=\"path\",right_on=0)[1]\n",
    "df.to_csv(\"GEO_FINAL_chip_fastq.tsv\",sep=\"\\t\",index=False,header=None)\n",
    "! scp GEO_FINAL_chip_fastq.tsv ghpcc:/nl/umw_job_dekker/users/sv49w/ALV2021/GEO/\n",
    "# ! ssh ghpcc md5sum {df.loc[23,\"path\"]}"
   ]
  },
  {
   "cell_type": "code",
   "execution_count": 114,
   "id": "addressed-cable",
   "metadata": {},
   "outputs": [
    {
     "name": "stdout",
     "output_type": "stream",
     "text": [
      "GEO_upload_chip_fastq.ssv                     100%   10KB  67.3KB/s   00:00    \n"
     ]
    }
   ],
   "source": [
    "df[\"dest\"] = \"uploads/dekkerlab_m7wFeGCY/ChIP-seq/\"+df[\"file name\"]+\".fastq.gz\"\n",
    "df[[\"path\",\"dest\"]].to_csv(\"GEO_upload_chip_fastq.ssv\",sep=\" \",index=False,header=None)\n",
    "! scp GEO_upload_chip_fastq.ssv ghpcc:/nl/umw_job_dekker/users/sv49w/ALV2021/\n",
    "\n",
    "# # # file name\n",
    "# ! ssh ghpcc bsub -q long -W 36:00 -oo chipfup.out -eo chipfup.err \"bash geo_upload.sh GEO_upload_chip_fastq.ssv\""
   ]
  },
  {
   "cell_type": "markdown",
   "id": "athletic-reaction",
   "metadata": {},
   "source": [
    "### Get files to calculate check sums for (RNA-seq)"
   ]
  },
  {
   "cell_type": "code",
   "execution_count": 97,
   "id": "hearing-frank",
   "metadata": {},
   "outputs": [
    {
     "name": "stdout",
     "output_type": "stream",
     "text": [
      "rna_processed.md5                             100% 5472   153.6KB/s   00:00    \n",
      "GEO_FINAL_rna_processed.tsv                   100% 5788    97.9KB/s   00:00    \n"
     ]
    }
   ],
   "source": [
    "# 90 135\n",
    "src_file = Path.cwd() / 'GEO-RNA-seq.xlsx'\n",
    "df = pd.read_excel(src_file, header=90, usecols='A:D',engine='openpyxl',nrows=135-91)\n",
    "df = df.rename(columns={\"Unnamed: 3\":\"path\"})\n",
    "df[\"path_proc\"] = df[\"path\"].str.rstrip(\"/\")+\"/\"+df[\"file name\"]\n",
    "# df[\"path_proc\"].to_csv(\"rna_processed.tsv\",sep=\"\\t\",index=False,header=None)\n",
    "# ! scp rna_processed.tsv ghpcc:/nl/umw_job_dekker/users/sv49w/ALV2021/\n",
    "\n",
    "####\n",
    "# now deal with the results ...\n",
    "####\n",
    "! scp ghpcc:/nl/umw_job_dekker/users/sv49w/ALV2021/rna_processed.md5 ./\n",
    "df_res = pd.read_csv(\"rna_processed.md5\",sep=\" \",header=None,engine=\"python\")\n",
    "df[\"file checksum\"] = pd.merge(df,df_res,left_on=\"path_proc\",right_on=0)[1]\n",
    "df[[\"file name\",\"file type\",\"file checksum\",\"path\"]].to_csv(\"GEO_FINAL_rna_processed.tsv\",sep=\"\\t\",index=False,header=None)\n",
    "! scp GEO_FINAL_rna_processed.tsv ghpcc:/nl/umw_job_dekker/users/sv49w/ALV2021/GEO/\n",
    "# ! ssh ghpcc md5sum {df.loc[20,\"path_proc\"]}"
   ]
  },
  {
   "cell_type": "code",
   "execution_count": 100,
   "id": "italic-adobe",
   "metadata": {},
   "outputs": [
    {
     "name": "stdout",
     "output_type": "stream",
     "text": [
      "GEO_upload_rna_processed.ssv                  100% 6402   256.5KB/s   00:00    \n",
      "bash: bsub: command not found\n"
     ]
    }
   ],
   "source": [
    "df[\"dest\"] = \"uploads/dekkerlab_m7wFeGCY/RNA-seq/\"+df[\"file name\"]\n",
    "df[[\"path_proc\",\"dest\"]].to_csv(\"GEO_upload_rna_processed.ssv\",sep=\" \",index=False,header=None)\n",
    "! scp GEO_upload_rna_processed.ssv ghpcc:/nl/umw_job_dekker/users/sv49w/ALV2021/\n",
    "# ! ssh ghpcc bsub \n",
    "! ssh ghpcc bsub -q long -W 08:00 -oo rnaup.out -eo rnaup.err \"bash geo_upload.sh GEO_upload_rna_processed.ssv\""
   ]
  },
  {
   "cell_type": "code",
   "execution_count": 101,
   "id": "trying-correction",
   "metadata": {},
   "outputs": [
    {
     "name": "stdout",
     "output_type": "stream",
     "text": [
      "rna_fastq.tsv                                 100%   13KB 547.1KB/s   00:00    \n",
      "rna_fastq.md5                                 100%   15KB 305.9KB/s   00:00    \n",
      "GEO_FINAL_rna_fastq.tsv                       100%   22KB 509.3KB/s   00:00    \n"
     ]
    }
   ],
   "source": [
    "df = pd.read_excel(src_file, header=138, usecols='A:G',engine='openpyxl',nrows=219-139)\n",
    "df = df.rename(columns={\"Unnamed: 6\":\"path\"})\n",
    "df[\"path\"].to_csv(\"rna_fastq.tsv\",sep=\"\\t\",index=False,header=None)\n",
    "! scp rna_fastq.tsv ghpcc:/nl/umw_job_dekker/users/sv49w/ALV2021/\n",
    "\n",
    "####\n",
    "# now deal with the results ...\n",
    "####\n",
    "! scp ghpcc:/nl/umw_job_dekker/users/sv49w/ALV2021/rna_fastq.md5 ./\n",
    "df_res = pd.read_csv(\"rna_fastq.md5\",sep=\" \",header=None,engine=\"python\")\n",
    "df[\"file checksum\"] = pd.merge(df,df_res,left_on=\"path\",right_on=0)[1]\n",
    "df.to_csv(\"GEO_FINAL_rna_fastq.tsv\",sep=\"\\t\",index=False,header=None)\n",
    "! scp GEO_FINAL_rna_fastq.tsv ghpcc:/nl/umw_job_dekker/users/sv49w/ALV2021/GEO/\n",
    "# ! ssh ghpcc md5sum {df.loc[23,\"path\"]}"
   ]
  },
  {
   "cell_type": "code",
   "execution_count": 106,
   "id": "multiple-footwear",
   "metadata": {},
   "outputs": [
    {
     "name": "stdout",
     "output_type": "stream",
     "text": [
      "GEO_upload_rna_fastq.ssv                      100%   20KB 221.9KB/s   00:00    \n"
     ]
    }
   ],
   "source": [
    "df[\"dest\"] = \"uploads/dekkerlab_m7wFeGCY/RNA-seq/\"+df[\"file name\"]+\".fastq.gz\"\n",
    "df[[\"path\",\"dest\"]].to_csv(\"GEO_upload_rna_fastq.ssv\",sep=\" \",index=False,header=None)\n",
    "! scp GEO_upload_rna_fastq.ssv ghpcc:/nl/umw_job_dekker/users/sv49w/ALV2021/\n",
    "\n",
    "# # file name\n",
    "# ! ssh ghpcc bsub -q long -W 18:00 -oo rnaup.out -eo rnaup.err \"bash geo_upload.sh GEO_upload_rna_fastq.ssv\""
   ]
  },
  {
   "cell_type": "markdown",
   "id": "rapid-provision",
   "metadata": {},
   "source": [
    "### Get files to calculate check sums for (CRISPR Screen sequencing data)"
   ]
  },
  {
   "cell_type": "code",
   "execution_count": 4,
   "id": "royal-cookie",
   "metadata": {},
   "outputs": [
    {
     "ename": "NameError",
     "evalue": "name 'Path' is not defined",
     "output_type": "error",
     "traceback": [
      "\u001b[0;31m---------------------------------------------------------------------------\u001b[0m",
      "\u001b[0;31mNameError\u001b[0m                                 Traceback (most recent call last)",
      "\u001b[0;32m<ipython-input-4-6f674b3cdca0>\u001b[0m in \u001b[0;36m<module>\u001b[0;34m\u001b[0m\n\u001b[0;32m----> 1\u001b[0;31m \u001b[0msrc_file\u001b[0m \u001b[0;34m=\u001b[0m \u001b[0mPath\u001b[0m\u001b[0;34m.\u001b[0m\u001b[0mcwd\u001b[0m\u001b[0;34m(\u001b[0m\u001b[0;34m)\u001b[0m \u001b[0;34m/\u001b[0m \u001b[0;34m'GEO-CRISPR-screen.xlsx'\u001b[0m\u001b[0;34m\u001b[0m\u001b[0;34m\u001b[0m\u001b[0m\n\u001b[0m\u001b[1;32m      2\u001b[0m \u001b[0mdf\u001b[0m \u001b[0;34m=\u001b[0m \u001b[0mpd\u001b[0m\u001b[0;34m.\u001b[0m\u001b[0mread_excel\u001b[0m\u001b[0;34m(\u001b[0m\u001b[0msrc_file\u001b[0m\u001b[0;34m,\u001b[0m \u001b[0mheader\u001b[0m\u001b[0;34m=\u001b[0m\u001b[0;36m86\u001b[0m\u001b[0;34m,\u001b[0m \u001b[0musecols\u001b[0m\u001b[0;34m=\u001b[0m\u001b[0;34m'A:D'\u001b[0m\u001b[0;34m,\u001b[0m\u001b[0mengine\u001b[0m\u001b[0;34m=\u001b[0m\u001b[0;34m'openpyxl'\u001b[0m\u001b[0;34m,\u001b[0m\u001b[0mnrows\u001b[0m\u001b[0;34m=\u001b[0m\u001b[0;36m89\u001b[0m\u001b[0;34m-\u001b[0m\u001b[0;36m87\u001b[0m\u001b[0;34m)\u001b[0m\u001b[0;34m\u001b[0m\u001b[0;34m\u001b[0m\u001b[0m\n\u001b[1;32m      3\u001b[0m \u001b[0mdf\u001b[0m \u001b[0;34m=\u001b[0m \u001b[0mdf\u001b[0m\u001b[0;34m.\u001b[0m\u001b[0mrename\u001b[0m\u001b[0;34m(\u001b[0m\u001b[0mcolumns\u001b[0m\u001b[0;34m=\u001b[0m\u001b[0;34m{\u001b[0m\u001b[0;34m\"Unnamed: 3\"\u001b[0m\u001b[0;34m:\u001b[0m\u001b[0;34m\"path\"\u001b[0m\u001b[0;34m}\u001b[0m\u001b[0;34m)\u001b[0m\u001b[0;34m\u001b[0m\u001b[0;34m\u001b[0m\u001b[0m\n\u001b[1;32m      4\u001b[0m \u001b[0mdf\u001b[0m\u001b[0;34m[\u001b[0m\u001b[0;34m\"path_proc\"\u001b[0m\u001b[0;34m]\u001b[0m \u001b[0;34m=\u001b[0m \u001b[0mdf\u001b[0m\u001b[0;34m[\u001b[0m\u001b[0;34m\"path\"\u001b[0m\u001b[0;34m]\u001b[0m\u001b[0;34m.\u001b[0m\u001b[0mstr\u001b[0m\u001b[0;34m.\u001b[0m\u001b[0mrstrip\u001b[0m\u001b[0;34m(\u001b[0m\u001b[0;34m\"/\"\u001b[0m\u001b[0;34m)\u001b[0m\u001b[0;34m+\u001b[0m\u001b[0;34m\"/\"\u001b[0m\u001b[0;34m+\u001b[0m\u001b[0mdf\u001b[0m\u001b[0;34m[\u001b[0m\u001b[0;34m\"file name\"\u001b[0m\u001b[0;34m]\u001b[0m\u001b[0;34m\u001b[0m\u001b[0;34m\u001b[0m\u001b[0m\n\u001b[1;32m      5\u001b[0m \u001b[0mdf\u001b[0m\u001b[0;34m[\u001b[0m\u001b[0;34m\"path_proc\"\u001b[0m\u001b[0;34m]\u001b[0m\u001b[0;34m.\u001b[0m\u001b[0mto_csv\u001b[0m\u001b[0;34m(\u001b[0m\u001b[0;34m\"screen_processed.tsv\"\u001b[0m\u001b[0;34m,\u001b[0m\u001b[0msep\u001b[0m\u001b[0;34m=\u001b[0m\u001b[0;34m\"\\t\"\u001b[0m\u001b[0;34m,\u001b[0m\u001b[0mindex\u001b[0m\u001b[0;34m=\u001b[0m\u001b[0;32mFalse\u001b[0m\u001b[0;34m,\u001b[0m\u001b[0mheader\u001b[0m\u001b[0;34m=\u001b[0m\u001b[0;32mNone\u001b[0m\u001b[0;34m)\u001b[0m\u001b[0;34m\u001b[0m\u001b[0;34m\u001b[0m\u001b[0m\n",
      "\u001b[0;31mNameError\u001b[0m: name 'Path' is not defined"
     ]
    }
   ],
   "source": [
    "\n",
    "src_file = Path.cwd() / 'GEO-CRISPR-screen.xlsx'\n",
    "df = pd.read_excel(src_file, header=86, usecols='A:D',engine='openpyxl',nrows=89-87)\n",
    "df = df.rename(columns={\"Unnamed: 3\":\"path\"})\n",
    "df[\"path_proc\"] = df[\"path\"].str.rstrip(\"/\")+\"/\"+df[\"file name\"]\n",
    "df[\"path_proc\"].to_csv(\"screen_processed.tsv\",sep=\"\\t\",index=False,header=None)\n",
    "! scp screen_processed.tsv ghpcc:/nl/umw_job_dekker/users/sv49w/ALV2021/\n",
    "\n",
    "    \n",
    "# just a couple of small files ! no need to run nextflow for these md5s ...\n",
    "md5 = []\n",
    "for fp in df[\"path_proc\"]:\n",
    "    #     print(fp)\n",
    "    _md5, = ! ssh ghpcc md5sum {fp} | cut -f1 -d' '\n",
    "    md5.append(_md5)\n",
    "\n",
    "# upload straight to the ghpcc ...\n",
    "df[\"file checksum\"] = md5  \n",
    "df[[\"file name\",\"file type\",\"file checksum\",\"path\"]].to_csv(\"GEO_FINAL_screen_processed.tsv\",sep=\"\\t\",index=False,header=None)\n",
    "! scp GEO_FINAL_screen_processed.tsv ghpcc:/nl/umw_job_dekker/users/sv49w/ALV2021/GEO/"
   ]
  },
  {
   "cell_type": "code",
   "execution_count": 93,
   "id": "completed-joshua",
   "metadata": {},
   "outputs": [
    {
     "name": "stdout",
     "output_type": "stream",
     "text": [
      "\r",
      "GEO_upload_screen_processed.ssv                 0%    0     0.0KB/s   --:-- ETA\r",
      "GEO_upload_screen_processed.ssv               100%  312    16.9KB/s   00:00    \r\n"
     ]
    }
   ],
   "source": [
    "df[\"dest\"] = \"uploads/dekkerlab_m7wFeGCY/\"+df[\"file name\"]\n",
    "df[[\"path_proc\",\"dest\"]].to_csv(\"GEO_upload_screen_processed.ssv\",sep=\" \",index=False,header=None)\n",
    "! scp GEO_upload_screen_processed.ssv ghpcc:/nl/umw_job_dekker/users/sv49w/ALV2021/\n",
    "# ! ssh ghpcc bsub \n"
   ]
  },
  {
   "cell_type": "code",
   "execution_count": 95,
   "id": "connected-fence",
   "metadata": {},
   "outputs": [
    {
     "name": "stdout",
     "output_type": "stream",
     "text": [
      "screen_fastq.tsv                              100% 4294   176.3KB/s   00:00    \n",
      "screen_fastq.md5                              100% 5548   289.6KB/s   00:00    \n",
      "GEO_FINAL_screen_fastq.tsv                    100% 7296   320.1KB/s   00:00    \n"
     ]
    }
   ],
   "source": [
    "df = pd.read_excel(src_file, header=92, usecols='A:G',engine='openpyxl',nrows=131-93)\n",
    "df = df.rename(columns={\"Unnamed: 6\":\"path\"})\n",
    "df[\"path\"].to_csv(\"screen_fastq.tsv\",sep=\"\\t\",index=False,header=None)\n",
    "! scp screen_fastq.tsv ghpcc:/nl/umw_job_dekker/users/sv49w/ALV2021/\n",
    "    \n",
    "####\n",
    "# now deal with the results ...\n",
    "####\n",
    "! scp ghpcc:/nl/umw_job_dekker/users/sv49w/ALV2021/screen_fastq.md5 ./\n",
    "df_res = pd.read_csv(\"screen_fastq.md5\",sep=\" \",header=None,engine=\"python\")\n",
    "df[\"file checksum\"] = pd.merge(df,df_res,left_on=\"path\",right_on=0)[1]\n",
    "df.to_csv(\"GEO_FINAL_screen_fastq.tsv\",sep=\"\\t\",index=False,header=None)\n",
    "! scp GEO_FINAL_screen_fastq.tsv ghpcc:/nl/umw_job_dekker/users/sv49w/ALV2021/GEO/\n",
    "# # ! ssh ghpcc md5sum {df.loc[23,\"path\"]}"
   ]
  },
  {
   "cell_type": "code",
   "execution_count": 96,
   "id": "frequent-poland",
   "metadata": {},
   "outputs": [
    {
     "name": "stdout",
     "output_type": "stream",
     "text": [
      "GEO_upload_screen_fastq.ssv                   100% 6080   188.2KB/s   00:00    \n"
     ]
    }
   ],
   "source": [
    "df[\"dest\"] = \"uploads/dekkerlab_m7wFeGCY/\"+df[\"file name\"]+\".fastq.gz\"\n",
    "df[[\"path\",\"dest\"]].to_csv(\"GEO_upload_screen_fastq.ssv\",sep=\" \",index=False,header=None)\n",
    "! scp GEO_upload_screen_fastq.ssv ghpcc:/nl/umw_job_dekker/users/sv49w/ALV2021/\n",
    "\n",
    "# file name"
   ]
  },
  {
   "cell_type": "code",
   "execution_count": 105,
   "id": "printable-attempt",
   "metadata": {},
   "outputs": [
    {
     "name": "stdout",
     "output_type": "stream",
     "text": [
      "GEO-ChIP-seq.xlsx\r\n",
      "GEO-CRISPR-screen.xlsx\r\n",
      "GEO-Hi-C.xlsx\r\n",
      "GEO-RNA-seq.xlsx\r\n"
     ]
    }
   ],
   "source": [
    "# !ssh ghpcc ls /nl/umw_job_dekker/users/av90w/final-geo\n",
    "# ncftpput -F -C -z -u geoftp -p \"rebUzyi1\" ftp-private.ncbi.nlm.nih.gov /nl/umw_job_dekker/users/av90w/final-geo/GEO-RNA-seq.xlsx uploads/dekkerlab_m7wFeGCY/RNA-seq/GEO-RNA-seq.xlsx\n",
    "# ncftpput -F -C -z -u geoftp -p \"rebUzyi1\" ftp-private.ncbi.nlm.nih.gov /nl/umw_job_dekker/users/av90w/final-geo/GEO-ChIP-seq.xlsx uploads/dekkerlab_m7wFeGCY/ChIP-seq/GEO-ChIP-seq.xlsx\n",
    "# ncftpput -F -C -z -u geoftp -p \"rebUzyi1\" ftp-private.ncbi.nlm.nih.gov /nl/umw_job_dekker/users/av90w/final-geo/GEO-Hi-C.xlsx uploads/dekkerlab_m7wFeGCY/Hi-C/GEO-Hi-C.xlsx"
   ]
  },
  {
   "cell_type": "markdown",
   "id": "assured-passing",
   "metadata": {},
   "source": [
    "### out little script to do geo uploading with the 2-column source/destination file as input ...\n",
    "\n",
    "```sh\n",
    "while read src dest; do\n",
    "    echo \"uploading $src to $dest ...\"\n",
    "    ncftpput -F -C -z -u geoftp -p \"rebUzyi1\" ftp-private.ncbi.nlm.nih.gov $src $dest\n",
    "done < $1\n",
    "```"
   ]
  },
  {
   "cell_type": "markdown",
   "id": "plain-melbourne",
   "metadata": {},
   "source": [
    "message to geo \n",
    "\n",
    "```\n",
    "Part 1 out of 4 of a SuperSeries. Title of SuperSeries is 'Three types of chromatin boundaries define a cohesin traffic pattern needed for gene functions'\n",
    "```\n",
    "\n",
    "```\n",
    "Part 2 out of 4 of a SuperSeries. Title of SuperSeries is 'Three types of chromatin boundaries define a cohesin traffic pattern needed for gene functions'. Part 1 was assigned GSE180657\n",
    "```"
   ]
  },
  {
   "cell_type": "markdown",
   "id": "liked-specialist",
   "metadata": {},
   "source": [
    "Directory\n",
    "uploads/dekkerlab_m7wFeGCY\n",
    "User ID\n",
    "dekkerlab\n",
    "Submission kind\n",
    "new\n",
    "✓ Metadata\n",
    "✓ Processed data\n",
    "✓ Raw data\n",
    "Public release date\n",
    "2024-07-22\n",
    "Comment\n",
    "Part 1 out of 4 of a SuperSeries. Title of SuperSeries is 'Three types of chromatin boundaries define a cohesin traffic pattern needed for gene functions'"
   ]
  },
  {
   "cell_type": "markdown",
   "id": "efficient-delhi",
   "metadata": {},
   "source": [
    "Directory\n",
    "uploads/dekkerlab_m7wFeGCY/ChIP-seq\n",
    "User ID\n",
    "dekkerlab\n",
    "Submission kind\n",
    "new\n",
    "✓ Metadata\n",
    "✓ Processed data\n",
    "✓ Raw data\n",
    "Public release date\n",
    "2024-07-22\n",
    "Comment\n",
    "Part 2 out of 4 of a SuperSeries. Title of SuperSeries is 'Three types of chromatin boundaries define a cohesin traffic pattern needed for gene functions'. Part 1 was assigned GSE180657"
   ]
  },
  {
   "cell_type": "markdown",
   "id": "fleet-transmission",
   "metadata": {},
   "source": [
    "uploads/dekkerlab_m7wFeGCY/RNA-seq\n",
    "User ID\n",
    "dekkerlab\n",
    "Submission kind\n",
    "new\n",
    "✓ Metadata\n",
    "✓ Processed data\n",
    "✓ Raw data\n",
    "Public release date\n",
    "2024-07-23\n",
    "Comment\n",
    "Part 3 out of 4 of the SuperSeries GSE180691 ."
   ]
  },
  {
   "cell_type": "code",
   "execution_count": null,
   "id": "individual-singer",
   "metadata": {},
   "outputs": [],
   "source": []
  }
 ],
 "metadata": {
  "kernelspec": {
   "display_name": "Python 3",
   "language": "python",
   "name": "python3"
  },
  "language_info": {
   "codemirror_mode": {
    "name": "ipython",
    "version": 3
   },
   "file_extension": ".py",
   "mimetype": "text/x-python",
   "name": "python",
   "nbconvert_exporter": "python",
   "pygments_lexer": "ipython3",
   "version": "3.8.5"
  }
 },
 "nbformat": 4,
 "nbformat_minor": 5
}
