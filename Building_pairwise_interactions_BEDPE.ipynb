{
 "cells": [
  {
   "cell_type": "code",
   "execution_count": 1,
   "id": "fundamental-wrestling",
   "metadata": {},
   "outputs": [
    {
     "data": {
      "application/javascript": [
       "require([\"codemirror/keymap/sublime\", \"notebook/js/cell\", \"base/js/namespace\"],\n",
       "    function(sublime_keymap, cell, IPython) {\n",
       "        cell.Cell.options_default.cm_config.keyMap = 'sublime';\n",
       "        var cells = IPython.notebook.get_cells();\n",
       "        for(var cl=0; cl< cells.length ; cl++){\n",
       "            cells[cl].code_mirror.setOption('keyMap', 'sublime');\n",
       "        }\n",
       "    }\n",
       ");\n"
      ],
      "text/plain": [
       "<IPython.core.display.Javascript object>"
      ]
     },
     "metadata": {},
     "output_type": "display_data"
    }
   ],
   "source": [
    "%%javascript\n",
    "require([\"codemirror/keymap/sublime\", \"notebook/js/cell\", \"base/js/namespace\"],\n",
    "    function(sublime_keymap, cell, IPython) {\n",
    "        cell.Cell.options_default.cm_config.keyMap = 'sublime';\n",
    "        var cells = IPython.notebook.get_cells();\n",
    "        for(var cl=0; cl< cells.length ; cl++){\n",
    "            cells[cl].code_mirror.setOption('keyMap', 'sublime');\n",
    "        }\n",
    "    }\n",
    ");"
   ]
  },
  {
   "cell_type": "code",
   "execution_count": 2,
   "id": "thirty-investigation",
   "metadata": {},
   "outputs": [
    {
     "data": {
      "text/html": [
       "<style>.container { width:85% !important; }</style>"
      ],
      "text/plain": [
       "<IPython.core.display.HTML object>"
      ]
     },
     "metadata": {},
     "output_type": "display_data"
    }
   ],
   "source": [
    "# change the cell width\n",
    "from IPython.core.display import display, HTML\n",
    "display(HTML(\"<style>.container { width:85% !important; }</style>\"))"
   ]
  },
  {
   "cell_type": "code",
   "execution_count": 3,
   "id": "furnished-bennett",
   "metadata": {},
   "outputs": [],
   "source": [
    "%load_ext autoreload\n",
    "%autoreload 2\n",
    "%matplotlib inline\n",
    "%config InlineBackend.print_figure_kwargs={'facecolor' : \"w\"}\n",
    "import warnings\n",
    "warnings.filterwarnings('ignore')\n",
    "from more_itertools import chunked\n",
    "# import all relevant func and modules from a companion .py file\n",
    "from supp_lib import *\n",
    "# import all samples as dictionary ...\n",
    "from samples import *"
   ]
  },
  {
   "cell_type": "code",
   "execution_count": null,
   "id": "civilian-storage",
   "metadata": {},
   "outputs": [],
   "source": [
    "# this is how one can read a DataFrame into memory:\n",
    "# bf is short for bioframe here ...\n",
    "feature_of_interest = \"G4_file_name.bed\"\n",
    "df = bf.read_table(\n",
    "    feature_of_interest,\n",
    "    names=[\"chrom\",\"start\",\"end\"]\n",
    ")\n",
    "df = df.sort_values([\"chrom\",\"start\"]) # sort ...\n",
    "df = df[df[\"chrom\"].isin(autosomal_chroms)] # filter chroms\n",
    "df = df.reset_index(drop=True)"
   ]
  },
  {
   "cell_type": "code",
   "execution_count": null,
   "id": "lonely-trail",
   "metadata": {},
   "outputs": [],
   "source": [
    "# just an example-prototype on how we can do pairwise combinations dissected by orientation/type/etc\n",
    "# also in this case we are combining 2 lists of intervals - to get to pairwise interactions between the two\n",
    "# let's assume that we have 2 dataframes - df and df1 :\n",
    "a = df.head().copy()\n",
    "b = df1.head().copy()\n",
    "a[\"type\"] = \"a\"\n",
    "b[\"type\"] = \"b\"\n",
    "\n",
    "xxx = pd.concat([a,b]).reset_index(drop=True)\n",
    "print(xxx)\n",
    "\n",
    "yyy = bioframe.pair_by_distance(xxx,min_sep=0,max_sep=100000000)\n",
    "# select only interactions between different types ...\n",
    "print(yyy[yyy[\"type_1\"] != yyy[\"type_2\"]].reset_index(drop=True))"
   ]
  }
 ],
 "metadata": {
  "kernelspec": {
   "display_name": "Python 3",
   "language": "python",
   "name": "python3"
  },
  "language_info": {
   "codemirror_mode": {
    "name": "ipython",
    "version": 3
   },
   "file_extension": ".py",
   "mimetype": "text/x-python",
   "name": "python",
   "nbconvert_exporter": "python",
   "pygments_lexer": "ipython3",
   "version": "3.8.5"
  }
 },
 "nbformat": 4,
 "nbformat_minor": 5
}
