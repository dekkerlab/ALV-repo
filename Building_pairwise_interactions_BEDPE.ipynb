{
 "cells": [
  {
   "cell_type": "code",
   "execution_count": 1,
   "id": "electronic-impact",
   "metadata": {},
   "outputs": [
    {
     "data": {
      "application/javascript": [
       "require([\"codemirror/keymap/sublime\", \"notebook/js/cell\", \"base/js/namespace\"],\n",
       "    function(sublime_keymap, cell, IPython) {\n",
       "        cell.Cell.options_default.cm_config.keyMap = 'sublime';\n",
       "        var cells = IPython.notebook.get_cells();\n",
       "        for(var cl=0; cl< cells.length ; cl++){\n",
       "            cells[cl].code_mirror.setOption('keyMap', 'sublime');\n",
       "        }\n",
       "    }\n",
       ");\n"
      ],
      "text/plain": [
       "<IPython.core.display.Javascript object>"
      ]
     },
     "metadata": {},
     "output_type": "display_data"
    }
   ],
   "source": [
    "%%javascript\n",
    "require([\"codemirror/keymap/sublime\", \"notebook/js/cell\", \"base/js/namespace\"],\n",
    "    function(sublime_keymap, cell, IPython) {\n",
    "        cell.Cell.options_default.cm_config.keyMap = 'sublime';\n",
    "        var cells = IPython.notebook.get_cells();\n",
    "        for(var cl=0; cl< cells.length ; cl++){\n",
    "            cells[cl].code_mirror.setOption('keyMap', 'sublime');\n",
    "        }\n",
    "    }\n",
    ");"
   ]
  },
  {
   "cell_type": "code",
   "execution_count": 2,
   "id": "binding-messenger",
   "metadata": {},
   "outputs": [
    {
     "data": {
      "text/html": [
       "<style>.container { width:85% !important; }</style>"
      ],
      "text/plain": [
       "<IPython.core.display.HTML object>"
      ]
     },
     "metadata": {},
     "output_type": "display_data"
    }
   ],
   "source": [
    "# change the cell width\n",
    "from IPython.core.display import display, HTML\n",
    "display(HTML(\"<style>.container { width:85% !important; }</style>\"))"
   ]
  },
  {
   "cell_type": "code",
   "execution_count": 3,
   "id": "moved-central",
   "metadata": {},
   "outputs": [],
   "source": [
    "%load_ext autoreload\n",
    "%autoreload 2\n",
    "%matplotlib inline\n",
    "%config InlineBackend.print_figure_kwargs={'facecolor' : \"w\"}\n",
    "import warnings\n",
    "warnings.filterwarnings('ignore')\n",
    "from more_itertools import chunked\n",
    "# import all relevant func and modules from a companion .py file\n",
    "from supp_lib import *\n",
    "# import all samples as dictionary ...\n",
    "from samples import *"
   ]
  },
  {
   "cell_type": "code",
   "execution_count": 25,
   "id": "standing-weapon",
   "metadata": {},
   "outputs": [
    {
     "name": "stdout",
     "output_type": "stream",
     "text": [
      "intersect-all-NT-CTCF-NO-G4-centered-RAD21    100%  284KB   1.9MB/s   00:00    \n"
     ]
    }
   ],
   "source": [
    "!scp ghpcc:/nl/umw_job_dekker/users/av90w/projects/for-paper/fig2/G4-CTCF-dots/intersect-all-NT-CTCF-NO-G4-centered-RAD21 ./"
   ]
  },
  {
   "cell_type": "code",
   "execution_count": 29,
   "id": "intimate-imagination",
   "metadata": {},
   "outputs": [],
   "source": [
    "ctcf_df = bioframe.read_table(\n",
    "    \"intersect-all-NT-CTCF-NO-G4-centered-RAD21\",\n",
    "    names=[\"chrom\",\"start\",\"end\"],\n",
    "    usecols=[0,1,2]\n",
    ")\n",
    "ctcf_df = ctcf_df.sort_values([\"chrom\",\"start\"])\n",
    "ctcf_df = ctcf_df[ ctcf_df[\"chrom\"].isin(autosomal_chroms) ]\n",
    "ctcf_df[\"type\"] = \"ctcf\"\n",
    "ctcf_df = ctcf_df.reset_index(drop=True)"
   ]
  },
  {
   "cell_type": "code",
   "execution_count": 30,
   "id": "optimum-adoption",
   "metadata": {},
   "outputs": [],
   "source": [
    "# this is how one can read a DataFrame into memory:\n",
    "# bf is short for bioframe here ...\n",
    "feature_of_interest = \"ActiveTSS-NO-CTCF-5bp.bed\"\n",
    "df = bioframe.read_table(\n",
    "    feature_of_interest,\n",
    "    names=[\"chrom\",\"start\",\"end\",\"strand\"]\n",
    ")\n",
    "df = df.sort_values([\"chrom\",\"start\"]) # sort ...\n",
    "df = df[df[\"chrom\"].isin(autosomal_chroms)] # filter chroms\n",
    "df[\"type\"] = \"tss\"\n",
    "df = df.reset_index(drop=True)"
   ]
  },
  {
   "cell_type": "markdown",
   "id": "controlling-agent",
   "metadata": {},
   "source": [
    "```python\n",
    "# just an example-prototype on how we can do pairwise combinations dissected by orientation/type/etc\n",
    "# also in this case we are combining 2 lists of intervals - to get to pairwise interactions between the two\n",
    "# let's assume that we have 2 dataframes - df and df1 :\n",
    "a = df.head().copy()\n",
    "b = df1.head().copy()\n",
    "a[\"type\"] = \"a\"\n",
    "b[\"type\"] = \"b\"\n",
    "\n",
    "xxx = pd.concat([a,b]).reset_index(drop=True)\n",
    "print(xxx)\n",
    "\n",
    "yyy = bioframe.pair_by_distance(xxx,min_sep=0,max_sep=100000000)\n",
    "# select only interactions between different types ...\n",
    "print(yyy[yyy[\"type_1\"] != yyy[\"type_2\"]].reset_index(drop=True))\n",
    "```"
   ]
  },
  {
   "cell_type": "code",
   "execution_count": 31,
   "id": "french-criminal",
   "metadata": {},
   "outputs": [
    {
     "name": "stdout",
     "output_type": "stream",
     "text": [
      "  chrom   start     end strand type\n",
      "0  chr1   29365   29370      -  tss\n",
      "1  chr1  568060  568065      -  tss\n",
      "2  chr1  762897  762902      -  tss\n",
      "3  chr1  762970  762975      +  tss\n",
      "4  chr1  894631  894636      -  tss\n",
      "  chrom1  start1    end1 strand1 type1 chrom2  start2    end2 strand2 type2\n",
      "0   chr1  568060  568065       -   tss   chr1  804937  805691     NaN  ctcf\n",
      "1   chr1  568060  568065       -   tss   chr1  875596  875897     NaN  ctcf\n",
      "2   chr1  568060  568065       -   tss   chr1  894631  894636       -   tss\n",
      "3   chr1  568060  568065       -   tss   chr1  895963  895968       +   tss\n",
      "4   chr1  568060  568065       -   tss   chr1  901861  901866       +   tss\n"
     ]
    }
   ],
   "source": [
    "dfs_concat = pd.concat([df,ctcf_df]).reset_index(drop=True)\n",
    "print(dfs_concat.head())\n",
    "bedpe = bioframe.pair_by_distance(dfs_concat, min_sep=50_000, max_sep=400_000, suffixes=('1','2'))\n",
    "print(bedpe.head())"
   ]
  },
  {
   "cell_type": "code",
   "execution_count": 38,
   "id": "refined-avenue",
   "metadata": {},
   "outputs": [],
   "source": [
    "BEDPE_cols = ['chrom1','start1','end1','chrom2','start2','end2']"
   ]
  },
  {
   "cell_type": "code",
   "execution_count": 41,
   "id": "afraid-emerald",
   "metadata": {},
   "outputs": [],
   "source": [
    "bedpe[((bedpe[\"type1\"]==\"ctcf\")&(bedpe[\"type2\"]==\"tss\")&(bedpe[\"strand2\"]==\"+\"))][BEDPE_cols] \\\n",
    "    .reset_index(drop=True) \\\n",
    "    .to_csv(\"upstreamCTCF_pTSS.bedpe\",index=False,sep=\"\\t\")"
   ]
  },
  {
   "cell_type": "code",
   "execution_count": 43,
   "id": "eleven-specialist",
   "metadata": {},
   "outputs": [],
   "source": [
    "bedpe[((bedpe[\"type2\"]==\"ctcf\")&(bedpe[\"type1\"]==\"tss\")&(bedpe[\"strand1\"]==\"-\"))][BEDPE_cols] \\\n",
    "    .reset_index(drop=True) \\\n",
    "    .to_csv(\"downstreamCTCF_mTSS.bedpe\",index=False,sep=\"\\t\")"
   ]
  },
  {
   "cell_type": "code",
   "execution_count": 46,
   "id": "second-spray",
   "metadata": {},
   "outputs": [],
   "source": [
    "bedpe[((bedpe[\"type1\"]==\"ctcf\")&(bedpe[\"type2\"]==\"tss\")&(bedpe[\"strand2\"]==\"-\"))][BEDPE_cols] \\\n",
    "    .reset_index(drop=True) \\\n",
    "    .to_csv(\"upstreamCTCF_mTSS_ctrl.bedpe\",index=False,sep=\"\\t\")"
   ]
  },
  {
   "cell_type": "code",
   "execution_count": 47,
   "id": "approved-vacation",
   "metadata": {},
   "outputs": [],
   "source": [
    "bedpe[((bedpe[\"type2\"]==\"ctcf\")&(bedpe[\"type1\"]==\"tss\")&(bedpe[\"strand1\"]==\"+\"))][BEDPE_cols] \\\n",
    "    .reset_index(drop=True) \\\n",
    "    .to_csv(\"downstreamCTCF_pTSS_ctrl.bedpe\",index=False,sep=\"\\t\")"
   ]
  },
  {
   "cell_type": "code",
   "execution_count": 44,
   "id": "ceramic-lender",
   "metadata": {},
   "outputs": [
    {
     "name": "stdout",
     "output_type": "stream",
     "text": [
      "upstreamCTCF_pTSS.bedpe                       100%  352KB 381.6KB/s   00:00    \n"
     ]
    }
   ],
   "source": [
    "!scp upstreamCTCF_pTSS.bedpe ghpcc:/nl/umw_job_dekker/users/sv49w/ALV2021/"
   ]
  },
  {
   "cell_type": "code",
   "execution_count": 45,
   "id": "listed-cleveland",
   "metadata": {},
   "outputs": [
    {
     "name": "stdout",
     "output_type": "stream",
     "text": [
      "downstreamCTCF_mTSS.bedpe                     100%  330KB 457.5KB/s   00:00    \n"
     ]
    }
   ],
   "source": [
    "!scp downstreamCTCF_mTSS.bedpe ghpcc:/nl/umw_job_dekker/users/sv49w/ALV2021/"
   ]
  },
  {
   "cell_type": "code",
   "execution_count": 48,
   "id": "english-stream",
   "metadata": {},
   "outputs": [
    {
     "name": "stdout",
     "output_type": "stream",
     "text": [
      "downstreamCTCF_pTSS_ctrl.bedpe                100%  339KB 410.4KB/s   00:00    \n",
      "upstreamCTCF_mTSS_ctrl.bedpe                  100%  336KB 472.3KB/s   00:00    \n"
     ]
    }
   ],
   "source": [
    "!scp downstreamCTCF_pTSS_ctrl.bedpe ghpcc:/nl/umw_job_dekker/users/sv49w/ALV2021/\n",
    "!scp upstreamCTCF_mTSS_ctrl.bedpe ghpcc:/nl/umw_job_dekker/users/sv49w/ALV2021/"
   ]
  },
  {
   "cell_type": "code",
   "execution_count": 51,
   "id": "spectacular-preview",
   "metadata": {},
   "outputs": [
    {
     "data": {
      "text/html": [
       "<div>\n",
       "<style scoped>\n",
       "    .dataframe tbody tr th:only-of-type {\n",
       "        vertical-align: middle;\n",
       "    }\n",
       "\n",
       "    .dataframe tbody tr th {\n",
       "        vertical-align: top;\n",
       "    }\n",
       "\n",
       "    .dataframe thead th {\n",
       "        text-align: right;\n",
       "    }\n",
       "</style>\n",
       "<table border=\"1\" class=\"dataframe\">\n",
       "  <thead>\n",
       "    <tr style=\"text-align: right;\">\n",
       "      <th></th>\n",
       "      <th>name</th>\n",
       "      <th>chrom</th>\n",
       "      <th>start</th>\n",
       "      <th>end</th>\n",
       "      <th>strand</th>\n",
       "      <th>score</th>\n",
       "      <th>pval</th>\n",
       "      <th>seq</th>\n",
       "    </tr>\n",
       "  </thead>\n",
       "  <tbody>\n",
       "    <tr>\n",
       "      <th>0</th>\n",
       "      <td>MA0139.1</td>\n",
       "      <td>chr1</td>\n",
       "      <td>10471</td>\n",
       "      <td>10489</td>\n",
       "      <td>-</td>\n",
       "      <td>11.63930</td>\n",
       "      <td>1.480000e-05</td>\n",
       "      <td>GGGCCGGCTGAGGGTACCG</td>\n",
       "    </tr>\n",
       "    <tr>\n",
       "      <th>1</th>\n",
       "      <td>MA0139.1</td>\n",
       "      <td>chr1</td>\n",
       "      <td>11164</td>\n",
       "      <td>11182</td>\n",
       "      <td>-</td>\n",
       "      <td>9.88525</td>\n",
       "      <td>3.300000e-05</td>\n",
       "      <td>CTGCAAGCAAGGGGCGGTC</td>\n",
       "    </tr>\n",
       "    <tr>\n",
       "      <th>2</th>\n",
       "      <td>MA0139.1</td>\n",
       "      <td>chr1</td>\n",
       "      <td>11223</td>\n",
       "      <td>11241</td>\n",
       "      <td>-</td>\n",
       "      <td>26.42620</td>\n",
       "      <td>2.200000e-10</td>\n",
       "      <td>TCGCCAGCAGGGGGCGCCC</td>\n",
       "    </tr>\n",
       "    <tr>\n",
       "      <th>3</th>\n",
       "      <td>MA0139.1</td>\n",
       "      <td>chr1</td>\n",
       "      <td>11281</td>\n",
       "      <td>11299</td>\n",
       "      <td>-</td>\n",
       "      <td>24.68850</td>\n",
       "      <td>1.970000e-09</td>\n",
       "      <td>GCGCCAGCAGGGGGCGCTG</td>\n",
       "    </tr>\n",
       "    <tr>\n",
       "      <th>4</th>\n",
       "      <td>MA0139.1</td>\n",
       "      <td>chr1</td>\n",
       "      <td>11340</td>\n",
       "      <td>11358</td>\n",
       "      <td>-</td>\n",
       "      <td>14.37700</td>\n",
       "      <td>3.720000e-06</td>\n",
       "      <td>CTGCCAGCAGGCGGCGTGC</td>\n",
       "    </tr>\n",
       "  </tbody>\n",
       "</table>\n",
       "</div>"
      ],
      "text/plain": [
       "       name chrom  start    end strand     score          pval  \\\n",
       "0  MA0139.1  chr1  10471  10489      -  11.63930  1.480000e-05   \n",
       "1  MA0139.1  chr1  11164  11182      -   9.88525  3.300000e-05   \n",
       "2  MA0139.1  chr1  11223  11241      -  26.42620  2.200000e-10   \n",
       "3  MA0139.1  chr1  11281  11299      -  24.68850  1.970000e-09   \n",
       "4  MA0139.1  chr1  11340  11358      -  14.37700  3.720000e-06   \n",
       "\n",
       "                   seq  \n",
       "0  GGGCCGGCTGAGGGTACCG  \n",
       "1  CTGCAAGCAAGGGGCGGTC  \n",
       "2  TCGCCAGCAGGGGGCGCCC  \n",
       "3  GCGCCAGCAGGGGGCGCTG  \n",
       "4  CTGCCAGCAGGCGGCGTGC  "
      ]
     },
     "execution_count": 51,
     "metadata": {},
     "output_type": "execute_result"
    }
   ],
   "source": [
    "# # here is very-very liberal list of CTCF calls in hg19, based on \"MA0139.1.meme\" from JASPAR\n",
    "# # P-val cutoff was 1e-4 - let's see how it looks here ...\n",
    "# !scp ghpcc:/nl/umw_job_dekker/users/sv49w/ALV2021/CTCF_motif/CTCF.hist.txt ./CTCF.MA0139.1.txt\n",
    "\n",
    "# require tr -s '\\t' - to remove duplicated tabs\n",
    "ctcf_motif = bioframe.read_table(\n",
    "    \"CTCF.MA0139.1.txt\",\n",
    "    names=[\"name\",\"chrom\",\"start\",\"end\",\"strand\",\"score\",\"pval\",\"seq\"],\n",
    "    sep=\"\\t\",\n",
    "    index_col = None\n",
    ")\n",
    "ctcf_motif = ctcf_motif.sort_values([\"chrom\",\"start\"])\n",
    "ctcf_motif = ctcf_motif[ ctcf_motif[\"chrom\"].isin(autosomal_chroms) ]\n",
    "ctcf_motif = ctcf_motif.reset_index(drop=True)\n",
    "# ctcf_motif = bf.merge(ctcf_motif, min_dist=merge_radius)\n",
    "ctcf_motif.head()"
   ]
  },
  {
   "cell_type": "code",
   "execution_count": 52,
   "id": "tribal-advisory",
   "metadata": {},
   "outputs": [],
   "source": [
    "ctcf_df = bioframe.read_table(\n",
    "    \"intersect-all-NT-CTCF-NO-G4-centered-RAD21\",\n",
    "    names=[\"chrom\",\"start\",\"end\"],\n",
    "    usecols=[0,1,2]\n",
    ")\n",
    "ctcf_df = ctcf_df.sort_values([\"chrom\",\"start\"])\n",
    "ctcf_df = ctcf_df[ ctcf_df[\"chrom\"].isin(autosomal_chroms) ]\n",
    "ctcf_df[\"type\"] = \"ctcf\"\n",
    "ctcf_df = ctcf_df.reset_index(drop=True)"
   ]
  },
  {
   "cell_type": "code",
   "execution_count": 69,
   "id": "insured-avatar",
   "metadata": {},
   "outputs": [
    {
     "data": {
      "text/plain": [
       "<pandas.core.groupby.generic.DataFrameGroupBy object at 0x7f45bd0d86a0>"
      ]
     },
     "execution_count": 69,
     "metadata": {},
     "output_type": "execute_result"
    }
   ],
   "source": [
    "_xxx = bioframe.overlap(ctcf_df,ctcf_motif,how=\"left\",suffixes=('1','2'))\n",
    "_xxx[~pd.isnull(_xxx[\"chrom2\"])][[\"chrom1\",\"start1\",\"end1\",\"strand2\",\"pval2\"]].groupby([\"chrom1\",\"start1\",\"end1\"])#.drop_duplicates()"
   ]
  },
  {
   "cell_type": "code",
   "execution_count": 55,
   "id": "vanilla-healing",
   "metadata": {},
   "outputs": [
    {
     "data": {
      "text/html": [
       "<div>\n",
       "<style scoped>\n",
       "    .dataframe tbody tr th:only-of-type {\n",
       "        vertical-align: middle;\n",
       "    }\n",
       "\n",
       "    .dataframe tbody tr th {\n",
       "        vertical-align: top;\n",
       "    }\n",
       "\n",
       "    .dataframe thead th {\n",
       "        text-align: right;\n",
       "    }\n",
       "</style>\n",
       "<table border=\"1\" class=\"dataframe\">\n",
       "  <thead>\n",
       "    <tr style=\"text-align: right;\">\n",
       "      <th></th>\n",
       "      <th>chrom_1</th>\n",
       "      <th>start_1</th>\n",
       "      <th>end_1</th>\n",
       "      <th>type_1</th>\n",
       "      <th>name_2</th>\n",
       "      <th>chrom_2</th>\n",
       "      <th>start_2</th>\n",
       "      <th>end_2</th>\n",
       "      <th>strand_2</th>\n",
       "      <th>score_2</th>\n",
       "      <th>pval_2</th>\n",
       "      <th>seq_2</th>\n",
       "    </tr>\n",
       "  </thead>\n",
       "  <tbody>\n",
       "    <tr>\n",
       "      <th>0</th>\n",
       "      <td>chr1</td>\n",
       "      <td>10151</td>\n",
       "      <td>10508</td>\n",
       "      <td>ctcf</td>\n",
       "      <td>MA0139.1</td>\n",
       "      <td>chr1</td>\n",
       "      <td>10471</td>\n",
       "      <td>10489</td>\n",
       "      <td>-</td>\n",
       "      <td>11.63930</td>\n",
       "      <td>1.480000e-05</td>\n",
       "      <td>GGGCCGGCTGAGGGTACCG</td>\n",
       "    </tr>\n",
       "    <tr>\n",
       "      <th>1</th>\n",
       "      <td>chr1</td>\n",
       "      <td>804937</td>\n",
       "      <td>805691</td>\n",
       "      <td>ctcf</td>\n",
       "      <td>MA0139.1</td>\n",
       "      <td>chr1</td>\n",
       "      <td>805098</td>\n",
       "      <td>805116</td>\n",
       "      <td>+</td>\n",
       "      <td>9.19672</td>\n",
       "      <td>4.450000e-05</td>\n",
       "      <td>aggtcgcaggaggGCACCC</td>\n",
       "    </tr>\n",
       "    <tr>\n",
       "      <th>2</th>\n",
       "      <td>chr1</td>\n",
       "      <td>804937</td>\n",
       "      <td>805691</td>\n",
       "      <td>ctcf</td>\n",
       "      <td>MA0139.1</td>\n",
       "      <td>chr1</td>\n",
       "      <td>805296</td>\n",
       "      <td>805314</td>\n",
       "      <td>-</td>\n",
       "      <td>11.44260</td>\n",
       "      <td>1.620000e-05</td>\n",
       "      <td>GCGCCCCCTGGTGGCAGCC</td>\n",
       "    </tr>\n",
       "    <tr>\n",
       "      <th>3</th>\n",
       "      <td>chr1</td>\n",
       "      <td>804937</td>\n",
       "      <td>805691</td>\n",
       "      <td>ctcf</td>\n",
       "      <td>MA0139.1</td>\n",
       "      <td>chr1</td>\n",
       "      <td>805298</td>\n",
       "      <td>805316</td>\n",
       "      <td>+</td>\n",
       "      <td>24.65570</td>\n",
       "      <td>2.050000e-09</td>\n",
       "      <td>CTGCCACCAGGGGGCGCGC</td>\n",
       "    </tr>\n",
       "    <tr>\n",
       "      <th>4</th>\n",
       "      <td>chr1</td>\n",
       "      <td>804937</td>\n",
       "      <td>805691</td>\n",
       "      <td>ctcf</td>\n",
       "      <td>MA0139.1</td>\n",
       "      <td>chr1</td>\n",
       "      <td>805415</td>\n",
       "      <td>805433</td>\n",
       "      <td>-</td>\n",
       "      <td>9.19672</td>\n",
       "      <td>4.450000e-05</td>\n",
       "      <td>GCCCCGCTGGAGGGCAGGG</td>\n",
       "    </tr>\n",
       "    <tr>\n",
       "      <th>...</th>\n",
       "      <td>...</td>\n",
       "      <td>...</td>\n",
       "      <td>...</td>\n",
       "      <td>...</td>\n",
       "      <td>...</td>\n",
       "      <td>...</td>\n",
       "      <td>...</td>\n",
       "      <td>...</td>\n",
       "      <td>...</td>\n",
       "      <td>...</td>\n",
       "      <td>...</td>\n",
       "      <td>...</td>\n",
       "    </tr>\n",
       "    <tr>\n",
       "      <th>17888</th>\n",
       "      <td>chr9</td>\n",
       "      <td>34403617</td>\n",
       "      <td>34404245</td>\n",
       "      <td>ctcf</td>\n",
       "      <td>MA0139.1</td>\n",
       "      <td>chr9</td>\n",
       "      <td>34403602</td>\n",
       "      <td>34403620</td>\n",
       "      <td>+</td>\n",
       "      <td>10.36070</td>\n",
       "      <td>2.670000e-05</td>\n",
       "      <td>TGGCCATCAGGTGACCCAG</td>\n",
       "    </tr>\n",
       "    <tr>\n",
       "      <th>17889</th>\n",
       "      <td>chr9</td>\n",
       "      <td>35095991</td>\n",
       "      <td>35097350</td>\n",
       "      <td>ctcf</td>\n",
       "      <td>MA0139.1</td>\n",
       "      <td>chr9</td>\n",
       "      <td>35095975</td>\n",
       "      <td>35095993</td>\n",
       "      <td>+</td>\n",
       "      <td>12.81970</td>\n",
       "      <td>8.320000e-06</td>\n",
       "      <td>tggacaacagagggagacg</td>\n",
       "    </tr>\n",
       "    <tr>\n",
       "      <th>17890</th>\n",
       "      <td>chr9</td>\n",
       "      <td>94422028</td>\n",
       "      <td>94422480</td>\n",
       "      <td>ctcf</td>\n",
       "      <td>MA0139.1</td>\n",
       "      <td>chr9</td>\n",
       "      <td>94422027</td>\n",
       "      <td>94422045</td>\n",
       "      <td>-</td>\n",
       "      <td>7.88525</td>\n",
       "      <td>7.710000e-05</td>\n",
       "      <td>CCACCTGCAGGAAGAACCA</td>\n",
       "    </tr>\n",
       "    <tr>\n",
       "      <th>17891</th>\n",
       "      <td>chr9</td>\n",
       "      <td>94901653</td>\n",
       "      <td>94903141</td>\n",
       "      <td>ctcf</td>\n",
       "      <td>MA0139.1</td>\n",
       "      <td>chr9</td>\n",
       "      <td>94901652</td>\n",
       "      <td>94901670</td>\n",
       "      <td>-</td>\n",
       "      <td>10.72130</td>\n",
       "      <td>2.260000e-05</td>\n",
       "      <td>CTTCCACCAGGGGCAGTTA</td>\n",
       "    </tr>\n",
       "    <tr>\n",
       "      <th>17892</th>\n",
       "      <td>chr9</td>\n",
       "      <td>130631958</td>\n",
       "      <td>130632894</td>\n",
       "      <td>ctcf</td>\n",
       "      <td>MA0139.1</td>\n",
       "      <td>chr9</td>\n",
       "      <td>130631950</td>\n",
       "      <td>130631968</td>\n",
       "      <td>-</td>\n",
       "      <td>10.86890</td>\n",
       "      <td>2.120000e-05</td>\n",
       "      <td>CAGCCGCTGGGTGGTACGG</td>\n",
       "    </tr>\n",
       "  </tbody>\n",
       "</table>\n",
       "<p>17893 rows × 12 columns</p>\n",
       "</div>"
      ],
      "text/plain": [
       "      chrom_1    start_1      end_1 type_1    name_2 chrom_2    start_2  \\\n",
       "0        chr1      10151      10508   ctcf  MA0139.1    chr1      10471   \n",
       "1        chr1     804937     805691   ctcf  MA0139.1    chr1     805098   \n",
       "2        chr1     804937     805691   ctcf  MA0139.1    chr1     805296   \n",
       "3        chr1     804937     805691   ctcf  MA0139.1    chr1     805298   \n",
       "4        chr1     804937     805691   ctcf  MA0139.1    chr1     805415   \n",
       "...       ...        ...        ...    ...       ...     ...        ...   \n",
       "17888    chr9   34403617   34404245   ctcf  MA0139.1    chr9   34403602   \n",
       "17889    chr9   35095991   35097350   ctcf  MA0139.1    chr9   35095975   \n",
       "17890    chr9   94422028   94422480   ctcf  MA0139.1    chr9   94422027   \n",
       "17891    chr9   94901653   94903141   ctcf  MA0139.1    chr9   94901652   \n",
       "17892    chr9  130631958  130632894   ctcf  MA0139.1    chr9  130631950   \n",
       "\n",
       "           end_2 strand_2   score_2        pval_2                seq_2  \n",
       "0          10489        -  11.63930  1.480000e-05  GGGCCGGCTGAGGGTACCG  \n",
       "1         805116        +   9.19672  4.450000e-05  aggtcgcaggaggGCACCC  \n",
       "2         805314        -  11.44260  1.620000e-05  GCGCCCCCTGGTGGCAGCC  \n",
       "3         805316        +  24.65570  2.050000e-09  CTGCCACCAGGGGGCGCGC  \n",
       "4         805433        -   9.19672  4.450000e-05  GCCCCGCTGGAGGGCAGGG  \n",
       "...          ...      ...       ...           ...                  ...  \n",
       "17888   34403620        +  10.36070  2.670000e-05  TGGCCATCAGGTGACCCAG  \n",
       "17889   35095993        +  12.81970  8.320000e-06  tggacaacagagggagacg  \n",
       "17890   94422045        -   7.88525  7.710000e-05  CCACCTGCAGGAAGAACCA  \n",
       "17891   94901670        -  10.72130  2.260000e-05  CTTCCACCAGGGGCAGTTA  \n",
       "17892  130631968        -  10.86890  2.120000e-05  CAGCCGCTGGGTGGTACGG  \n",
       "\n",
       "[17893 rows x 12 columns]"
      ]
     },
     "execution_count": 55,
     "metadata": {},
     "output_type": "execute_result"
    }
   ],
   "source": [
    "bioframe.overlap(ctcf_df,ctcf_motif,how=\"inner\",suffixes=('1','2')).groupby()"
   ]
  },
  {
   "cell_type": "code",
   "execution_count": null,
   "id": "optimum-pantyhose",
   "metadata": {},
   "outputs": [],
   "source": []
  }
 ],
 "metadata": {
  "kernelspec": {
   "display_name": "Python 3",
   "language": "python",
   "name": "python3"
  },
  "language_info": {
   "codemirror_mode": {
    "name": "ipython",
    "version": 3
   },
   "file_extension": ".py",
   "mimetype": "text/x-python",
   "name": "python",
   "nbconvert_exporter": "python",
   "pygments_lexer": "ipython3",
   "version": "3.8.5"
  }
 },
 "nbformat": 4,
 "nbformat_minor": 5
}
